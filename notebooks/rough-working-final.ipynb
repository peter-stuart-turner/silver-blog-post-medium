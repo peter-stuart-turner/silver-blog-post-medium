{
 "cells": [
  {
   "cell_type": "markdown",
   "metadata": {},
   "source": [
    "# Imports"
   ]
  },
  {
   "cell_type": "code",
   "execution_count": 2,
   "metadata": {},
   "outputs": [
    {
     "data": {
      "text/html": [
       "<script type=\"text/javascript\">window.PlotlyConfig = {MathJaxConfig: 'local'};</script><script type=\"text/javascript\">if (window.MathJax) {MathJax.Hub.Config({SVG: {font: \"STIX-Web\"}});}</script><script>requirejs.config({paths: { 'plotly': ['https://cdn.plot.ly/plotly-latest.min']},});if(!window._Plotly) {require(['plotly'],function(plotly) {window._Plotly=plotly;});}</script>"
      ],
      "text/vnd.plotly.v1+html": [
       "<script type=\"text/javascript\">window.PlotlyConfig = {MathJaxConfig: 'local'};</script><script type=\"text/javascript\">if (window.MathJax) {MathJax.Hub.Config({SVG: {font: \"STIX-Web\"}});}</script><script>requirejs.config({paths: { 'plotly': ['https://cdn.plot.ly/plotly-latest.min']},});if(!window._Plotly) {require(['plotly'],function(plotly) {window._Plotly=plotly;});}</script>"
      ]
     },
     "metadata": {},
     "output_type": "display_data"
    },
    {
     "data": {
      "text/html": [
       "<script type=\"text/javascript\">window.PlotlyConfig = {MathJaxConfig: 'local'};</script><script type=\"text/javascript\">if (window.MathJax) {MathJax.Hub.Config({SVG: {font: \"STIX-Web\"}});}</script><script>requirejs.config({paths: { 'plotly': ['https://cdn.plot.ly/plotly-latest.min']},});if(!window._Plotly) {require(['plotly'],function(plotly) {window._Plotly=plotly;});}</script>"
      ],
      "text/vnd.plotly.v1+html": [
       "<script type=\"text/javascript\">window.PlotlyConfig = {MathJaxConfig: 'local'};</script><script type=\"text/javascript\">if (window.MathJax) {MathJax.Hub.Config({SVG: {font: \"STIX-Web\"}});}</script><script>requirejs.config({paths: { 'plotly': ['https://cdn.plot.ly/plotly-latest.min']},});if(!window._Plotly) {require(['plotly'],function(plotly) {window._Plotly=plotly;});}</script>"
      ]
     },
     "metadata": {},
     "output_type": "display_data"
    }
   ],
   "source": [
    "import pandas as pd\n",
    "import requests\n",
    "from bs4 import BeautifulSoup\n",
    "import matplotlib.pyplot as plt\n",
    "%matplotlib inline\n",
    "import seaborn as sns\n",
    "# Standard plotly imports\n",
    "import plotly.plotly as py\n",
    "import plotly.graph_objs as go\n",
    "from plotly.offline import iplot, init_notebook_mode\n",
    "# Using plotly + cufflinks in offline mode\n",
    "import cufflinks\n",
    "cufflinks.go_offline(connected=True)\n",
    "init_notebook_mode(connected=True)\n",
    "import fbprophet\n",
    "import datetime"
   ]
  },
  {
   "cell_type": "markdown",
   "metadata": {},
   "source": [
    "## Web Scraping Historical Precious Metal Prices"
   ]
  },
  {
   "cell_type": "code",
   "execution_count": 3,
   "metadata": {},
   "outputs": [],
   "source": [
    "## Silver \n",
    "res = requests.get(\"https://www.macrotrends.net/1470/historical-silver-prices-100-year-chart\")\n",
    "soup = BeautifulSoup(res.content, 'lxml')\n",
    "tables = soup.find_all('table')\n",
    "headers = ['Year', 'Average Closing', 'Year Open', 'Year High', 'Year Low', 'Year Close', 'Annual % Change']\n",
    "df_silver = pd.DataFrame(pd.read_html(str(tables[0]))[0])\n",
    "df_silver.columns = headers\n",
    "\n",
    "## Gold\n",
    "res = requests.get(\"https://www.macrotrends.net/1333/historical-gold-prices-100-year-chart\")\n",
    "soup = BeautifulSoup(res.content, 'lxml')\n",
    "tables = soup.find_all('table')\n",
    "headers = ['Year', 'Average Closing', 'Year Open', 'Year High', 'Year Low', 'Year Close', 'Annual % Change']\n",
    "df_gold = pd.DataFrame(pd.read_html(str(tables[0]))[0])\n",
    "df_gold.columns = headers"
   ]
  },
  {
   "cell_type": "markdown",
   "metadata": {},
   "source": [
    "## Utility Functions"
   ]
  },
  {
   "cell_type": "code",
   "execution_count": 5,
   "metadata": {},
   "outputs": [],
   "source": [
    "def convert_to_float_if_applicable(cell):\n",
    "    if isinstance(cell, str) and '$' in cell:\n",
    "        try:\n",
    "            cell = float(cell.replace('$', '').replace(',',''))\n",
    "            return cell\n",
    "        except:\n",
    "            return cell\n",
    "    elif isinstance(cell, str) and '%' in cell:\n",
    "        try:\n",
    "            cell = float(cell.replace('%', ''))\n",
    "            return cell\n",
    "        except:\n",
    "            return cell\n",
    "    else:\n",
    "        return cell"
   ]
  },
  {
   "cell_type": "code",
   "execution_count": 6,
   "metadata": {},
   "outputs": [],
   "source": [
    "df_silver = df_silver.applymap(lambda cell: convert_to_float_if_applicable(cell))\n",
    "df_gold = df_gold.applymap(lambda cell: convert_to_float_if_applicable(cell))\n",
    "df_gold.rename(columns={'Average Closing': 'Average Closing, Gold'}, inplace=True)\n",
    "df_silver.rename(columns={'Average Closing': 'Average Closing, Silver'}, inplace=True)\n",
    "precious_metals_avg_cls = pd.merge(df_silver, df_gold, how='inner', on = 'Year')\n",
    "precious_metals_avg_cls.set_index('Year', inplace=True)"
   ]
  },
  {
   "cell_type": "code",
   "execution_count": 7,
   "metadata": {},
   "outputs": [
    {
     "data": {
      "application/vnd.plotly.v1+json": {
       "config": {
        "linkText": "Export to plot.ly",
        "plotlyServerURL": "https://plot.ly",
        "showLink": true
       },
       "data": [
        {
         "line": {
          "color": "rgba(192, 192, 192, 1.0)",
          "dash": "solid",
          "shape": "linear",
          "width": 4
         },
         "mode": "lines",
         "name": "Average Closing, Silver",
         "text": "",
         "type": "scatter",
         "uid": "30b290c1-f53a-432f-9dfe-5f34b7ca470c",
         "x": [
          2019,
          2018,
          2017,
          2016,
          2015,
          2014,
          2013,
          2012,
          2011,
          2010,
          2009,
          2008,
          2007,
          2006,
          2005,
          2004,
          2003,
          2002,
          2001,
          2000,
          1999,
          1998,
          1997,
          1996,
          1995,
          1994,
          1993,
          1992,
          1991,
          1990,
          1989,
          1988,
          1987,
          1986,
          1985,
          1984,
          1983,
          1982,
          1981,
          1980,
          1979,
          1978,
          1977,
          1976,
          1975,
          1974,
          1973,
          1972,
          1971,
          1970,
          1969
         ],
         "y": [
          16.1,
          15.71,
          17.07,
          17.17,
          15.66,
          19.07,
          23.79,
          31.15,
          35.12,
          20.19,
          14.67,
          14.99,
          13.38,
          11.55,
          7.31,
          6.66,
          4.88,
          4.6,
          4.37,
          4.95,
          5.22,
          5.54,
          4.9,
          5.2,
          5.2,
          5.29,
          4.31,
          3.95,
          4.06,
          4.83,
          5.5,
          6.53,
          7.02,
          5.47,
          6.13,
          8.15,
          11.42,
          7.92,
          10.49,
          20.98,
          11.07,
          5.42,
          4.64,
          4.35,
          4.43,
          4.67,
          2.55,
          1.68,
          1.54,
          1.77,
          1.8
         ]
        }
       ],
       "layout": {
        "legend": {
         "bgcolor": "#FFFFFF",
         "font": {
          "color": "#4D5663"
         }
        },
        "paper_bgcolor": "#FFFFFF",
        "plot_bgcolor": "#FFFFFF",
        "title": "Average Closing Prices for Silver",
        "titlefont": {
         "color": "#4D5663"
        },
        "xaxis": {
         "gridcolor": "#E1E5ED",
         "showgrid": true,
         "tickfont": {
          "color": "#4D5663"
         },
         "title": "Year",
         "titlefont": {
          "color": "#4D5663"
         },
         "zerolinecolor": "#E1E5ED"
        },
        "yaxis": {
         "gridcolor": "#E1E5ED",
         "showgrid": true,
         "tickfont": {
          "color": "#4D5663"
         },
         "title": "Average Closing Price in Dollars ($)",
         "titlefont": {
          "color": "#4D5663"
         },
         "zerolinecolor": "#E1E5ED"
        }
       }
      },
      "text/html": [
       "<div id=\"bcf61667-2df8-41f9-8973-7534b34e5611\" style=\"height: 525px; width: 100%;\" class=\"plotly-graph-div\"></div><script type=\"text/javascript\">require([\"plotly\"], function(Plotly) { window.PLOTLYENV=window.PLOTLYENV || {};window.PLOTLYENV.BASE_URL=\"https://plot.ly\";Plotly.newPlot(\"bcf61667-2df8-41f9-8973-7534b34e5611\", [{\"line\": {\"color\": \"rgba(192, 192, 192, 1.0)\", \"dash\": \"solid\", \"shape\": \"linear\", \"width\": 4}, \"mode\": \"lines\", \"name\": \"Average Closing, Silver\", \"text\": \"\", \"x\": [2019, 2018, 2017, 2016, 2015, 2014, 2013, 2012, 2011, 2010, 2009, 2008, 2007, 2006, 2005, 2004, 2003, 2002, 2001, 2000, 1999, 1998, 1997, 1996, 1995, 1994, 1993, 1992, 1991, 1990, 1989, 1988, 1987, 1986, 1985, 1984, 1983, 1982, 1981, 1980, 1979, 1978, 1977, 1976, 1975, 1974, 1973, 1972, 1971, 1970, 1969], \"y\": [16.1, 15.71, 17.07, 17.17, 15.66, 19.07, 23.79, 31.15, 35.12, 20.19, 14.67, 14.99, 13.38, 11.55, 7.31, 6.66, 4.88, 4.6, 4.37, 4.95, 5.22, 5.54, 4.9, 5.2, 5.2, 5.29, 4.31, 3.95, 4.06, 4.83, 5.5, 6.53, 7.02, 5.47, 6.13, 8.15, 11.42, 7.92, 10.49, 20.98, 11.07, 5.42, 4.64, 4.35, 4.43, 4.67, 2.55, 1.68, 1.54, 1.77, 1.8], \"type\": \"scatter\", \"uid\": \"31d8dfdf-8690-4c96-9e3f-df26d9190d18\"}], {\"legend\": {\"bgcolor\": \"#FFFFFF\", \"font\": {\"color\": \"#4D5663\"}}, \"paper_bgcolor\": \"#FFFFFF\", \"plot_bgcolor\": \"#FFFFFF\", \"title\": \"Average Closing Prices for Silver\", \"titlefont\": {\"color\": \"#4D5663\"}, \"xaxis\": {\"gridcolor\": \"#E1E5ED\", \"showgrid\": true, \"tickfont\": {\"color\": \"#4D5663\"}, \"title\": \"Year\", \"titlefont\": {\"color\": \"#4D5663\"}, \"zerolinecolor\": \"#E1E5ED\"}, \"yaxis\": {\"gridcolor\": \"#E1E5ED\", \"showgrid\": true, \"tickfont\": {\"color\": \"#4D5663\"}, \"title\": \"Average Closing Price in Dollars ($)\", \"titlefont\": {\"color\": \"#4D5663\"}, \"zerolinecolor\": \"#E1E5ED\"}}, {\"showLink\": true, \"linkText\": \"Export to plot.ly\", \"plotlyServerURL\": \"https://plot.ly\"})});</script><script type=\"text/javascript\">window.addEventListener(\"resize\", function(){window._Plotly.Plots.resize(document.getElementById(\"bcf61667-2df8-41f9-8973-7534b34e5611\"));});</script>"
      ],
      "text/vnd.plotly.v1+html": [
       "<div id=\"bcf61667-2df8-41f9-8973-7534b34e5611\" style=\"height: 525px; width: 100%;\" class=\"plotly-graph-div\"></div><script type=\"text/javascript\">require([\"plotly\"], function(Plotly) { window.PLOTLYENV=window.PLOTLYENV || {};window.PLOTLYENV.BASE_URL=\"https://plot.ly\";Plotly.newPlot(\"bcf61667-2df8-41f9-8973-7534b34e5611\", [{\"line\": {\"color\": \"rgba(192, 192, 192, 1.0)\", \"dash\": \"solid\", \"shape\": \"linear\", \"width\": 4}, \"mode\": \"lines\", \"name\": \"Average Closing, Silver\", \"text\": \"\", \"x\": [2019, 2018, 2017, 2016, 2015, 2014, 2013, 2012, 2011, 2010, 2009, 2008, 2007, 2006, 2005, 2004, 2003, 2002, 2001, 2000, 1999, 1998, 1997, 1996, 1995, 1994, 1993, 1992, 1991, 1990, 1989, 1988, 1987, 1986, 1985, 1984, 1983, 1982, 1981, 1980, 1979, 1978, 1977, 1976, 1975, 1974, 1973, 1972, 1971, 1970, 1969], \"y\": [16.1, 15.71, 17.07, 17.17, 15.66, 19.07, 23.79, 31.15, 35.12, 20.19, 14.67, 14.99, 13.38, 11.55, 7.31, 6.66, 4.88, 4.6, 4.37, 4.95, 5.22, 5.54, 4.9, 5.2, 5.2, 5.29, 4.31, 3.95, 4.06, 4.83, 5.5, 6.53, 7.02, 5.47, 6.13, 8.15, 11.42, 7.92, 10.49, 20.98, 11.07, 5.42, 4.64, 4.35, 4.43, 4.67, 2.55, 1.68, 1.54, 1.77, 1.8], \"type\": \"scatter\", \"uid\": \"31d8dfdf-8690-4c96-9e3f-df26d9190d18\"}], {\"legend\": {\"bgcolor\": \"#FFFFFF\", \"font\": {\"color\": \"#4D5663\"}}, \"paper_bgcolor\": \"#FFFFFF\", \"plot_bgcolor\": \"#FFFFFF\", \"title\": \"Average Closing Prices for Silver\", \"titlefont\": {\"color\": \"#4D5663\"}, \"xaxis\": {\"gridcolor\": \"#E1E5ED\", \"showgrid\": true, \"tickfont\": {\"color\": \"#4D5663\"}, \"title\": \"Year\", \"titlefont\": {\"color\": \"#4D5663\"}, \"zerolinecolor\": \"#E1E5ED\"}, \"yaxis\": {\"gridcolor\": \"#E1E5ED\", \"showgrid\": true, \"tickfont\": {\"color\": \"#4D5663\"}, \"title\": \"Average Closing Price in Dollars ($)\", \"titlefont\": {\"color\": \"#4D5663\"}, \"zerolinecolor\": \"#E1E5ED\"}}, {\"showLink\": true, \"linkText\": \"Export to plot.ly\", \"plotlyServerURL\": \"https://plot.ly\"})});</script><script type=\"text/javascript\">window.addEventListener(\"resize\", function(){window._Plotly.Plots.resize(document.getElementById(\"bcf61667-2df8-41f9-8973-7534b34e5611\"));});</script>"
      ]
     },
     "metadata": {},
     "output_type": "display_data"
    }
   ],
   "source": [
    "precious_metals_avg_cls[['Average Closing, Silver']]\\\n",
    ".iplot(kind='line', xTitle='Year', color='#C0C0C0',\n",
    "                  yTitle='Average Closing Price in Dollars ($)', \n",
    "       title='Average Closing Prices for Silver', width=4)"
   ]
  },
  {
   "cell_type": "code",
   "execution_count": 8,
   "metadata": {},
   "outputs": [
    {
     "data": {
      "application/vnd.plotly.v1+json": {
       "config": {
        "linkText": "Export to plot.ly",
        "plotlyServerURL": "https://plot.ly",
        "showLink": true
       },
       "data": [
        {
         "line": {
          "color": "rgba(0, 0, 0, 1.0)",
          "dash": "solid",
          "shape": "linear",
          "width": 4
         },
         "mode": "lines",
         "name": "Average Closing, Silver",
         "text": "",
         "type": "scatter",
         "uid": "b7fd7c3b-5b15-4901-bc73-84af127b73bd",
         "x": [
          2018,
          2017,
          2016,
          2015,
          2014,
          2013,
          2012,
          2011,
          2010,
          2009
         ],
         "y": [
          15.71,
          17.07,
          17.17,
          15.66,
          19.07,
          23.79,
          31.15,
          35.12,
          20.19,
          14.67
         ]
        }
       ],
       "layout": {
        "legend": {
         "bgcolor": "#FFFFFF",
         "font": {
          "color": "#4D5663"
         }
        },
        "paper_bgcolor": "#FFFFFF",
        "plot_bgcolor": "#FFFFFF",
        "title": "Average Closing Prices for Silver",
        "titlefont": {
         "color": "#4D5663"
        },
        "xaxis": {
         "gridcolor": "#E1E5ED",
         "showgrid": true,
         "tickfont": {
          "color": "#4D5663"
         },
         "title": "Year",
         "titlefont": {
          "color": "#4D5663"
         },
         "zerolinecolor": "#E1E5ED"
        },
        "yaxis": {
         "gridcolor": "#E1E5ED",
         "showgrid": true,
         "tickfont": {
          "color": "#4D5663"
         },
         "title": "Average Closing Price in Dollars ($)",
         "titlefont": {
          "color": "#4D5663"
         },
         "zerolinecolor": "#E1E5ED"
        }
       }
      },
      "text/html": [
       "<div id=\"ff2703b9-2bda-481a-b9a6-760a82208b50\" style=\"height: 525px; width: 100%;\" class=\"plotly-graph-div\"></div><script type=\"text/javascript\">require([\"plotly\"], function(Plotly) { window.PLOTLYENV=window.PLOTLYENV || {};window.PLOTLYENV.BASE_URL=\"https://plot.ly\";Plotly.newPlot(\"ff2703b9-2bda-481a-b9a6-760a82208b50\", [{\"line\": {\"color\": \"rgba(0, 0, 0, 1.0)\", \"dash\": \"solid\", \"shape\": \"linear\", \"width\": 4}, \"mode\": \"lines\", \"name\": \"Average Closing, Silver\", \"text\": \"\", \"x\": [2018, 2017, 2016, 2015, 2014, 2013, 2012, 2011, 2010, 2009], \"y\": [15.71, 17.07, 17.17, 15.66, 19.07, 23.79, 31.15, 35.12, 20.19, 14.67], \"type\": \"scatter\", \"uid\": \"a498f063-c392-4833-9208-cc869ef177aa\"}], {\"legend\": {\"bgcolor\": \"#FFFFFF\", \"font\": {\"color\": \"#4D5663\"}}, \"paper_bgcolor\": \"#FFFFFF\", \"plot_bgcolor\": \"#FFFFFF\", \"title\": \"Average Closing Prices for Silver\", \"titlefont\": {\"color\": \"#4D5663\"}, \"xaxis\": {\"gridcolor\": \"#E1E5ED\", \"showgrid\": true, \"tickfont\": {\"color\": \"#4D5663\"}, \"title\": \"Year\", \"titlefont\": {\"color\": \"#4D5663\"}, \"zerolinecolor\": \"#E1E5ED\"}, \"yaxis\": {\"gridcolor\": \"#E1E5ED\", \"showgrid\": true, \"tickfont\": {\"color\": \"#4D5663\"}, \"title\": \"Average Closing Price in Dollars ($)\", \"titlefont\": {\"color\": \"#4D5663\"}, \"zerolinecolor\": \"#E1E5ED\"}}, {\"showLink\": true, \"linkText\": \"Export to plot.ly\", \"plotlyServerURL\": \"https://plot.ly\"})});</script><script type=\"text/javascript\">window.addEventListener(\"resize\", function(){window._Plotly.Plots.resize(document.getElementById(\"ff2703b9-2bda-481a-b9a6-760a82208b50\"));});</script>"
      ],
      "text/vnd.plotly.v1+html": [
       "<div id=\"ff2703b9-2bda-481a-b9a6-760a82208b50\" style=\"height: 525px; width: 100%;\" class=\"plotly-graph-div\"></div><script type=\"text/javascript\">require([\"plotly\"], function(Plotly) { window.PLOTLYENV=window.PLOTLYENV || {};window.PLOTLYENV.BASE_URL=\"https://plot.ly\";Plotly.newPlot(\"ff2703b9-2bda-481a-b9a6-760a82208b50\", [{\"line\": {\"color\": \"rgba(0, 0, 0, 1.0)\", \"dash\": \"solid\", \"shape\": \"linear\", \"width\": 4}, \"mode\": \"lines\", \"name\": \"Average Closing, Silver\", \"text\": \"\", \"x\": [2018, 2017, 2016, 2015, 2014, 2013, 2012, 2011, 2010, 2009], \"y\": [15.71, 17.07, 17.17, 15.66, 19.07, 23.79, 31.15, 35.12, 20.19, 14.67], \"type\": \"scatter\", \"uid\": \"a498f063-c392-4833-9208-cc869ef177aa\"}], {\"legend\": {\"bgcolor\": \"#FFFFFF\", \"font\": {\"color\": \"#4D5663\"}}, \"paper_bgcolor\": \"#FFFFFF\", \"plot_bgcolor\": \"#FFFFFF\", \"title\": \"Average Closing Prices for Silver\", \"titlefont\": {\"color\": \"#4D5663\"}, \"xaxis\": {\"gridcolor\": \"#E1E5ED\", \"showgrid\": true, \"tickfont\": {\"color\": \"#4D5663\"}, \"title\": \"Year\", \"titlefont\": {\"color\": \"#4D5663\"}, \"zerolinecolor\": \"#E1E5ED\"}, \"yaxis\": {\"gridcolor\": \"#E1E5ED\", \"showgrid\": true, \"tickfont\": {\"color\": \"#4D5663\"}, \"title\": \"Average Closing Price in Dollars ($)\", \"titlefont\": {\"color\": \"#4D5663\"}, \"zerolinecolor\": \"#E1E5ED\"}}, {\"showLink\": true, \"linkText\": \"Export to plot.ly\", \"plotlyServerURL\": \"https://plot.ly\"})});</script><script type=\"text/javascript\">window.addEventListener(\"resize\", function(){window._Plotly.Plots.resize(document.getElementById(\"ff2703b9-2bda-481a-b9a6-760a82208b50\"));});</script>"
      ]
     },
     "metadata": {},
     "output_type": "display_data"
    }
   ],
   "source": [
    "precious_metals_avg_cls.loc['2018':'2009'][['Average Closing, Silver']]\\\n",
    ".iplot(kind='line', xTitle='Year', color='black',\n",
    "                  yTitle='Average Closing Price in Dollars ($)', \n",
    "       title='Average Closing Prices for Silver', width=4)"
   ]
  },
  {
   "cell_type": "code",
   "execution_count": 9,
   "metadata": {},
   "outputs": [
    {
     "data": {
      "application/vnd.plotly.v1+json": {
       "config": {
        "linkText": "Export to plot.ly",
        "plotlyServerURL": "https://plot.ly",
        "showLink": true
       },
       "data": [
        {
         "line": {
          "color": "rgba(192, 192, 192, 1.0)",
          "dash": "solid",
          "shape": "linear",
          "width": 4
         },
         "mode": "lines",
         "name": "Average Closing, Silver",
         "text": "",
         "type": "scatter",
         "uid": "965d0edd-4986-4f5b-8b13-d224d80c2ca7",
         "x": [
          2019,
          2018,
          2017,
          2016,
          2015,
          2014,
          2013,
          2012,
          2011,
          2010,
          2009,
          2008,
          2007,
          2006,
          2005,
          2004,
          2003,
          2002,
          2001,
          2000,
          1999,
          1998,
          1997,
          1996,
          1995,
          1994,
          1993,
          1992,
          1991,
          1990,
          1989,
          1988,
          1987,
          1986,
          1985,
          1984,
          1983,
          1982,
          1981,
          1980,
          1979,
          1978,
          1977,
          1976,
          1975,
          1974,
          1973,
          1972,
          1971,
          1970,
          1969
         ],
         "y": [
          16.1,
          15.71,
          17.07,
          17.17,
          15.66,
          19.07,
          23.79,
          31.15,
          35.12,
          20.19,
          14.67,
          14.99,
          13.38,
          11.55,
          7.31,
          6.66,
          4.88,
          4.6,
          4.37,
          4.95,
          5.22,
          5.54,
          4.9,
          5.2,
          5.2,
          5.29,
          4.31,
          3.95,
          4.06,
          4.83,
          5.5,
          6.53,
          7.02,
          5.47,
          6.13,
          8.15,
          11.42,
          7.92,
          10.49,
          20.98,
          11.07,
          5.42,
          4.64,
          4.35,
          4.43,
          4.67,
          2.55,
          1.68,
          1.54,
          1.77,
          1.8
         ]
        },
        {
         "line": {
          "color": "rgba(255, 215, 0, 1.0)",
          "dash": "solid",
          "shape": "linear",
          "width": 4
         },
         "mode": "lines",
         "name": "Average Closing, Gold",
         "text": "",
         "type": "scatter",
         "uid": "8cad8f07-8d4c-4222-ad34-7274f1bf9961",
         "x": [
          2019,
          2018,
          2017,
          2016,
          2015,
          2014,
          2013,
          2012,
          2011,
          2010,
          2009,
          2008,
          2007,
          2006,
          2005,
          2004,
          2003,
          2002,
          2001,
          2000,
          1999,
          1998,
          1997,
          1996,
          1995,
          1994,
          1993,
          1992,
          1991,
          1990,
          1989,
          1988,
          1987,
          1986,
          1985,
          1984,
          1983,
          1982,
          1981,
          1980,
          1979,
          1978,
          1977,
          1976,
          1975,
          1974,
          1973,
          1972,
          1971,
          1970,
          1969
         ],
         "y": [
          1382.39,
          1268.93,
          1260.39,
          1251.92,
          1158.86,
          1266.06,
          1409.51,
          1668.86,
          1573.16,
          1226.66,
          973.66,
          872.37,
          696.43,
          604.34,
          444.99,
          409.53,
          363.83,
          310.08,
          271.19,
          279.29,
          278.86,
          294.12,
          331,
          387.73,
          384.07,
          384.16,
          360.05,
          343.87,
          362.34,
          383.73,
          381.27,
          436.78,
          446.84,
          368.2,
          317.42,
          360.65,
          423.71,
          376.11,
          459.16,
          614.75,
          307.01,
          193.57,
          147.84,
          124.8,
          160.87,
          158.76,
          97.12,
          58.17,
          40.8,
          35.96,
          41.1
         ]
        }
       ],
       "layout": {
        "legend": {
         "bgcolor": "#FFFFFF",
         "font": {
          "color": "#4D5663"
         }
        },
        "paper_bgcolor": "#FFFFFF",
        "plot_bgcolor": "#FFFFFF",
        "title": "Average Closing Prices for Silver",
        "titlefont": {
         "color": "#4D5663"
        },
        "xaxis": {
         "gridcolor": "#E1E5ED",
         "showgrid": true,
         "tickfont": {
          "color": "#4D5663"
         },
         "title": "Year",
         "titlefont": {
          "color": "#4D5663"
         },
         "zerolinecolor": "#E1E5ED"
        },
        "yaxis": {
         "gridcolor": "#E1E5ED",
         "showgrid": true,
         "tickfont": {
          "color": "#4D5663"
         },
         "title": "Average Closing Price in Dollars ($)",
         "titlefont": {
          "color": "#4D5663"
         },
         "zerolinecolor": "#E1E5ED"
        }
       }
      },
      "text/html": [
       "<div id=\"85037315-ece7-46ba-a712-b4b89fadeccc\" style=\"height: 525px; width: 100%;\" class=\"plotly-graph-div\"></div><script type=\"text/javascript\">require([\"plotly\"], function(Plotly) { window.PLOTLYENV=window.PLOTLYENV || {};window.PLOTLYENV.BASE_URL=\"https://plot.ly\";Plotly.newPlot(\"85037315-ece7-46ba-a712-b4b89fadeccc\", [{\"line\": {\"color\": \"rgba(192, 192, 192, 1.0)\", \"dash\": \"solid\", \"shape\": \"linear\", \"width\": 4}, \"mode\": \"lines\", \"name\": \"Average Closing, Silver\", \"text\": \"\", \"x\": [2019, 2018, 2017, 2016, 2015, 2014, 2013, 2012, 2011, 2010, 2009, 2008, 2007, 2006, 2005, 2004, 2003, 2002, 2001, 2000, 1999, 1998, 1997, 1996, 1995, 1994, 1993, 1992, 1991, 1990, 1989, 1988, 1987, 1986, 1985, 1984, 1983, 1982, 1981, 1980, 1979, 1978, 1977, 1976, 1975, 1974, 1973, 1972, 1971, 1970, 1969], \"y\": [16.1, 15.71, 17.07, 17.17, 15.66, 19.07, 23.79, 31.15, 35.12, 20.19, 14.67, 14.99, 13.38, 11.55, 7.31, 6.66, 4.88, 4.6, 4.37, 4.95, 5.22, 5.54, 4.9, 5.2, 5.2, 5.29, 4.31, 3.95, 4.06, 4.83, 5.5, 6.53, 7.02, 5.47, 6.13, 8.15, 11.42, 7.92, 10.49, 20.98, 11.07, 5.42, 4.64, 4.35, 4.43, 4.67, 2.55, 1.68, 1.54, 1.77, 1.8], \"type\": \"scatter\", \"uid\": \"4a06d724-c6a5-4ad9-8c90-910b4e2045ee\"}, {\"line\": {\"color\": \"rgba(255, 215, 0, 1.0)\", \"dash\": \"solid\", \"shape\": \"linear\", \"width\": 4}, \"mode\": \"lines\", \"name\": \"Average Closing, Gold\", \"text\": \"\", \"x\": [2019, 2018, 2017, 2016, 2015, 2014, 2013, 2012, 2011, 2010, 2009, 2008, 2007, 2006, 2005, 2004, 2003, 2002, 2001, 2000, 1999, 1998, 1997, 1996, 1995, 1994, 1993, 1992, 1991, 1990, 1989, 1988, 1987, 1986, 1985, 1984, 1983, 1982, 1981, 1980, 1979, 1978, 1977, 1976, 1975, 1974, 1973, 1972, 1971, 1970, 1969], \"y\": [1382.39, 1268.93, 1260.39, 1251.92, 1158.86, 1266.06, 1409.51, 1668.86, 1573.16, 1226.66, 973.66, 872.37, 696.43, 604.34, 444.99, 409.53, 363.83, 310.08, 271.19, 279.29, 278.86, 294.12, 331.0, 387.73, 384.07, 384.16, 360.05, 343.87, 362.34, 383.73, 381.27, 436.78, 446.84, 368.2, 317.42, 360.65, 423.71, 376.11, 459.16, 614.75, 307.01, 193.57, 147.84, 124.8, 160.87, 158.76, 97.12, 58.17, 40.8, 35.96, 41.1], \"type\": \"scatter\", \"uid\": \"db953d71-8f1e-4fc8-9721-3a39549ce3fd\"}], {\"legend\": {\"bgcolor\": \"#FFFFFF\", \"font\": {\"color\": \"#4D5663\"}}, \"paper_bgcolor\": \"#FFFFFF\", \"plot_bgcolor\": \"#FFFFFF\", \"title\": \"Average Closing Prices for Silver\", \"titlefont\": {\"color\": \"#4D5663\"}, \"xaxis\": {\"gridcolor\": \"#E1E5ED\", \"showgrid\": true, \"tickfont\": {\"color\": \"#4D5663\"}, \"title\": \"Year\", \"titlefont\": {\"color\": \"#4D5663\"}, \"zerolinecolor\": \"#E1E5ED\"}, \"yaxis\": {\"gridcolor\": \"#E1E5ED\", \"showgrid\": true, \"tickfont\": {\"color\": \"#4D5663\"}, \"title\": \"Average Closing Price in Dollars ($)\", \"titlefont\": {\"color\": \"#4D5663\"}, \"zerolinecolor\": \"#E1E5ED\"}}, {\"showLink\": true, \"linkText\": \"Export to plot.ly\", \"plotlyServerURL\": \"https://plot.ly\"})});</script><script type=\"text/javascript\">window.addEventListener(\"resize\", function(){window._Plotly.Plots.resize(document.getElementById(\"85037315-ece7-46ba-a712-b4b89fadeccc\"));});</script>"
      ],
      "text/vnd.plotly.v1+html": [
       "<div id=\"85037315-ece7-46ba-a712-b4b89fadeccc\" style=\"height: 525px; width: 100%;\" class=\"plotly-graph-div\"></div><script type=\"text/javascript\">require([\"plotly\"], function(Plotly) { window.PLOTLYENV=window.PLOTLYENV || {};window.PLOTLYENV.BASE_URL=\"https://plot.ly\";Plotly.newPlot(\"85037315-ece7-46ba-a712-b4b89fadeccc\", [{\"line\": {\"color\": \"rgba(192, 192, 192, 1.0)\", \"dash\": \"solid\", \"shape\": \"linear\", \"width\": 4}, \"mode\": \"lines\", \"name\": \"Average Closing, Silver\", \"text\": \"\", \"x\": [2019, 2018, 2017, 2016, 2015, 2014, 2013, 2012, 2011, 2010, 2009, 2008, 2007, 2006, 2005, 2004, 2003, 2002, 2001, 2000, 1999, 1998, 1997, 1996, 1995, 1994, 1993, 1992, 1991, 1990, 1989, 1988, 1987, 1986, 1985, 1984, 1983, 1982, 1981, 1980, 1979, 1978, 1977, 1976, 1975, 1974, 1973, 1972, 1971, 1970, 1969], \"y\": [16.1, 15.71, 17.07, 17.17, 15.66, 19.07, 23.79, 31.15, 35.12, 20.19, 14.67, 14.99, 13.38, 11.55, 7.31, 6.66, 4.88, 4.6, 4.37, 4.95, 5.22, 5.54, 4.9, 5.2, 5.2, 5.29, 4.31, 3.95, 4.06, 4.83, 5.5, 6.53, 7.02, 5.47, 6.13, 8.15, 11.42, 7.92, 10.49, 20.98, 11.07, 5.42, 4.64, 4.35, 4.43, 4.67, 2.55, 1.68, 1.54, 1.77, 1.8], \"type\": \"scatter\", \"uid\": \"4a06d724-c6a5-4ad9-8c90-910b4e2045ee\"}, {\"line\": {\"color\": \"rgba(255, 215, 0, 1.0)\", \"dash\": \"solid\", \"shape\": \"linear\", \"width\": 4}, \"mode\": \"lines\", \"name\": \"Average Closing, Gold\", \"text\": \"\", \"x\": [2019, 2018, 2017, 2016, 2015, 2014, 2013, 2012, 2011, 2010, 2009, 2008, 2007, 2006, 2005, 2004, 2003, 2002, 2001, 2000, 1999, 1998, 1997, 1996, 1995, 1994, 1993, 1992, 1991, 1990, 1989, 1988, 1987, 1986, 1985, 1984, 1983, 1982, 1981, 1980, 1979, 1978, 1977, 1976, 1975, 1974, 1973, 1972, 1971, 1970, 1969], \"y\": [1382.39, 1268.93, 1260.39, 1251.92, 1158.86, 1266.06, 1409.51, 1668.86, 1573.16, 1226.66, 973.66, 872.37, 696.43, 604.34, 444.99, 409.53, 363.83, 310.08, 271.19, 279.29, 278.86, 294.12, 331.0, 387.73, 384.07, 384.16, 360.05, 343.87, 362.34, 383.73, 381.27, 436.78, 446.84, 368.2, 317.42, 360.65, 423.71, 376.11, 459.16, 614.75, 307.01, 193.57, 147.84, 124.8, 160.87, 158.76, 97.12, 58.17, 40.8, 35.96, 41.1], \"type\": \"scatter\", \"uid\": \"db953d71-8f1e-4fc8-9721-3a39549ce3fd\"}], {\"legend\": {\"bgcolor\": \"#FFFFFF\", \"font\": {\"color\": \"#4D5663\"}}, \"paper_bgcolor\": \"#FFFFFF\", \"plot_bgcolor\": \"#FFFFFF\", \"title\": \"Average Closing Prices for Silver\", \"titlefont\": {\"color\": \"#4D5663\"}, \"xaxis\": {\"gridcolor\": \"#E1E5ED\", \"showgrid\": true, \"tickfont\": {\"color\": \"#4D5663\"}, \"title\": \"Year\", \"titlefont\": {\"color\": \"#4D5663\"}, \"zerolinecolor\": \"#E1E5ED\"}, \"yaxis\": {\"gridcolor\": \"#E1E5ED\", \"showgrid\": true, \"tickfont\": {\"color\": \"#4D5663\"}, \"title\": \"Average Closing Price in Dollars ($)\", \"titlefont\": {\"color\": \"#4D5663\"}, \"zerolinecolor\": \"#E1E5ED\"}}, {\"showLink\": true, \"linkText\": \"Export to plot.ly\", \"plotlyServerURL\": \"https://plot.ly\"})});</script><script type=\"text/javascript\">window.addEventListener(\"resize\", function(){window._Plotly.Plots.resize(document.getElementById(\"85037315-ece7-46ba-a712-b4b89fadeccc\"));});</script>"
      ]
     },
     "metadata": {},
     "output_type": "display_data"
    }
   ],
   "source": [
    "precious_metals_avg_cls[['Average Closing, Silver', 'Average Closing, Gold']]\\\n",
    ".iplot(kind='line', xTitle='Year', colors=['#C0C0C0','#ffd700'],\n",
    "                  yTitle='Average Closing Price in Dollars ($)', \n",
    "       title='Average Closing Prices for Silver', width=4)"
   ]
  },
  {
   "cell_type": "code",
   "execution_count": 10,
   "metadata": {},
   "outputs": [
    {
     "name": "stderr",
     "output_type": "stream",
     "text": [
      "INFO:numexpr.utils:NumExpr defaulting to 4 threads.\n"
     ]
    },
    {
     "data": {
      "application/vnd.plotly.v1+json": {
       "config": {
        "linkText": "Export to plot.ly",
        "plotlyServerURL": "https://plot.ly",
        "showLink": true
       },
       "data": [
        {
         "line": {
          "color": "rgba(28, 124, 84, 1.0)",
          "dash": "solid",
          "shape": "linear",
          "width": 4
         },
         "mode": "lines",
         "name": "Ratio of Gold to Silver",
         "text": "",
         "type": "scatter",
         "uid": "ecf24c9e-3905-48b6-ab34-f3fa14f2f124",
         "x": [
          2019,
          2018,
          2017,
          2016,
          2015,
          2014,
          2013,
          2012,
          2011,
          2010,
          2009,
          2008,
          2007,
          2006,
          2005,
          2004,
          2003,
          2002,
          2001,
          2000,
          1999,
          1998,
          1997,
          1996,
          1995,
          1994,
          1993,
          1992,
          1991,
          1990,
          1989,
          1988,
          1987,
          1986,
          1985,
          1984,
          1983,
          1982,
          1981,
          1980,
          1979,
          1978,
          1977,
          1976,
          1975,
          1974,
          1973,
          1972,
          1971,
          1970,
          1969
         ],
         "y": [
          85.86273291925465,
          80.77211966900063,
          73.8365553602812,
          72.91322073383809,
          74.00127713920817,
          66.39014158363922,
          59.248003362757466,
          53.57495987158909,
          44.79384965831436,
          60.75581971272907,
          66.37082481254261,
          58.1967978652435,
          52.05007473841554,
          52.32380952380952,
          60.87414500683995,
          61.49099099099099,
          74.55532786885246,
          67.40869565217392,
          62.057208237986266,
          56.422222222222224,
          53.42145593869732,
          53.09025270758123,
          67.55102040816325,
          74.56346153846154,
          73.85961538461538,
          72.62003780718337,
          83.53828306264502,
          87.05569620253165,
          89.24630541871922,
          79.4472049689441,
          69.32181818181817,
          66.88820826952526,
          63.65242165242165,
          67.31261425959781,
          51.78140293637847,
          44.25153374233128,
          37.102451838879155,
          47.48863636363637,
          43.77121067683508,
          29.301715919923737,
          27.733514001806682,
          35.7140221402214,
          31.862068965517246,
          28.689655172413794,
          36.31376975169301,
          33.99571734475374,
          38.08627450980393,
          34.625,
          26.49350649350649,
          20.316384180790962,
          22.833333333333332
         ]
        }
       ],
       "layout": {
        "legend": {
         "bgcolor": "#FFFFFF",
         "font": {
          "color": "#4D5663"
         }
        },
        "paper_bgcolor": "#FFFFFF",
        "plot_bgcolor": "#FFFFFF",
        "title": "Ratio of Gold Price to Silver Price",
        "titlefont": {
         "color": "#4D5663"
        },
        "xaxis": {
         "gridcolor": "#E1E5ED",
         "showgrid": true,
         "tickfont": {
          "color": "#4D5663"
         },
         "title": "Year",
         "titlefont": {
          "color": "#4D5663"
         },
         "zerolinecolor": "#E1E5ED"
        },
        "yaxis": {
         "gridcolor": "#E1E5ED",
         "showgrid": true,
         "tickfont": {
          "color": "#4D5663"
         },
         "title": "Ratio of Gold Closing Price, to Silver Closing Price",
         "titlefont": {
          "color": "#4D5663"
         },
         "zerolinecolor": "#E1E5ED"
        }
       }
      },
      "text/html": [
       "<div id=\"e2b1744b-76ba-4da5-8a03-995921296faa\" style=\"height: 525px; width: 100%;\" class=\"plotly-graph-div\"></div><script type=\"text/javascript\">require([\"plotly\"], function(Plotly) { window.PLOTLYENV=window.PLOTLYENV || {};window.PLOTLYENV.BASE_URL=\"https://plot.ly\";Plotly.newPlot(\"e2b1744b-76ba-4da5-8a03-995921296faa\", [{\"line\": {\"color\": \"rgba(28, 124, 84, 1.0)\", \"dash\": \"solid\", \"shape\": \"linear\", \"width\": 4}, \"mode\": \"lines\", \"name\": \"Ratio of Gold to Silver\", \"text\": \"\", \"x\": [2019, 2018, 2017, 2016, 2015, 2014, 2013, 2012, 2011, 2010, 2009, 2008, 2007, 2006, 2005, 2004, 2003, 2002, 2001, 2000, 1999, 1998, 1997, 1996, 1995, 1994, 1993, 1992, 1991, 1990, 1989, 1988, 1987, 1986, 1985, 1984, 1983, 1982, 1981, 1980, 1979, 1978, 1977, 1976, 1975, 1974, 1973, 1972, 1971, 1970, 1969], \"y\": [85.86273291925465, 80.77211966900063, 73.8365553602812, 72.91322073383809, 74.00127713920817, 66.39014158363922, 59.248003362757466, 53.57495987158909, 44.79384965831436, 60.75581971272907, 66.37082481254261, 58.1967978652435, 52.05007473841554, 52.32380952380952, 60.87414500683995, 61.49099099099099, 74.55532786885246, 67.40869565217392, 62.057208237986266, 56.422222222222224, 53.42145593869732, 53.09025270758123, 67.55102040816325, 74.56346153846154, 73.85961538461538, 72.62003780718337, 83.53828306264502, 87.05569620253165, 89.24630541871922, 79.4472049689441, 69.32181818181817, 66.88820826952526, 63.65242165242165, 67.31261425959781, 51.78140293637847, 44.25153374233128, 37.102451838879155, 47.48863636363637, 43.77121067683508, 29.301715919923737, 27.733514001806682, 35.7140221402214, 31.862068965517246, 28.689655172413794, 36.31376975169301, 33.99571734475374, 38.08627450980393, 34.625, 26.49350649350649, 20.316384180790962, 22.833333333333332], \"type\": \"scatter\", \"uid\": \"bdcd511c-e63d-4cf5-9301-b4b5b725b4b5\"}], {\"legend\": {\"bgcolor\": \"#FFFFFF\", \"font\": {\"color\": \"#4D5663\"}}, \"paper_bgcolor\": \"#FFFFFF\", \"plot_bgcolor\": \"#FFFFFF\", \"title\": \"Ratio of Gold Price to Silver Price\", \"titlefont\": {\"color\": \"#4D5663\"}, \"xaxis\": {\"gridcolor\": \"#E1E5ED\", \"showgrid\": true, \"tickfont\": {\"color\": \"#4D5663\"}, \"title\": \"Year\", \"titlefont\": {\"color\": \"#4D5663\"}, \"zerolinecolor\": \"#E1E5ED\"}, \"yaxis\": {\"gridcolor\": \"#E1E5ED\", \"showgrid\": true, \"tickfont\": {\"color\": \"#4D5663\"}, \"title\": \"Ratio of Gold Closing Price, to Silver Closing Price\", \"titlefont\": {\"color\": \"#4D5663\"}, \"zerolinecolor\": \"#E1E5ED\"}}, {\"showLink\": true, \"linkText\": \"Export to plot.ly\", \"plotlyServerURL\": \"https://plot.ly\"})});</script><script type=\"text/javascript\">window.addEventListener(\"resize\", function(){window._Plotly.Plots.resize(document.getElementById(\"e2b1744b-76ba-4da5-8a03-995921296faa\"));});</script>"
      ],
      "text/vnd.plotly.v1+html": [
       "<div id=\"e2b1744b-76ba-4da5-8a03-995921296faa\" style=\"height: 525px; width: 100%;\" class=\"plotly-graph-div\"></div><script type=\"text/javascript\">require([\"plotly\"], function(Plotly) { window.PLOTLYENV=window.PLOTLYENV || {};window.PLOTLYENV.BASE_URL=\"https://plot.ly\";Plotly.newPlot(\"e2b1744b-76ba-4da5-8a03-995921296faa\", [{\"line\": {\"color\": \"rgba(28, 124, 84, 1.0)\", \"dash\": \"solid\", \"shape\": \"linear\", \"width\": 4}, \"mode\": \"lines\", \"name\": \"Ratio of Gold to Silver\", \"text\": \"\", \"x\": [2019, 2018, 2017, 2016, 2015, 2014, 2013, 2012, 2011, 2010, 2009, 2008, 2007, 2006, 2005, 2004, 2003, 2002, 2001, 2000, 1999, 1998, 1997, 1996, 1995, 1994, 1993, 1992, 1991, 1990, 1989, 1988, 1987, 1986, 1985, 1984, 1983, 1982, 1981, 1980, 1979, 1978, 1977, 1976, 1975, 1974, 1973, 1972, 1971, 1970, 1969], \"y\": [85.86273291925465, 80.77211966900063, 73.8365553602812, 72.91322073383809, 74.00127713920817, 66.39014158363922, 59.248003362757466, 53.57495987158909, 44.79384965831436, 60.75581971272907, 66.37082481254261, 58.1967978652435, 52.05007473841554, 52.32380952380952, 60.87414500683995, 61.49099099099099, 74.55532786885246, 67.40869565217392, 62.057208237986266, 56.422222222222224, 53.42145593869732, 53.09025270758123, 67.55102040816325, 74.56346153846154, 73.85961538461538, 72.62003780718337, 83.53828306264502, 87.05569620253165, 89.24630541871922, 79.4472049689441, 69.32181818181817, 66.88820826952526, 63.65242165242165, 67.31261425959781, 51.78140293637847, 44.25153374233128, 37.102451838879155, 47.48863636363637, 43.77121067683508, 29.301715919923737, 27.733514001806682, 35.7140221402214, 31.862068965517246, 28.689655172413794, 36.31376975169301, 33.99571734475374, 38.08627450980393, 34.625, 26.49350649350649, 20.316384180790962, 22.833333333333332], \"type\": \"scatter\", \"uid\": \"bdcd511c-e63d-4cf5-9301-b4b5b725b4b5\"}], {\"legend\": {\"bgcolor\": \"#FFFFFF\", \"font\": {\"color\": \"#4D5663\"}}, \"paper_bgcolor\": \"#FFFFFF\", \"plot_bgcolor\": \"#FFFFFF\", \"title\": \"Ratio of Gold Price to Silver Price\", \"titlefont\": {\"color\": \"#4D5663\"}, \"xaxis\": {\"gridcolor\": \"#E1E5ED\", \"showgrid\": true, \"tickfont\": {\"color\": \"#4D5663\"}, \"title\": \"Year\", \"titlefont\": {\"color\": \"#4D5663\"}, \"zerolinecolor\": \"#E1E5ED\"}, \"yaxis\": {\"gridcolor\": \"#E1E5ED\", \"showgrid\": true, \"tickfont\": {\"color\": \"#4D5663\"}, \"title\": \"Ratio of Gold Closing Price, to Silver Closing Price\", \"titlefont\": {\"color\": \"#4D5663\"}, \"zerolinecolor\": \"#E1E5ED\"}}, {\"showLink\": true, \"linkText\": \"Export to plot.ly\", \"plotlyServerURL\": \"https://plot.ly\"})});</script><script type=\"text/javascript\">window.addEventListener(\"resize\", function(){window._Plotly.Plots.resize(document.getElementById(\"e2b1744b-76ba-4da5-8a03-995921296faa\"));});</script>"
      ]
     },
     "metadata": {},
     "output_type": "display_data"
    }
   ],
   "source": [
    "ratio_gold_to_silver = precious_metals_avg_cls\n",
    "ratio_gold_to_silver['Ratio of Gold to Silver'] = precious_metals_avg_cls['Average Closing, Gold'] \\\n",
    "/ precious_metals_avg_cls['Average Closing, Silver']\n",
    "\n",
    "precious_metals_avg_cls[['Ratio of Gold to Silver']]\\\n",
    ".iplot(kind='line', xTitle='Year', color='#1C7C54',\n",
    "                  yTitle='Ratio of Gold Closing Price, to Silver Closing Price', \n",
    "       title='Ratio of Gold Price to Silver Price', width=4)"
   ]
  },
  {
   "cell_type": "markdown",
   "metadata": {},
   "source": [
    "## Supply"
   ]
  },
  {
   "cell_type": "code",
   "execution_count": 11,
   "metadata": {},
   "outputs": [],
   "source": [
    "supply = pd.read_excel('../data/silver_institute_supply_and_demand.xlsx', 'Supply')\n",
    "supply.set_index('Year', inplace=True)\n",
    "supply.fillna(0, inplace=True)"
   ]
  },
  {
   "cell_type": "code",
   "execution_count": 12,
   "metadata": {},
   "outputs": [
    {
     "data": {
      "text/html": [
       "<div>\n",
       "<style scoped>\n",
       "    .dataframe tbody tr th:only-of-type {\n",
       "        vertical-align: middle;\n",
       "    }\n",
       "\n",
       "    .dataframe tbody tr th {\n",
       "        vertical-align: top;\n",
       "    }\n",
       "\n",
       "    .dataframe thead th {\n",
       "        text-align: right;\n",
       "    }\n",
       "</style>\n",
       "<table border=\"1\" class=\"dataframe\">\n",
       "  <thead>\n",
       "    <tr style=\"text-align: right;\">\n",
       "      <th></th>\n",
       "      <th>Mine Production</th>\n",
       "      <th>Net Government Sales</th>\n",
       "      <th>Scrap</th>\n",
       "      <th>Net Hedging Supply</th>\n",
       "      <th>Total Supply</th>\n",
       "    </tr>\n",
       "    <tr>\n",
       "      <th>Year</th>\n",
       "      <th></th>\n",
       "      <th></th>\n",
       "      <th></th>\n",
       "      <th></th>\n",
       "      <th></th>\n",
       "    </tr>\n",
       "  </thead>\n",
       "  <tbody>\n",
       "    <tr>\n",
       "      <th>2009</th>\n",
       "      <td>717.3</td>\n",
       "      <td>15.6</td>\n",
       "      <td>200.6</td>\n",
       "      <td>-17.4</td>\n",
       "      <td>916.1</td>\n",
       "    </tr>\n",
       "    <tr>\n",
       "      <th>2010</th>\n",
       "      <td>753.0</td>\n",
       "      <td>44.2</td>\n",
       "      <td>227.2</td>\n",
       "      <td>50.4</td>\n",
       "      <td>1074.8</td>\n",
       "    </tr>\n",
       "    <tr>\n",
       "      <th>2011</th>\n",
       "      <td>758.3</td>\n",
       "      <td>12.0</td>\n",
       "      <td>261.2</td>\n",
       "      <td>12.2</td>\n",
       "      <td>1043.7</td>\n",
       "    </tr>\n",
       "    <tr>\n",
       "      <th>2012</th>\n",
       "      <td>791.7</td>\n",
       "      <td>7.4</td>\n",
       "      <td>253.8</td>\n",
       "      <td>-47.1</td>\n",
       "      <td>1005.8</td>\n",
       "    </tr>\n",
       "    <tr>\n",
       "      <th>2013</th>\n",
       "      <td>823.3</td>\n",
       "      <td>7.9</td>\n",
       "      <td>191.2</td>\n",
       "      <td>-34.8</td>\n",
       "      <td>987.6</td>\n",
       "    </tr>\n",
       "  </tbody>\n",
       "</table>\n",
       "</div>"
      ],
      "text/plain": [
       "      Mine Production  Net Government Sales  Scrap  Net Hedging Supply  \\\n",
       "Year                                                                     \n",
       "2009            717.3                  15.6  200.6               -17.4   \n",
       "2010            753.0                  44.2  227.2                50.4   \n",
       "2011            758.3                  12.0  261.2                12.2   \n",
       "2012            791.7                   7.4  253.8               -47.1   \n",
       "2013            823.3                   7.9  191.2               -34.8   \n",
       "\n",
       "      Total Supply  \n",
       "Year                \n",
       "2009         916.1  \n",
       "2010        1074.8  \n",
       "2011        1043.7  \n",
       "2012        1005.8  \n",
       "2013         987.6  "
      ]
     },
     "execution_count": 12,
     "metadata": {},
     "output_type": "execute_result"
    }
   ],
   "source": [
    "supply.head()"
   ]
  },
  {
   "cell_type": "code",
   "execution_count": 13,
   "metadata": {},
   "outputs": [
    {
     "data": {
      "application/vnd.plotly.v1+json": {
       "config": {
        "linkText": "Export to plot.ly",
        "plotlyServerURL": "https://plot.ly",
        "showLink": true
       },
       "data": [
        {
         "marker": {
          "color": "rgba(28, 124, 84, 0.6)",
          "line": {
           "color": "rgba(28, 124, 84, 1.0)",
           "width": 1
          }
         },
         "name": "Total Supply",
         "orientation": "v",
         "text": "",
         "type": "bar",
         "uid": "b8c1a7e4-75ef-49a6-8be9-22e00849df46",
         "x": [
          2009,
          2010,
          2011,
          2012,
          2013,
          2014,
          2015,
          2016,
          2017,
          2018
         ],
         "y": [
          916.1,
          1074.8000000000002,
          1043.7,
          1005.8000000000001,
          987.5999999999999,
          1052,
          1051.7,
          1025.8,
          1032.6000000000001,
          1004.2
         ]
        }
       ],
       "layout": {
        "legend": {
         "bgcolor": "#FFFFFF",
         "font": {
          "color": "#4D5663"
         }
        },
        "paper_bgcolor": "#FFFFFF",
        "plot_bgcolor": "#FFFFFF",
        "title": "Total Supply of Silver, Per Year",
        "titlefont": {
         "color": "#4D5663"
        },
        "xaxis": {
         "gridcolor": "#E1E5ED",
         "showgrid": true,
         "tickfont": {
          "color": "#4D5663"
         },
         "title": "Year",
         "titlefont": {
          "color": "#4D5663"
         },
         "zerolinecolor": "#E1E5ED"
        },
        "yaxis": {
         "gridcolor": "#E1E5ED",
         "showgrid": true,
         "tickfont": {
          "color": "#4D5663"
         },
         "title": "Supply in Tons",
         "titlefont": {
          "color": "#4D5663"
         },
         "zerolinecolor": "#E1E5ED"
        }
       }
      },
      "text/html": [
       "<div id=\"9f49d3a2-2ac4-48d7-b541-f8d137e6ed84\" style=\"height: 525px; width: 100%;\" class=\"plotly-graph-div\"></div><script type=\"text/javascript\">require([\"plotly\"], function(Plotly) { window.PLOTLYENV=window.PLOTLYENV || {};window.PLOTLYENV.BASE_URL=\"https://plot.ly\";Plotly.newPlot(\"9f49d3a2-2ac4-48d7-b541-f8d137e6ed84\", [{\"marker\": {\"color\": \"rgba(28, 124, 84, 0.6)\", \"line\": {\"color\": \"rgba(28, 124, 84, 1.0)\", \"width\": 1}}, \"name\": \"Total Supply\", \"orientation\": \"v\", \"text\": \"\", \"x\": [2009, 2010, 2011, 2012, 2013, 2014, 2015, 2016, 2017, 2018], \"y\": [916.1, 1074.8000000000002, 1043.7, 1005.8000000000001, 987.5999999999999, 1052.0, 1051.7, 1025.8, 1032.6000000000001, 1004.2], \"type\": \"bar\", \"uid\": \"492bb472-d851-4c1d-9b30-f3ff6e50d857\"}], {\"legend\": {\"bgcolor\": \"#FFFFFF\", \"font\": {\"color\": \"#4D5663\"}}, \"paper_bgcolor\": \"#FFFFFF\", \"plot_bgcolor\": \"#FFFFFF\", \"title\": \"Total Supply of Silver, Per Year\", \"titlefont\": {\"color\": \"#4D5663\"}, \"xaxis\": {\"gridcolor\": \"#E1E5ED\", \"showgrid\": true, \"tickfont\": {\"color\": \"#4D5663\"}, \"title\": \"Year\", \"titlefont\": {\"color\": \"#4D5663\"}, \"zerolinecolor\": \"#E1E5ED\"}, \"yaxis\": {\"gridcolor\": \"#E1E5ED\", \"showgrid\": true, \"tickfont\": {\"color\": \"#4D5663\"}, \"title\": \"Supply in Tons\", \"titlefont\": {\"color\": \"#4D5663\"}, \"zerolinecolor\": \"#E1E5ED\"}}, {\"showLink\": true, \"linkText\": \"Export to plot.ly\", \"plotlyServerURL\": \"https://plot.ly\"})});</script><script type=\"text/javascript\">window.addEventListener(\"resize\", function(){window._Plotly.Plots.resize(document.getElementById(\"9f49d3a2-2ac4-48d7-b541-f8d137e6ed84\"));});</script>"
      ],
      "text/vnd.plotly.v1+html": [
       "<div id=\"9f49d3a2-2ac4-48d7-b541-f8d137e6ed84\" style=\"height: 525px; width: 100%;\" class=\"plotly-graph-div\"></div><script type=\"text/javascript\">require([\"plotly\"], function(Plotly) { window.PLOTLYENV=window.PLOTLYENV || {};window.PLOTLYENV.BASE_URL=\"https://plot.ly\";Plotly.newPlot(\"9f49d3a2-2ac4-48d7-b541-f8d137e6ed84\", [{\"marker\": {\"color\": \"rgba(28, 124, 84, 0.6)\", \"line\": {\"color\": \"rgba(28, 124, 84, 1.0)\", \"width\": 1}}, \"name\": \"Total Supply\", \"orientation\": \"v\", \"text\": \"\", \"x\": [2009, 2010, 2011, 2012, 2013, 2014, 2015, 2016, 2017, 2018], \"y\": [916.1, 1074.8000000000002, 1043.7, 1005.8000000000001, 987.5999999999999, 1052.0, 1051.7, 1025.8, 1032.6000000000001, 1004.2], \"type\": \"bar\", \"uid\": \"492bb472-d851-4c1d-9b30-f3ff6e50d857\"}], {\"legend\": {\"bgcolor\": \"#FFFFFF\", \"font\": {\"color\": \"#4D5663\"}}, \"paper_bgcolor\": \"#FFFFFF\", \"plot_bgcolor\": \"#FFFFFF\", \"title\": \"Total Supply of Silver, Per Year\", \"titlefont\": {\"color\": \"#4D5663\"}, \"xaxis\": {\"gridcolor\": \"#E1E5ED\", \"showgrid\": true, \"tickfont\": {\"color\": \"#4D5663\"}, \"title\": \"Year\", \"titlefont\": {\"color\": \"#4D5663\"}, \"zerolinecolor\": \"#E1E5ED\"}, \"yaxis\": {\"gridcolor\": \"#E1E5ED\", \"showgrid\": true, \"tickfont\": {\"color\": \"#4D5663\"}, \"title\": \"Supply in Tons\", \"titlefont\": {\"color\": \"#4D5663\"}, \"zerolinecolor\": \"#E1E5ED\"}}, {\"showLink\": true, \"linkText\": \"Export to plot.ly\", \"plotlyServerURL\": \"https://plot.ly\"})});</script><script type=\"text/javascript\">window.addEventListener(\"resize\", function(){window._Plotly.Plots.resize(document.getElementById(\"9f49d3a2-2ac4-48d7-b541-f8d137e6ed84\"));});</script>"
      ]
     },
     "metadata": {},
     "output_type": "display_data"
    }
   ],
   "source": [
    "supply[['Total Supply']]\\\n",
    ".iplot(kind='bar', xTitle='Year', color='#1C7C54',\n",
    "                  yTitle='Supply in Tons', \n",
    "       title='Total Supply of Silver, Per Year', width=4)"
   ]
  },
  {
   "cell_type": "code",
   "execution_count": 14,
   "metadata": {},
   "outputs": [
    {
     "data": {
      "application/vnd.plotly.v1+json": {
       "config": {
        "linkText": "Export to plot.ly",
        "plotlyServerURL": "https://plot.ly",
        "showLink": true
       },
       "data": [
        {
         "marker": {
          "color": "rgba(255, 153, 51, 0.6)",
          "line": {
           "color": "rgba(255, 153, 51, 1.0)",
           "width": 1
          }
         },
         "name": "Mine Production",
         "orientation": "v",
         "text": "",
         "type": "bar",
         "uid": "7c3de978-23fe-4845-bd25-7e6ffcea81f3",
         "x": [
          2009,
          2010,
          2011,
          2012,
          2013,
          2014,
          2015,
          2016,
          2017,
          2018
         ],
         "y": [
          717.3,
          753,
          758.3,
          791.7,
          823.3,
          867.8,
          893.7,
          893.4,
          876.9,
          855.7
         ]
        },
        {
         "marker": {
          "color": "rgba(55, 128, 191, 0.6)",
          "line": {
           "color": "rgba(55, 128, 191, 1.0)",
           "width": 1
          }
         },
         "name": "Net Government Sales",
         "orientation": "v",
         "text": "",
         "type": "bar",
         "uid": "d84eed59-5712-42fb-a899-491c1b9682f2",
         "x": [
          2009,
          2010,
          2011,
          2012,
          2013,
          2014,
          2015,
          2016,
          2017,
          2018
         ],
         "y": [
          15.6,
          44.2,
          12,
          7.4,
          7.9,
          0,
          0,
          0,
          0,
          0
         ]
        },
        {
         "marker": {
          "color": "rgba(50, 171, 96, 0.6)",
          "line": {
           "color": "rgba(50, 171, 96, 1.0)",
           "width": 1
          }
         },
         "name": "Scrap",
         "orientation": "v",
         "text": "",
         "type": "bar",
         "uid": "2b65358a-1503-4ae9-be99-966ab9a367d2",
         "x": [
          2009,
          2010,
          2011,
          2012,
          2013,
          2014,
          2015,
          2016,
          2017,
          2018
         ],
         "y": [
          200.6,
          227.2,
          261.2,
          253.8,
          191.2,
          167.4,
          150.2,
          151.8,
          153.8,
          151.3
         ]
        },
        {
         "marker": {
          "color": "rgba(128, 0, 128, 0.6)",
          "line": {
           "color": "rgba(128, 0, 128, 1.0)",
           "width": 1
          }
         },
         "name": "Net Hedging Supply",
         "orientation": "v",
         "text": "",
         "type": "bar",
         "uid": "371d8454-151d-44fd-a097-e3027fa8838f",
         "x": [
          2009,
          2010,
          2011,
          2012,
          2013,
          2014,
          2015,
          2016,
          2017,
          2018
         ],
         "y": [
          -17.4,
          50.4,
          12.2,
          -47.1,
          -34.8,
          16.8,
          7.8,
          -19.4,
          1.9,
          -2.8
         ]
        }
       ],
       "layout": {
        "legend": {
         "bgcolor": "#FFFFFF",
         "font": {
          "color": "#4D5663"
         }
        },
        "paper_bgcolor": "#FFFFFF",
        "plot_bgcolor": "#FFFFFF",
        "title": "Total Supply of Silver, Per Year",
        "titlefont": {
         "color": "#4D5663"
        },
        "xaxis": {
         "gridcolor": "#E1E5ED",
         "showgrid": true,
         "tickfont": {
          "color": "#4D5663"
         },
         "title": "Year",
         "titlefont": {
          "color": "#4D5663"
         },
         "zerolinecolor": "#E1E5ED"
        },
        "yaxis": {
         "gridcolor": "#E1E5ED",
         "showgrid": true,
         "tickfont": {
          "color": "#4D5663"
         },
         "title": "Supply in Tons",
         "titlefont": {
          "color": "#4D5663"
         },
         "zerolinecolor": "#E1E5ED"
        }
       }
      },
      "text/html": [
       "<div id=\"e0e6c3bd-bf6a-417f-8e2c-060a2d25bb93\" style=\"height: 525px; width: 100%;\" class=\"plotly-graph-div\"></div><script type=\"text/javascript\">require([\"plotly\"], function(Plotly) { window.PLOTLYENV=window.PLOTLYENV || {};window.PLOTLYENV.BASE_URL=\"https://plot.ly\";Plotly.newPlot(\"e0e6c3bd-bf6a-417f-8e2c-060a2d25bb93\", [{\"marker\": {\"color\": \"rgba(255, 153, 51, 0.6)\", \"line\": {\"color\": \"rgba(255, 153, 51, 1.0)\", \"width\": 1}}, \"name\": \"Mine Production\", \"orientation\": \"v\", \"text\": \"\", \"x\": [2009, 2010, 2011, 2012, 2013, 2014, 2015, 2016, 2017, 2018], \"y\": [717.3, 753.0, 758.3, 791.7, 823.3, 867.8, 893.7, 893.4, 876.9, 855.7], \"type\": \"bar\", \"uid\": \"dad65f96-9ed0-4a53-a207-caaa0186d34b\"}, {\"marker\": {\"color\": \"rgba(55, 128, 191, 0.6)\", \"line\": {\"color\": \"rgba(55, 128, 191, 1.0)\", \"width\": 1}}, \"name\": \"Net Government Sales\", \"orientation\": \"v\", \"text\": \"\", \"x\": [2009, 2010, 2011, 2012, 2013, 2014, 2015, 2016, 2017, 2018], \"y\": [15.6, 44.2, 12.0, 7.4, 7.9, 0.0, 0.0, 0.0, 0.0, 0.0], \"type\": \"bar\", \"uid\": \"41102dae-3d24-4702-b564-d900d73e628e\"}, {\"marker\": {\"color\": \"rgba(50, 171, 96, 0.6)\", \"line\": {\"color\": \"rgba(50, 171, 96, 1.0)\", \"width\": 1}}, \"name\": \"Scrap\", \"orientation\": \"v\", \"text\": \"\", \"x\": [2009, 2010, 2011, 2012, 2013, 2014, 2015, 2016, 2017, 2018], \"y\": [200.6, 227.2, 261.2, 253.8, 191.2, 167.4, 150.2, 151.8, 153.8, 151.3], \"type\": \"bar\", \"uid\": \"ebe1effd-4fb6-4f77-bfac-a134db0c5086\"}, {\"marker\": {\"color\": \"rgba(128, 0, 128, 0.6)\", \"line\": {\"color\": \"rgba(128, 0, 128, 1.0)\", \"width\": 1}}, \"name\": \"Net Hedging Supply\", \"orientation\": \"v\", \"text\": \"\", \"x\": [2009, 2010, 2011, 2012, 2013, 2014, 2015, 2016, 2017, 2018], \"y\": [-17.4, 50.4, 12.2, -47.1, -34.8, 16.8, 7.8, -19.4, 1.9, -2.8], \"type\": \"bar\", \"uid\": \"74c6aa5c-999d-496f-89cc-43c3ef937117\"}], {\"legend\": {\"bgcolor\": \"#FFFFFF\", \"font\": {\"color\": \"#4D5663\"}}, \"paper_bgcolor\": \"#FFFFFF\", \"plot_bgcolor\": \"#FFFFFF\", \"title\": \"Total Supply of Silver, Per Year\", \"titlefont\": {\"color\": \"#4D5663\"}, \"xaxis\": {\"gridcolor\": \"#E1E5ED\", \"showgrid\": true, \"tickfont\": {\"color\": \"#4D5663\"}, \"title\": \"Year\", \"titlefont\": {\"color\": \"#4D5663\"}, \"zerolinecolor\": \"#E1E5ED\"}, \"yaxis\": {\"gridcolor\": \"#E1E5ED\", \"showgrid\": true, \"tickfont\": {\"color\": \"#4D5663\"}, \"title\": \"Supply in Tons\", \"titlefont\": {\"color\": \"#4D5663\"}, \"zerolinecolor\": \"#E1E5ED\"}}, {\"showLink\": true, \"linkText\": \"Export to plot.ly\", \"plotlyServerURL\": \"https://plot.ly\"})});</script><script type=\"text/javascript\">window.addEventListener(\"resize\", function(){window._Plotly.Plots.resize(document.getElementById(\"e0e6c3bd-bf6a-417f-8e2c-060a2d25bb93\"));});</script>"
      ],
      "text/vnd.plotly.v1+html": [
       "<div id=\"e0e6c3bd-bf6a-417f-8e2c-060a2d25bb93\" style=\"height: 525px; width: 100%;\" class=\"plotly-graph-div\"></div><script type=\"text/javascript\">require([\"plotly\"], function(Plotly) { window.PLOTLYENV=window.PLOTLYENV || {};window.PLOTLYENV.BASE_URL=\"https://plot.ly\";Plotly.newPlot(\"e0e6c3bd-bf6a-417f-8e2c-060a2d25bb93\", [{\"marker\": {\"color\": \"rgba(255, 153, 51, 0.6)\", \"line\": {\"color\": \"rgba(255, 153, 51, 1.0)\", \"width\": 1}}, \"name\": \"Mine Production\", \"orientation\": \"v\", \"text\": \"\", \"x\": [2009, 2010, 2011, 2012, 2013, 2014, 2015, 2016, 2017, 2018], \"y\": [717.3, 753.0, 758.3, 791.7, 823.3, 867.8, 893.7, 893.4, 876.9, 855.7], \"type\": \"bar\", \"uid\": \"dad65f96-9ed0-4a53-a207-caaa0186d34b\"}, {\"marker\": {\"color\": \"rgba(55, 128, 191, 0.6)\", \"line\": {\"color\": \"rgba(55, 128, 191, 1.0)\", \"width\": 1}}, \"name\": \"Net Government Sales\", \"orientation\": \"v\", \"text\": \"\", \"x\": [2009, 2010, 2011, 2012, 2013, 2014, 2015, 2016, 2017, 2018], \"y\": [15.6, 44.2, 12.0, 7.4, 7.9, 0.0, 0.0, 0.0, 0.0, 0.0], \"type\": \"bar\", \"uid\": \"41102dae-3d24-4702-b564-d900d73e628e\"}, {\"marker\": {\"color\": \"rgba(50, 171, 96, 0.6)\", \"line\": {\"color\": \"rgba(50, 171, 96, 1.0)\", \"width\": 1}}, \"name\": \"Scrap\", \"orientation\": \"v\", \"text\": \"\", \"x\": [2009, 2010, 2011, 2012, 2013, 2014, 2015, 2016, 2017, 2018], \"y\": [200.6, 227.2, 261.2, 253.8, 191.2, 167.4, 150.2, 151.8, 153.8, 151.3], \"type\": \"bar\", \"uid\": \"ebe1effd-4fb6-4f77-bfac-a134db0c5086\"}, {\"marker\": {\"color\": \"rgba(128, 0, 128, 0.6)\", \"line\": {\"color\": \"rgba(128, 0, 128, 1.0)\", \"width\": 1}}, \"name\": \"Net Hedging Supply\", \"orientation\": \"v\", \"text\": \"\", \"x\": [2009, 2010, 2011, 2012, 2013, 2014, 2015, 2016, 2017, 2018], \"y\": [-17.4, 50.4, 12.2, -47.1, -34.8, 16.8, 7.8, -19.4, 1.9, -2.8], \"type\": \"bar\", \"uid\": \"74c6aa5c-999d-496f-89cc-43c3ef937117\"}], {\"legend\": {\"bgcolor\": \"#FFFFFF\", \"font\": {\"color\": \"#4D5663\"}}, \"paper_bgcolor\": \"#FFFFFF\", \"plot_bgcolor\": \"#FFFFFF\", \"title\": \"Total Supply of Silver, Per Year\", \"titlefont\": {\"color\": \"#4D5663\"}, \"xaxis\": {\"gridcolor\": \"#E1E5ED\", \"showgrid\": true, \"tickfont\": {\"color\": \"#4D5663\"}, \"title\": \"Year\", \"titlefont\": {\"color\": \"#4D5663\"}, \"zerolinecolor\": \"#E1E5ED\"}, \"yaxis\": {\"gridcolor\": \"#E1E5ED\", \"showgrid\": true, \"tickfont\": {\"color\": \"#4D5663\"}, \"title\": \"Supply in Tons\", \"titlefont\": {\"color\": \"#4D5663\"}, \"zerolinecolor\": \"#E1E5ED\"}}, {\"showLink\": true, \"linkText\": \"Export to plot.ly\", \"plotlyServerURL\": \"https://plot.ly\"})});</script><script type=\"text/javascript\">window.addEventListener(\"resize\", function(){window._Plotly.Plots.resize(document.getElementById(\"e0e6c3bd-bf6a-417f-8e2c-060a2d25bb93\"));});</script>"
      ]
     },
     "metadata": {},
     "output_type": "display_data"
    }
   ],
   "source": [
    "supply[['Mine Production','Net Government Sales','Scrap', 'Net Hedging Supply']]\\\n",
    ".iplot(kind='bar', xTitle='Year', \n",
    "                  yTitle='Supply in Tons', \n",
    "       title='Total Supply of Silver, Per Year', width=4)"
   ]
  },
  {
   "cell_type": "code",
   "execution_count": 15,
   "metadata": {},
   "outputs": [
    {
     "data": {
      "application/vnd.plotly.v1+json": {
       "config": {
        "linkText": "Export to plot.ly",
        "plotlyServerURL": "https://plot.ly",
        "showLink": true
       },
       "data": [
        {
         "line": {
          "color": "rgba(255, 153, 51, 1.0)",
          "dash": "solid",
          "shape": "linear",
          "width": 4
         },
         "mode": "lines",
         "name": "Mine Production",
         "text": "",
         "type": "scatter",
         "uid": "cc9b40a7-5698-4765-83cb-6b8acec15c97",
         "x": [
          2009,
          2010,
          2011,
          2012,
          2013,
          2014,
          2015,
          2016,
          2017,
          2018
         ],
         "y": [
          717.3,
          753,
          758.3,
          791.7,
          823.3,
          867.8,
          893.7,
          893.4,
          876.9,
          855.7
         ]
        },
        {
         "line": {
          "color": "rgba(55, 128, 191, 1.0)",
          "dash": "solid",
          "shape": "linear",
          "width": 4
         },
         "mode": "lines",
         "name": "Net Government Sales",
         "text": "",
         "type": "scatter",
         "uid": "56a8897d-2227-4588-a22f-ad0abfc7166e",
         "x": [
          2009,
          2010,
          2011,
          2012,
          2013,
          2014,
          2015,
          2016,
          2017,
          2018
         ],
         "y": [
          15.6,
          44.2,
          12,
          7.4,
          7.9,
          0,
          0,
          0,
          0,
          0
         ]
        },
        {
         "line": {
          "color": "rgba(50, 171, 96, 1.0)",
          "dash": "solid",
          "shape": "linear",
          "width": 4
         },
         "mode": "lines",
         "name": "Scrap",
         "text": "",
         "type": "scatter",
         "uid": "86defbe1-2b08-4d45-a78a-7a7ca89d90e6",
         "x": [
          2009,
          2010,
          2011,
          2012,
          2013,
          2014,
          2015,
          2016,
          2017,
          2018
         ],
         "y": [
          200.6,
          227.2,
          261.2,
          253.8,
          191.2,
          167.4,
          150.2,
          151.8,
          153.8,
          151.3
         ]
        },
        {
         "line": {
          "color": "rgba(128, 0, 128, 1.0)",
          "dash": "solid",
          "shape": "linear",
          "width": 4
         },
         "mode": "lines",
         "name": "Net Hedging Supply",
         "text": "",
         "type": "scatter",
         "uid": "54f125aa-37b0-4641-8f21-dc6f71322a19",
         "x": [
          2009,
          2010,
          2011,
          2012,
          2013,
          2014,
          2015,
          2016,
          2017,
          2018
         ],
         "y": [
          -17.4,
          50.4,
          12.2,
          -47.1,
          -34.8,
          16.8,
          7.8,
          -19.4,
          1.9,
          -2.8
         ]
        }
       ],
       "layout": {
        "legend": {
         "bgcolor": "#FFFFFF",
         "font": {
          "color": "#4D5663"
         }
        },
        "paper_bgcolor": "#FFFFFF",
        "plot_bgcolor": "#FFFFFF",
        "title": "Total Supply of Silver, Per Year",
        "titlefont": {
         "color": "#4D5663"
        },
        "xaxis": {
         "gridcolor": "#E1E5ED",
         "showgrid": true,
         "tickfont": {
          "color": "#4D5663"
         },
         "title": "Year",
         "titlefont": {
          "color": "#4D5663"
         },
         "zerolinecolor": "#E1E5ED"
        },
        "yaxis": {
         "gridcolor": "#E1E5ED",
         "showgrid": true,
         "tickfont": {
          "color": "#4D5663"
         },
         "title": "Supply in Tons",
         "titlefont": {
          "color": "#4D5663"
         },
         "zerolinecolor": "#E1E5ED"
        }
       }
      },
      "text/html": [
       "<div id=\"6652e231-de04-4c8a-b977-2f48d64f3c6a\" style=\"height: 525px; width: 100%;\" class=\"plotly-graph-div\"></div><script type=\"text/javascript\">require([\"plotly\"], function(Plotly) { window.PLOTLYENV=window.PLOTLYENV || {};window.PLOTLYENV.BASE_URL=\"https://plot.ly\";Plotly.newPlot(\"6652e231-de04-4c8a-b977-2f48d64f3c6a\", [{\"line\": {\"color\": \"rgba(255, 153, 51, 1.0)\", \"dash\": \"solid\", \"shape\": \"linear\", \"width\": 4}, \"mode\": \"lines\", \"name\": \"Mine Production\", \"text\": \"\", \"x\": [2009, 2010, 2011, 2012, 2013, 2014, 2015, 2016, 2017, 2018], \"y\": [717.3, 753.0, 758.3, 791.7, 823.3, 867.8, 893.7, 893.4, 876.9, 855.7], \"type\": \"scatter\", \"uid\": \"4ce630c2-a23f-48df-8536-1aa3c0f2d0c0\"}, {\"line\": {\"color\": \"rgba(55, 128, 191, 1.0)\", \"dash\": \"solid\", \"shape\": \"linear\", \"width\": 4}, \"mode\": \"lines\", \"name\": \"Net Government Sales\", \"text\": \"\", \"x\": [2009, 2010, 2011, 2012, 2013, 2014, 2015, 2016, 2017, 2018], \"y\": [15.6, 44.2, 12.0, 7.4, 7.9, 0.0, 0.0, 0.0, 0.0, 0.0], \"type\": \"scatter\", \"uid\": \"f5d7ef6d-321f-4347-bbb7-e335848533aa\"}, {\"line\": {\"color\": \"rgba(50, 171, 96, 1.0)\", \"dash\": \"solid\", \"shape\": \"linear\", \"width\": 4}, \"mode\": \"lines\", \"name\": \"Scrap\", \"text\": \"\", \"x\": [2009, 2010, 2011, 2012, 2013, 2014, 2015, 2016, 2017, 2018], \"y\": [200.6, 227.2, 261.2, 253.8, 191.2, 167.4, 150.2, 151.8, 153.8, 151.3], \"type\": \"scatter\", \"uid\": \"f0c1c77b-7ed8-4fbb-b144-fd7d81e468e3\"}, {\"line\": {\"color\": \"rgba(128, 0, 128, 1.0)\", \"dash\": \"solid\", \"shape\": \"linear\", \"width\": 4}, \"mode\": \"lines\", \"name\": \"Net Hedging Supply\", \"text\": \"\", \"x\": [2009, 2010, 2011, 2012, 2013, 2014, 2015, 2016, 2017, 2018], \"y\": [-17.4, 50.4, 12.2, -47.1, -34.8, 16.8, 7.8, -19.4, 1.9, -2.8], \"type\": \"scatter\", \"uid\": \"0b670b90-3ba5-4679-9814-7ce00c172315\"}], {\"legend\": {\"bgcolor\": \"#FFFFFF\", \"font\": {\"color\": \"#4D5663\"}}, \"paper_bgcolor\": \"#FFFFFF\", \"plot_bgcolor\": \"#FFFFFF\", \"title\": \"Total Supply of Silver, Per Year\", \"titlefont\": {\"color\": \"#4D5663\"}, \"xaxis\": {\"gridcolor\": \"#E1E5ED\", \"showgrid\": true, \"tickfont\": {\"color\": \"#4D5663\"}, \"title\": \"Year\", \"titlefont\": {\"color\": \"#4D5663\"}, \"zerolinecolor\": \"#E1E5ED\"}, \"yaxis\": {\"gridcolor\": \"#E1E5ED\", \"showgrid\": true, \"tickfont\": {\"color\": \"#4D5663\"}, \"title\": \"Supply in Tons\", \"titlefont\": {\"color\": \"#4D5663\"}, \"zerolinecolor\": \"#E1E5ED\"}}, {\"showLink\": true, \"linkText\": \"Export to plot.ly\", \"plotlyServerURL\": \"https://plot.ly\"})});</script><script type=\"text/javascript\">window.addEventListener(\"resize\", function(){window._Plotly.Plots.resize(document.getElementById(\"6652e231-de04-4c8a-b977-2f48d64f3c6a\"));});</script>"
      ],
      "text/vnd.plotly.v1+html": [
       "<div id=\"6652e231-de04-4c8a-b977-2f48d64f3c6a\" style=\"height: 525px; width: 100%;\" class=\"plotly-graph-div\"></div><script type=\"text/javascript\">require([\"plotly\"], function(Plotly) { window.PLOTLYENV=window.PLOTLYENV || {};window.PLOTLYENV.BASE_URL=\"https://plot.ly\";Plotly.newPlot(\"6652e231-de04-4c8a-b977-2f48d64f3c6a\", [{\"line\": {\"color\": \"rgba(255, 153, 51, 1.0)\", \"dash\": \"solid\", \"shape\": \"linear\", \"width\": 4}, \"mode\": \"lines\", \"name\": \"Mine Production\", \"text\": \"\", \"x\": [2009, 2010, 2011, 2012, 2013, 2014, 2015, 2016, 2017, 2018], \"y\": [717.3, 753.0, 758.3, 791.7, 823.3, 867.8, 893.7, 893.4, 876.9, 855.7], \"type\": \"scatter\", \"uid\": \"4ce630c2-a23f-48df-8536-1aa3c0f2d0c0\"}, {\"line\": {\"color\": \"rgba(55, 128, 191, 1.0)\", \"dash\": \"solid\", \"shape\": \"linear\", \"width\": 4}, \"mode\": \"lines\", \"name\": \"Net Government Sales\", \"text\": \"\", \"x\": [2009, 2010, 2011, 2012, 2013, 2014, 2015, 2016, 2017, 2018], \"y\": [15.6, 44.2, 12.0, 7.4, 7.9, 0.0, 0.0, 0.0, 0.0, 0.0], \"type\": \"scatter\", \"uid\": \"f5d7ef6d-321f-4347-bbb7-e335848533aa\"}, {\"line\": {\"color\": \"rgba(50, 171, 96, 1.0)\", \"dash\": \"solid\", \"shape\": \"linear\", \"width\": 4}, \"mode\": \"lines\", \"name\": \"Scrap\", \"text\": \"\", \"x\": [2009, 2010, 2011, 2012, 2013, 2014, 2015, 2016, 2017, 2018], \"y\": [200.6, 227.2, 261.2, 253.8, 191.2, 167.4, 150.2, 151.8, 153.8, 151.3], \"type\": \"scatter\", \"uid\": \"f0c1c77b-7ed8-4fbb-b144-fd7d81e468e3\"}, {\"line\": {\"color\": \"rgba(128, 0, 128, 1.0)\", \"dash\": \"solid\", \"shape\": \"linear\", \"width\": 4}, \"mode\": \"lines\", \"name\": \"Net Hedging Supply\", \"text\": \"\", \"x\": [2009, 2010, 2011, 2012, 2013, 2014, 2015, 2016, 2017, 2018], \"y\": [-17.4, 50.4, 12.2, -47.1, -34.8, 16.8, 7.8, -19.4, 1.9, -2.8], \"type\": \"scatter\", \"uid\": \"0b670b90-3ba5-4679-9814-7ce00c172315\"}], {\"legend\": {\"bgcolor\": \"#FFFFFF\", \"font\": {\"color\": \"#4D5663\"}}, \"paper_bgcolor\": \"#FFFFFF\", \"plot_bgcolor\": \"#FFFFFF\", \"title\": \"Total Supply of Silver, Per Year\", \"titlefont\": {\"color\": \"#4D5663\"}, \"xaxis\": {\"gridcolor\": \"#E1E5ED\", \"showgrid\": true, \"tickfont\": {\"color\": \"#4D5663\"}, \"title\": \"Year\", \"titlefont\": {\"color\": \"#4D5663\"}, \"zerolinecolor\": \"#E1E5ED\"}, \"yaxis\": {\"gridcolor\": \"#E1E5ED\", \"showgrid\": true, \"tickfont\": {\"color\": \"#4D5663\"}, \"title\": \"Supply in Tons\", \"titlefont\": {\"color\": \"#4D5663\"}, \"zerolinecolor\": \"#E1E5ED\"}}, {\"showLink\": true, \"linkText\": \"Export to plot.ly\", \"plotlyServerURL\": \"https://plot.ly\"})});</script><script type=\"text/javascript\">window.addEventListener(\"resize\", function(){window._Plotly.Plots.resize(document.getElementById(\"6652e231-de04-4c8a-b977-2f48d64f3c6a\"));});</script>"
      ]
     },
     "metadata": {},
     "output_type": "display_data"
    }
   ],
   "source": [
    "supply[['Mine Production','Net Government Sales','Scrap', 'Net Hedging Supply']]\\\n",
    ".iplot(kind='line', xTitle='Year', \n",
    "                  yTitle='Supply in Tons', \n",
    "       title='Total Supply of Silver, Per Year', width=4)"
   ]
  },
  {
   "cell_type": "code",
   "execution_count": null,
   "metadata": {},
   "outputs": [],
   "source": []
  },
  {
   "cell_type": "markdown",
   "metadata": {},
   "source": [
    "## Demand"
   ]
  },
  {
   "cell_type": "code",
   "execution_count": 16,
   "metadata": {},
   "outputs": [],
   "source": [
    "demand = pd.read_excel('../data/silver_institute_supply_and_demand.xlsx', 'Demand')\n",
    "demand.set_index('Year', inplace=True)\n",
    "demand.fillna(0, inplace=True)"
   ]
  },
  {
   "cell_type": "code",
   "execution_count": 17,
   "metadata": {},
   "outputs": [
    {
     "data": {
      "text/html": [
       "<div>\n",
       "<style scoped>\n",
       "    .dataframe tbody tr th:only-of-type {\n",
       "        vertical-align: middle;\n",
       "    }\n",
       "\n",
       "    .dataframe tbody tr th {\n",
       "        vertical-align: top;\n",
       "    }\n",
       "\n",
       "    .dataframe thead th {\n",
       "        text-align: right;\n",
       "    }\n",
       "</style>\n",
       "<table border=\"1\" class=\"dataframe\">\n",
       "  <thead>\n",
       "    <tr style=\"text-align: right;\">\n",
       "      <th></th>\n",
       "      <th>Jewelry</th>\n",
       "      <th>Coins &amp; Bars</th>\n",
       "      <th>Silverware</th>\n",
       "      <th>Industrial Fabrication</th>\n",
       "      <th>…of which Electrical &amp; Electronics</th>\n",
       "      <th>…of which Brazing Alloys &amp; Solders</th>\n",
       "      <th>…of which Photography</th>\n",
       "      <th>…of which Photovoltaic*</th>\n",
       "      <th>…of which Ethylene Oxide</th>\n",
       "      <th>…of which Other Industrial*</th>\n",
       "      <th>Total Physical Demand</th>\n",
       "    </tr>\n",
       "    <tr>\n",
       "      <th>Year</th>\n",
       "      <th></th>\n",
       "      <th></th>\n",
       "      <th></th>\n",
       "      <th></th>\n",
       "      <th></th>\n",
       "      <th></th>\n",
       "      <th></th>\n",
       "      <th></th>\n",
       "      <th></th>\n",
       "      <th></th>\n",
       "      <th></th>\n",
       "    </tr>\n",
       "  </thead>\n",
       "  <tbody>\n",
       "    <tr>\n",
       "      <th>2009</th>\n",
       "      <td>176.9</td>\n",
       "      <td>79.6</td>\n",
       "      <td>53.2</td>\n",
       "      <td>528.2</td>\n",
       "      <td>227.4</td>\n",
       "      <td>53.8</td>\n",
       "      <td>76.4</td>\n",
       "      <td>0.0</td>\n",
       "      <td>4.8</td>\n",
       "      <td>165.8</td>\n",
       "      <td>837.9</td>\n",
       "    </tr>\n",
       "    <tr>\n",
       "      <th>2010</th>\n",
       "      <td>190.0</td>\n",
       "      <td>174.1</td>\n",
       "      <td>51.9</td>\n",
       "      <td>633.8</td>\n",
       "      <td>301.2</td>\n",
       "      <td>61.2</td>\n",
       "      <td>67.5</td>\n",
       "      <td>0.0</td>\n",
       "      <td>8.7</td>\n",
       "      <td>195.2</td>\n",
       "      <td>1049.8</td>\n",
       "    </tr>\n",
       "    <tr>\n",
       "      <th>2011</th>\n",
       "      <td>191.5</td>\n",
       "      <td>211.7</td>\n",
       "      <td>47.5</td>\n",
       "      <td>653.0</td>\n",
       "      <td>290.8</td>\n",
       "      <td>63.2</td>\n",
       "      <td>61.2</td>\n",
       "      <td>67.4</td>\n",
       "      <td>6.2</td>\n",
       "      <td>164.2</td>\n",
       "      <td>1103.7</td>\n",
       "    </tr>\n",
       "    <tr>\n",
       "      <th>2012</th>\n",
       "      <td>186.7</td>\n",
       "      <td>161.2</td>\n",
       "      <td>43.8</td>\n",
       "      <td>600.1</td>\n",
       "      <td>266.7</td>\n",
       "      <td>61.1</td>\n",
       "      <td>54.2</td>\n",
       "      <td>64.4</td>\n",
       "      <td>4.7</td>\n",
       "      <td>148.9</td>\n",
       "      <td>991.8</td>\n",
       "    </tr>\n",
       "    <tr>\n",
       "      <th>2013</th>\n",
       "      <td>219.7</td>\n",
       "      <td>240.7</td>\n",
       "      <td>59.3</td>\n",
       "      <td>604.6</td>\n",
       "      <td>266.0</td>\n",
       "      <td>63.7</td>\n",
       "      <td>50.5</td>\n",
       "      <td>54.8</td>\n",
       "      <td>7.7</td>\n",
       "      <td>162.0</td>\n",
       "      <td>1124.3</td>\n",
       "    </tr>\n",
       "  </tbody>\n",
       "</table>\n",
       "</div>"
      ],
      "text/plain": [
       "      Jewelry  Coins & Bars  Silverware  Industrial Fabrication  \\\n",
       "Year                                                              \n",
       "2009    176.9          79.6        53.2                   528.2   \n",
       "2010    190.0         174.1        51.9                   633.8   \n",
       "2011    191.5         211.7        47.5                   653.0   \n",
       "2012    186.7         161.2        43.8                   600.1   \n",
       "2013    219.7         240.7        59.3                   604.6   \n",
       "\n",
       "      …of which Electrical & Electronics  …of which Brazing Alloys & Solders  \\\n",
       "Year                                                                           \n",
       "2009                               227.4                                53.8   \n",
       "2010                               301.2                                61.2   \n",
       "2011                               290.8                                63.2   \n",
       "2012                               266.7                                61.1   \n",
       "2013                               266.0                                63.7   \n",
       "\n",
       "      …of which Photography  …of which Photovoltaic*  \\\n",
       "Year                                                   \n",
       "2009                   76.4                      0.0   \n",
       "2010                   67.5                      0.0   \n",
       "2011                   61.2                     67.4   \n",
       "2012                   54.2                     64.4   \n",
       "2013                   50.5                     54.8   \n",
       "\n",
       "      …of which Ethylene Oxide  …of which Other Industrial*  \\\n",
       "Year                                                          \n",
       "2009                       4.8                        165.8   \n",
       "2010                       8.7                        195.2   \n",
       "2011                       6.2                        164.2   \n",
       "2012                       4.7                        148.9   \n",
       "2013                       7.7                        162.0   \n",
       "\n",
       "      Total Physical Demand  \n",
       "Year                         \n",
       "2009                  837.9  \n",
       "2010                 1049.8  \n",
       "2011                 1103.7  \n",
       "2012                  991.8  \n",
       "2013                 1124.3  "
      ]
     },
     "execution_count": 17,
     "metadata": {},
     "output_type": "execute_result"
    }
   ],
   "source": [
    "demand.head()"
   ]
  },
  {
   "cell_type": "code",
   "execution_count": 18,
   "metadata": {},
   "outputs": [
    {
     "data": {
      "application/vnd.plotly.v1+json": {
       "config": {
        "linkText": "Export to plot.ly",
        "plotlyServerURL": "https://plot.ly",
        "showLink": true
       },
       "data": [
        {
         "marker": {
          "color": "rgba(19, 154, 67, 0.6)",
          "line": {
           "color": "rgba(19, 154, 67, 1.0)",
           "width": 1
          }
         },
         "name": "Total Physical Demand",
         "orientation": "v",
         "text": "",
         "type": "bar",
         "uid": "d8725e97-6fd0-4ef6-a9ab-cb8d6389444e",
         "x": [
          2009,
          2010,
          2011,
          2012,
          2013,
          2014,
          2015,
          2016,
          2017,
          2018
         ],
         "y": [
          837.9000000000001,
          1049.8,
          1103.7,
          991.8,
          1124.3,
          1118.4,
          1162.7000000000003,
          1030.1999999999998,
          998.3,
          1033.4
         ]
        }
       ],
       "layout": {
        "legend": {
         "bgcolor": "#FFFFFF",
         "font": {
          "color": "#4D5663"
         }
        },
        "paper_bgcolor": "#FFFFFF",
        "plot_bgcolor": "#FFFFFF",
        "title": "Total Demand for Silver, Per Year",
        "titlefont": {
         "color": "#4D5663"
        },
        "xaxis": {
         "gridcolor": "#E1E5ED",
         "showgrid": true,
         "tickfont": {
          "color": "#4D5663"
         },
         "title": "Year",
         "titlefont": {
          "color": "#4D5663"
         },
         "zerolinecolor": "#E1E5ED"
        },
        "yaxis": {
         "gridcolor": "#E1E5ED",
         "showgrid": true,
         "tickfont": {
          "color": "#4D5663"
         },
         "title": "Demand (million ounces)",
         "titlefont": {
          "color": "#4D5663"
         },
         "zerolinecolor": "#E1E5ED"
        }
       }
      },
      "text/html": [
       "<div id=\"cc829019-9595-4ed2-878e-47e53b1cf239\" style=\"height: 525px; width: 100%;\" class=\"plotly-graph-div\"></div><script type=\"text/javascript\">require([\"plotly\"], function(Plotly) { window.PLOTLYENV=window.PLOTLYENV || {};window.PLOTLYENV.BASE_URL=\"https://plot.ly\";Plotly.newPlot(\"cc829019-9595-4ed2-878e-47e53b1cf239\", [{\"marker\": {\"color\": \"rgba(19, 154, 67, 0.6)\", \"line\": {\"color\": \"rgba(19, 154, 67, 1.0)\", \"width\": 1}}, \"name\": \"Total Physical Demand\", \"orientation\": \"v\", \"text\": \"\", \"x\": [2009, 2010, 2011, 2012, 2013, 2014, 2015, 2016, 2017, 2018], \"y\": [837.9000000000001, 1049.8, 1103.7, 991.8, 1124.3, 1118.4, 1162.7000000000003, 1030.1999999999998, 998.3, 1033.4], \"type\": \"bar\", \"uid\": \"ae6f8862-6ebb-48d2-841a-30c8bdf21276\"}], {\"legend\": {\"bgcolor\": \"#FFFFFF\", \"font\": {\"color\": \"#4D5663\"}}, \"paper_bgcolor\": \"#FFFFFF\", \"plot_bgcolor\": \"#FFFFFF\", \"title\": \"Total Demand for Silver, Per Year\", \"titlefont\": {\"color\": \"#4D5663\"}, \"xaxis\": {\"gridcolor\": \"#E1E5ED\", \"showgrid\": true, \"tickfont\": {\"color\": \"#4D5663\"}, \"title\": \"Year\", \"titlefont\": {\"color\": \"#4D5663\"}, \"zerolinecolor\": \"#E1E5ED\"}, \"yaxis\": {\"gridcolor\": \"#E1E5ED\", \"showgrid\": true, \"tickfont\": {\"color\": \"#4D5663\"}, \"title\": \"Demand (million ounces)\", \"titlefont\": {\"color\": \"#4D5663\"}, \"zerolinecolor\": \"#E1E5ED\"}}, {\"showLink\": true, \"linkText\": \"Export to plot.ly\", \"plotlyServerURL\": \"https://plot.ly\"})});</script><script type=\"text/javascript\">window.addEventListener(\"resize\", function(){window._Plotly.Plots.resize(document.getElementById(\"cc829019-9595-4ed2-878e-47e53b1cf239\"));});</script>"
      ],
      "text/vnd.plotly.v1+html": [
       "<div id=\"cc829019-9595-4ed2-878e-47e53b1cf239\" style=\"height: 525px; width: 100%;\" class=\"plotly-graph-div\"></div><script type=\"text/javascript\">require([\"plotly\"], function(Plotly) { window.PLOTLYENV=window.PLOTLYENV || {};window.PLOTLYENV.BASE_URL=\"https://plot.ly\";Plotly.newPlot(\"cc829019-9595-4ed2-878e-47e53b1cf239\", [{\"marker\": {\"color\": \"rgba(19, 154, 67, 0.6)\", \"line\": {\"color\": \"rgba(19, 154, 67, 1.0)\", \"width\": 1}}, \"name\": \"Total Physical Demand\", \"orientation\": \"v\", \"text\": \"\", \"x\": [2009, 2010, 2011, 2012, 2013, 2014, 2015, 2016, 2017, 2018], \"y\": [837.9000000000001, 1049.8, 1103.7, 991.8, 1124.3, 1118.4, 1162.7000000000003, 1030.1999999999998, 998.3, 1033.4], \"type\": \"bar\", \"uid\": \"ae6f8862-6ebb-48d2-841a-30c8bdf21276\"}], {\"legend\": {\"bgcolor\": \"#FFFFFF\", \"font\": {\"color\": \"#4D5663\"}}, \"paper_bgcolor\": \"#FFFFFF\", \"plot_bgcolor\": \"#FFFFFF\", \"title\": \"Total Demand for Silver, Per Year\", \"titlefont\": {\"color\": \"#4D5663\"}, \"xaxis\": {\"gridcolor\": \"#E1E5ED\", \"showgrid\": true, \"tickfont\": {\"color\": \"#4D5663\"}, \"title\": \"Year\", \"titlefont\": {\"color\": \"#4D5663\"}, \"zerolinecolor\": \"#E1E5ED\"}, \"yaxis\": {\"gridcolor\": \"#E1E5ED\", \"showgrid\": true, \"tickfont\": {\"color\": \"#4D5663\"}, \"title\": \"Demand (million ounces)\", \"titlefont\": {\"color\": \"#4D5663\"}, \"zerolinecolor\": \"#E1E5ED\"}}, {\"showLink\": true, \"linkText\": \"Export to plot.ly\", \"plotlyServerURL\": \"https://plot.ly\"})});</script><script type=\"text/javascript\">window.addEventListener(\"resize\", function(){window._Plotly.Plots.resize(document.getElementById(\"cc829019-9595-4ed2-878e-47e53b1cf239\"));});</script>"
      ]
     },
     "metadata": {},
     "output_type": "display_data"
    }
   ],
   "source": [
    "demand[['Total Physical Demand']]\\\n",
    ".iplot(kind='bar', xTitle='Year',  color='#139A43',\n",
    "                  yTitle='Demand (million ounces)', \n",
    "       title='Total Demand for Silver, Per Year', width=4)"
   ]
  },
  {
   "cell_type": "code",
   "execution_count": 19,
   "metadata": {},
   "outputs": [
    {
     "data": {
      "application/vnd.plotly.v1+json": {
       "config": {
        "linkText": "Export to plot.ly",
        "plotlyServerURL": "https://plot.ly",
        "showLink": true
       },
       "data": [
        {
         "line": {
          "color": "rgba(255, 153, 51, 1.0)",
          "dash": "solid",
          "shape": "linear",
          "width": 4
         },
         "mode": "lines",
         "name": "Mine Production",
         "text": "",
         "type": "scatter",
         "uid": "bae03318-7e86-4f36-b7ff-1a85a85c2bf1",
         "x": [
          2009,
          2010,
          2011,
          2012,
          2013,
          2014,
          2015,
          2016,
          2017,
          2018
         ],
         "y": [
          717.3,
          753,
          758.3,
          791.7,
          823.3,
          867.8,
          893.7,
          893.4,
          876.9,
          855.7
         ]
        },
        {
         "line": {
          "color": "rgba(55, 128, 191, 1.0)",
          "dash": "solid",
          "shape": "linear",
          "width": 4
         },
         "mode": "lines",
         "name": "Net Government Sales",
         "text": "",
         "type": "scatter",
         "uid": "330cd648-9d80-429e-b67c-aa196f44755a",
         "x": [
          2009,
          2010,
          2011,
          2012,
          2013,
          2014,
          2015,
          2016,
          2017,
          2018
         ],
         "y": [
          15.6,
          44.2,
          12,
          7.4,
          7.9,
          0,
          0,
          0,
          0,
          0
         ]
        },
        {
         "line": {
          "color": "rgba(50, 171, 96, 1.0)",
          "dash": "solid",
          "shape": "linear",
          "width": 4
         },
         "mode": "lines",
         "name": "Scrap",
         "text": "",
         "type": "scatter",
         "uid": "541e41ef-2d44-46ee-ab76-1ed479527640",
         "x": [
          2009,
          2010,
          2011,
          2012,
          2013,
          2014,
          2015,
          2016,
          2017,
          2018
         ],
         "y": [
          200.6,
          227.2,
          261.2,
          253.8,
          191.2,
          167.4,
          150.2,
          151.8,
          153.8,
          151.3
         ]
        },
        {
         "line": {
          "color": "rgba(128, 0, 128, 1.0)",
          "dash": "solid",
          "shape": "linear",
          "width": 4
         },
         "mode": "lines",
         "name": "Net Hedging Supply",
         "text": "",
         "type": "scatter",
         "uid": "65219fd8-e704-43af-8aef-587901ec4df3",
         "x": [
          2009,
          2010,
          2011,
          2012,
          2013,
          2014,
          2015,
          2016,
          2017,
          2018
         ],
         "y": [
          -17.4,
          50.4,
          12.2,
          -47.1,
          -34.8,
          16.8,
          7.8,
          -19.4,
          1.9,
          -2.8
         ]
        }
       ],
       "layout": {
        "legend": {
         "bgcolor": "#FFFFFF",
         "font": {
          "color": "#4D5663"
         }
        },
        "paper_bgcolor": "#FFFFFF",
        "plot_bgcolor": "#FFFFFF",
        "title": "Total Supply of Silver, Per Year",
        "titlefont": {
         "color": "#4D5663"
        },
        "xaxis": {
         "gridcolor": "#E1E5ED",
         "showgrid": true,
         "tickfont": {
          "color": "#4D5663"
         },
         "title": "Year",
         "titlefont": {
          "color": "#4D5663"
         },
         "zerolinecolor": "#E1E5ED"
        },
        "yaxis": {
         "gridcolor": "#E1E5ED",
         "showgrid": true,
         "tickfont": {
          "color": "#4D5663"
         },
         "title": "Supply in Tons",
         "titlefont": {
          "color": "#4D5663"
         },
         "zerolinecolor": "#E1E5ED"
        }
       }
      },
      "text/html": [
       "<div id=\"0220cd7b-aa74-4669-a845-d0131176ae66\" style=\"height: 525px; width: 100%;\" class=\"plotly-graph-div\"></div><script type=\"text/javascript\">require([\"plotly\"], function(Plotly) { window.PLOTLYENV=window.PLOTLYENV || {};window.PLOTLYENV.BASE_URL=\"https://plot.ly\";Plotly.newPlot(\"0220cd7b-aa74-4669-a845-d0131176ae66\", [{\"line\": {\"color\": \"rgba(255, 153, 51, 1.0)\", \"dash\": \"solid\", \"shape\": \"linear\", \"width\": 4}, \"mode\": \"lines\", \"name\": \"Mine Production\", \"text\": \"\", \"x\": [2009, 2010, 2011, 2012, 2013, 2014, 2015, 2016, 2017, 2018], \"y\": [717.3, 753.0, 758.3, 791.7, 823.3, 867.8, 893.7, 893.4, 876.9, 855.7], \"type\": \"scatter\", \"uid\": \"5a6078cf-9d5f-450a-ac58-1044d2fbc8e0\"}, {\"line\": {\"color\": \"rgba(55, 128, 191, 1.0)\", \"dash\": \"solid\", \"shape\": \"linear\", \"width\": 4}, \"mode\": \"lines\", \"name\": \"Net Government Sales\", \"text\": \"\", \"x\": [2009, 2010, 2011, 2012, 2013, 2014, 2015, 2016, 2017, 2018], \"y\": [15.6, 44.2, 12.0, 7.4, 7.9, 0.0, 0.0, 0.0, 0.0, 0.0], \"type\": \"scatter\", \"uid\": \"7bfdc3af-5f7e-4103-b989-9694287fd7fb\"}, {\"line\": {\"color\": \"rgba(50, 171, 96, 1.0)\", \"dash\": \"solid\", \"shape\": \"linear\", \"width\": 4}, \"mode\": \"lines\", \"name\": \"Scrap\", \"text\": \"\", \"x\": [2009, 2010, 2011, 2012, 2013, 2014, 2015, 2016, 2017, 2018], \"y\": [200.6, 227.2, 261.2, 253.8, 191.2, 167.4, 150.2, 151.8, 153.8, 151.3], \"type\": \"scatter\", \"uid\": \"07fc2221-a90a-4d79-85c6-472666060923\"}, {\"line\": {\"color\": \"rgba(128, 0, 128, 1.0)\", \"dash\": \"solid\", \"shape\": \"linear\", \"width\": 4}, \"mode\": \"lines\", \"name\": \"Net Hedging Supply\", \"text\": \"\", \"x\": [2009, 2010, 2011, 2012, 2013, 2014, 2015, 2016, 2017, 2018], \"y\": [-17.4, 50.4, 12.2, -47.1, -34.8, 16.8, 7.8, -19.4, 1.9, -2.8], \"type\": \"scatter\", \"uid\": \"b3a31c80-d9b6-42d8-93fc-1ce5e40513f3\"}], {\"legend\": {\"bgcolor\": \"#FFFFFF\", \"font\": {\"color\": \"#4D5663\"}}, \"paper_bgcolor\": \"#FFFFFF\", \"plot_bgcolor\": \"#FFFFFF\", \"title\": \"Total Supply of Silver, Per Year\", \"titlefont\": {\"color\": \"#4D5663\"}, \"xaxis\": {\"gridcolor\": \"#E1E5ED\", \"showgrid\": true, \"tickfont\": {\"color\": \"#4D5663\"}, \"title\": \"Year\", \"titlefont\": {\"color\": \"#4D5663\"}, \"zerolinecolor\": \"#E1E5ED\"}, \"yaxis\": {\"gridcolor\": \"#E1E5ED\", \"showgrid\": true, \"tickfont\": {\"color\": \"#4D5663\"}, \"title\": \"Supply in Tons\", \"titlefont\": {\"color\": \"#4D5663\"}, \"zerolinecolor\": \"#E1E5ED\"}}, {\"showLink\": true, \"linkText\": \"Export to plot.ly\", \"plotlyServerURL\": \"https://plot.ly\"})});</script><script type=\"text/javascript\">window.addEventListener(\"resize\", function(){window._Plotly.Plots.resize(document.getElementById(\"0220cd7b-aa74-4669-a845-d0131176ae66\"));});</script>"
      ],
      "text/vnd.plotly.v1+html": [
       "<div id=\"0220cd7b-aa74-4669-a845-d0131176ae66\" style=\"height: 525px; width: 100%;\" class=\"plotly-graph-div\"></div><script type=\"text/javascript\">require([\"plotly\"], function(Plotly) { window.PLOTLYENV=window.PLOTLYENV || {};window.PLOTLYENV.BASE_URL=\"https://plot.ly\";Plotly.newPlot(\"0220cd7b-aa74-4669-a845-d0131176ae66\", [{\"line\": {\"color\": \"rgba(255, 153, 51, 1.0)\", \"dash\": \"solid\", \"shape\": \"linear\", \"width\": 4}, \"mode\": \"lines\", \"name\": \"Mine Production\", \"text\": \"\", \"x\": [2009, 2010, 2011, 2012, 2013, 2014, 2015, 2016, 2017, 2018], \"y\": [717.3, 753.0, 758.3, 791.7, 823.3, 867.8, 893.7, 893.4, 876.9, 855.7], \"type\": \"scatter\", \"uid\": \"5a6078cf-9d5f-450a-ac58-1044d2fbc8e0\"}, {\"line\": {\"color\": \"rgba(55, 128, 191, 1.0)\", \"dash\": \"solid\", \"shape\": \"linear\", \"width\": 4}, \"mode\": \"lines\", \"name\": \"Net Government Sales\", \"text\": \"\", \"x\": [2009, 2010, 2011, 2012, 2013, 2014, 2015, 2016, 2017, 2018], \"y\": [15.6, 44.2, 12.0, 7.4, 7.9, 0.0, 0.0, 0.0, 0.0, 0.0], \"type\": \"scatter\", \"uid\": \"7bfdc3af-5f7e-4103-b989-9694287fd7fb\"}, {\"line\": {\"color\": \"rgba(50, 171, 96, 1.0)\", \"dash\": \"solid\", \"shape\": \"linear\", \"width\": 4}, \"mode\": \"lines\", \"name\": \"Scrap\", \"text\": \"\", \"x\": [2009, 2010, 2011, 2012, 2013, 2014, 2015, 2016, 2017, 2018], \"y\": [200.6, 227.2, 261.2, 253.8, 191.2, 167.4, 150.2, 151.8, 153.8, 151.3], \"type\": \"scatter\", \"uid\": \"07fc2221-a90a-4d79-85c6-472666060923\"}, {\"line\": {\"color\": \"rgba(128, 0, 128, 1.0)\", \"dash\": \"solid\", \"shape\": \"linear\", \"width\": 4}, \"mode\": \"lines\", \"name\": \"Net Hedging Supply\", \"text\": \"\", \"x\": [2009, 2010, 2011, 2012, 2013, 2014, 2015, 2016, 2017, 2018], \"y\": [-17.4, 50.4, 12.2, -47.1, -34.8, 16.8, 7.8, -19.4, 1.9, -2.8], \"type\": \"scatter\", \"uid\": \"b3a31c80-d9b6-42d8-93fc-1ce5e40513f3\"}], {\"legend\": {\"bgcolor\": \"#FFFFFF\", \"font\": {\"color\": \"#4D5663\"}}, \"paper_bgcolor\": \"#FFFFFF\", \"plot_bgcolor\": \"#FFFFFF\", \"title\": \"Total Supply of Silver, Per Year\", \"titlefont\": {\"color\": \"#4D5663\"}, \"xaxis\": {\"gridcolor\": \"#E1E5ED\", \"showgrid\": true, \"tickfont\": {\"color\": \"#4D5663\"}, \"title\": \"Year\", \"titlefont\": {\"color\": \"#4D5663\"}, \"zerolinecolor\": \"#E1E5ED\"}, \"yaxis\": {\"gridcolor\": \"#E1E5ED\", \"showgrid\": true, \"tickfont\": {\"color\": \"#4D5663\"}, \"title\": \"Supply in Tons\", \"titlefont\": {\"color\": \"#4D5663\"}, \"zerolinecolor\": \"#E1E5ED\"}}, {\"showLink\": true, \"linkText\": \"Export to plot.ly\", \"plotlyServerURL\": \"https://plot.ly\"})});</script><script type=\"text/javascript\">window.addEventListener(\"resize\", function(){window._Plotly.Plots.resize(document.getElementById(\"0220cd7b-aa74-4669-a845-d0131176ae66\"));});</script>"
      ]
     },
     "metadata": {},
     "output_type": "display_data"
    }
   ],
   "source": [
    "supply[['Mine Production','Net Government Sales','Scrap', 'Net Hedging Supply']]\\\n",
    ".iplot(kind='line', xTitle='Year', \n",
    "                  yTitle='Supply in Tons', \n",
    "       title='Total Supply of Silver, Per Year', width=4)"
   ]
  },
  {
   "cell_type": "code",
   "execution_count": 20,
   "metadata": {},
   "outputs": [
    {
     "data": {
      "application/vnd.plotly.v1+json": {
       "config": {
        "linkText": "Export to plot.ly",
        "plotlyServerURL": "https://plot.ly",
        "showLink": true
       },
       "data": [
        {
         "marker": {
          "color": "rgba(255, 153, 51, 0.6)",
          "line": {
           "color": "rgba(255, 153, 51, 1.0)",
           "width": 1
          }
         },
         "name": "Jewelry",
         "orientation": "v",
         "text": "",
         "type": "bar",
         "uid": "b6406d7f-2498-4a95-8d96-4d07032fed3a",
         "x": [
          2009,
          2010,
          2011,
          2012,
          2013,
          2014,
          2015,
          2016,
          2017,
          2018
         ],
         "y": [
          176.9,
          190,
          191.5,
          186.7,
          219.7,
          227.3,
          223.3,
          202.7,
          204.5,
          212.5
         ]
        },
        {
         "marker": {
          "color": "rgba(55, 128, 191, 0.6)",
          "line": {
           "color": "rgba(55, 128, 191, 1.0)",
           "width": 1
          }
         },
         "name": "Coins & Bars",
         "orientation": "v",
         "text": "",
         "type": "bar",
         "uid": "1b90d82e-eedf-4e3d-811c-25ebeabc05d2",
         "x": [
          2009,
          2010,
          2011,
          2012,
          2013,
          2014,
          2015,
          2016,
          2017,
          2018
         ],
         "y": [
          79.6,
          174.1,
          211.7,
          161.2,
          240.7,
          233.6,
          293.6,
          208.7,
          150.4,
          181.2
         ]
        },
        {
         "marker": {
          "color": "rgba(50, 171, 96, 0.6)",
          "line": {
           "color": "rgba(50, 171, 96, 1.0)",
           "width": 1
          }
         },
         "name": "Silverware",
         "orientation": "v",
         "text": "",
         "type": "bar",
         "uid": "3a5b6a78-d50b-42c1-84db-ae139bd8b80a",
         "x": [
          2009,
          2010,
          2011,
          2012,
          2013,
          2014,
          2015,
          2016,
          2017,
          2018
         ],
         "y": [
          53.2,
          51.9,
          47.5,
          43.8,
          59.3,
          61.2,
          63.2,
          52.4,
          57.6,
          61.1
         ]
        },
        {
         "marker": {
          "color": "rgba(128, 0, 128, 0.6)",
          "line": {
           "color": "rgba(128, 0, 128, 1.0)",
           "width": 1
          }
         },
         "name": "Industrial Fabrication",
         "orientation": "v",
         "text": "",
         "type": "bar",
         "uid": "6363a9fe-9e2a-4218-8e05-5efc9fe9f014",
         "x": [
          2009,
          2010,
          2011,
          2012,
          2013,
          2014,
          2015,
          2016,
          2017,
          2018
         ],
         "y": [
          528.2,
          633.8,
          653,
          600.1,
          604.6,
          596.3,
          582.6,
          566.4,
          585.8,
          578.6
         ]
        }
       ],
       "layout": {
        "legend": {
         "bgcolor": "#FFFFFF",
         "font": {
          "color": "#4D5663"
         }
        },
        "paper_bgcolor": "#FFFFFF",
        "plot_bgcolor": "#FFFFFF",
        "title": "Total Demand for Silver, Per Year and By Sector",
        "titlefont": {
         "color": "#4D5663"
        },
        "xaxis": {
         "gridcolor": "#E1E5ED",
         "showgrid": true,
         "tickfont": {
          "color": "#4D5663"
         },
         "title": "Year",
         "titlefont": {
          "color": "#4D5663"
         },
         "zerolinecolor": "#E1E5ED"
        },
        "yaxis": {
         "gridcolor": "#E1E5ED",
         "showgrid": true,
         "tickfont": {
          "color": "#4D5663"
         },
         "title": "Demand in Tons",
         "titlefont": {
          "color": "#4D5663"
         },
         "zerolinecolor": "#E1E5ED"
        }
       }
      },
      "text/html": [
       "<div id=\"dd5817ea-e5fa-401e-b16d-c38e8c3a770f\" style=\"height: 525px; width: 100%;\" class=\"plotly-graph-div\"></div><script type=\"text/javascript\">require([\"plotly\"], function(Plotly) { window.PLOTLYENV=window.PLOTLYENV || {};window.PLOTLYENV.BASE_URL=\"https://plot.ly\";Plotly.newPlot(\"dd5817ea-e5fa-401e-b16d-c38e8c3a770f\", [{\"marker\": {\"color\": \"rgba(255, 153, 51, 0.6)\", \"line\": {\"color\": \"rgba(255, 153, 51, 1.0)\", \"width\": 1}}, \"name\": \"Jewelry\", \"orientation\": \"v\", \"text\": \"\", \"x\": [2009, 2010, 2011, 2012, 2013, 2014, 2015, 2016, 2017, 2018], \"y\": [176.9, 190.0, 191.5, 186.7, 219.7, 227.3, 223.3, 202.7, 204.5, 212.5], \"type\": \"bar\", \"uid\": \"51d72578-1196-4289-bf8a-4ecb6a947170\"}, {\"marker\": {\"color\": \"rgba(55, 128, 191, 0.6)\", \"line\": {\"color\": \"rgba(55, 128, 191, 1.0)\", \"width\": 1}}, \"name\": \"Coins & Bars\", \"orientation\": \"v\", \"text\": \"\", \"x\": [2009, 2010, 2011, 2012, 2013, 2014, 2015, 2016, 2017, 2018], \"y\": [79.6, 174.1, 211.7, 161.2, 240.7, 233.6, 293.6, 208.7, 150.4, 181.2], \"type\": \"bar\", \"uid\": \"8feaeb99-ee53-4b02-bedd-cea848a3b7f4\"}, {\"marker\": {\"color\": \"rgba(50, 171, 96, 0.6)\", \"line\": {\"color\": \"rgba(50, 171, 96, 1.0)\", \"width\": 1}}, \"name\": \"Silverware\", \"orientation\": \"v\", \"text\": \"\", \"x\": [2009, 2010, 2011, 2012, 2013, 2014, 2015, 2016, 2017, 2018], \"y\": [53.2, 51.9, 47.5, 43.8, 59.3, 61.2, 63.2, 52.4, 57.6, 61.1], \"type\": \"bar\", \"uid\": \"8c3b25c7-b01e-4a4f-a21f-5fa11d85cdd6\"}, {\"marker\": {\"color\": \"rgba(128, 0, 128, 0.6)\", \"line\": {\"color\": \"rgba(128, 0, 128, 1.0)\", \"width\": 1}}, \"name\": \"Industrial Fabrication\", \"orientation\": \"v\", \"text\": \"\", \"x\": [2009, 2010, 2011, 2012, 2013, 2014, 2015, 2016, 2017, 2018], \"y\": [528.2, 633.8, 653.0, 600.1, 604.6, 596.3, 582.6, 566.4, 585.8, 578.6], \"type\": \"bar\", \"uid\": \"77fae718-77be-4224-979e-663c0fdcc7be\"}], {\"legend\": {\"bgcolor\": \"#FFFFFF\", \"font\": {\"color\": \"#4D5663\"}}, \"paper_bgcolor\": \"#FFFFFF\", \"plot_bgcolor\": \"#FFFFFF\", \"title\": \"Total Demand for Silver, Per Year and By Sector\", \"titlefont\": {\"color\": \"#4D5663\"}, \"xaxis\": {\"gridcolor\": \"#E1E5ED\", \"showgrid\": true, \"tickfont\": {\"color\": \"#4D5663\"}, \"title\": \"Year\", \"titlefont\": {\"color\": \"#4D5663\"}, \"zerolinecolor\": \"#E1E5ED\"}, \"yaxis\": {\"gridcolor\": \"#E1E5ED\", \"showgrid\": true, \"tickfont\": {\"color\": \"#4D5663\"}, \"title\": \"Demand in Tons\", \"titlefont\": {\"color\": \"#4D5663\"}, \"zerolinecolor\": \"#E1E5ED\"}}, {\"showLink\": true, \"linkText\": \"Export to plot.ly\", \"plotlyServerURL\": \"https://plot.ly\"})});</script><script type=\"text/javascript\">window.addEventListener(\"resize\", function(){window._Plotly.Plots.resize(document.getElementById(\"dd5817ea-e5fa-401e-b16d-c38e8c3a770f\"));});</script>"
      ],
      "text/vnd.plotly.v1+html": [
       "<div id=\"dd5817ea-e5fa-401e-b16d-c38e8c3a770f\" style=\"height: 525px; width: 100%;\" class=\"plotly-graph-div\"></div><script type=\"text/javascript\">require([\"plotly\"], function(Plotly) { window.PLOTLYENV=window.PLOTLYENV || {};window.PLOTLYENV.BASE_URL=\"https://plot.ly\";Plotly.newPlot(\"dd5817ea-e5fa-401e-b16d-c38e8c3a770f\", [{\"marker\": {\"color\": \"rgba(255, 153, 51, 0.6)\", \"line\": {\"color\": \"rgba(255, 153, 51, 1.0)\", \"width\": 1}}, \"name\": \"Jewelry\", \"orientation\": \"v\", \"text\": \"\", \"x\": [2009, 2010, 2011, 2012, 2013, 2014, 2015, 2016, 2017, 2018], \"y\": [176.9, 190.0, 191.5, 186.7, 219.7, 227.3, 223.3, 202.7, 204.5, 212.5], \"type\": \"bar\", \"uid\": \"51d72578-1196-4289-bf8a-4ecb6a947170\"}, {\"marker\": {\"color\": \"rgba(55, 128, 191, 0.6)\", \"line\": {\"color\": \"rgba(55, 128, 191, 1.0)\", \"width\": 1}}, \"name\": \"Coins & Bars\", \"orientation\": \"v\", \"text\": \"\", \"x\": [2009, 2010, 2011, 2012, 2013, 2014, 2015, 2016, 2017, 2018], \"y\": [79.6, 174.1, 211.7, 161.2, 240.7, 233.6, 293.6, 208.7, 150.4, 181.2], \"type\": \"bar\", \"uid\": \"8feaeb99-ee53-4b02-bedd-cea848a3b7f4\"}, {\"marker\": {\"color\": \"rgba(50, 171, 96, 0.6)\", \"line\": {\"color\": \"rgba(50, 171, 96, 1.0)\", \"width\": 1}}, \"name\": \"Silverware\", \"orientation\": \"v\", \"text\": \"\", \"x\": [2009, 2010, 2011, 2012, 2013, 2014, 2015, 2016, 2017, 2018], \"y\": [53.2, 51.9, 47.5, 43.8, 59.3, 61.2, 63.2, 52.4, 57.6, 61.1], \"type\": \"bar\", \"uid\": \"8c3b25c7-b01e-4a4f-a21f-5fa11d85cdd6\"}, {\"marker\": {\"color\": \"rgba(128, 0, 128, 0.6)\", \"line\": {\"color\": \"rgba(128, 0, 128, 1.0)\", \"width\": 1}}, \"name\": \"Industrial Fabrication\", \"orientation\": \"v\", \"text\": \"\", \"x\": [2009, 2010, 2011, 2012, 2013, 2014, 2015, 2016, 2017, 2018], \"y\": [528.2, 633.8, 653.0, 600.1, 604.6, 596.3, 582.6, 566.4, 585.8, 578.6], \"type\": \"bar\", \"uid\": \"77fae718-77be-4224-979e-663c0fdcc7be\"}], {\"legend\": {\"bgcolor\": \"#FFFFFF\", \"font\": {\"color\": \"#4D5663\"}}, \"paper_bgcolor\": \"#FFFFFF\", \"plot_bgcolor\": \"#FFFFFF\", \"title\": \"Total Demand for Silver, Per Year and By Sector\", \"titlefont\": {\"color\": \"#4D5663\"}, \"xaxis\": {\"gridcolor\": \"#E1E5ED\", \"showgrid\": true, \"tickfont\": {\"color\": \"#4D5663\"}, \"title\": \"Year\", \"titlefont\": {\"color\": \"#4D5663\"}, \"zerolinecolor\": \"#E1E5ED\"}, \"yaxis\": {\"gridcolor\": \"#E1E5ED\", \"showgrid\": true, \"tickfont\": {\"color\": \"#4D5663\"}, \"title\": \"Demand in Tons\", \"titlefont\": {\"color\": \"#4D5663\"}, \"zerolinecolor\": \"#E1E5ED\"}}, {\"showLink\": true, \"linkText\": \"Export to plot.ly\", \"plotlyServerURL\": \"https://plot.ly\"})});</script><script type=\"text/javascript\">window.addEventListener(\"resize\", function(){window._Plotly.Plots.resize(document.getElementById(\"dd5817ea-e5fa-401e-b16d-c38e8c3a770f\"));});</script>"
      ]
     },
     "metadata": {},
     "output_type": "display_data"
    }
   ],
   "source": [
    "demand.loc[:,'Jewelry':'Industrial Fabrication'].iplot(kind='bar', xTitle='Year', \n",
    "                  yTitle='Demand in Tons', \n",
    "       title='Total Demand for Silver, Per Year and By Sector', width=4)\n"
   ]
  },
  {
   "cell_type": "code",
   "execution_count": 21,
   "metadata": {},
   "outputs": [
    {
     "data": {
      "application/vnd.plotly.v1+json": {
       "config": {
        "linkText": "Export to plot.ly",
        "plotlyServerURL": "https://plot.ly",
        "showLink": true
       },
       "data": [
        {
         "line": {
          "color": "rgba(255, 153, 51, 1.0)",
          "dash": "solid",
          "shape": "linear",
          "width": 4
         },
         "mode": "lines",
         "name": "Jewelry",
         "text": "",
         "type": "scatter",
         "uid": "94ae7c50-1b5d-4d34-8d59-2e13f13deedb",
         "x": [
          2009,
          2010,
          2011,
          2012,
          2013,
          2014,
          2015,
          2016,
          2017,
          2018
         ],
         "y": [
          176.9,
          190,
          191.5,
          186.7,
          219.7,
          227.3,
          223.3,
          202.7,
          204.5,
          212.5
         ]
        },
        {
         "line": {
          "color": "rgba(55, 128, 191, 1.0)",
          "dash": "solid",
          "shape": "linear",
          "width": 4
         },
         "mode": "lines",
         "name": "Coins & Bars",
         "text": "",
         "type": "scatter",
         "uid": "97337d5b-d4f4-4516-a537-43182006cbed",
         "x": [
          2009,
          2010,
          2011,
          2012,
          2013,
          2014,
          2015,
          2016,
          2017,
          2018
         ],
         "y": [
          79.6,
          174.1,
          211.7,
          161.2,
          240.7,
          233.6,
          293.6,
          208.7,
          150.4,
          181.2
         ]
        },
        {
         "line": {
          "color": "rgba(50, 171, 96, 1.0)",
          "dash": "solid",
          "shape": "linear",
          "width": 4
         },
         "mode": "lines",
         "name": "Silverware",
         "text": "",
         "type": "scatter",
         "uid": "25d177cc-4c98-4f5d-b015-41ab0fc97968",
         "x": [
          2009,
          2010,
          2011,
          2012,
          2013,
          2014,
          2015,
          2016,
          2017,
          2018
         ],
         "y": [
          53.2,
          51.9,
          47.5,
          43.8,
          59.3,
          61.2,
          63.2,
          52.4,
          57.6,
          61.1
         ]
        },
        {
         "line": {
          "color": "rgba(128, 0, 128, 1.0)",
          "dash": "solid",
          "shape": "linear",
          "width": 4
         },
         "mode": "lines",
         "name": "Industrial Fabrication",
         "text": "",
         "type": "scatter",
         "uid": "c9118a7f-49a0-4fc2-a50e-fa17aee00a28",
         "x": [
          2009,
          2010,
          2011,
          2012,
          2013,
          2014,
          2015,
          2016,
          2017,
          2018
         ],
         "y": [
          528.2,
          633.8,
          653,
          600.1,
          604.6,
          596.3,
          582.6,
          566.4,
          585.8,
          578.6
         ]
        }
       ],
       "layout": {
        "legend": {
         "bgcolor": "#FFFFFF",
         "font": {
          "color": "#4D5663"
         }
        },
        "paper_bgcolor": "#FFFFFF",
        "plot_bgcolor": "#FFFFFF",
        "title": "Total Demand for Silver, Per Year and By Sector",
        "titlefont": {
         "color": "#4D5663"
        },
        "xaxis": {
         "gridcolor": "#E1E5ED",
         "showgrid": true,
         "tickfont": {
          "color": "#4D5663"
         },
         "title": "Year",
         "titlefont": {
          "color": "#4D5663"
         },
         "zerolinecolor": "#E1E5ED"
        },
        "yaxis": {
         "gridcolor": "#E1E5ED",
         "showgrid": true,
         "tickfont": {
          "color": "#4D5663"
         },
         "title": "Supply in Tons",
         "titlefont": {
          "color": "#4D5663"
         },
         "zerolinecolor": "#E1E5ED"
        }
       }
      },
      "text/html": [
       "<div id=\"e57ddb70-c803-4daf-9518-e3c9ebc3952c\" style=\"height: 525px; width: 100%;\" class=\"plotly-graph-div\"></div><script type=\"text/javascript\">require([\"plotly\"], function(Plotly) { window.PLOTLYENV=window.PLOTLYENV || {};window.PLOTLYENV.BASE_URL=\"https://plot.ly\";Plotly.newPlot(\"e57ddb70-c803-4daf-9518-e3c9ebc3952c\", [{\"line\": {\"color\": \"rgba(255, 153, 51, 1.0)\", \"dash\": \"solid\", \"shape\": \"linear\", \"width\": 4}, \"mode\": \"lines\", \"name\": \"Jewelry\", \"text\": \"\", \"x\": [2009, 2010, 2011, 2012, 2013, 2014, 2015, 2016, 2017, 2018], \"y\": [176.9, 190.0, 191.5, 186.7, 219.7, 227.3, 223.3, 202.7, 204.5, 212.5], \"type\": \"scatter\", \"uid\": \"96540b78-55d3-4fd5-88ee-89f73a7ba64e\"}, {\"line\": {\"color\": \"rgba(55, 128, 191, 1.0)\", \"dash\": \"solid\", \"shape\": \"linear\", \"width\": 4}, \"mode\": \"lines\", \"name\": \"Coins & Bars\", \"text\": \"\", \"x\": [2009, 2010, 2011, 2012, 2013, 2014, 2015, 2016, 2017, 2018], \"y\": [79.6, 174.1, 211.7, 161.2, 240.7, 233.6, 293.6, 208.7, 150.4, 181.2], \"type\": \"scatter\", \"uid\": \"d191dec5-ec74-4b73-936e-81002c18dc28\"}, {\"line\": {\"color\": \"rgba(50, 171, 96, 1.0)\", \"dash\": \"solid\", \"shape\": \"linear\", \"width\": 4}, \"mode\": \"lines\", \"name\": \"Silverware\", \"text\": \"\", \"x\": [2009, 2010, 2011, 2012, 2013, 2014, 2015, 2016, 2017, 2018], \"y\": [53.2, 51.9, 47.5, 43.8, 59.3, 61.2, 63.2, 52.4, 57.6, 61.1], \"type\": \"scatter\", \"uid\": \"20d0931f-d24e-44f8-b2f9-977908031498\"}, {\"line\": {\"color\": \"rgba(128, 0, 128, 1.0)\", \"dash\": \"solid\", \"shape\": \"linear\", \"width\": 4}, \"mode\": \"lines\", \"name\": \"Industrial Fabrication\", \"text\": \"\", \"x\": [2009, 2010, 2011, 2012, 2013, 2014, 2015, 2016, 2017, 2018], \"y\": [528.2, 633.8, 653.0, 600.1, 604.6, 596.3, 582.6, 566.4, 585.8, 578.6], \"type\": \"scatter\", \"uid\": \"250d4840-b6ed-410a-8e50-6400681c866c\"}], {\"legend\": {\"bgcolor\": \"#FFFFFF\", \"font\": {\"color\": \"#4D5663\"}}, \"paper_bgcolor\": \"#FFFFFF\", \"plot_bgcolor\": \"#FFFFFF\", \"title\": \"Total Demand for Silver, Per Year and By Sector\", \"titlefont\": {\"color\": \"#4D5663\"}, \"xaxis\": {\"gridcolor\": \"#E1E5ED\", \"showgrid\": true, \"tickfont\": {\"color\": \"#4D5663\"}, \"title\": \"Year\", \"titlefont\": {\"color\": \"#4D5663\"}, \"zerolinecolor\": \"#E1E5ED\"}, \"yaxis\": {\"gridcolor\": \"#E1E5ED\", \"showgrid\": true, \"tickfont\": {\"color\": \"#4D5663\"}, \"title\": \"Supply in Tons\", \"titlefont\": {\"color\": \"#4D5663\"}, \"zerolinecolor\": \"#E1E5ED\"}}, {\"showLink\": true, \"linkText\": \"Export to plot.ly\", \"plotlyServerURL\": \"https://plot.ly\"})});</script><script type=\"text/javascript\">window.addEventListener(\"resize\", function(){window._Plotly.Plots.resize(document.getElementById(\"e57ddb70-c803-4daf-9518-e3c9ebc3952c\"));});</script>"
      ],
      "text/vnd.plotly.v1+html": [
       "<div id=\"e57ddb70-c803-4daf-9518-e3c9ebc3952c\" style=\"height: 525px; width: 100%;\" class=\"plotly-graph-div\"></div><script type=\"text/javascript\">require([\"plotly\"], function(Plotly) { window.PLOTLYENV=window.PLOTLYENV || {};window.PLOTLYENV.BASE_URL=\"https://plot.ly\";Plotly.newPlot(\"e57ddb70-c803-4daf-9518-e3c9ebc3952c\", [{\"line\": {\"color\": \"rgba(255, 153, 51, 1.0)\", \"dash\": \"solid\", \"shape\": \"linear\", \"width\": 4}, \"mode\": \"lines\", \"name\": \"Jewelry\", \"text\": \"\", \"x\": [2009, 2010, 2011, 2012, 2013, 2014, 2015, 2016, 2017, 2018], \"y\": [176.9, 190.0, 191.5, 186.7, 219.7, 227.3, 223.3, 202.7, 204.5, 212.5], \"type\": \"scatter\", \"uid\": \"96540b78-55d3-4fd5-88ee-89f73a7ba64e\"}, {\"line\": {\"color\": \"rgba(55, 128, 191, 1.0)\", \"dash\": \"solid\", \"shape\": \"linear\", \"width\": 4}, \"mode\": \"lines\", \"name\": \"Coins & Bars\", \"text\": \"\", \"x\": [2009, 2010, 2011, 2012, 2013, 2014, 2015, 2016, 2017, 2018], \"y\": [79.6, 174.1, 211.7, 161.2, 240.7, 233.6, 293.6, 208.7, 150.4, 181.2], \"type\": \"scatter\", \"uid\": \"d191dec5-ec74-4b73-936e-81002c18dc28\"}, {\"line\": {\"color\": \"rgba(50, 171, 96, 1.0)\", \"dash\": \"solid\", \"shape\": \"linear\", \"width\": 4}, \"mode\": \"lines\", \"name\": \"Silverware\", \"text\": \"\", \"x\": [2009, 2010, 2011, 2012, 2013, 2014, 2015, 2016, 2017, 2018], \"y\": [53.2, 51.9, 47.5, 43.8, 59.3, 61.2, 63.2, 52.4, 57.6, 61.1], \"type\": \"scatter\", \"uid\": \"20d0931f-d24e-44f8-b2f9-977908031498\"}, {\"line\": {\"color\": \"rgba(128, 0, 128, 1.0)\", \"dash\": \"solid\", \"shape\": \"linear\", \"width\": 4}, \"mode\": \"lines\", \"name\": \"Industrial Fabrication\", \"text\": \"\", \"x\": [2009, 2010, 2011, 2012, 2013, 2014, 2015, 2016, 2017, 2018], \"y\": [528.2, 633.8, 653.0, 600.1, 604.6, 596.3, 582.6, 566.4, 585.8, 578.6], \"type\": \"scatter\", \"uid\": \"250d4840-b6ed-410a-8e50-6400681c866c\"}], {\"legend\": {\"bgcolor\": \"#FFFFFF\", \"font\": {\"color\": \"#4D5663\"}}, \"paper_bgcolor\": \"#FFFFFF\", \"plot_bgcolor\": \"#FFFFFF\", \"title\": \"Total Demand for Silver, Per Year and By Sector\", \"titlefont\": {\"color\": \"#4D5663\"}, \"xaxis\": {\"gridcolor\": \"#E1E5ED\", \"showgrid\": true, \"tickfont\": {\"color\": \"#4D5663\"}, \"title\": \"Year\", \"titlefont\": {\"color\": \"#4D5663\"}, \"zerolinecolor\": \"#E1E5ED\"}, \"yaxis\": {\"gridcolor\": \"#E1E5ED\", \"showgrid\": true, \"tickfont\": {\"color\": \"#4D5663\"}, \"title\": \"Supply in Tons\", \"titlefont\": {\"color\": \"#4D5663\"}, \"zerolinecolor\": \"#E1E5ED\"}}, {\"showLink\": true, \"linkText\": \"Export to plot.ly\", \"plotlyServerURL\": \"https://plot.ly\"})});</script><script type=\"text/javascript\">window.addEventListener(\"resize\", function(){window._Plotly.Plots.resize(document.getElementById(\"e57ddb70-c803-4daf-9518-e3c9ebc3952c\"));});</script>"
      ]
     },
     "metadata": {},
     "output_type": "display_data"
    }
   ],
   "source": [
    "demand.loc[:,'Jewelry':'Industrial Fabrication'].iplot(kind='line', xTitle='Year', \n",
    "                  yTitle='Supply in Tons', \n",
    "       title='Total Demand for Silver, Per Year and By Sector', width=4)\n"
   ]
  },
  {
   "cell_type": "markdown",
   "metadata": {},
   "source": [
    "### Industrial Demand Breakdown"
   ]
  },
  {
   "cell_type": "code",
   "execution_count": 22,
   "metadata": {},
   "outputs": [
    {
     "data": {
      "text/html": [
       "<div>\n",
       "<style scoped>\n",
       "    .dataframe tbody tr th:only-of-type {\n",
       "        vertical-align: middle;\n",
       "    }\n",
       "\n",
       "    .dataframe tbody tr th {\n",
       "        vertical-align: top;\n",
       "    }\n",
       "\n",
       "    .dataframe thead th {\n",
       "        text-align: right;\n",
       "    }\n",
       "</style>\n",
       "<table border=\"1\" class=\"dataframe\">\n",
       "  <thead>\n",
       "    <tr style=\"text-align: right;\">\n",
       "      <th></th>\n",
       "      <th>…of which Electrical &amp; Electronics</th>\n",
       "      <th>…of which Brazing Alloys &amp; Solders</th>\n",
       "      <th>…of which Photography</th>\n",
       "      <th>…of which Photovoltaic*</th>\n",
       "      <th>…of which Ethylene Oxide</th>\n",
       "      <th>…of which Other Industrial*</th>\n",
       "    </tr>\n",
       "    <tr>\n",
       "      <th>Year</th>\n",
       "      <th></th>\n",
       "      <th></th>\n",
       "      <th></th>\n",
       "      <th></th>\n",
       "      <th></th>\n",
       "      <th></th>\n",
       "    </tr>\n",
       "  </thead>\n",
       "  <tbody>\n",
       "    <tr>\n",
       "      <th>2009</th>\n",
       "      <td>227.4</td>\n",
       "      <td>53.8</td>\n",
       "      <td>76.4</td>\n",
       "      <td>0.0</td>\n",
       "      <td>4.8</td>\n",
       "      <td>165.8</td>\n",
       "    </tr>\n",
       "    <tr>\n",
       "      <th>2010</th>\n",
       "      <td>301.2</td>\n",
       "      <td>61.2</td>\n",
       "      <td>67.5</td>\n",
       "      <td>0.0</td>\n",
       "      <td>8.7</td>\n",
       "      <td>195.2</td>\n",
       "    </tr>\n",
       "    <tr>\n",
       "      <th>2011</th>\n",
       "      <td>290.8</td>\n",
       "      <td>63.2</td>\n",
       "      <td>61.2</td>\n",
       "      <td>67.4</td>\n",
       "      <td>6.2</td>\n",
       "      <td>164.2</td>\n",
       "    </tr>\n",
       "    <tr>\n",
       "      <th>2012</th>\n",
       "      <td>266.7</td>\n",
       "      <td>61.1</td>\n",
       "      <td>54.2</td>\n",
       "      <td>64.4</td>\n",
       "      <td>4.7</td>\n",
       "      <td>148.9</td>\n",
       "    </tr>\n",
       "    <tr>\n",
       "      <th>2013</th>\n",
       "      <td>266.0</td>\n",
       "      <td>63.7</td>\n",
       "      <td>50.5</td>\n",
       "      <td>54.8</td>\n",
       "      <td>7.7</td>\n",
       "      <td>162.0</td>\n",
       "    </tr>\n",
       "    <tr>\n",
       "      <th>2014</th>\n",
       "      <td>263.9</td>\n",
       "      <td>66.7</td>\n",
       "      <td>48.5</td>\n",
       "      <td>53.9</td>\n",
       "      <td>5.0</td>\n",
       "      <td>158.5</td>\n",
       "    </tr>\n",
       "    <tr>\n",
       "      <th>2015</th>\n",
       "      <td>246.0</td>\n",
       "      <td>61.5</td>\n",
       "      <td>46.1</td>\n",
       "      <td>64.5</td>\n",
       "      <td>10.2</td>\n",
       "      <td>154.4</td>\n",
       "    </tr>\n",
       "    <tr>\n",
       "      <th>2016</th>\n",
       "      <td>233.9</td>\n",
       "      <td>55.3</td>\n",
       "      <td>44.7</td>\n",
       "      <td>74.9</td>\n",
       "      <td>10.2</td>\n",
       "      <td>147.3</td>\n",
       "    </tr>\n",
       "    <tr>\n",
       "      <th>2017</th>\n",
       "      <td>243.1</td>\n",
       "      <td>57.5</td>\n",
       "      <td>40.9</td>\n",
       "      <td>88.9</td>\n",
       "      <td>6.9</td>\n",
       "      <td>148.4</td>\n",
       "    </tr>\n",
       "    <tr>\n",
       "      <th>2018</th>\n",
       "      <td>248.5</td>\n",
       "      <td>58.0</td>\n",
       "      <td>39.3</td>\n",
       "      <td>80.5</td>\n",
       "      <td>5.4</td>\n",
       "      <td>146.9</td>\n",
       "    </tr>\n",
       "  </tbody>\n",
       "</table>\n",
       "</div>"
      ],
      "text/plain": [
       "      …of which Electrical & Electronics  …of which Brazing Alloys & Solders  \\\n",
       "Year                                                                           \n",
       "2009                               227.4                                53.8   \n",
       "2010                               301.2                                61.2   \n",
       "2011                               290.8                                63.2   \n",
       "2012                               266.7                                61.1   \n",
       "2013                               266.0                                63.7   \n",
       "2014                               263.9                                66.7   \n",
       "2015                               246.0                                61.5   \n",
       "2016                               233.9                                55.3   \n",
       "2017                               243.1                                57.5   \n",
       "2018                               248.5                                58.0   \n",
       "\n",
       "      …of which Photography  …of which Photovoltaic*  \\\n",
       "Year                                                   \n",
       "2009                   76.4                      0.0   \n",
       "2010                   67.5                      0.0   \n",
       "2011                   61.2                     67.4   \n",
       "2012                   54.2                     64.4   \n",
       "2013                   50.5                     54.8   \n",
       "2014                   48.5                     53.9   \n",
       "2015                   46.1                     64.5   \n",
       "2016                   44.7                     74.9   \n",
       "2017                   40.9                     88.9   \n",
       "2018                   39.3                     80.5   \n",
       "\n",
       "      …of which Ethylene Oxide  …of which Other Industrial*  \n",
       "Year                                                         \n",
       "2009                       4.8                        165.8  \n",
       "2010                       8.7                        195.2  \n",
       "2011                       6.2                        164.2  \n",
       "2012                       4.7                        148.9  \n",
       "2013                       7.7                        162.0  \n",
       "2014                       5.0                        158.5  \n",
       "2015                      10.2                        154.4  \n",
       "2016                      10.2                        147.3  \n",
       "2017                       6.9                        148.4  \n",
       "2018                       5.4                        146.9  "
      ]
     },
     "execution_count": 22,
     "metadata": {},
     "output_type": "execute_result"
    }
   ],
   "source": [
    "demand.loc[:,'…of which Electrical & Electronics':'…of which Other Industrial*']\\\n",
    "\n"
   ]
  },
  {
   "cell_type": "code",
   "execution_count": 23,
   "metadata": {},
   "outputs": [
    {
     "data": {
      "application/vnd.plotly.v1+json": {
       "config": {
        "linkText": "Export to plot.ly",
        "plotlyServerURL": "https://plot.ly",
        "showLink": true
       },
       "data": [
        {
         "line": {
          "color": "rgba(255, 153, 51, 1.0)",
          "dash": "solid",
          "shape": "linear",
          "width": 4
         },
         "mode": "lines",
         "name": "…of which Electrical & Electronics",
         "text": "",
         "type": "scatter",
         "uid": "05c25212-1a40-4542-a231-772733699eb2",
         "x": [
          2009,
          2010,
          2011,
          2012,
          2013,
          2014,
          2015,
          2016,
          2017,
          2018
         ],
         "y": [
          227.4,
          301.2,
          290.8,
          266.7,
          266,
          263.9,
          246,
          233.9,
          243.1,
          248.5
         ]
        },
        {
         "line": {
          "color": "rgba(55, 128, 191, 1.0)",
          "dash": "solid",
          "shape": "linear",
          "width": 4
         },
         "mode": "lines",
         "name": "…of which Brazing Alloys & Solders",
         "text": "",
         "type": "scatter",
         "uid": "762466cd-8723-477a-be6d-0d402e7dfedf",
         "x": [
          2009,
          2010,
          2011,
          2012,
          2013,
          2014,
          2015,
          2016,
          2017,
          2018
         ],
         "y": [
          53.8,
          61.2,
          63.2,
          61.1,
          63.7,
          66.7,
          61.5,
          55.3,
          57.5,
          58
         ]
        },
        {
         "line": {
          "color": "rgba(50, 171, 96, 1.0)",
          "dash": "solid",
          "shape": "linear",
          "width": 4
         },
         "mode": "lines",
         "name": "…of which Photography",
         "text": "",
         "type": "scatter",
         "uid": "61361e04-54ae-433d-a68d-d8096cbb61dc",
         "x": [
          2009,
          2010,
          2011,
          2012,
          2013,
          2014,
          2015,
          2016,
          2017,
          2018
         ],
         "y": [
          76.4,
          67.5,
          61.2,
          54.2,
          50.5,
          48.5,
          46.1,
          44.7,
          40.9,
          39.3
         ]
        },
        {
         "line": {
          "color": "rgba(128, 0, 128, 1.0)",
          "dash": "solid",
          "shape": "linear",
          "width": 4
         },
         "mode": "lines",
         "name": "…of which Photovoltaic*",
         "text": "",
         "type": "scatter",
         "uid": "5a51f139-17e2-4fee-93cd-0faa0f7f2e2b",
         "x": [
          2009,
          2010,
          2011,
          2012,
          2013,
          2014,
          2015,
          2016,
          2017,
          2018
         ],
         "y": [
          0,
          0,
          67.4,
          64.4,
          54.8,
          53.9,
          64.5,
          74.9,
          88.9,
          80.5
         ]
        },
        {
         "line": {
          "color": "rgba(219, 64, 82, 1.0)",
          "dash": "solid",
          "shape": "linear",
          "width": 4
         },
         "mode": "lines",
         "name": "…of which Ethylene Oxide",
         "text": "",
         "type": "scatter",
         "uid": "72737d57-1cfa-4492-96f9-9fd4255466d9",
         "x": [
          2009,
          2010,
          2011,
          2012,
          2013,
          2014,
          2015,
          2016,
          2017,
          2018
         ],
         "y": [
          4.8,
          8.7,
          6.2,
          4.7,
          7.7,
          5,
          10.2,
          10.2,
          6.9,
          5.4
         ]
        },
        {
         "line": {
          "color": "rgba(0, 128, 128, 1.0)",
          "dash": "solid",
          "shape": "linear",
          "width": 4
         },
         "mode": "lines",
         "name": "…of which Other Industrial*",
         "text": "",
         "type": "scatter",
         "uid": "bb1fd853-d28e-4546-9c21-4d8e41a87a14",
         "x": [
          2009,
          2010,
          2011,
          2012,
          2013,
          2014,
          2015,
          2016,
          2017,
          2018
         ],
         "y": [
          165.8,
          195.2,
          164.2,
          148.9,
          162,
          158.5,
          154.4,
          147.3,
          148.4,
          146.9
         ]
        }
       ],
       "layout": {
        "legend": {
         "bgcolor": "#FFFFFF",
         "font": {
          "color": "#4D5663"
         }
        },
        "paper_bgcolor": "#FFFFFF",
        "plot_bgcolor": "#FFFFFF",
        "title": "Total Industrial Demand for Silver, Per Year and By Industry",
        "titlefont": {
         "color": "#4D5663"
        },
        "xaxis": {
         "gridcolor": "#E1E5ED",
         "showgrid": true,
         "tickfont": {
          "color": "#4D5663"
         },
         "title": "Year",
         "titlefont": {
          "color": "#4D5663"
         },
         "zerolinecolor": "#E1E5ED"
        },
        "yaxis": {
         "gridcolor": "#E1E5ED",
         "showgrid": true,
         "tickfont": {
          "color": "#4D5663"
         },
         "title": "Supply in Tons",
         "titlefont": {
          "color": "#4D5663"
         },
         "zerolinecolor": "#E1E5ED"
        }
       }
      },
      "text/html": [
       "<div id=\"2c4c6f24-dd3e-4684-a794-9f2a93d523b3\" style=\"height: 525px; width: 100%;\" class=\"plotly-graph-div\"></div><script type=\"text/javascript\">require([\"plotly\"], function(Plotly) { window.PLOTLYENV=window.PLOTLYENV || {};window.PLOTLYENV.BASE_URL=\"https://plot.ly\";Plotly.newPlot(\"2c4c6f24-dd3e-4684-a794-9f2a93d523b3\", [{\"line\": {\"color\": \"rgba(255, 153, 51, 1.0)\", \"dash\": \"solid\", \"shape\": \"linear\", \"width\": 4}, \"mode\": \"lines\", \"name\": \"\\u2026of which Electrical & Electronics\", \"text\": \"\", \"x\": [2009, 2010, 2011, 2012, 2013, 2014, 2015, 2016, 2017, 2018], \"y\": [227.4, 301.2, 290.8, 266.7, 266.0, 263.9, 246.0, 233.9, 243.1, 248.5], \"type\": \"scatter\", \"uid\": \"c48963b3-5a89-477e-9a8a-831f17e47f5b\"}, {\"line\": {\"color\": \"rgba(55, 128, 191, 1.0)\", \"dash\": \"solid\", \"shape\": \"linear\", \"width\": 4}, \"mode\": \"lines\", \"name\": \"\\u2026of which Brazing Alloys & Solders\", \"text\": \"\", \"x\": [2009, 2010, 2011, 2012, 2013, 2014, 2015, 2016, 2017, 2018], \"y\": [53.8, 61.2, 63.2, 61.1, 63.7, 66.7, 61.5, 55.3, 57.5, 58.0], \"type\": \"scatter\", \"uid\": \"c773a523-a266-4543-b6ee-5115cb94438b\"}, {\"line\": {\"color\": \"rgba(50, 171, 96, 1.0)\", \"dash\": \"solid\", \"shape\": \"linear\", \"width\": 4}, \"mode\": \"lines\", \"name\": \"\\u2026of which Photography\", \"text\": \"\", \"x\": [2009, 2010, 2011, 2012, 2013, 2014, 2015, 2016, 2017, 2018], \"y\": [76.4, 67.5, 61.2, 54.2, 50.5, 48.5, 46.1, 44.7, 40.9, 39.3], \"type\": \"scatter\", \"uid\": \"c97e61d1-a9ed-4f83-b4c0-0e8739adf227\"}, {\"line\": {\"color\": \"rgba(128, 0, 128, 1.0)\", \"dash\": \"solid\", \"shape\": \"linear\", \"width\": 4}, \"mode\": \"lines\", \"name\": \"\\u2026of which Photovoltaic*\", \"text\": \"\", \"x\": [2009, 2010, 2011, 2012, 2013, 2014, 2015, 2016, 2017, 2018], \"y\": [0.0, 0.0, 67.4, 64.4, 54.8, 53.9, 64.5, 74.9, 88.9, 80.5], \"type\": \"scatter\", \"uid\": \"d200b2d5-dca3-442e-911b-e83625a880dc\"}, {\"line\": {\"color\": \"rgba(219, 64, 82, 1.0)\", \"dash\": \"solid\", \"shape\": \"linear\", \"width\": 4}, \"mode\": \"lines\", \"name\": \"\\u2026of which Ethylene Oxide\", \"text\": \"\", \"x\": [2009, 2010, 2011, 2012, 2013, 2014, 2015, 2016, 2017, 2018], \"y\": [4.8, 8.7, 6.2, 4.7, 7.7, 5.0, 10.2, 10.2, 6.9, 5.4], \"type\": \"scatter\", \"uid\": \"8fb586a5-0df2-4fe2-a52a-116c2513ded8\"}, {\"line\": {\"color\": \"rgba(0, 128, 128, 1.0)\", \"dash\": \"solid\", \"shape\": \"linear\", \"width\": 4}, \"mode\": \"lines\", \"name\": \"\\u2026of which Other Industrial*\", \"text\": \"\", \"x\": [2009, 2010, 2011, 2012, 2013, 2014, 2015, 2016, 2017, 2018], \"y\": [165.8, 195.2, 164.2, 148.9, 162.0, 158.5, 154.4, 147.3, 148.4, 146.9], \"type\": \"scatter\", \"uid\": \"e4631d3c-8f0c-4c33-b6c4-74e7a438fee8\"}], {\"legend\": {\"bgcolor\": \"#FFFFFF\", \"font\": {\"color\": \"#4D5663\"}}, \"paper_bgcolor\": \"#FFFFFF\", \"plot_bgcolor\": \"#FFFFFF\", \"title\": \"Total Industrial Demand for Silver, Per Year and By Industry\", \"titlefont\": {\"color\": \"#4D5663\"}, \"xaxis\": {\"gridcolor\": \"#E1E5ED\", \"showgrid\": true, \"tickfont\": {\"color\": \"#4D5663\"}, \"title\": \"Year\", \"titlefont\": {\"color\": \"#4D5663\"}, \"zerolinecolor\": \"#E1E5ED\"}, \"yaxis\": {\"gridcolor\": \"#E1E5ED\", \"showgrid\": true, \"tickfont\": {\"color\": \"#4D5663\"}, \"title\": \"Supply in Tons\", \"titlefont\": {\"color\": \"#4D5663\"}, \"zerolinecolor\": \"#E1E5ED\"}}, {\"showLink\": true, \"linkText\": \"Export to plot.ly\", \"plotlyServerURL\": \"https://plot.ly\"})});</script><script type=\"text/javascript\">window.addEventListener(\"resize\", function(){window._Plotly.Plots.resize(document.getElementById(\"2c4c6f24-dd3e-4684-a794-9f2a93d523b3\"));});</script>"
      ],
      "text/vnd.plotly.v1+html": [
       "<div id=\"2c4c6f24-dd3e-4684-a794-9f2a93d523b3\" style=\"height: 525px; width: 100%;\" class=\"plotly-graph-div\"></div><script type=\"text/javascript\">require([\"plotly\"], function(Plotly) { window.PLOTLYENV=window.PLOTLYENV || {};window.PLOTLYENV.BASE_URL=\"https://plot.ly\";Plotly.newPlot(\"2c4c6f24-dd3e-4684-a794-9f2a93d523b3\", [{\"line\": {\"color\": \"rgba(255, 153, 51, 1.0)\", \"dash\": \"solid\", \"shape\": \"linear\", \"width\": 4}, \"mode\": \"lines\", \"name\": \"\\u2026of which Electrical & Electronics\", \"text\": \"\", \"x\": [2009, 2010, 2011, 2012, 2013, 2014, 2015, 2016, 2017, 2018], \"y\": [227.4, 301.2, 290.8, 266.7, 266.0, 263.9, 246.0, 233.9, 243.1, 248.5], \"type\": \"scatter\", \"uid\": \"c48963b3-5a89-477e-9a8a-831f17e47f5b\"}, {\"line\": {\"color\": \"rgba(55, 128, 191, 1.0)\", \"dash\": \"solid\", \"shape\": \"linear\", \"width\": 4}, \"mode\": \"lines\", \"name\": \"\\u2026of which Brazing Alloys & Solders\", \"text\": \"\", \"x\": [2009, 2010, 2011, 2012, 2013, 2014, 2015, 2016, 2017, 2018], \"y\": [53.8, 61.2, 63.2, 61.1, 63.7, 66.7, 61.5, 55.3, 57.5, 58.0], \"type\": \"scatter\", \"uid\": \"c773a523-a266-4543-b6ee-5115cb94438b\"}, {\"line\": {\"color\": \"rgba(50, 171, 96, 1.0)\", \"dash\": \"solid\", \"shape\": \"linear\", \"width\": 4}, \"mode\": \"lines\", \"name\": \"\\u2026of which Photography\", \"text\": \"\", \"x\": [2009, 2010, 2011, 2012, 2013, 2014, 2015, 2016, 2017, 2018], \"y\": [76.4, 67.5, 61.2, 54.2, 50.5, 48.5, 46.1, 44.7, 40.9, 39.3], \"type\": \"scatter\", \"uid\": \"c97e61d1-a9ed-4f83-b4c0-0e8739adf227\"}, {\"line\": {\"color\": \"rgba(128, 0, 128, 1.0)\", \"dash\": \"solid\", \"shape\": \"linear\", \"width\": 4}, \"mode\": \"lines\", \"name\": \"\\u2026of which Photovoltaic*\", \"text\": \"\", \"x\": [2009, 2010, 2011, 2012, 2013, 2014, 2015, 2016, 2017, 2018], \"y\": [0.0, 0.0, 67.4, 64.4, 54.8, 53.9, 64.5, 74.9, 88.9, 80.5], \"type\": \"scatter\", \"uid\": \"d200b2d5-dca3-442e-911b-e83625a880dc\"}, {\"line\": {\"color\": \"rgba(219, 64, 82, 1.0)\", \"dash\": \"solid\", \"shape\": \"linear\", \"width\": 4}, \"mode\": \"lines\", \"name\": \"\\u2026of which Ethylene Oxide\", \"text\": \"\", \"x\": [2009, 2010, 2011, 2012, 2013, 2014, 2015, 2016, 2017, 2018], \"y\": [4.8, 8.7, 6.2, 4.7, 7.7, 5.0, 10.2, 10.2, 6.9, 5.4], \"type\": \"scatter\", \"uid\": \"8fb586a5-0df2-4fe2-a52a-116c2513ded8\"}, {\"line\": {\"color\": \"rgba(0, 128, 128, 1.0)\", \"dash\": \"solid\", \"shape\": \"linear\", \"width\": 4}, \"mode\": \"lines\", \"name\": \"\\u2026of which Other Industrial*\", \"text\": \"\", \"x\": [2009, 2010, 2011, 2012, 2013, 2014, 2015, 2016, 2017, 2018], \"y\": [165.8, 195.2, 164.2, 148.9, 162.0, 158.5, 154.4, 147.3, 148.4, 146.9], \"type\": \"scatter\", \"uid\": \"e4631d3c-8f0c-4c33-b6c4-74e7a438fee8\"}], {\"legend\": {\"bgcolor\": \"#FFFFFF\", \"font\": {\"color\": \"#4D5663\"}}, \"paper_bgcolor\": \"#FFFFFF\", \"plot_bgcolor\": \"#FFFFFF\", \"title\": \"Total Industrial Demand for Silver, Per Year and By Industry\", \"titlefont\": {\"color\": \"#4D5663\"}, \"xaxis\": {\"gridcolor\": \"#E1E5ED\", \"showgrid\": true, \"tickfont\": {\"color\": \"#4D5663\"}, \"title\": \"Year\", \"titlefont\": {\"color\": \"#4D5663\"}, \"zerolinecolor\": \"#E1E5ED\"}, \"yaxis\": {\"gridcolor\": \"#E1E5ED\", \"showgrid\": true, \"tickfont\": {\"color\": \"#4D5663\"}, \"title\": \"Supply in Tons\", \"titlefont\": {\"color\": \"#4D5663\"}, \"zerolinecolor\": \"#E1E5ED\"}}, {\"showLink\": true, \"linkText\": \"Export to plot.ly\", \"plotlyServerURL\": \"https://plot.ly\"})});</script><script type=\"text/javascript\">window.addEventListener(\"resize\", function(){window._Plotly.Plots.resize(document.getElementById(\"2c4c6f24-dd3e-4684-a794-9f2a93d523b3\"));});</script>"
      ]
     },
     "metadata": {},
     "output_type": "display_data"
    }
   ],
   "source": [
    "demand.loc[:,'…of which Electrical & Electronics':'…of which Other Industrial*']\\\n",
    ".iplot(kind='line', xTitle='Year', \n",
    "                  yTitle='Supply in Tons', \n",
    "       title='Total Industrial Demand for Silver, Per Year and By Industry', width=4)"
   ]
  },
  {
   "cell_type": "code",
   "execution_count": null,
   "metadata": {},
   "outputs": [],
   "source": []
  },
  {
   "cell_type": "markdown",
   "metadata": {},
   "source": [
    "### Total Demand"
   ]
  },
  {
   "cell_type": "code",
   "execution_count": 24,
   "metadata": {},
   "outputs": [
    {
     "data": {
      "application/vnd.plotly.v1+json": {
       "config": {
        "linkText": "Export to plot.ly",
        "plotlyServerURL": "https://plot.ly",
        "showLink": true
       },
       "data": [
        {
         "line": {
          "color": "rgba(255, 153, 51, 1.0)",
          "dash": "solid",
          "shape": "linear",
          "width": 4
         },
         "mode": "lines",
         "name": "Total Physical Demand",
         "text": "",
         "type": "scatter",
         "uid": "210e6d7b-b597-4b60-adf8-6dc7c6b9ae07",
         "x": [
          2009,
          2010,
          2011,
          2012,
          2013,
          2014,
          2015,
          2016,
          2017,
          2018
         ],
         "y": [
          837.9000000000001,
          1049.8,
          1103.7,
          991.8,
          1124.3,
          1118.4,
          1162.7000000000003,
          1030.1999999999998,
          998.3,
          1033.4
         ]
        }
       ],
       "layout": {
        "legend": {
         "bgcolor": "#FFFFFF",
         "font": {
          "color": "#4D5663"
         }
        },
        "paper_bgcolor": "#FFFFFF",
        "plot_bgcolor": "#FFFFFF",
        "title": "Total Demand for Silver",
        "titlefont": {
         "color": "#4D5663"
        },
        "xaxis": {
         "gridcolor": "#E1E5ED",
         "showgrid": true,
         "tickfont": {
          "color": "#4D5663"
         },
         "title": "Year",
         "titlefont": {
          "color": "#4D5663"
         },
         "zerolinecolor": "#E1E5ED"
        },
        "yaxis": {
         "gridcolor": "#E1E5ED",
         "showgrid": true,
         "tickfont": {
          "color": "#4D5663"
         },
         "title": "Total Physical Demand",
         "titlefont": {
          "color": "#4D5663"
         },
         "zerolinecolor": "#E1E5ED"
        }
       }
      },
      "text/html": [
       "<div id=\"489dbd8f-cd01-4c60-951d-2c9ed113f5db\" style=\"height: 525px; width: 100%;\" class=\"plotly-graph-div\"></div><script type=\"text/javascript\">require([\"plotly\"], function(Plotly) { window.PLOTLYENV=window.PLOTLYENV || {};window.PLOTLYENV.BASE_URL=\"https://plot.ly\";Plotly.newPlot(\"489dbd8f-cd01-4c60-951d-2c9ed113f5db\", [{\"line\": {\"color\": \"rgba(255, 153, 51, 1.0)\", \"dash\": \"solid\", \"shape\": \"linear\", \"width\": 4}, \"mode\": \"lines\", \"name\": \"Total Physical Demand\", \"text\": \"\", \"x\": [2009, 2010, 2011, 2012, 2013, 2014, 2015, 2016, 2017, 2018], \"y\": [837.9000000000001, 1049.8, 1103.7, 991.8, 1124.3, 1118.4, 1162.7000000000003, 1030.1999999999998, 998.3, 1033.4], \"type\": \"scatter\", \"uid\": \"a1ec6eab-a39b-4c2f-a884-87032774cb7e\"}], {\"legend\": {\"bgcolor\": \"#FFFFFF\", \"font\": {\"color\": \"#4D5663\"}}, \"paper_bgcolor\": \"#FFFFFF\", \"plot_bgcolor\": \"#FFFFFF\", \"title\": \"Total Demand for Silver\", \"titlefont\": {\"color\": \"#4D5663\"}, \"xaxis\": {\"gridcolor\": \"#E1E5ED\", \"showgrid\": true, \"tickfont\": {\"color\": \"#4D5663\"}, \"title\": \"Year\", \"titlefont\": {\"color\": \"#4D5663\"}, \"zerolinecolor\": \"#E1E5ED\"}, \"yaxis\": {\"gridcolor\": \"#E1E5ED\", \"showgrid\": true, \"tickfont\": {\"color\": \"#4D5663\"}, \"title\": \"Total Physical Demand\", \"titlefont\": {\"color\": \"#4D5663\"}, \"zerolinecolor\": \"#E1E5ED\"}}, {\"showLink\": true, \"linkText\": \"Export to plot.ly\", \"plotlyServerURL\": \"https://plot.ly\"})});</script><script type=\"text/javascript\">window.addEventListener(\"resize\", function(){window._Plotly.Plots.resize(document.getElementById(\"489dbd8f-cd01-4c60-951d-2c9ed113f5db\"));});</script>"
      ],
      "text/vnd.plotly.v1+html": [
       "<div id=\"489dbd8f-cd01-4c60-951d-2c9ed113f5db\" style=\"height: 525px; width: 100%;\" class=\"plotly-graph-div\"></div><script type=\"text/javascript\">require([\"plotly\"], function(Plotly) { window.PLOTLYENV=window.PLOTLYENV || {};window.PLOTLYENV.BASE_URL=\"https://plot.ly\";Plotly.newPlot(\"489dbd8f-cd01-4c60-951d-2c9ed113f5db\", [{\"line\": {\"color\": \"rgba(255, 153, 51, 1.0)\", \"dash\": \"solid\", \"shape\": \"linear\", \"width\": 4}, \"mode\": \"lines\", \"name\": \"Total Physical Demand\", \"text\": \"\", \"x\": [2009, 2010, 2011, 2012, 2013, 2014, 2015, 2016, 2017, 2018], \"y\": [837.9000000000001, 1049.8, 1103.7, 991.8, 1124.3, 1118.4, 1162.7000000000003, 1030.1999999999998, 998.3, 1033.4], \"type\": \"scatter\", \"uid\": \"a1ec6eab-a39b-4c2f-a884-87032774cb7e\"}], {\"legend\": {\"bgcolor\": \"#FFFFFF\", \"font\": {\"color\": \"#4D5663\"}}, \"paper_bgcolor\": \"#FFFFFF\", \"plot_bgcolor\": \"#FFFFFF\", \"title\": \"Total Demand for Silver\", \"titlefont\": {\"color\": \"#4D5663\"}, \"xaxis\": {\"gridcolor\": \"#E1E5ED\", \"showgrid\": true, \"tickfont\": {\"color\": \"#4D5663\"}, \"title\": \"Year\", \"titlefont\": {\"color\": \"#4D5663\"}, \"zerolinecolor\": \"#E1E5ED\"}, \"yaxis\": {\"gridcolor\": \"#E1E5ED\", \"showgrid\": true, \"tickfont\": {\"color\": \"#4D5663\"}, \"title\": \"Total Physical Demand\", \"titlefont\": {\"color\": \"#4D5663\"}, \"zerolinecolor\": \"#E1E5ED\"}}, {\"showLink\": true, \"linkText\": \"Export to plot.ly\", \"plotlyServerURL\": \"https://plot.ly\"})});</script><script type=\"text/javascript\">window.addEventListener(\"resize\", function(){window._Plotly.Plots.resize(document.getElementById(\"489dbd8f-cd01-4c60-951d-2c9ed113f5db\"));});</script>"
      ]
     },
     "metadata": {},
     "output_type": "display_data"
    }
   ],
   "source": [
    "demand.loc[:,'Total Physical Demand']\\\n",
    ".iplot(kind='line', xTitle='Year', \n",
    "                  yTitle='Total Physical Demand', \n",
    "       title='Total Demand for Silver', width=4)"
   ]
  },
  {
   "cell_type": "markdown",
   "metadata": {},
   "source": [
    "### Demand in the Electrical & Electronics Industry"
   ]
  },
  {
   "cell_type": "code",
   "execution_count": 25,
   "metadata": {},
   "outputs": [],
   "source": [
    "elec_demand = demand.loc[:,'Total Physical Demand']\n",
    "prophet_elec = pd.DataFrame(columns=['ds','y'])\n",
    "prophet_elec['ds'] = elec_demand.index\n",
    "prophet_elec['y'] = elec_demand.values"
   ]
  },
  {
   "cell_type": "code",
   "execution_count": 26,
   "metadata": {},
   "outputs": [
    {
     "name": "stderr",
     "output_type": "stream",
     "text": [
      "INFO:fbprophet:Disabling weekly seasonality. Run prophet with weekly_seasonality=True to override this.\n",
      "INFO:fbprophet:Disabling daily seasonality. Run prophet with daily_seasonality=True to override this.\n",
      "INFO:fbprophet:n_changepoints greater than number of observations.Using 7.0.\n",
      "/Users/pst-home/anaconda3/envs/data_science/lib/python3.6/site-packages/pystan/misc.py:399: FutureWarning:\n",
      "\n",
      "Conversion of the second argument of issubdtype from `float` to `np.floating` is deprecated. In future, it will be treated as `np.float64 == np.dtype(float).type`.\n",
      "\n"
     ]
    },
    {
     "data": {
      "image/png": "[encoded data removed]",
      "text/plain": [
       "<Figure size 720x432 with 1 Axes>"
      ]
     },
     "metadata": {},
     "output_type": "display_data"
    }
   ],
   "source": [
    "prophet_elec['ds']  = prophet_elec['ds'].apply(lambda d: datetime.datetime.strptime(str(d), \"%Y\")) \n",
    "model_elec_demand = fbprophet.Prophet()\n",
    "model_elec_demand.fit(prophet_elec)\n",
    "future_df_elec = model_elec_demand.make_future_dataframe(periods=30, freq='y')\n",
    "forecast_elc = model_elec_demand.predict(future_df_elec)\n",
    "model_elec_demand.plot(forecast_elc);"
   ]
  },
  {
   "cell_type": "code",
   "execution_count": 27,
   "metadata": {},
   "outputs": [
    {
     "data": {
      "text/plain": [
       "<matplotlib.axes._subplots.AxesSubplot at 0x1a1a7a06d8>"
      ]
     },
     "execution_count": 27,
     "metadata": {},
     "output_type": "execute_result"
    },
    {
     "data": {
      "image/png": "[encoded data removed]",
      "text/plain": [
       "<Figure size 432x288 with 1 Axes>"
      ]
     },
     "metadata": {
      "needs_background": "light"
     },
     "output_type": "display_data"
    }
   ],
   "source": [
    "prophet_elec['y'].plot()"
   ]
  },
  {
   "cell_type": "markdown",
   "metadata": {},
   "source": [
    "## Relative to market"
   ]
  },
  {
   "cell_type": "markdown",
   "metadata": {},
   "source": [
    "## Energy Market"
   ]
  },
  {
   "cell_type": "code",
   "execution_count": 28,
   "metadata": {},
   "outputs": [
    {
     "data": {
      "text/html": [
       "<div>\n",
       "<style scoped>\n",
       "    .dataframe tbody tr th:only-of-type {\n",
       "        vertical-align: middle;\n",
       "    }\n",
       "\n",
       "    .dataframe tbody tr th {\n",
       "        vertical-align: top;\n",
       "    }\n",
       "\n",
       "    .dataframe thead th {\n",
       "        text-align: right;\n",
       "    }\n",
       "</style>\n",
       "<table border=\"1\" class=\"dataframe\">\n",
       "  <thead>\n",
       "    <tr style=\"text-align: right;\">\n",
       "      <th>Unnamed: 0</th>\n",
       "      <th>World</th>\n",
       "      <th>OECD</th>\n",
       "      <th>G7</th>\n",
       "      <th>BRICS</th>\n",
       "      <th>Europe</th>\n",
       "      <th>European Union</th>\n",
       "      <th>Belgium</th>\n",
       "      <th>Czech Republic</th>\n",
       "      <th>France</th>\n",
       "      <th>Germany</th>\n",
       "      <th>...</th>\n",
       "      <th>Egypt</th>\n",
       "      <th>Nigeria</th>\n",
       "      <th>South Africa</th>\n",
       "      <th>Middle-East</th>\n",
       "      <th>Iran</th>\n",
       "      <th>Kuwait</th>\n",
       "      <th>Saudi Arabia</th>\n",
       "      <th>United Arab Emirates</th>\n",
       "      <th>n.a. : non avalaible</th>\n",
       "      <th>Source :</th>\n",
       "    </tr>\n",
       "  </thead>\n",
       "  <tbody>\n",
       "    <tr>\n",
       "      <th>1990</th>\n",
       "      <td>19.7619</td>\n",
       "      <td>17.742</td>\n",
       "      <td>15.1469</td>\n",
       "      <td>24.2174</td>\n",
       "      <td>18.0819</td>\n",
       "      <td>12.6293</td>\n",
       "      <td>1.67224</td>\n",
       "      <td>2.31621</td>\n",
       "      <td>14.1012</td>\n",
       "      <td>3.90135</td>\n",
       "      <td>...</td>\n",
       "      <td>23.5044</td>\n",
       "      <td>32.5856</td>\n",
       "      <td>1.70488</td>\n",
       "      <td>4.87801</td>\n",
       "      <td>10.2924</td>\n",
       "      <td>0</td>\n",
       "      <td>0</td>\n",
       "      <td>0</td>\n",
       "      <td>NaN</td>\n",
       "      <td>NaN</td>\n",
       "    </tr>\n",
       "    <tr>\n",
       "      <th>1991</th>\n",
       "      <td>19.6915</td>\n",
       "      <td>17.4916</td>\n",
       "      <td>15.1333</td>\n",
       "      <td>23.9565</td>\n",
       "      <td>18.2106</td>\n",
       "      <td>12.9545</td>\n",
       "      <td>1.7877</td>\n",
       "      <td>2.17916</td>\n",
       "      <td>13.9713</td>\n",
       "      <td>3.85206</td>\n",
       "      <td>...</td>\n",
       "      <td>22.3496</td>\n",
       "      <td>41.8649</td>\n",
       "      <td>2.24815</td>\n",
       "      <td>4.55602</td>\n",
       "      <td>11.0033</td>\n",
       "      <td>0</td>\n",
       "      <td>0</td>\n",
       "      <td>0</td>\n",
       "      <td>NaN</td>\n",
       "      <td>NaN</td>\n",
       "    </tr>\n",
       "    <tr>\n",
       "      <th>1992</th>\n",
       "      <td>19.6144</td>\n",
       "      <td>17.402</td>\n",
       "      <td>14.7462</td>\n",
       "      <td>24.1005</td>\n",
       "      <td>19.133</td>\n",
       "      <td>13.6388</td>\n",
       "      <td>1.98269</td>\n",
       "      <td>2.76255</td>\n",
       "      <td>16.1156</td>\n",
       "      <td>4.37848</td>\n",
       "      <td>...</td>\n",
       "      <td>21.2356</td>\n",
       "      <td>40.8454</td>\n",
       "      <td>1.24041</td>\n",
       "      <td>4.87081</td>\n",
       "      <td>13.8768</td>\n",
       "      <td>0</td>\n",
       "      <td>0</td>\n",
       "      <td>0</td>\n",
       "      <td>NaN</td>\n",
       "      <td>NaN</td>\n",
       "    </tr>\n",
       "    <tr>\n",
       "      <th>1993</th>\n",
       "      <td>20.2447</td>\n",
       "      <td>17.9739</td>\n",
       "      <td>15.1783</td>\n",
       "      <td>24.7198</td>\n",
       "      <td>19.704</td>\n",
       "      <td>13.9012</td>\n",
       "      <td>1.79716</td>\n",
       "      <td>2.98399</td>\n",
       "      <td>14.7922</td>\n",
       "      <td>4.61906</td>\n",
       "      <td>...</td>\n",
       "      <td>21.937</td>\n",
       "      <td>38.4143</td>\n",
       "      <td>0.853434</td>\n",
       "      <td>4.46024</td>\n",
       "      <td>12.8904</td>\n",
       "      <td>0</td>\n",
       "      <td>0</td>\n",
       "      <td>0</td>\n",
       "      <td>NaN</td>\n",
       "      <td>NaN</td>\n",
       "    </tr>\n",
       "    <tr>\n",
       "      <th>1994</th>\n",
       "      <td>19.9823</td>\n",
       "      <td>16.9702</td>\n",
       "      <td>14.5114</td>\n",
       "      <td>25.6983</td>\n",
       "      <td>19.6448</td>\n",
       "      <td>14.1478</td>\n",
       "      <td>1.99227</td>\n",
       "      <td>3.5721</td>\n",
       "      <td>17.4539</td>\n",
       "      <td>5.17575</td>\n",
       "      <td>...</td>\n",
       "      <td>22.2517</td>\n",
       "      <td>35.8122</td>\n",
       "      <td>1.42606</td>\n",
       "      <td>3.46033</td>\n",
       "      <td>9.0928</td>\n",
       "      <td>0</td>\n",
       "      <td>0</td>\n",
       "      <td>0</td>\n",
       "      <td>NaN</td>\n",
       "      <td>NaN</td>\n",
       "    </tr>\n",
       "    <tr>\n",
       "      <th>1995</th>\n",
       "      <td>20.3154</td>\n",
       "      <td>17.6101</td>\n",
       "      <td>15.1084</td>\n",
       "      <td>25.5845</td>\n",
       "      <td>19.6554</td>\n",
       "      <td>13.944</td>\n",
       "      <td>2.09655</td>\n",
       "      <td>4.40285</td>\n",
       "      <td>15.8873</td>\n",
       "      <td>5.65846</td>\n",
       "      <td>...</td>\n",
       "      <td>21.9481</td>\n",
       "      <td>34.685</td>\n",
       "      <td>0.965953</td>\n",
       "      <td>3.21867</td>\n",
       "      <td>8.57603</td>\n",
       "      <td>0</td>\n",
       "      <td>0</td>\n",
       "      <td>0</td>\n",
       "      <td>NaN</td>\n",
       "      <td>NaN</td>\n",
       "    </tr>\n",
       "    <tr>\n",
       "      <th>1996</th>\n",
       "      <td>19.9885</td>\n",
       "      <td>17.5794</td>\n",
       "      <td>15.5325</td>\n",
       "      <td>24.0963</td>\n",
       "      <td>18.7437</td>\n",
       "      <td>13.5605</td>\n",
       "      <td>2.00003</td>\n",
       "      <td>4.1941</td>\n",
       "      <td>14.1631</td>\n",
       "      <td>5.62362</td>\n",
       "      <td>...</td>\n",
       "      <td>20.9557</td>\n",
       "      <td>33.8607</td>\n",
       "      <td>1.78419</td>\n",
       "      <td>3.10273</td>\n",
       "      <td>8.13497</td>\n",
       "      <td>0</td>\n",
       "      <td>0</td>\n",
       "      <td>0</td>\n",
       "      <td>NaN</td>\n",
       "      <td>NaN</td>\n",
       "    </tr>\n",
       "    <tr>\n",
       "      <th>1997</th>\n",
       "      <td>19.8665</td>\n",
       "      <td>17.3928</td>\n",
       "      <td>15.1832</td>\n",
       "      <td>24.4313</td>\n",
       "      <td>19.1674</td>\n",
       "      <td>13.8963</td>\n",
       "      <td>1.97887</td>\n",
       "      <td>3.98464</td>\n",
       "      <td>13.9166</td>\n",
       "      <td>4.82364</td>\n",
       "      <td>...</td>\n",
       "      <td>20.5158</td>\n",
       "      <td>34.7025</td>\n",
       "      <td>2.30365</td>\n",
       "      <td>2.83599</td>\n",
       "      <td>7.0874</td>\n",
       "      <td>0</td>\n",
       "      <td>0</td>\n",
       "      <td>0</td>\n",
       "      <td>NaN</td>\n",
       "      <td>NaN</td>\n",
       "    </tr>\n",
       "    <tr>\n",
       "      <th>1998</th>\n",
       "      <td>19.53</td>\n",
       "      <td>16.6477</td>\n",
       "      <td>14.1628</td>\n",
       "      <td>25.045</td>\n",
       "      <td>19.6266</td>\n",
       "      <td>14.3528</td>\n",
       "      <td>2.24445</td>\n",
       "      <td>3.795</td>\n",
       "      <td>13.452</td>\n",
       "      <td>5.19777</td>\n",
       "      <td>...</td>\n",
       "      <td>19.4105</td>\n",
       "      <td>38.2172</td>\n",
       "      <td>2.06745</td>\n",
       "      <td>2.64955</td>\n",
       "      <td>6.8043</td>\n",
       "      <td>0</td>\n",
       "      <td>0</td>\n",
       "      <td>0</td>\n",
       "      <td>NaN</td>\n",
       "      <td>NaN</td>\n",
       "    </tr>\n",
       "    <tr>\n",
       "      <th>1999</th>\n",
       "      <td>19.1457</td>\n",
       "      <td>16.3819</td>\n",
       "      <td>14.1111</td>\n",
       "      <td>23.8646</td>\n",
       "      <td>19.7594</td>\n",
       "      <td>14.396</td>\n",
       "      <td>2.3641</td>\n",
       "      <td>4.47182</td>\n",
       "      <td>15.21</td>\n",
       "      <td>5.83714</td>\n",
       "      <td>...</td>\n",
       "      <td>21.4366</td>\n",
       "      <td>38.2124</td>\n",
       "      <td>1.73044</td>\n",
       "      <td>1.95857</td>\n",
       "      <td>4.44091</td>\n",
       "      <td>0</td>\n",
       "      <td>0</td>\n",
       "      <td>0</td>\n",
       "      <td>NaN</td>\n",
       "      <td>NaN</td>\n",
       "    </tr>\n",
       "    <tr>\n",
       "      <th>2000</th>\n",
       "      <td>18.8208</td>\n",
       "      <td>16.1898</td>\n",
       "      <td>13.5897</td>\n",
       "      <td>23.3427</td>\n",
       "      <td>20.1271</td>\n",
       "      <td>14.7767</td>\n",
       "      <td>2.71747</td>\n",
       "      <td>3.86437</td>\n",
       "      <td>13.7367</td>\n",
       "      <td>6.88674</td>\n",
       "      <td>...</td>\n",
       "      <td>17.7034</td>\n",
       "      <td>38.2155</td>\n",
       "      <td>2.0131</td>\n",
       "      <td>1.70794</td>\n",
       "      <td>3.04903</td>\n",
       "      <td>0</td>\n",
       "      <td>0</td>\n",
       "      <td>0</td>\n",
       "      <td>NaN</td>\n",
       "      <td>NaN</td>\n",
       "    </tr>\n",
       "    <tr>\n",
       "      <th>2001</th>\n",
       "      <td>18.3498</td>\n",
       "      <td>15.4008</td>\n",
       "      <td>12.7924</td>\n",
       "      <td>23.3072</td>\n",
       "      <td>19.8635</td>\n",
       "      <td>15.2891</td>\n",
       "      <td>2.85389</td>\n",
       "      <td>4.00552</td>\n",
       "      <td>14.9187</td>\n",
       "      <td>7.23304</td>\n",
       "      <td>...</td>\n",
       "      <td>18.4326</td>\n",
       "      <td>38.2163</td>\n",
       "      <td>2.00809</td>\n",
       "      <td>1.90912</td>\n",
       "      <td>3.92553</td>\n",
       "      <td>0</td>\n",
       "      <td>0</td>\n",
       "      <td>0</td>\n",
       "      <td>NaN</td>\n",
       "      <td>NaN</td>\n",
       "    </tr>\n",
       "    <tr>\n",
       "      <th>2002</th>\n",
       "      <td>18.2668</td>\n",
       "      <td>15.7145</td>\n",
       "      <td>13.63</td>\n",
       "      <td>22.3103</td>\n",
       "      <td>18.8895</td>\n",
       "      <td>13.8937</td>\n",
       "      <td>2.76353</td>\n",
       "      <td>4.38911</td>\n",
       "      <td>12.4565</td>\n",
       "      <td>8.38887</td>\n",
       "      <td>...</td>\n",
       "      <td>14.6463</td>\n",
       "      <td>38.2177</td>\n",
       "      <td>2.10949</td>\n",
       "      <td>2.22192</td>\n",
       "      <td>5.75202</td>\n",
       "      <td>0</td>\n",
       "      <td>0</td>\n",
       "      <td>0</td>\n",
       "      <td>NaN</td>\n",
       "      <td>NaN</td>\n",
       "    </tr>\n",
       "    <tr>\n",
       "      <th>2003</th>\n",
       "      <td>17.854</td>\n",
       "      <td>15.5056</td>\n",
       "      <td>13.7067</td>\n",
       "      <td>20.9643</td>\n",
       "      <td>17.9679</td>\n",
       "      <td>13.6452</td>\n",
       "      <td>2.67163</td>\n",
       "      <td>2.75151</td>\n",
       "      <td>12.0654</td>\n",
       "      <td>8.33899</td>\n",
       "      <td>...</td>\n",
       "      <td>14.0645</td>\n",
       "      <td>36.9005</td>\n",
       "      <td>1.6851</td>\n",
       "      <td>2.7956</td>\n",
       "      <td>7.22975</td>\n",
       "      <td>0</td>\n",
       "      <td>0</td>\n",
       "      <td>0</td>\n",
       "      <td>NaN</td>\n",
       "      <td>NaN</td>\n",
       "    </tr>\n",
       "    <tr>\n",
       "      <th>2004</th>\n",
       "      <td>18.2625</td>\n",
       "      <td>15.7411</td>\n",
       "      <td>13.7427</td>\n",
       "      <td>21.8583</td>\n",
       "      <td>19.2658</td>\n",
       "      <td>14.7868</td>\n",
       "      <td>3.25421</td>\n",
       "      <td>3.89409</td>\n",
       "      <td>12.0692</td>\n",
       "      <td>10.2026</td>\n",
       "      <td>...</td>\n",
       "      <td>12.9982</td>\n",
       "      <td>33.4006</td>\n",
       "      <td>2.00159</td>\n",
       "      <td>2.76659</td>\n",
       "      <td>6.39476</td>\n",
       "      <td>0</td>\n",
       "      <td>0</td>\n",
       "      <td>0</td>\n",
       "      <td>NaN</td>\n",
       "      <td>NaN</td>\n",
       "    </tr>\n",
       "    <tr>\n",
       "      <th>2005</th>\n",
       "      <td>18.3986</td>\n",
       "      <td>15.7462</td>\n",
       "      <td>13.5476</td>\n",
       "      <td>21.8813</td>\n",
       "      <td>19.7362</td>\n",
       "      <td>14.9123</td>\n",
       "      <td>3.9322</td>\n",
       "      <td>4.57628</td>\n",
       "      <td>10.6199</td>\n",
       "      <td>11.1285</td>\n",
       "      <td>...</td>\n",
       "      <td>12.141</td>\n",
       "      <td>33.0006</td>\n",
       "      <td>1.82507</td>\n",
       "      <td>4.28106</td>\n",
       "      <td>9.08034</td>\n",
       "      <td>0</td>\n",
       "      <td>0</td>\n",
       "      <td>0</td>\n",
       "      <td>NaN</td>\n",
       "      <td>NaN</td>\n",
       "    </tr>\n",
       "    <tr>\n",
       "      <th>2006</th>\n",
       "      <td>18.5251</td>\n",
       "      <td>16.1517</td>\n",
       "      <td>14.1582</td>\n",
       "      <td>21.2536</td>\n",
       "      <td>19.8249</td>\n",
       "      <td>15.4515</td>\n",
       "      <td>4.9301</td>\n",
       "      <td>5.01061</td>\n",
       "      <td>11.7898</td>\n",
       "      <td>12.2594</td>\n",
       "      <td>...</td>\n",
       "      <td>11.7333</td>\n",
       "      <td>27.1008</td>\n",
       "      <td>2.40979</td>\n",
       "      <td>4.23372</td>\n",
       "      <td>9.54474</td>\n",
       "      <td>0</td>\n",
       "      <td>0</td>\n",
       "      <td>0</td>\n",
       "      <td>NaN</td>\n",
       "      <td>NaN</td>\n",
       "    </tr>\n",
       "    <tr>\n",
       "      <th>2007</th>\n",
       "      <td>18.2544</td>\n",
       "      <td>15.9558</td>\n",
       "      <td>13.8525</td>\n",
       "      <td>21.0029</td>\n",
       "      <td>20.5133</td>\n",
       "      <td>16.2434</td>\n",
       "      <td>5.38155</td>\n",
       "      <td>4.35837</td>\n",
       "      <td>12.56</td>\n",
       "      <td>14.867</td>\n",
       "      <td>...</td>\n",
       "      <td>13.0593</td>\n",
       "      <td>27.0998</td>\n",
       "      <td>1.56293</td>\n",
       "      <td>3.82961</td>\n",
       "      <td>8.88786</td>\n",
       "      <td>0</td>\n",
       "      <td>0</td>\n",
       "      <td>0</td>\n",
       "      <td>NaN</td>\n",
       "      <td>NaN</td>\n",
       "    </tr>\n",
       "    <tr>\n",
       "      <th>2008</th>\n",
       "      <td>18.909</td>\n",
       "      <td>16.8418</td>\n",
       "      <td>14.6582</td>\n",
       "      <td>21.6858</td>\n",
       "      <td>21.8179</td>\n",
       "      <td>17.5574</td>\n",
       "      <td>6.78794</td>\n",
       "      <td>4.88123</td>\n",
       "      <td>13.6874</td>\n",
       "      <td>15.5019</td>\n",
       "      <td>...</td>\n",
       "      <td>11.9009</td>\n",
       "      <td>27.1009</td>\n",
       "      <td>1.64737</td>\n",
       "      <td>1.53136</td>\n",
       "      <td>2.42344</td>\n",
       "      <td>0</td>\n",
       "      <td>0</td>\n",
       "      <td>0</td>\n",
       "      <td>NaN</td>\n",
       "      <td>NaN</td>\n",
       "    </tr>\n",
       "    <tr>\n",
       "      <th>2009</th>\n",
       "      <td>19.6723</td>\n",
       "      <td>17.8988</td>\n",
       "      <td>15.8764</td>\n",
       "      <td>22.1336</td>\n",
       "      <td>23.5826</td>\n",
       "      <td>19.4692</td>\n",
       "      <td>7.52781</td>\n",
       "      <td>6.33571</td>\n",
       "      <td>13.9251</td>\n",
       "      <td>16.8748</td>\n",
       "      <td>...</td>\n",
       "      <td>10.0691</td>\n",
       "      <td>22.9003</td>\n",
       "      <td>1.77555</td>\n",
       "      <td>1.63069</td>\n",
       "      <td>3.36992</td>\n",
       "      <td>0</td>\n",
       "      <td>0</td>\n",
       "      <td>0</td>\n",
       "      <td>NaN</td>\n",
       "      <td>NaN</td>\n",
       "    </tr>\n",
       "    <tr>\n",
       "      <th>2010</th>\n",
       "      <td>19.8889</td>\n",
       "      <td>18.1282</td>\n",
       "      <td>15.6963</td>\n",
       "      <td>22.3062</td>\n",
       "      <td>25.2138</td>\n",
       "      <td>21.1137</td>\n",
       "      <td>8.24675</td>\n",
       "      <td>7.55853</td>\n",
       "      <td>14.581</td>\n",
       "      <td>17.569</td>\n",
       "      <td>...</td>\n",
       "      <td>10.048</td>\n",
       "      <td>24.4018</td>\n",
       "      <td>2.06471</td>\n",
       "      <td>2.03448</td>\n",
       "      <td>4.16339</td>\n",
       "      <td>0</td>\n",
       "      <td>0</td>\n",
       "      <td>0</td>\n",
       "      <td>NaN</td>\n",
       "      <td>NaN</td>\n",
       "    </tr>\n",
       "    <tr>\n",
       "      <th>2011</th>\n",
       "      <td>20.2176</td>\n",
       "      <td>19.4493</td>\n",
       "      <td>17.5951</td>\n",
       "      <td>21.217</td>\n",
       "      <td>25.2199</td>\n",
       "      <td>21.4166</td>\n",
       "      <td>10.6426</td>\n",
       "      <td>9.08696</td>\n",
       "      <td>12.2968</td>\n",
       "      <td>21.1417</td>\n",
       "      <td>...</td>\n",
       "      <td>9.32684</td>\n",
       "      <td>21.7615</td>\n",
       "      <td>2.02447</td>\n",
       "      <td>2.19922</td>\n",
       "      <td>5.12264</td>\n",
       "      <td>0</td>\n",
       "      <td>0</td>\n",
       "      <td>0</td>\n",
       "      <td>NaN</td>\n",
       "      <td>NaN</td>\n",
       "    </tr>\n",
       "    <tr>\n",
       "      <th>2012</th>\n",
       "      <td>21.1718</td>\n",
       "      <td>20.4016</td>\n",
       "      <td>18.1692</td>\n",
       "      <td>22.6348</td>\n",
       "      <td>28.3676</td>\n",
       "      <td>24.2282</td>\n",
       "      <td>14.1818</td>\n",
       "      <td>10.062</td>\n",
       "      <td>15.5748</td>\n",
       "      <td>23.7455</td>\n",
       "      <td>...</td>\n",
       "      <td>8.87941</td>\n",
       "      <td>19.7136</td>\n",
       "      <td>1.74745</td>\n",
       "      <td>2.28216</td>\n",
       "      <td>4.98553</td>\n",
       "      <td>0</td>\n",
       "      <td>0.000368</td>\n",
       "      <td>0</td>\n",
       "      <td>NaN</td>\n",
       "      <td>NaN</td>\n",
       "    </tr>\n",
       "    <tr>\n",
       "      <th>2013</th>\n",
       "      <td>21.9484</td>\n",
       "      <td>21.5911</td>\n",
       "      <td>19.4239</td>\n",
       "      <td>22.839</td>\n",
       "      <td>30.9117</td>\n",
       "      <td>27.189</td>\n",
       "      <td>15.5699</td>\n",
       "      <td>11.752</td>\n",
       "      <td>17.7788</td>\n",
       "      <td>24.7601</td>\n",
       "      <td>...</td>\n",
       "      <td>8.80571</td>\n",
       "      <td>18.4399</td>\n",
       "      <td>1.70069</td>\n",
       "      <td>2.50348</td>\n",
       "      <td>5.70772</td>\n",
       "      <td>0</td>\n",
       "      <td>0.000352</td>\n",
       "      <td>0.094142</td>\n",
       "      <td>NaN</td>\n",
       "      <td>NaN</td>\n",
       "    </tr>\n",
       "    <tr>\n",
       "      <th>2014</th>\n",
       "      <td>22.633</td>\n",
       "      <td>22.4232</td>\n",
       "      <td>20.2312</td>\n",
       "      <td>23.8844</td>\n",
       "      <td>32.276</td>\n",
       "      <td>29.1807</td>\n",
       "      <td>18.4156</td>\n",
       "      <td>11.8679</td>\n",
       "      <td>17.3015</td>\n",
       "      <td>26.8193</td>\n",
       "      <td>...</td>\n",
       "      <td>8.86919</td>\n",
       "      <td>17.5913</td>\n",
       "      <td>2.58415</td>\n",
       "      <td>1.99927</td>\n",
       "      <td>5.19539</td>\n",
       "      <td>0</td>\n",
       "      <td>0.000321</td>\n",
       "      <td>0.258307</td>\n",
       "      <td>NaN</td>\n",
       "      <td>NaN</td>\n",
       "    </tr>\n",
       "    <tr>\n",
       "      <th>2015</th>\n",
       "      <td>23.0547</td>\n",
       "      <td>23.2093</td>\n",
       "      <td>20.9607</td>\n",
       "      <td>24.5009</td>\n",
       "      <td>33.6089</td>\n",
       "      <td>29.8518</td>\n",
       "      <td>22.268</td>\n",
       "      <td>12.7521</td>\n",
       "      <td>16.5459</td>\n",
       "      <td>29.8795</td>\n",
       "      <td>...</td>\n",
       "      <td>8.46447</td>\n",
       "      <td>18.1951</td>\n",
       "      <td>3.54569</td>\n",
       "      <td>1.79966</td>\n",
       "      <td>5.10489</td>\n",
       "      <td>0</td>\n",
       "      <td>0.000296</td>\n",
       "      <td>0.232401</td>\n",
       "      <td>NaN</td>\n",
       "      <td>NaN</td>\n",
       "    </tr>\n",
       "    <tr>\n",
       "      <th>2016</th>\n",
       "      <td>24.1064</td>\n",
       "      <td>24.1693</td>\n",
       "      <td>22.1598</td>\n",
       "      <td>25.7203</td>\n",
       "      <td>33.9699</td>\n",
       "      <td>30.125</td>\n",
       "      <td>17.8754</td>\n",
       "      <td>12.7069</td>\n",
       "      <td>18.3551</td>\n",
       "      <td>29.8759</td>\n",
       "      <td>...</td>\n",
       "      <td>8.07196</td>\n",
       "      <td>18.0794</td>\n",
       "      <td>4.37354</td>\n",
       "      <td>2.18427</td>\n",
       "      <td>5.77632</td>\n",
       "      <td>0.002853</td>\n",
       "      <td>0.00029</td>\n",
       "      <td>0.2747</td>\n",
       "      <td>NaN</td>\n",
       "      <td>NaN</td>\n",
       "    </tr>\n",
       "    <tr>\n",
       "      <th>2017</th>\n",
       "      <td>24.8273</td>\n",
       "      <td>25.3193</td>\n",
       "      <td>24.0105</td>\n",
       "      <td>25.9964</td>\n",
       "      <td>33.8112</td>\n",
       "      <td>30.4149</td>\n",
       "      <td>18.8067</td>\n",
       "      <td>12.4056</td>\n",
       "      <td>17.213</td>\n",
       "      <td>34.2211</td>\n",
       "      <td>...</td>\n",
       "      <td>7.95681</td>\n",
       "      <td>18.0918</td>\n",
       "      <td>4.98853</td>\n",
       "      <td>1.94569</td>\n",
       "      <td>4.99547</td>\n",
       "      <td>0.002748</td>\n",
       "      <td>0.000314</td>\n",
       "      <td>0.269174</td>\n",
       "      <td>NaN</td>\n",
       "      <td>NaN</td>\n",
       "    </tr>\n",
       "    <tr>\n",
       "      <th>2018</th>\n",
       "      <td>25.6039</td>\n",
       "      <td>26.1397</td>\n",
       "      <td>24.633</td>\n",
       "      <td>26.7387</td>\n",
       "      <td>36.3953</td>\n",
       "      <td>32.7168</td>\n",
       "      <td>23.3025</td>\n",
       "      <td>11.9042</td>\n",
       "      <td>19.9382</td>\n",
       "      <td>35.9965</td>\n",
       "      <td>...</td>\n",
       "      <td>8.20871</td>\n",
       "      <td>16.7247</td>\n",
       "      <td>5.28614</td>\n",
       "      <td>2.1106</td>\n",
       "      <td>5.31791</td>\n",
       "      <td>0.003244</td>\n",
       "      <td>0.000437</td>\n",
       "      <td>0.442572</td>\n",
       "      <td>NaN</td>\n",
       "      <td>NaN</td>\n",
       "    </tr>\n",
       "  </tbody>\n",
       "</table>\n",
       "<p>29 rows × 60 columns</p>\n",
       "</div>"
      ],
      "text/plain": [
       "Unnamed: 0    World     OECD       G7    BRICS   Europe European Union  \\\n",
       "1990        19.7619   17.742  15.1469  24.2174  18.0819        12.6293   \n",
       "1991        19.6915  17.4916  15.1333  23.9565  18.2106        12.9545   \n",
       "1992        19.6144   17.402  14.7462  24.1005   19.133        13.6388   \n",
       "1993        20.2447  17.9739  15.1783  24.7198   19.704        13.9012   \n",
       "1994        19.9823  16.9702  14.5114  25.6983  19.6448        14.1478   \n",
       "1995        20.3154  17.6101  15.1084  25.5845  19.6554         13.944   \n",
       "1996        19.9885  17.5794  15.5325  24.0963  18.7437        13.5605   \n",
       "1997        19.8665  17.3928  15.1832  24.4313  19.1674        13.8963   \n",
       "1998          19.53  16.6477  14.1628   25.045  19.6266        14.3528   \n",
       "1999        19.1457  16.3819  14.1111  23.8646  19.7594         14.396   \n",
       "2000        18.8208  16.1898  13.5897  23.3427  20.1271        14.7767   \n",
       "2001        18.3498  15.4008  12.7924  23.3072  19.8635        15.2891   \n",
       "2002        18.2668  15.7145    13.63  22.3103  18.8895        13.8937   \n",
       "2003         17.854  15.5056  13.7067  20.9643  17.9679        13.6452   \n",
       "2004        18.2625  15.7411  13.7427  21.8583  19.2658        14.7868   \n",
       "2005        18.3986  15.7462  13.5476  21.8813  19.7362        14.9123   \n",
       "2006        18.5251  16.1517  14.1582  21.2536  19.8249        15.4515   \n",
       "2007        18.2544  15.9558  13.8525  21.0029  20.5133        16.2434   \n",
       "2008         18.909  16.8418  14.6582  21.6858  21.8179        17.5574   \n",
       "2009        19.6723  17.8988  15.8764  22.1336  23.5826        19.4692   \n",
       "2010        19.8889  18.1282  15.6963  22.3062  25.2138        21.1137   \n",
       "2011        20.2176  19.4493  17.5951   21.217  25.2199        21.4166   \n",
       "2012        21.1718  20.4016  18.1692  22.6348  28.3676        24.2282   \n",
       "2013        21.9484  21.5911  19.4239   22.839  30.9117         27.189   \n",
       "2014         22.633  22.4232  20.2312  23.8844   32.276        29.1807   \n",
       "2015        23.0547  23.2093  20.9607  24.5009  33.6089        29.8518   \n",
       "2016        24.1064  24.1693  22.1598  25.7203  33.9699         30.125   \n",
       "2017        24.8273  25.3193  24.0105  25.9964  33.8112        30.4149   \n",
       "2018        25.6039  26.1397   24.633  26.7387  36.3953        32.7168   \n",
       "\n",
       "Unnamed: 0  Belgium Czech Republic   France  Germany    ...       Egypt  \\\n",
       "1990        1.67224        2.31621  14.1012  3.90135    ...     23.5044   \n",
       "1991         1.7877        2.17916  13.9713  3.85206    ...     22.3496   \n",
       "1992        1.98269        2.76255  16.1156  4.37848    ...     21.2356   \n",
       "1993        1.79716        2.98399  14.7922  4.61906    ...      21.937   \n",
       "1994        1.99227         3.5721  17.4539  5.17575    ...     22.2517   \n",
       "1995        2.09655        4.40285  15.8873  5.65846    ...     21.9481   \n",
       "1996        2.00003         4.1941  14.1631  5.62362    ...     20.9557   \n",
       "1997        1.97887        3.98464  13.9166  4.82364    ...     20.5158   \n",
       "1998        2.24445          3.795   13.452  5.19777    ...     19.4105   \n",
       "1999         2.3641        4.47182    15.21  5.83714    ...     21.4366   \n",
       "2000        2.71747        3.86437  13.7367  6.88674    ...     17.7034   \n",
       "2001        2.85389        4.00552  14.9187  7.23304    ...     18.4326   \n",
       "2002        2.76353        4.38911  12.4565  8.38887    ...     14.6463   \n",
       "2003        2.67163        2.75151  12.0654  8.33899    ...     14.0645   \n",
       "2004        3.25421        3.89409  12.0692  10.2026    ...     12.9982   \n",
       "2005         3.9322        4.57628  10.6199  11.1285    ...      12.141   \n",
       "2006         4.9301        5.01061  11.7898  12.2594    ...     11.7333   \n",
       "2007        5.38155        4.35837    12.56   14.867    ...     13.0593   \n",
       "2008        6.78794        4.88123  13.6874  15.5019    ...     11.9009   \n",
       "2009        7.52781        6.33571  13.9251  16.8748    ...     10.0691   \n",
       "2010        8.24675        7.55853   14.581   17.569    ...      10.048   \n",
       "2011        10.6426        9.08696  12.2968  21.1417    ...     9.32684   \n",
       "2012        14.1818         10.062  15.5748  23.7455    ...     8.87941   \n",
       "2013        15.5699         11.752  17.7788  24.7601    ...     8.80571   \n",
       "2014        18.4156        11.8679  17.3015  26.8193    ...     8.86919   \n",
       "2015         22.268        12.7521  16.5459  29.8795    ...     8.46447   \n",
       "2016        17.8754        12.7069  18.3551  29.8759    ...     8.07196   \n",
       "2017        18.8067        12.4056   17.213  34.2211    ...     7.95681   \n",
       "2018        23.3025        11.9042  19.9382  35.9965    ...     8.20871   \n",
       "\n",
       "Unnamed: 0  Nigeria South Africa Middle-East     Iran    Kuwait Saudi Arabia  \\\n",
       "1990        32.5856      1.70488     4.87801  10.2924         0            0   \n",
       "1991        41.8649      2.24815     4.55602  11.0033         0            0   \n",
       "1992        40.8454      1.24041     4.87081  13.8768         0            0   \n",
       "1993        38.4143     0.853434     4.46024  12.8904         0            0   \n",
       "1994        35.8122      1.42606     3.46033   9.0928         0            0   \n",
       "1995         34.685     0.965953     3.21867  8.57603         0            0   \n",
       "1996        33.8607      1.78419     3.10273  8.13497         0            0   \n",
       "1997        34.7025      2.30365     2.83599   7.0874         0            0   \n",
       "1998        38.2172      2.06745     2.64955   6.8043         0            0   \n",
       "1999        38.2124      1.73044     1.95857  4.44091         0            0   \n",
       "2000        38.2155       2.0131     1.70794  3.04903         0            0   \n",
       "2001        38.2163      2.00809     1.90912  3.92553         0            0   \n",
       "2002        38.2177      2.10949     2.22192  5.75202         0            0   \n",
       "2003        36.9005       1.6851      2.7956  7.22975         0            0   \n",
       "2004        33.4006      2.00159     2.76659  6.39476         0            0   \n",
       "2005        33.0006      1.82507     4.28106  9.08034         0            0   \n",
       "2006        27.1008      2.40979     4.23372  9.54474         0            0   \n",
       "2007        27.0998      1.56293     3.82961  8.88786         0            0   \n",
       "2008        27.1009      1.64737     1.53136  2.42344         0            0   \n",
       "2009        22.9003      1.77555     1.63069  3.36992         0            0   \n",
       "2010        24.4018      2.06471     2.03448  4.16339         0            0   \n",
       "2011        21.7615      2.02447     2.19922  5.12264         0            0   \n",
       "2012        19.7136      1.74745     2.28216  4.98553         0     0.000368   \n",
       "2013        18.4399      1.70069     2.50348  5.70772         0     0.000352   \n",
       "2014        17.5913      2.58415     1.99927  5.19539         0     0.000321   \n",
       "2015        18.1951      3.54569     1.79966  5.10489         0     0.000296   \n",
       "2016        18.0794      4.37354     2.18427  5.77632  0.002853      0.00029   \n",
       "2017        18.0918      4.98853     1.94569  4.99547  0.002748     0.000314   \n",
       "2018        16.7247      5.28614      2.1106  5.31791  0.003244     0.000437   \n",
       "\n",
       "Unnamed: 0 United Arab Emirates n.a. : non avalaible  Source :   \n",
       "1990                          0                   NaN       NaN  \n",
       "1991                          0                   NaN       NaN  \n",
       "1992                          0                   NaN       NaN  \n",
       "1993                          0                   NaN       NaN  \n",
       "1994                          0                   NaN       NaN  \n",
       "1995                          0                   NaN       NaN  \n",
       "1996                          0                   NaN       NaN  \n",
       "1997                          0                   NaN       NaN  \n",
       "1998                          0                   NaN       NaN  \n",
       "1999                          0                   NaN       NaN  \n",
       "2000                          0                   NaN       NaN  \n",
       "2001                          0                   NaN       NaN  \n",
       "2002                          0                   NaN       NaN  \n",
       "2003                          0                   NaN       NaN  \n",
       "2004                          0                   NaN       NaN  \n",
       "2005                          0                   NaN       NaN  \n",
       "2006                          0                   NaN       NaN  \n",
       "2007                          0                   NaN       NaN  \n",
       "2008                          0                   NaN       NaN  \n",
       "2009                          0                   NaN       NaN  \n",
       "2010                          0                   NaN       NaN  \n",
       "2011                          0                   NaN       NaN  \n",
       "2012                          0                   NaN       NaN  \n",
       "2013                   0.094142                   NaN       NaN  \n",
       "2014                   0.258307                   NaN       NaN  \n",
       "2015                   0.232401                   NaN       NaN  \n",
       "2016                     0.2747                   NaN       NaN  \n",
       "2017                   0.269174                   NaN       NaN  \n",
       "2018                   0.442572                   NaN       NaN  \n",
       "\n",
       "[29 rows x 60 columns]"
      ]
     },
     "execution_count": 28,
     "metadata": {},
     "output_type": "execute_result"
    }
   ],
   "source": [
    "df = pd.read_excel('../Data/Enerdata_Energy_Statistical_Yearbook_2019.xlsx', \n",
    "              'Share of renewables in electri',\n",
    "             skiprows=2,\n",
    "             ).T\n",
    "df.columns = df.iloc[0,:]\n",
    "df.drop('Unnamed: 0', inplace=True)\n",
    "df.drop(df.tail(2).index,inplace=True) # drop last n rows\n",
    "\n",
    "df"
   ]
  },
  {
   "cell_type": "code",
   "execution_count": null,
   "metadata": {},
   "outputs": [],
   "source": []
  },
  {
   "cell_type": "code",
   "execution_count": 29,
   "metadata": {},
   "outputs": [
    {
     "data": {
      "application/vnd.plotly.v1+json": {
       "config": {
        "linkText": "Export to plot.ly",
        "plotlyServerURL": "https://plot.ly",
        "showLink": true
       },
       "data": [
        {
         "marker": {
          "color": "rgba(255, 153, 51, 0.6)",
          "line": {
           "color": "rgba(255, 153, 51, 1.0)",
           "width": 1
          }
         },
         "name": "World",
         "orientation": "v",
         "text": "",
         "type": "bar",
         "uid": "c8b335c4-f2d6-4f0b-9e09-2fac08f88f56",
         "x": [
          1990,
          1991,
          1992,
          1993,
          1994,
          1995,
          1996,
          1997,
          1998,
          1999,
          2000,
          2001,
          2002,
          2003,
          2004,
          2005,
          2006,
          2007,
          2008,
          2009,
          2010,
          2011,
          2012,
          2013,
          2014,
          2015,
          2016,
          2017,
          2018
         ],
         "y": [
          19.761948,
          19.691544,
          19.614448,
          20.244663,
          19.982286,
          20.31545,
          19.988534,
          19.866515,
          19.530001,
          19.145701,
          18.820823,
          18.349811,
          18.266839,
          17.854001,
          18.262534,
          18.398601,
          18.525114,
          18.254417,
          18.909009,
          19.672262,
          19.888889,
          20.217626,
          21.171837,
          21.948402,
          22.632963,
          23.054748,
          24.106377,
          24.827322,
          25.603861
         ]
        }
       ],
       "layout": {
        "legend": {
         "bgcolor": "#1A1A1C",
         "font": {
          "color": "#D9D9D9"
         }
        },
        "paper_bgcolor": "#1A1A1C",
        "plot_bgcolor": "#1A1A1C",
        "title": "Share of Global Energy that is Renewable, Per Year",
        "titlefont": {
         "color": "#D9D9D9"
        },
        "xaxis": {
         "gridcolor": "#434343",
         "showgrid": true,
         "tickfont": {
          "color": "#C2C2C2"
         },
         "title": "Year",
         "titlefont": {
          "color": "#D9D9D9"
         },
         "zerolinecolor": "#666570"
        },
        "yaxis": {
         "gridcolor": "#434343",
         "showgrid": true,
         "tickfont": {
          "color": "#C2C2C2"
         },
         "title": "Share of Global Energy that is Renewable (%)",
         "titlefont": {
          "color": "#D9D9D9"
         },
         "zerolinecolor": "#666570"
        }
       }
      },
      "text/html": [
       "<div id=\"49ca79bb-311a-432e-a1c5-a26f38e8efc5\" style=\"height: 525px; width: 100%;\" class=\"plotly-graph-div\"></div><script type=\"text/javascript\">require([\"plotly\"], function(Plotly) { window.PLOTLYENV=window.PLOTLYENV || {};window.PLOTLYENV.BASE_URL=\"https://plot.ly\";Plotly.newPlot(\"49ca79bb-311a-432e-a1c5-a26f38e8efc5\", [{\"marker\": {\"color\": \"rgba(255, 153, 51, 0.6)\", \"line\": {\"color\": \"rgba(255, 153, 51, 1.0)\", \"width\": 1}}, \"name\": \"World\", \"orientation\": \"v\", \"text\": \"\", \"x\": [1990, 1991, 1992, 1993, 1994, 1995, 1996, 1997, 1998, 1999, 2000, 2001, 2002, 2003, 2004, 2005, 2006, 2007, 2008, 2009, 2010, 2011, 2012, 2013, 2014, 2015, 2016, 2017, 2018], \"y\": [19.761948, 19.691544, 19.614448, 20.244663, 19.982286, 20.31545, 19.988534, 19.866515, 19.530001, 19.145701, 18.820823, 18.349811, 18.266839, 17.854001, 18.262534, 18.398601, 18.525114, 18.254417, 18.909009, 19.672262, 19.888889, 20.217626, 21.171837, 21.948402, 22.632963, 23.054748, 24.106377, 24.827322, 25.603861], \"type\": \"bar\", \"uid\": \"4ba3cc7c-d9f9-46d2-9400-922a671dea85\"}], {\"legend\": {\"bgcolor\": \"#1A1A1C\", \"font\": {\"color\": \"#D9D9D9\"}}, \"paper_bgcolor\": \"#1A1A1C\", \"plot_bgcolor\": \"#1A1A1C\", \"title\": \"Share of Global Energy that is Renewable, Per Year\", \"titlefont\": {\"color\": \"#D9D9D9\"}, \"xaxis\": {\"gridcolor\": \"#434343\", \"showgrid\": true, \"tickfont\": {\"color\": \"#C2C2C2\"}, \"title\": \"Year\", \"titlefont\": {\"color\": \"#D9D9D9\"}, \"zerolinecolor\": \"#666570\"}, \"yaxis\": {\"gridcolor\": \"#434343\", \"showgrid\": true, \"tickfont\": {\"color\": \"#C2C2C2\"}, \"title\": \"Share of Global Energy that is Renewable (%)\", \"titlefont\": {\"color\": \"#D9D9D9\"}, \"zerolinecolor\": \"#666570\"}}, {\"showLink\": true, \"linkText\": \"Export to plot.ly\", \"plotlyServerURL\": \"https://plot.ly\"})});</script><script type=\"text/javascript\">window.addEventListener(\"resize\", function(){window._Plotly.Plots.resize(document.getElementById(\"49ca79bb-311a-432e-a1c5-a26f38e8efc5\"));});</script>"
      ],
      "text/vnd.plotly.v1+html": [
       "<div id=\"49ca79bb-311a-432e-a1c5-a26f38e8efc5\" style=\"height: 525px; width: 100%;\" class=\"plotly-graph-div\"></div><script type=\"text/javascript\">require([\"plotly\"], function(Plotly) { window.PLOTLYENV=window.PLOTLYENV || {};window.PLOTLYENV.BASE_URL=\"https://plot.ly\";Plotly.newPlot(\"49ca79bb-311a-432e-a1c5-a26f38e8efc5\", [{\"marker\": {\"color\": \"rgba(255, 153, 51, 0.6)\", \"line\": {\"color\": \"rgba(255, 153, 51, 1.0)\", \"width\": 1}}, \"name\": \"World\", \"orientation\": \"v\", \"text\": \"\", \"x\": [1990, 1991, 1992, 1993, 1994, 1995, 1996, 1997, 1998, 1999, 2000, 2001, 2002, 2003, 2004, 2005, 2006, 2007, 2008, 2009, 2010, 2011, 2012, 2013, 2014, 2015, 2016, 2017, 2018], \"y\": [19.761948, 19.691544, 19.614448, 20.244663, 19.982286, 20.31545, 19.988534, 19.866515, 19.530001, 19.145701, 18.820823, 18.349811, 18.266839, 17.854001, 18.262534, 18.398601, 18.525114, 18.254417, 18.909009, 19.672262, 19.888889, 20.217626, 21.171837, 21.948402, 22.632963, 23.054748, 24.106377, 24.827322, 25.603861], \"type\": \"bar\", \"uid\": \"4ba3cc7c-d9f9-46d2-9400-922a671dea85\"}], {\"legend\": {\"bgcolor\": \"#1A1A1C\", \"font\": {\"color\": \"#D9D9D9\"}}, \"paper_bgcolor\": \"#1A1A1C\", \"plot_bgcolor\": \"#1A1A1C\", \"title\": \"Share of Global Energy that is Renewable, Per Year\", \"titlefont\": {\"color\": \"#D9D9D9\"}, \"xaxis\": {\"gridcolor\": \"#434343\", \"showgrid\": true, \"tickfont\": {\"color\": \"#C2C2C2\"}, \"title\": \"Year\", \"titlefont\": {\"color\": \"#D9D9D9\"}, \"zerolinecolor\": \"#666570\"}, \"yaxis\": {\"gridcolor\": \"#434343\", \"showgrid\": true, \"tickfont\": {\"color\": \"#C2C2C2\"}, \"title\": \"Share of Global Energy that is Renewable (%)\", \"titlefont\": {\"color\": \"#D9D9D9\"}, \"zerolinecolor\": \"#666570\"}}, {\"showLink\": true, \"linkText\": \"Export to plot.ly\", \"plotlyServerURL\": \"https://plot.ly\"})});</script><script type=\"text/javascript\">window.addEventListener(\"resize\", function(){window._Plotly.Plots.resize(document.getElementById(\"49ca79bb-311a-432e-a1c5-a26f38e8efc5\"));});</script>"
      ]
     },
     "metadata": {},
     "output_type": "display_data"
    }
   ],
   "source": [
    "cufflinks.set_config_file(theme='white')\n",
    "df.loc[:,'World'].iplot(kind='bar', xTitle='Year', \n",
    "                  yTitle='Share of Global Energy that is Renewable (%)', theme='space', \n",
    "       title='Share of Global Energy that is Renewable, Per Year', width=4)\n"
   ]
  },
  {
   "cell_type": "code",
   "execution_count": 30,
   "metadata": {},
   "outputs": [
    {
     "data": {
      "application/vnd.plotly.v1+json": {
       "config": {
        "linkText": "Export to plot.ly",
        "plotlyServerURL": "https://plot.ly",
        "showLink": true
       },
       "data": [
        {
         "line": {
          "color": "rgba(226, 74, 51, 1.0)",
          "dash": "solid",
          "shape": "linear",
          "width": 4
         },
         "mode": "lines",
         "name": "World",
         "text": "",
         "type": "scatter",
         "uid": "ed5c184a-13f1-45c6-88de-aaa28f7f344c",
         "x": [
          1990,
          1991,
          1992,
          1993,
          1994,
          1995,
          1996,
          1997,
          1998,
          1999,
          2000,
          2001,
          2002,
          2003,
          2004,
          2005,
          2006,
          2007,
          2008,
          2009,
          2010,
          2011,
          2012,
          2013,
          2014,
          2015,
          2016,
          2017,
          2018
         ],
         "y": [
          19.761948,
          19.691544,
          19.614448,
          20.244663,
          19.982286,
          20.31545,
          19.988534,
          19.866515,
          19.530001,
          19.145701,
          18.820823,
          18.349811,
          18.266839,
          17.854001,
          18.262534,
          18.398601,
          18.525114,
          18.254417,
          18.909009,
          19.672262,
          19.888889,
          20.217626,
          21.171837,
          21.948402,
          22.632963,
          23.054748,
          24.106377,
          24.827322,
          25.603861
         ]
        }
       ],
       "layout": {
        "legend": {
         "bgcolor": "#FFFFFF",
         "font": {
          "color": "#666666"
         }
        },
        "paper_bgcolor": "#FFFFFF",
        "plot_bgcolor": "#E5E5E5",
        "title": "Share of Global Energy that is Renewable, Per Year",
        "titlefont": {
         "color": "#151516"
        },
        "xaxis": {
         "gridcolor": "#F6F6F6",
         "showgrid": true,
         "tickfont": {
          "color": "#666666"
         },
         "title": "Year",
         "titlefont": {
          "color": "#666666"
         },
         "zerolinecolor": "#F6F6F6"
        },
        "yaxis": {
         "gridcolor": "#F6F6F6",
         "showgrid": true,
         "tickfont": {
          "color": "#666666"
         },
         "title": "Share of Global Energy that is Renewable (%)",
         "titlefont": {
          "color": "#666666"
         },
         "zerolinecolor": "#F6F6F6"
        }
       }
      },
      "text/html": [
       "<div id=\"de105261-471c-41a7-8ba8-e37be7d99873\" style=\"height: 525px; width: 100%;\" class=\"plotly-graph-div\"></div><script type=\"text/javascript\">require([\"plotly\"], function(Plotly) { window.PLOTLYENV=window.PLOTLYENV || {};window.PLOTLYENV.BASE_URL=\"https://plot.ly\";Plotly.newPlot(\"de105261-471c-41a7-8ba8-e37be7d99873\", [{\"line\": {\"color\": \"rgba(226, 74, 51, 1.0)\", \"dash\": \"solid\", \"shape\": \"linear\", \"width\": 4}, \"mode\": \"lines\", \"name\": \"World\", \"text\": \"\", \"x\": [1990, 1991, 1992, 1993, 1994, 1995, 1996, 1997, 1998, 1999, 2000, 2001, 2002, 2003, 2004, 2005, 2006, 2007, 2008, 2009, 2010, 2011, 2012, 2013, 2014, 2015, 2016, 2017, 2018], \"y\": [19.761948, 19.691544, 19.614448, 20.244663, 19.982286, 20.31545, 19.988534, 19.866515, 19.530001, 19.145701, 18.820823, 18.349811, 18.266839, 17.854001, 18.262534, 18.398601, 18.525114, 18.254417, 18.909009, 19.672262, 19.888889, 20.217626, 21.171837, 21.948402, 22.632963, 23.054748, 24.106377, 24.827322, 25.603861], \"type\": \"scatter\", \"uid\": \"19caf436-1e16-43e3-8c08-54074d298130\"}], {\"legend\": {\"bgcolor\": \"#FFFFFF\", \"font\": {\"color\": \"#666666\"}}, \"paper_bgcolor\": \"#FFFFFF\", \"plot_bgcolor\": \"#E5E5E5\", \"title\": \"Share of Global Energy that is Renewable, Per Year\", \"titlefont\": {\"color\": \"#151516\"}, \"xaxis\": {\"gridcolor\": \"#F6F6F6\", \"showgrid\": true, \"tickfont\": {\"color\": \"#666666\"}, \"title\": \"Year\", \"titlefont\": {\"color\": \"#666666\"}, \"zerolinecolor\": \"#F6F6F6\"}, \"yaxis\": {\"gridcolor\": \"#F6F6F6\", \"showgrid\": true, \"tickfont\": {\"color\": \"#666666\"}, \"title\": \"Share of Global Energy that is Renewable (%)\", \"titlefont\": {\"color\": \"#666666\"}, \"zerolinecolor\": \"#F6F6F6\"}}, {\"showLink\": true, \"linkText\": \"Export to plot.ly\", \"plotlyServerURL\": \"https://plot.ly\"})});</script><script type=\"text/javascript\">window.addEventListener(\"resize\", function(){window._Plotly.Plots.resize(document.getElementById(\"de105261-471c-41a7-8ba8-e37be7d99873\"));});</script>"
      ],
      "text/vnd.plotly.v1+html": [
       "<div id=\"de105261-471c-41a7-8ba8-e37be7d99873\" style=\"height: 525px; width: 100%;\" class=\"plotly-graph-div\"></div><script type=\"text/javascript\">require([\"plotly\"], function(Plotly) { window.PLOTLYENV=window.PLOTLYENV || {};window.PLOTLYENV.BASE_URL=\"https://plot.ly\";Plotly.newPlot(\"de105261-471c-41a7-8ba8-e37be7d99873\", [{\"line\": {\"color\": \"rgba(226, 74, 51, 1.0)\", \"dash\": \"solid\", \"shape\": \"linear\", \"width\": 4}, \"mode\": \"lines\", \"name\": \"World\", \"text\": \"\", \"x\": [1990, 1991, 1992, 1993, 1994, 1995, 1996, 1997, 1998, 1999, 2000, 2001, 2002, 2003, 2004, 2005, 2006, 2007, 2008, 2009, 2010, 2011, 2012, 2013, 2014, 2015, 2016, 2017, 2018], \"y\": [19.761948, 19.691544, 19.614448, 20.244663, 19.982286, 20.31545, 19.988534, 19.866515, 19.530001, 19.145701, 18.820823, 18.349811, 18.266839, 17.854001, 18.262534, 18.398601, 18.525114, 18.254417, 18.909009, 19.672262, 19.888889, 20.217626, 21.171837, 21.948402, 22.632963, 23.054748, 24.106377, 24.827322, 25.603861], \"type\": \"scatter\", \"uid\": \"19caf436-1e16-43e3-8c08-54074d298130\"}], {\"legend\": {\"bgcolor\": \"#FFFFFF\", \"font\": {\"color\": \"#666666\"}}, \"paper_bgcolor\": \"#FFFFFF\", \"plot_bgcolor\": \"#E5E5E5\", \"title\": \"Share of Global Energy that is Renewable, Per Year\", \"titlefont\": {\"color\": \"#151516\"}, \"xaxis\": {\"gridcolor\": \"#F6F6F6\", \"showgrid\": true, \"tickfont\": {\"color\": \"#666666\"}, \"title\": \"Year\", \"titlefont\": {\"color\": \"#666666\"}, \"zerolinecolor\": \"#F6F6F6\"}, \"yaxis\": {\"gridcolor\": \"#F6F6F6\", \"showgrid\": true, \"tickfont\": {\"color\": \"#666666\"}, \"title\": \"Share of Global Energy that is Renewable (%)\", \"titlefont\": {\"color\": \"#666666\"}, \"zerolinecolor\": \"#F6F6F6\"}}, {\"showLink\": true, \"linkText\": \"Export to plot.ly\", \"plotlyServerURL\": \"https://plot.ly\"})});</script><script type=\"text/javascript\">window.addEventListener(\"resize\", function(){window._Plotly.Plots.resize(document.getElementById(\"de105261-471c-41a7-8ba8-e37be7d99873\"));});</script>"
      ]
     },
     "metadata": {},
     "output_type": "display_data"
    }
   ],
   "source": [
    "df.loc[:,'World'].iplot(kind='lines', xTitle='Year', theme='ggplot',\n",
    "                  yTitle='Share of Global Energy that is Renewable (%)', \n",
    "       title='Share of Global Energy that is Renewable, Per Year', width=4)\n"
   ]
  },
  {
   "cell_type": "code",
   "execution_count": 31,
   "metadata": {},
   "outputs": [
    {
     "data": {
      "text/html": [
       "<div>\n",
       "<style scoped>\n",
       "    .dataframe tbody tr th:only-of-type {\n",
       "        vertical-align: middle;\n",
       "    }\n",
       "\n",
       "    .dataframe tbody tr th {\n",
       "        vertical-align: top;\n",
       "    }\n",
       "\n",
       "    .dataframe thead th {\n",
       "        text-align: right;\n",
       "    }\n",
       "</style>\n",
       "<table border=\"1\" class=\"dataframe\">\n",
       "  <thead>\n",
       "    <tr style=\"text-align: right;\">\n",
       "      <th>Unnamed: 0</th>\n",
       "      <th>World</th>\n",
       "      <th>OECD</th>\n",
       "      <th>G7</th>\n",
       "      <th>BRICS</th>\n",
       "      <th>Europe</th>\n",
       "      <th>European Union</th>\n",
       "      <th>Belgium</th>\n",
       "      <th>Czech Republic</th>\n",
       "      <th>France</th>\n",
       "      <th>Germany</th>\n",
       "      <th>...</th>\n",
       "      <th>Egypt</th>\n",
       "      <th>Nigeria</th>\n",
       "      <th>South Africa</th>\n",
       "      <th>Middle-East</th>\n",
       "      <th>Iran</th>\n",
       "      <th>Kuwait</th>\n",
       "      <th>Saudi Arabia</th>\n",
       "      <th>United Arab Emirates</th>\n",
       "      <th>n.a. : non avalaible</th>\n",
       "      <th>Source :</th>\n",
       "    </tr>\n",
       "  </thead>\n",
       "  <tbody>\n",
       "    <tr>\n",
       "      <th>1990</th>\n",
       "      <td>0.517469</td>\n",
       "      <td>0.696523</td>\n",
       "      <td>0.740087</td>\n",
       "      <td>0.005364</td>\n",
       "      <td>0.177209</td>\n",
       "      <td>0.180835</td>\n",
       "      <td>0.00987</td>\n",
       "      <td>0</td>\n",
       "      <td>0.119548</td>\n",
       "      <td>0.013091</td>\n",
       "      <td>...</td>\n",
       "      <td>0</td>\n",
       "      <td>0</td>\n",
       "      <td>0</td>\n",
       "      <td>0.000409</td>\n",
       "      <td>0</td>\n",
       "      <td>0</td>\n",
       "      <td>0</td>\n",
       "      <td>0</td>\n",
       "      <td>NaN</td>\n",
       "      <td>NaN</td>\n",
       "    </tr>\n",
       "    <tr>\n",
       "      <th>1991</th>\n",
       "      <td>0.522381</td>\n",
       "      <td>0.702338</td>\n",
       "      <td>0.742248</td>\n",
       "      <td>0.005795</td>\n",
       "      <td>0.181986</td>\n",
       "      <td>0.187001</td>\n",
       "      <td>0.011121</td>\n",
       "      <td>0</td>\n",
       "      <td>0.113488</td>\n",
       "      <td>0.040027</td>\n",
       "      <td>...</td>\n",
       "      <td>0</td>\n",
       "      <td>0</td>\n",
       "      <td>0</td>\n",
       "      <td>0.000406</td>\n",
       "      <td>0</td>\n",
       "      <td>0</td>\n",
       "      <td>0</td>\n",
       "      <td>0</td>\n",
       "      <td>NaN</td>\n",
       "      <td>NaN</td>\n",
       "    </tr>\n",
       "    <tr>\n",
       "      <th>1992</th>\n",
       "      <td>0.538442</td>\n",
       "      <td>0.721369</td>\n",
       "      <td>0.758461</td>\n",
       "      <td>0.009882</td>\n",
       "      <td>0.219669</td>\n",
       "      <td>0.231734</td>\n",
       "      <td>0.012461</td>\n",
       "      <td>0</td>\n",
       "      <td>0.111293</td>\n",
       "      <td>0.054887</td>\n",
       "      <td>...</td>\n",
       "      <td>0</td>\n",
       "      <td>0</td>\n",
       "      <td>0</td>\n",
       "      <td>0.000357</td>\n",
       "      <td>0</td>\n",
       "      <td>0</td>\n",
       "      <td>0</td>\n",
       "      <td>0</td>\n",
       "      <td>NaN</td>\n",
       "      <td>NaN</td>\n",
       "    </tr>\n",
       "    <tr>\n",
       "      <th>1993</th>\n",
       "      <td>0.54424</td>\n",
       "      <td>0.734042</td>\n",
       "      <td>0.771127</td>\n",
       "      <td>0.010455</td>\n",
       "      <td>0.25641</td>\n",
       "      <td>0.270906</td>\n",
       "      <td>0.011294</td>\n",
       "      <td>0</td>\n",
       "      <td>0.104928</td>\n",
       "      <td>0.12864</td>\n",
       "      <td>...</td>\n",
       "      <td>0</td>\n",
       "      <td>0</td>\n",
       "      <td>0</td>\n",
       "      <td>0.000324</td>\n",
       "      <td>0</td>\n",
       "      <td>0</td>\n",
       "      <td>0</td>\n",
       "      <td>0</td>\n",
       "      <td>NaN</td>\n",
       "      <td>NaN</td>\n",
       "    </tr>\n",
       "    <tr>\n",
       "      <th>1994</th>\n",
       "      <td>0.560327</td>\n",
       "      <td>0.739633</td>\n",
       "      <td>0.786712</td>\n",
       "      <td>0.014905</td>\n",
       "      <td>0.282463</td>\n",
       "      <td>0.299933</td>\n",
       "      <td>0.012469</td>\n",
       "      <td>0</td>\n",
       "      <td>0.106319</td>\n",
       "      <td>0.271185</td>\n",
       "      <td>...</td>\n",
       "      <td>0</td>\n",
       "      <td>0</td>\n",
       "      <td>0</td>\n",
       "      <td>0.000303</td>\n",
       "      <td>0</td>\n",
       "      <td>0</td>\n",
       "      <td>0</td>\n",
       "      <td>0</td>\n",
       "      <td>NaN</td>\n",
       "      <td>NaN</td>\n",
       "    </tr>\n",
       "  </tbody>\n",
       "</table>\n",
       "<p>5 rows × 60 columns</p>\n",
       "</div>"
      ],
      "text/plain": [
       "Unnamed: 0     World      OECD        G7     BRICS    Europe European Union  \\\n",
       "1990        0.517469  0.696523  0.740087  0.005364  0.177209       0.180835   \n",
       "1991        0.522381  0.702338  0.742248  0.005795  0.181986       0.187001   \n",
       "1992        0.538442  0.721369  0.758461  0.009882  0.219669       0.231734   \n",
       "1993         0.54424  0.734042  0.771127  0.010455   0.25641       0.270906   \n",
       "1994        0.560327  0.739633  0.786712  0.014905  0.282463       0.299933   \n",
       "\n",
       "Unnamed: 0   Belgium Czech Republic    France   Germany    ...    Egypt  \\\n",
       "1990         0.00987              0  0.119548  0.013091    ...        0   \n",
       "1991        0.011121              0  0.113488  0.040027    ...        0   \n",
       "1992        0.012461              0  0.111293  0.054887    ...        0   \n",
       "1993        0.011294              0  0.104928   0.12864    ...        0   \n",
       "1994        0.012469              0  0.106319  0.271185    ...        0   \n",
       "\n",
       "Unnamed: 0 Nigeria South Africa Middle-East Iran Kuwait Saudi Arabia  \\\n",
       "1990             0            0    0.000409    0      0            0   \n",
       "1991             0            0    0.000406    0      0            0   \n",
       "1992             0            0    0.000357    0      0            0   \n",
       "1993             0            0    0.000324    0      0            0   \n",
       "1994             0            0    0.000303    0      0            0   \n",
       "\n",
       "Unnamed: 0 United Arab Emirates n.a. : non avalaible  Source :   \n",
       "1990                          0                   NaN       NaN  \n",
       "1991                          0                   NaN       NaN  \n",
       "1992                          0                   NaN       NaN  \n",
       "1993                          0                   NaN       NaN  \n",
       "1994                          0                   NaN       NaN  \n",
       "\n",
       "[5 rows x 60 columns]"
      ]
     },
     "execution_count": 31,
     "metadata": {},
     "output_type": "execute_result"
    }
   ],
   "source": [
    "df_solar_wind = pd.read_excel('../Data/Enerdata_Energy_Statistical_Yearbook_2019.xlsx', \n",
    "              'Share of wind and solar in ele',\n",
    "             skiprows=2,\n",
    "             ).T\n",
    "df_solar_wind.columns = df_solar_wind.iloc[0,:]\n",
    "df_solar_wind.drop('Unnamed: 0', inplace=True)\n",
    "df_solar_wind.drop(df.tail(2).index,inplace=True) # drop last n rows\n",
    "df_solar_wind.head()"
   ]
  },
  {
   "cell_type": "code",
   "execution_count": 32,
   "metadata": {},
   "outputs": [],
   "source": [
    "df2 = pd.DataFrame(columns=['Total Global Share Renewables', 'Total Global Share Solar & Wind'])\n",
    "df2['Total Global Share Renewables'] = df['World']\n",
    "df2['Total Global Share Solar & Wind'] = df_solar_wind['World']"
   ]
  },
  {
   "cell_type": "code",
   "execution_count": 33,
   "metadata": {},
   "outputs": [],
   "source": [
    "df2['Total Renewables minus Solar & Wind'] = df2['Total Global Share Renewables'] - df2['Total Global Share Solar & Wind']"
   ]
  },
  {
   "cell_type": "code",
   "execution_count": 72,
   "metadata": {},
   "outputs": [
    {
     "data": {
      "application/vnd.plotly.v1+json": {
       "config": {
        "linkText": "Export to plot.ly",
        "plotlyServerURL": "https://plot.ly",
        "showLink": true
       },
       "data": [
        {
         "marker": {
          "color": "rgba(255, 255, 51, 0.6)",
          "line": {
           "color": "rgba(255, 255, 51, 1.0)",
           "width": 1
          }
         },
         "name": "Total Global Share Solar & Wind",
         "orientation": "v",
         "text": "",
         "type": "bar",
         "uid": "b13df8e2-ce31-4fd8-bb29-b3802568fc55",
         "x": [
          1990,
          1991,
          1992,
          1993,
          1994,
          1995,
          1996,
          1997,
          1998,
          1999,
          2000,
          2001,
          2002,
          2003,
          2004,
          2005,
          2006,
          2007,
          2008,
          2009,
          2010,
          2011,
          2012,
          2013,
          2014,
          2015,
          2016,
          2017,
          2018
         ],
         "y": [
          0.517469,
          0.522381,
          0.538442,
          0.54424,
          0.560327,
          0.550555,
          0.565139,
          0.573321,
          0.583953,
          0.630428,
          0.687809,
          0.729013,
          0.79898,
          0.874815,
          0.979405,
          1.084172,
          1.195486,
          1.35535,
          1.599523,
          1.944913,
          2.210751,
          2.718922,
          3.215435,
          3.832302,
          4.303337,
          4.980552,
          5.637004,
          "",
          ""
         ]
        },
        {
         "marker": {
          "color": "rgba(19, 154, 67, 0.6)",
          "line": {
           "color": "rgba(19, 154, 67, 1.0)",
           "width": 1
          }
         },
         "name": "Total Renewables minus Solar & Wind",
         "orientation": "v",
         "text": "",
         "type": "bar",
         "uid": "d33f9fa3-0605-4801-bd46-7942882e3ce4",
         "x": [
          1990,
          1991,
          1992,
          1993,
          1994,
          1995,
          1996,
          1997,
          1998,
          1999,
          2000,
          2001,
          2002,
          2003,
          2004,
          2005,
          2006,
          2007,
          2008,
          2009,
          2010,
          2011,
          2012,
          2013,
          2014,
          2015,
          2016,
          2017,
          2018
         ],
         "y": [
          19.244479000000002,
          19.169163,
          19.076006,
          19.700423,
          19.421958999999998,
          19.764895,
          19.423395000000003,
          19.293194,
          18.946047999999998,
          18.515273,
          18.133014,
          17.620798,
          17.467859,
          16.979186,
          17.283129,
          17.314429,
          17.329628,
          16.899067,
          17.309486,
          17.727349,
          17.678137999999997,
          17.498704,
          17.956402,
          18.116100000000003,
          18.329626,
          18.074196,
          18.469372999999997,
          "",
          ""
         ]
        }
       ],
       "layout": {
        "barmode": "stack",
        "legend": {
         "bgcolor": "#1A1A1C",
         "font": {
          "color": "#D9D9D9"
         },
         "traceorder": "normal"
        },
        "paper_bgcolor": "#1A1A1C",
        "plot_bgcolor": "#1A1A1C",
        "title": "Share of Global Energy that is Renewable, Per Year",
        "titlefont": {
         "color": "#D9D9D9"
        },
        "xaxis": {
         "gridcolor": "#434343",
         "showgrid": true,
         "tickfont": {
          "color": "#C2C2C2"
         },
         "title": "Year",
         "titlefont": {
          "color": "#D9D9D9"
         },
         "zerolinecolor": "#666570"
        },
        "yaxis": {
         "gridcolor": "#434343",
         "showgrid": true,
         "tickfont": {
          "color": "#C2C2C2"
         },
         "title": "Share of Global Energy that is Renewable (%)",
         "titlefont": {
          "color": "#D9D9D9"
         },
         "zerolinecolor": "#666570"
        }
       }
      },
      "text/html": [
       "<div id=\"5658f14f-db56-4779-b45a-99aea9bda077\" style=\"height: 525px; width: 100%;\" class=\"plotly-graph-div\"></div><script type=\"text/javascript\">require([\"plotly\"], function(Plotly) { window.PLOTLYENV=window.PLOTLYENV || {};window.PLOTLYENV.BASE_URL=\"https://plot.ly\";Plotly.newPlot(\"5658f14f-db56-4779-b45a-99aea9bda077\", [{\"marker\": {\"color\": \"rgba(255, 255, 51, 0.6)\", \"line\": {\"color\": \"rgba(255, 255, 51, 1.0)\", \"width\": 1}}, \"name\": \"Total Global Share Solar & Wind\", \"orientation\": \"v\", \"text\": \"\", \"x\": [1990, 1991, 1992, 1993, 1994, 1995, 1996, 1997, 1998, 1999, 2000, 2001, 2002, 2003, 2004, 2005, 2006, 2007, 2008, 2009, 2010, 2011, 2012, 2013, 2014, 2015, 2016, 2017, 2018], \"y\": [0.517469, 0.522381, 0.538442, 0.54424, 0.560327, 0.550555, 0.565139, 0.573321, 0.583953, 0.630428, 0.687809, 0.729013, 0.79898, 0.874815, 0.979405, 1.084172, 1.195486, 1.35535, 1.599523, 1.944913, 2.210751, 2.718922, 3.215435, 3.832302, 4.303337, 4.980552, 5.637004, \"\", \"\"], \"type\": \"bar\", \"uid\": \"623a1911-8e37-4673-8d3b-52346bee71ee\"}, {\"marker\": {\"color\": \"rgba(19, 154, 67, 0.6)\", \"line\": {\"color\": \"rgba(19, 154, 67, 1.0)\", \"width\": 1}}, \"name\": \"Total Renewables minus Solar & Wind\", \"orientation\": \"v\", \"text\": \"\", \"x\": [1990, 1991, 1992, 1993, 1994, 1995, 1996, 1997, 1998, 1999, 2000, 2001, 2002, 2003, 2004, 2005, 2006, 2007, 2008, 2009, 2010, 2011, 2012, 2013, 2014, 2015, 2016, 2017, 2018], \"y\": [19.244479000000002, 19.169163, 19.076006, 19.700423, 19.421958999999998, 19.764895, 19.423395000000003, 19.293194, 18.946047999999998, 18.515273, 18.133014, 17.620798, 17.467859, 16.979186, 17.283129, 17.314429, 17.329628, 16.899067, 17.309486, 17.727349, 17.678137999999997, 17.498704, 17.956402, 18.116100000000003, 18.329626, 18.074196, 18.469372999999997, \"\", \"\"], \"type\": \"bar\", \"uid\": \"5fd99b5d-3c78-465a-bf37-3b6b89fcb9d7\"}], {\"barmode\": \"stack\", \"legend\": {\"bgcolor\": \"#1A1A1C\", \"font\": {\"color\": \"#D9D9D9\"}, \"traceorder\": \"normal\"}, \"paper_bgcolor\": \"#1A1A1C\", \"plot_bgcolor\": \"#1A1A1C\", \"title\": \"Share of Global Energy that is Renewable, Per Year\", \"titlefont\": {\"color\": \"#D9D9D9\"}, \"xaxis\": {\"gridcolor\": \"#434343\", \"showgrid\": true, \"tickfont\": {\"color\": \"#C2C2C2\"}, \"title\": \"Year\", \"titlefont\": {\"color\": \"#D9D9D9\"}, \"zerolinecolor\": \"#666570\"}, \"yaxis\": {\"gridcolor\": \"#434343\", \"showgrid\": true, \"tickfont\": {\"color\": \"#C2C2C2\"}, \"title\": \"Share of Global Energy that is Renewable (%)\", \"titlefont\": {\"color\": \"#D9D9D9\"}, \"zerolinecolor\": \"#666570\"}}, {\"showLink\": true, \"linkText\": \"Export to plot.ly\", \"plotlyServerURL\": \"https://plot.ly\"})});</script><script type=\"text/javascript\">window.addEventListener(\"resize\", function(){window._Plotly.Plots.resize(document.getElementById(\"5658f14f-db56-4779-b45a-99aea9bda077\"));});</script>"
      ],
      "text/vnd.plotly.v1+html": [
       "<div id=\"5658f14f-db56-4779-b45a-99aea9bda077\" style=\"height: 525px; width: 100%;\" class=\"plotly-graph-div\"></div><script type=\"text/javascript\">require([\"plotly\"], function(Plotly) { window.PLOTLYENV=window.PLOTLYENV || {};window.PLOTLYENV.BASE_URL=\"https://plot.ly\";Plotly.newPlot(\"5658f14f-db56-4779-b45a-99aea9bda077\", [{\"marker\": {\"color\": \"rgba(255, 255, 51, 0.6)\", \"line\": {\"color\": \"rgba(255, 255, 51, 1.0)\", \"width\": 1}}, \"name\": \"Total Global Share Solar & Wind\", \"orientation\": \"v\", \"text\": \"\", \"x\": [1990, 1991, 1992, 1993, 1994, 1995, 1996, 1997, 1998, 1999, 2000, 2001, 2002, 2003, 2004, 2005, 2006, 2007, 2008, 2009, 2010, 2011, 2012, 2013, 2014, 2015, 2016, 2017, 2018], \"y\": [0.517469, 0.522381, 0.538442, 0.54424, 0.560327, 0.550555, 0.565139, 0.573321, 0.583953, 0.630428, 0.687809, 0.729013, 0.79898, 0.874815, 0.979405, 1.084172, 1.195486, 1.35535, 1.599523, 1.944913, 2.210751, 2.718922, 3.215435, 3.832302, 4.303337, 4.980552, 5.637004, \"\", \"\"], \"type\": \"bar\", \"uid\": \"623a1911-8e37-4673-8d3b-52346bee71ee\"}, {\"marker\": {\"color\": \"rgba(19, 154, 67, 0.6)\", \"line\": {\"color\": \"rgba(19, 154, 67, 1.0)\", \"width\": 1}}, \"name\": \"Total Renewables minus Solar & Wind\", \"orientation\": \"v\", \"text\": \"\", \"x\": [1990, 1991, 1992, 1993, 1994, 1995, 1996, 1997, 1998, 1999, 2000, 2001, 2002, 2003, 2004, 2005, 2006, 2007, 2008, 2009, 2010, 2011, 2012, 2013, 2014, 2015, 2016, 2017, 2018], \"y\": [19.244479000000002, 19.169163, 19.076006, 19.700423, 19.421958999999998, 19.764895, 19.423395000000003, 19.293194, 18.946047999999998, 18.515273, 18.133014, 17.620798, 17.467859, 16.979186, 17.283129, 17.314429, 17.329628, 16.899067, 17.309486, 17.727349, 17.678137999999997, 17.498704, 17.956402, 18.116100000000003, 18.329626, 18.074196, 18.469372999999997, \"\", \"\"], \"type\": \"bar\", \"uid\": \"5fd99b5d-3c78-465a-bf37-3b6b89fcb9d7\"}], {\"barmode\": \"stack\", \"legend\": {\"bgcolor\": \"#1A1A1C\", \"font\": {\"color\": \"#D9D9D9\"}, \"traceorder\": \"normal\"}, \"paper_bgcolor\": \"#1A1A1C\", \"plot_bgcolor\": \"#1A1A1C\", \"title\": \"Share of Global Energy that is Renewable, Per Year\", \"titlefont\": {\"color\": \"#D9D9D9\"}, \"xaxis\": {\"gridcolor\": \"#434343\", \"showgrid\": true, \"tickfont\": {\"color\": \"#C2C2C2\"}, \"title\": \"Year\", \"titlefont\": {\"color\": \"#D9D9D9\"}, \"zerolinecolor\": \"#666570\"}, \"yaxis\": {\"gridcolor\": \"#434343\", \"showgrid\": true, \"tickfont\": {\"color\": \"#C2C2C2\"}, \"title\": \"Share of Global Energy that is Renewable (%)\", \"titlefont\": {\"color\": \"#D9D9D9\"}, \"zerolinecolor\": \"#666570\"}}, {\"showLink\": true, \"linkText\": \"Export to plot.ly\", \"plotlyServerURL\": \"https://plot.ly\"})});</script><script type=\"text/javascript\">window.addEventListener(\"resize\", function(){window._Plotly.Plots.resize(document.getElementById(\"5658f14f-db56-4779-b45a-99aea9bda077\"));});</script>"
      ]
     },
     "metadata": {},
     "output_type": "display_data"
    },
    {
     "ename": "AttributeError",
     "evalue": "'NoneType' object has no attribute 'layout'",
     "output_type": "error",
     "traceback": [
      "\u001b[0;31m---------------------------------------------------------------------------\u001b[0m",
      "\u001b[0;31mAttributeError\u001b[0m                            Traceback (most recent call last)",
      "\u001b[0;32m<ipython-input-72-faff2076472c>\u001b[0m in \u001b[0;36m<module>\u001b[0;34m\u001b[0m\n\u001b[1;32m      3\u001b[0m                   \u001b[0myTitle\u001b[0m\u001b[0;34m=\u001b[0m\u001b[0;34m'Share of Global Energy that is Renewable (%)'\u001b[0m\u001b[0;34m,\u001b[0m \u001b[0mtheme\u001b[0m\u001b[0;34m=\u001b[0m\u001b[0;34m'space'\u001b[0m\u001b[0;34m,\u001b[0m\u001b[0;34m\u001b[0m\u001b[0;34m\u001b[0m\u001b[0m\n\u001b[1;32m      4\u001b[0m        title='Share of Global Energy that is Renewable, Per Year', width=4)\n\u001b[0;32m----> 5\u001b[0;31m \u001b[0mmyplot\u001b[0m\u001b[0;34m.\u001b[0m\u001b[0mlayout\u001b[0m\u001b[0;34m.\u001b[0m\u001b[0mlegend\u001b[0m\u001b[0;34m=\u001b[0m\u001b[0mdict\u001b[0m\u001b[0;34m(\u001b[0m\u001b[0mx\u001b[0m\u001b[0;34m=\u001b[0m\u001b[0;34m-\u001b[0m\u001b[0;36m.1\u001b[0m\u001b[0;34m,\u001b[0m \u001b[0my\u001b[0m\u001b[0;34m=\u001b[0m\u001b[0;36m2\u001b[0m\u001b[0;34m)\u001b[0m\u001b[0;34m\u001b[0m\u001b[0;34m\u001b[0m\u001b[0m\n\u001b[0m",
      "\u001b[0;31mAttributeError\u001b[0m: 'NoneType' object has no attribute 'layout'"
     ]
    }
   ],
   "source": [
    "myplot = df2.loc[:,['Total Global Share Solar & Wind', 'Total Renewables minus Solar & Wind']]\\\n",
    ".iplot(kind='bar', xTitle='Year', barmode='stack', colors = ['yellow', '#139A43'],\n",
    "                  yTitle='Share of Global Energy that is Renewable (%)', theme='space', \n",
    "       title='Share of Global Energy that is Renewable, Per Year', width=4)\n",
    "myplot.layout.legend=dict(x=-.1, y=2)"
   ]
  },
  {
   "cell_type": "code",
   "execution_count": 67,
   "metadata": {},
   "outputs": [
    {
     "data": {
      "application/vnd.plotly.v1+json": {
       "config": {
        "linkText": "Export to plot.ly",
        "plotlyServerURL": "https://plot.ly",
        "showLink": true
       },
       "data": [
        {
         "marker": {
          "color": "rgba(255, 255, 51, 0.6)",
          "line": {
           "color": "rgba(255, 255, 51, 1.0)",
           "width": 1
          }
         },
         "name": "Total Global Share Renewables",
         "orientation": "v",
         "text": "",
         "type": "bar",
         "uid": "79bd6a4e-a5ca-4a81-9eb2-c5346c49a350",
         "x": [
          1990,
          1991,
          1992,
          1993,
          1994,
          1995,
          1996,
          1997,
          1998,
          1999,
          2000,
          2001,
          2002,
          2003,
          2004,
          2005,
          2006,
          2007,
          2008,
          2009,
          2010,
          2011,
          2012,
          2013,
          2014,
          2015,
          2016,
          2017,
          2018
         ],
         "y": [
          19.761948,
          19.691544,
          19.614448,
          20.244663,
          19.982286,
          20.31545,
          19.988534,
          19.866515,
          19.530001,
          19.145701,
          18.820823,
          18.349811,
          18.266839,
          17.854001,
          18.262534,
          18.398601,
          18.525114,
          18.254417,
          18.909009,
          19.672262,
          19.888889,
          20.217626,
          21.171837,
          21.948402,
          22.632963,
          23.054748,
          24.106377,
          24.827322,
          25.603861
         ]
        }
       ],
       "layout": {
        "barmode": "stack",
        "legend": {
         "bgcolor": "#1A1A1C",
         "font": {
          "color": "#D9D9D9"
         },
         "traceorder": "normal"
        },
        "paper_bgcolor": "#1A1A1C",
        "plot_bgcolor": "#1A1A1C",
        "title": "Share of Global Energy that is Renewable, Per Year",
        "titlefont": {
         "color": "#D9D9D9"
        },
        "xaxis": {
         "gridcolor": "#434343",
         "showgrid": true,
         "tickfont": {
          "color": "#C2C2C2"
         },
         "title": "Year",
         "titlefont": {
          "color": "#D9D9D9"
         },
         "zerolinecolor": "#666570"
        },
        "yaxis": {
         "gridcolor": "#434343",
         "showgrid": true,
         "tickfont": {
          "color": "#C2C2C2"
         },
         "title": "Share of Global Energy that is Renewable (%)",
         "titlefont": {
          "color": "#D9D9D9"
         },
         "zerolinecolor": "#666570"
        }
       }
      },
      "text/html": [
       "<div id=\"67b9db0d-588d-4775-b218-0277bfe79cf9\" style=\"height: 525px; width: 100%;\" class=\"plotly-graph-div\"></div><script type=\"text/javascript\">require([\"plotly\"], function(Plotly) { window.PLOTLYENV=window.PLOTLYENV || {};window.PLOTLYENV.BASE_URL=\"https://plot.ly\";Plotly.newPlot(\"67b9db0d-588d-4775-b218-0277bfe79cf9\", [{\"marker\": {\"color\": \"rgba(255, 255, 51, 0.6)\", \"line\": {\"color\": \"rgba(255, 255, 51, 1.0)\", \"width\": 1}}, \"name\": \"Total Global Share Renewables\", \"orientation\": \"v\", \"text\": \"\", \"x\": [1990, 1991, 1992, 1993, 1994, 1995, 1996, 1997, 1998, 1999, 2000, 2001, 2002, 2003, 2004, 2005, 2006, 2007, 2008, 2009, 2010, 2011, 2012, 2013, 2014, 2015, 2016, 2017, 2018], \"y\": [19.761948, 19.691544, 19.614448, 20.244663, 19.982286, 20.31545, 19.988534, 19.866515, 19.530001, 19.145701, 18.820823, 18.349811, 18.266839, 17.854001, 18.262534, 18.398601, 18.525114, 18.254417, 18.909009, 19.672262, 19.888889, 20.217626, 21.171837, 21.948402, 22.632963, 23.054748, 24.106377, 24.827322, 25.603861], \"type\": \"bar\", \"uid\": \"410036e1-001e-4792-86b2-d02b84af416a\"}], {\"barmode\": \"stack\", \"legend\": {\"bgcolor\": \"#1A1A1C\", \"font\": {\"color\": \"#D9D9D9\"}, \"traceorder\": \"normal\"}, \"paper_bgcolor\": \"#1A1A1C\", \"plot_bgcolor\": \"#1A1A1C\", \"title\": \"Share of Global Energy that is Renewable, Per Year\", \"titlefont\": {\"color\": \"#D9D9D9\"}, \"xaxis\": {\"gridcolor\": \"#434343\", \"showgrid\": true, \"tickfont\": {\"color\": \"#C2C2C2\"}, \"title\": \"Year\", \"titlefont\": {\"color\": \"#D9D9D9\"}, \"zerolinecolor\": \"#666570\"}, \"yaxis\": {\"gridcolor\": \"#434343\", \"showgrid\": true, \"tickfont\": {\"color\": \"#C2C2C2\"}, \"title\": \"Share of Global Energy that is Renewable (%)\", \"titlefont\": {\"color\": \"#D9D9D9\"}, \"zerolinecolor\": \"#666570\"}}, {\"showLink\": true, \"linkText\": \"Export to plot.ly\", \"plotlyServerURL\": \"https://plot.ly\"})});</script><script type=\"text/javascript\">window.addEventListener(\"resize\", function(){window._Plotly.Plots.resize(document.getElementById(\"67b9db0d-588d-4775-b218-0277bfe79cf9\"));});</script>"
      ],
      "text/vnd.plotly.v1+html": [
       "<div id=\"67b9db0d-588d-4775-b218-0277bfe79cf9\" style=\"height: 525px; width: 100%;\" class=\"plotly-graph-div\"></div><script type=\"text/javascript\">require([\"plotly\"], function(Plotly) { window.PLOTLYENV=window.PLOTLYENV || {};window.PLOTLYENV.BASE_URL=\"https://plot.ly\";Plotly.newPlot(\"67b9db0d-588d-4775-b218-0277bfe79cf9\", [{\"marker\": {\"color\": \"rgba(255, 255, 51, 0.6)\", \"line\": {\"color\": \"rgba(255, 255, 51, 1.0)\", \"width\": 1}}, \"name\": \"Total Global Share Renewables\", \"orientation\": \"v\", \"text\": \"\", \"x\": [1990, 1991, 1992, 1993, 1994, 1995, 1996, 1997, 1998, 1999, 2000, 2001, 2002, 2003, 2004, 2005, 2006, 2007, 2008, 2009, 2010, 2011, 2012, 2013, 2014, 2015, 2016, 2017, 2018], \"y\": [19.761948, 19.691544, 19.614448, 20.244663, 19.982286, 20.31545, 19.988534, 19.866515, 19.530001, 19.145701, 18.820823, 18.349811, 18.266839, 17.854001, 18.262534, 18.398601, 18.525114, 18.254417, 18.909009, 19.672262, 19.888889, 20.217626, 21.171837, 21.948402, 22.632963, 23.054748, 24.106377, 24.827322, 25.603861], \"type\": \"bar\", \"uid\": \"410036e1-001e-4792-86b2-d02b84af416a\"}], {\"barmode\": \"stack\", \"legend\": {\"bgcolor\": \"#1A1A1C\", \"font\": {\"color\": \"#D9D9D9\"}, \"traceorder\": \"normal\"}, \"paper_bgcolor\": \"#1A1A1C\", \"plot_bgcolor\": \"#1A1A1C\", \"title\": \"Share of Global Energy that is Renewable, Per Year\", \"titlefont\": {\"color\": \"#D9D9D9\"}, \"xaxis\": {\"gridcolor\": \"#434343\", \"showgrid\": true, \"tickfont\": {\"color\": \"#C2C2C2\"}, \"title\": \"Year\", \"titlefont\": {\"color\": \"#D9D9D9\"}, \"zerolinecolor\": \"#666570\"}, \"yaxis\": {\"gridcolor\": \"#434343\", \"showgrid\": true, \"tickfont\": {\"color\": \"#C2C2C2\"}, \"title\": \"Share of Global Energy that is Renewable (%)\", \"titlefont\": {\"color\": \"#D9D9D9\"}, \"zerolinecolor\": \"#666570\"}}, {\"showLink\": true, \"linkText\": \"Export to plot.ly\", \"plotlyServerURL\": \"https://plot.ly\"})});</script><script type=\"text/javascript\">window.addEventListener(\"resize\", function(){window._Plotly.Plots.resize(document.getElementById(\"67b9db0d-588d-4775-b218-0277bfe79cf9\"));});</script>"
      ]
     },
     "metadata": {},
     "output_type": "display_data"
    }
   ],
   "source": [
    "df2.loc[:,['Total Global Share Renewables']]\\\n",
    ".iplot(kind='bar', xTitle='Year', barmode='stack', colors = ['yellow', '#139A43'],\n",
    "                  yTitle='Share of Global Energy that is Renewable (%)', theme='space', \n",
    "       title='Share of Global Energy that is Renewable, Per Year', width=4)"
   ]
  },
  {
   "cell_type": "code",
   "execution_count": 68,
   "metadata": {},
   "outputs": [
    {
     "data": {
      "text/html": [
       "<div>\n",
       "<style scoped>\n",
       "    .dataframe tbody tr th:only-of-type {\n",
       "        vertical-align: middle;\n",
       "    }\n",
       "\n",
       "    .dataframe tbody tr th {\n",
       "        vertical-align: top;\n",
       "    }\n",
       "\n",
       "    .dataframe thead th {\n",
       "        text-align: right;\n",
       "    }\n",
       "</style>\n",
       "<table border=\"1\" class=\"dataframe\">\n",
       "  <thead>\n",
       "    <tr style=\"text-align: right;\">\n",
       "      <th></th>\n",
       "      <th>Total Global Share Renewables</th>\n",
       "      <th>Total Global Share Solar &amp; Wind</th>\n",
       "      <th>Total Renewables minus Solar &amp; Wind</th>\n",
       "    </tr>\n",
       "  </thead>\n",
       "  <tbody>\n",
       "    <tr>\n",
       "      <th>1990</th>\n",
       "      <td>19.7619</td>\n",
       "      <td>0.517469</td>\n",
       "      <td>19.2445</td>\n",
       "    </tr>\n",
       "    <tr>\n",
       "      <th>1991</th>\n",
       "      <td>19.6915</td>\n",
       "      <td>0.522381</td>\n",
       "      <td>19.1692</td>\n",
       "    </tr>\n",
       "    <tr>\n",
       "      <th>1992</th>\n",
       "      <td>19.6144</td>\n",
       "      <td>0.538442</td>\n",
       "      <td>19.076</td>\n",
       "    </tr>\n",
       "    <tr>\n",
       "      <th>1993</th>\n",
       "      <td>20.2447</td>\n",
       "      <td>0.54424</td>\n",
       "      <td>19.7004</td>\n",
       "    </tr>\n",
       "    <tr>\n",
       "      <th>1994</th>\n",
       "      <td>19.9823</td>\n",
       "      <td>0.560327</td>\n",
       "      <td>19.422</td>\n",
       "    </tr>\n",
       "    <tr>\n",
       "      <th>1995</th>\n",
       "      <td>20.3154</td>\n",
       "      <td>0.550555</td>\n",
       "      <td>19.7649</td>\n",
       "    </tr>\n",
       "    <tr>\n",
       "      <th>1996</th>\n",
       "      <td>19.9885</td>\n",
       "      <td>0.565139</td>\n",
       "      <td>19.4234</td>\n",
       "    </tr>\n",
       "    <tr>\n",
       "      <th>1997</th>\n",
       "      <td>19.8665</td>\n",
       "      <td>0.573321</td>\n",
       "      <td>19.2932</td>\n",
       "    </tr>\n",
       "    <tr>\n",
       "      <th>1998</th>\n",
       "      <td>19.53</td>\n",
       "      <td>0.583953</td>\n",
       "      <td>18.946</td>\n",
       "    </tr>\n",
       "    <tr>\n",
       "      <th>1999</th>\n",
       "      <td>19.1457</td>\n",
       "      <td>0.630428</td>\n",
       "      <td>18.5153</td>\n",
       "    </tr>\n",
       "    <tr>\n",
       "      <th>2000</th>\n",
       "      <td>18.8208</td>\n",
       "      <td>0.687809</td>\n",
       "      <td>18.133</td>\n",
       "    </tr>\n",
       "    <tr>\n",
       "      <th>2001</th>\n",
       "      <td>18.3498</td>\n",
       "      <td>0.729013</td>\n",
       "      <td>17.6208</td>\n",
       "    </tr>\n",
       "    <tr>\n",
       "      <th>2002</th>\n",
       "      <td>18.2668</td>\n",
       "      <td>0.79898</td>\n",
       "      <td>17.4679</td>\n",
       "    </tr>\n",
       "    <tr>\n",
       "      <th>2003</th>\n",
       "      <td>17.854</td>\n",
       "      <td>0.874815</td>\n",
       "      <td>16.9792</td>\n",
       "    </tr>\n",
       "    <tr>\n",
       "      <th>2004</th>\n",
       "      <td>18.2625</td>\n",
       "      <td>0.979405</td>\n",
       "      <td>17.2831</td>\n",
       "    </tr>\n",
       "    <tr>\n",
       "      <th>2005</th>\n",
       "      <td>18.3986</td>\n",
       "      <td>1.08417</td>\n",
       "      <td>17.3144</td>\n",
       "    </tr>\n",
       "    <tr>\n",
       "      <th>2006</th>\n",
       "      <td>18.5251</td>\n",
       "      <td>1.19549</td>\n",
       "      <td>17.3296</td>\n",
       "    </tr>\n",
       "    <tr>\n",
       "      <th>2007</th>\n",
       "      <td>18.2544</td>\n",
       "      <td>1.35535</td>\n",
       "      <td>16.8991</td>\n",
       "    </tr>\n",
       "    <tr>\n",
       "      <th>2008</th>\n",
       "      <td>18.909</td>\n",
       "      <td>1.59952</td>\n",
       "      <td>17.3095</td>\n",
       "    </tr>\n",
       "    <tr>\n",
       "      <th>2009</th>\n",
       "      <td>19.6723</td>\n",
       "      <td>1.94491</td>\n",
       "      <td>17.7273</td>\n",
       "    </tr>\n",
       "    <tr>\n",
       "      <th>2010</th>\n",
       "      <td>19.8889</td>\n",
       "      <td>2.21075</td>\n",
       "      <td>17.6781</td>\n",
       "    </tr>\n",
       "    <tr>\n",
       "      <th>2011</th>\n",
       "      <td>20.2176</td>\n",
       "      <td>2.71892</td>\n",
       "      <td>17.4987</td>\n",
       "    </tr>\n",
       "    <tr>\n",
       "      <th>2012</th>\n",
       "      <td>21.1718</td>\n",
       "      <td>3.21543</td>\n",
       "      <td>17.9564</td>\n",
       "    </tr>\n",
       "    <tr>\n",
       "      <th>2013</th>\n",
       "      <td>21.9484</td>\n",
       "      <td>3.8323</td>\n",
       "      <td>18.1161</td>\n",
       "    </tr>\n",
       "    <tr>\n",
       "      <th>2014</th>\n",
       "      <td>22.633</td>\n",
       "      <td>4.30334</td>\n",
       "      <td>18.3296</td>\n",
       "    </tr>\n",
       "    <tr>\n",
       "      <th>2015</th>\n",
       "      <td>23.0547</td>\n",
       "      <td>4.98055</td>\n",
       "      <td>18.0742</td>\n",
       "    </tr>\n",
       "    <tr>\n",
       "      <th>2016</th>\n",
       "      <td>24.1064</td>\n",
       "      <td>5.637</td>\n",
       "      <td>18.4694</td>\n",
       "    </tr>\n",
       "    <tr>\n",
       "      <th>2017</th>\n",
       "      <td>24.8273</td>\n",
       "      <td>NaN</td>\n",
       "      <td>NaN</td>\n",
       "    </tr>\n",
       "    <tr>\n",
       "      <th>2018</th>\n",
       "      <td>25.6039</td>\n",
       "      <td>NaN</td>\n",
       "      <td>NaN</td>\n",
       "    </tr>\n",
       "  </tbody>\n",
       "</table>\n",
       "</div>"
      ],
      "text/plain": [
       "     Total Global Share Renewables Total Global Share Solar & Wind  \\\n",
       "1990                       19.7619                        0.517469   \n",
       "1991                       19.6915                        0.522381   \n",
       "1992                       19.6144                        0.538442   \n",
       "1993                       20.2447                         0.54424   \n",
       "1994                       19.9823                        0.560327   \n",
       "1995                       20.3154                        0.550555   \n",
       "1996                       19.9885                        0.565139   \n",
       "1997                       19.8665                        0.573321   \n",
       "1998                         19.53                        0.583953   \n",
       "1999                       19.1457                        0.630428   \n",
       "2000                       18.8208                        0.687809   \n",
       "2001                       18.3498                        0.729013   \n",
       "2002                       18.2668                         0.79898   \n",
       "2003                        17.854                        0.874815   \n",
       "2004                       18.2625                        0.979405   \n",
       "2005                       18.3986                         1.08417   \n",
       "2006                       18.5251                         1.19549   \n",
       "2007                       18.2544                         1.35535   \n",
       "2008                        18.909                         1.59952   \n",
       "2009                       19.6723                         1.94491   \n",
       "2010                       19.8889                         2.21075   \n",
       "2011                       20.2176                         2.71892   \n",
       "2012                       21.1718                         3.21543   \n",
       "2013                       21.9484                          3.8323   \n",
       "2014                        22.633                         4.30334   \n",
       "2015                       23.0547                         4.98055   \n",
       "2016                       24.1064                           5.637   \n",
       "2017                       24.8273                             NaN   \n",
       "2018                       25.6039                             NaN   \n",
       "\n",
       "     Total Renewables minus Solar & Wind  \n",
       "1990                             19.2445  \n",
       "1991                             19.1692  \n",
       "1992                              19.076  \n",
       "1993                             19.7004  \n",
       "1994                              19.422  \n",
       "1995                             19.7649  \n",
       "1996                             19.4234  \n",
       "1997                             19.2932  \n",
       "1998                              18.946  \n",
       "1999                             18.5153  \n",
       "2000                              18.133  \n",
       "2001                             17.6208  \n",
       "2002                             17.4679  \n",
       "2003                             16.9792  \n",
       "2004                             17.2831  \n",
       "2005                             17.3144  \n",
       "2006                             17.3296  \n",
       "2007                             16.8991  \n",
       "2008                             17.3095  \n",
       "2009                             17.7273  \n",
       "2010                             17.6781  \n",
       "2011                             17.4987  \n",
       "2012                             17.9564  \n",
       "2013                             18.1161  \n",
       "2014                             18.3296  \n",
       "2015                             18.0742  \n",
       "2016                             18.4694  \n",
       "2017                                 NaN  \n",
       "2018                                 NaN  "
      ]
     },
     "execution_count": 68,
     "metadata": {},
     "output_type": "execute_result"
    }
   ],
   "source": [
    "df2"
   ]
  },
  {
   "cell_type": "code",
   "execution_count": 35,
   "metadata": {},
   "outputs": [
    {
     "data": {
      "application/vnd.plotly.v1+json": {
       "config": {
        "linkText": "Export to plot.ly",
        "plotlyServerURL": "https://plot.ly",
        "showLink": true
       },
       "data": [
        {
         "line": {
          "color": "rgba(255, 153, 51, 1.0)",
          "dash": "solid",
          "shape": "linear",
          "width": 4
         },
         "mode": "lines",
         "name": "Total Global Share Solar & Wind",
         "text": "",
         "type": "scatter",
         "uid": "3337a1d2-4ec9-4974-b722-c13d96ee68e5",
         "x": [
          1990,
          1991,
          1992,
          1993,
          1994,
          1995,
          1996,
          1997,
          1998,
          1999,
          2000,
          2001,
          2002,
          2003,
          2004,
          2005,
          2006,
          2007,
          2008,
          2009,
          2010,
          2011,
          2012,
          2013,
          2014,
          2015,
          2016,
          2017,
          2018
         ],
         "y": [
          0.517469,
          0.522381,
          0.538442,
          0.54424,
          0.560327,
          0.550555,
          0.565139,
          0.573321,
          0.583953,
          0.630428,
          0.687809,
          0.729013,
          0.79898,
          0.874815,
          0.979405,
          1.084172,
          1.195486,
          1.35535,
          1.599523,
          1.944913,
          2.210751,
          2.718922,
          3.215435,
          3.832302,
          4.303337,
          4.980552,
          5.637004,
          "",
          ""
         ]
        },
        {
         "line": {
          "color": "rgba(55, 128, 191, 1.0)",
          "dash": "solid",
          "shape": "linear",
          "width": 4
         },
         "mode": "lines",
         "name": "Total Renewables minus Solar & Wind",
         "text": "",
         "type": "scatter",
         "uid": "d7144400-374e-4fdb-8082-086861b0733e",
         "x": [
          1990,
          1991,
          1992,
          1993,
          1994,
          1995,
          1996,
          1997,
          1998,
          1999,
          2000,
          2001,
          2002,
          2003,
          2004,
          2005,
          2006,
          2007,
          2008,
          2009,
          2010,
          2011,
          2012,
          2013,
          2014,
          2015,
          2016,
          2017,
          2018
         ],
         "y": [
          19.244479000000002,
          19.169163,
          19.076006,
          19.700423,
          19.421958999999998,
          19.764895,
          19.423395000000003,
          19.293194,
          18.946047999999998,
          18.515273,
          18.133014,
          17.620798,
          17.467859,
          16.979186,
          17.283129,
          17.314429,
          17.329628,
          16.899067,
          17.309486,
          17.727349,
          17.678137999999997,
          17.498704,
          17.956402,
          18.116100000000003,
          18.329626,
          18.074196,
          18.469372999999997,
          "",
          ""
         ]
        }
       ],
       "layout": {
        "legend": {
         "bgcolor": "#1A1A1C",
         "font": {
          "color": "#D9D9D9"
         },
         "orientation": "h",
         "x": 0.3,
         "y": 0.95,
         "yanchor": "bottom"
        },
        "paper_bgcolor": "#1A1A1C",
        "plot_bgcolor": "#1A1A1C",
        "showlegend": true,
        "title": "Share of Global Energy that is Renewable, Per Year",
        "titlefont": {
         "color": "#D9D9D9"
        },
        "xaxis": {
         "gridcolor": "#434343",
         "showgrid": true,
         "tickfont": {
          "color": "#C2C2C2"
         },
         "title": "Year",
         "titlefont": {
          "color": "#D9D9D9"
         },
         "zerolinecolor": "#666570"
        },
        "yaxis": {
         "gridcolor": "#434343",
         "showgrid": true,
         "tickfont": {
          "color": "#C2C2C2"
         },
         "title": "Share of Global Energy that is Renewable (%)",
         "titlefont": {
          "color": "#D9D9D9"
         },
         "zerolinecolor": "#666570"
        }
       }
      },
      "text/html": [
       "<div id=\"9d412e8b-7f02-42a9-a171-4332cc2da08a\" style=\"height: 525px; width: 100%;\" class=\"plotly-graph-div\"></div><script type=\"text/javascript\">require([\"plotly\"], function(Plotly) { window.PLOTLYENV=window.PLOTLYENV || {};window.PLOTLYENV.BASE_URL=\"https://plot.ly\";Plotly.newPlot(\"9d412e8b-7f02-42a9-a171-4332cc2da08a\", [{\"line\": {\"color\": \"rgba(255, 153, 51, 1.0)\", \"dash\": \"solid\", \"shape\": \"linear\", \"width\": 4}, \"mode\": \"lines\", \"name\": \"Total Global Share Solar & Wind\", \"text\": \"\", \"x\": [1990, 1991, 1992, 1993, 1994, 1995, 1996, 1997, 1998, 1999, 2000, 2001, 2002, 2003, 2004, 2005, 2006, 2007, 2008, 2009, 2010, 2011, 2012, 2013, 2014, 2015, 2016, 2017, 2018], \"y\": [0.517469, 0.522381, 0.538442, 0.54424, 0.560327, 0.550555, 0.565139, 0.573321, 0.583953, 0.630428, 0.687809, 0.729013, 0.79898, 0.874815, 0.979405, 1.084172, 1.195486, 1.35535, 1.599523, 1.944913, 2.210751, 2.718922, 3.215435, 3.832302, 4.303337, 4.980552, 5.637004, \"\", \"\"], \"type\": \"scatter\", \"uid\": \"d3ec52ca-696c-46eb-a620-cc72a697ea87\"}, {\"line\": {\"color\": \"rgba(55, 128, 191, 1.0)\", \"dash\": \"solid\", \"shape\": \"linear\", \"width\": 4}, \"mode\": \"lines\", \"name\": \"Total Renewables minus Solar & Wind\", \"text\": \"\", \"x\": [1990, 1991, 1992, 1993, 1994, 1995, 1996, 1997, 1998, 1999, 2000, 2001, 2002, 2003, 2004, 2005, 2006, 2007, 2008, 2009, 2010, 2011, 2012, 2013, 2014, 2015, 2016, 2017, 2018], \"y\": [19.244479000000002, 19.169163, 19.076006, 19.700423, 19.421958999999998, 19.764895, 19.423395000000003, 19.293194, 18.946047999999998, 18.515273, 18.133014, 17.620798, 17.467859, 16.979186, 17.283129, 17.314429, 17.329628, 16.899067, 17.309486, 17.727349, 17.678137999999997, 17.498704, 17.956402, 18.116100000000003, 18.329626, 18.074196, 18.469372999999997, \"\", \"\"], \"type\": \"scatter\", \"uid\": \"a953b2b9-9001-4ba7-b1df-61153e48a7b9\"}], {\"legend\": {\"bgcolor\": \"#1A1A1C\", \"font\": {\"color\": \"#D9D9D9\"}, \"orientation\": \"h\", \"x\": 0.3, \"y\": 0.95, \"yanchor\": \"bottom\"}, \"paper_bgcolor\": \"#1A1A1C\", \"plot_bgcolor\": \"#1A1A1C\", \"showlegend\": true, \"title\": \"Share of Global Energy that is Renewable, Per Year\", \"titlefont\": {\"color\": \"#D9D9D9\"}, \"xaxis\": {\"gridcolor\": \"#434343\", \"showgrid\": true, \"tickfont\": {\"color\": \"#C2C2C2\"}, \"title\": \"Year\", \"titlefont\": {\"color\": \"#D9D9D9\"}, \"zerolinecolor\": \"#666570\"}, \"yaxis\": {\"gridcolor\": \"#434343\", \"showgrid\": true, \"tickfont\": {\"color\": \"#C2C2C2\"}, \"title\": \"Share of Global Energy that is Renewable (%)\", \"titlefont\": {\"color\": \"#D9D9D9\"}, \"zerolinecolor\": \"#666570\"}}, {\"showLink\": true, \"linkText\": \"Export to plot.ly\", \"plotlyServerURL\": \"https://plot.ly\"})});</script><script type=\"text/javascript\">window.addEventListener(\"resize\", function(){window._Plotly.Plots.resize(document.getElementById(\"9d412e8b-7f02-42a9-a171-4332cc2da08a\"));});</script>"
      ],
      "text/vnd.plotly.v1+html": [
       "<div id=\"9d412e8b-7f02-42a9-a171-4332cc2da08a\" style=\"height: 525px; width: 100%;\" class=\"plotly-graph-div\"></div><script type=\"text/javascript\">require([\"plotly\"], function(Plotly) { window.PLOTLYENV=window.PLOTLYENV || {};window.PLOTLYENV.BASE_URL=\"https://plot.ly\";Plotly.newPlot(\"9d412e8b-7f02-42a9-a171-4332cc2da08a\", [{\"line\": {\"color\": \"rgba(255, 153, 51, 1.0)\", \"dash\": \"solid\", \"shape\": \"linear\", \"width\": 4}, \"mode\": \"lines\", \"name\": \"Total Global Share Solar & Wind\", \"text\": \"\", \"x\": [1990, 1991, 1992, 1993, 1994, 1995, 1996, 1997, 1998, 1999, 2000, 2001, 2002, 2003, 2004, 2005, 2006, 2007, 2008, 2009, 2010, 2011, 2012, 2013, 2014, 2015, 2016, 2017, 2018], \"y\": [0.517469, 0.522381, 0.538442, 0.54424, 0.560327, 0.550555, 0.565139, 0.573321, 0.583953, 0.630428, 0.687809, 0.729013, 0.79898, 0.874815, 0.979405, 1.084172, 1.195486, 1.35535, 1.599523, 1.944913, 2.210751, 2.718922, 3.215435, 3.832302, 4.303337, 4.980552, 5.637004, \"\", \"\"], \"type\": \"scatter\", \"uid\": \"d3ec52ca-696c-46eb-a620-cc72a697ea87\"}, {\"line\": {\"color\": \"rgba(55, 128, 191, 1.0)\", \"dash\": \"solid\", \"shape\": \"linear\", \"width\": 4}, \"mode\": \"lines\", \"name\": \"Total Renewables minus Solar & Wind\", \"text\": \"\", \"x\": [1990, 1991, 1992, 1993, 1994, 1995, 1996, 1997, 1998, 1999, 2000, 2001, 2002, 2003, 2004, 2005, 2006, 2007, 2008, 2009, 2010, 2011, 2012, 2013, 2014, 2015, 2016, 2017, 2018], \"y\": [19.244479000000002, 19.169163, 19.076006, 19.700423, 19.421958999999998, 19.764895, 19.423395000000003, 19.293194, 18.946047999999998, 18.515273, 18.133014, 17.620798, 17.467859, 16.979186, 17.283129, 17.314429, 17.329628, 16.899067, 17.309486, 17.727349, 17.678137999999997, 17.498704, 17.956402, 18.116100000000003, 18.329626, 18.074196, 18.469372999999997, \"\", \"\"], \"type\": \"scatter\", \"uid\": \"a953b2b9-9001-4ba7-b1df-61153e48a7b9\"}], {\"legend\": {\"bgcolor\": \"#1A1A1C\", \"font\": {\"color\": \"#D9D9D9\"}, \"orientation\": \"h\", \"x\": 0.3, \"y\": 0.95, \"yanchor\": \"bottom\"}, \"paper_bgcolor\": \"#1A1A1C\", \"plot_bgcolor\": \"#1A1A1C\", \"showlegend\": true, \"title\": \"Share of Global Energy that is Renewable, Per Year\", \"titlefont\": {\"color\": \"#D9D9D9\"}, \"xaxis\": {\"gridcolor\": \"#434343\", \"showgrid\": true, \"tickfont\": {\"color\": \"#C2C2C2\"}, \"title\": \"Year\", \"titlefont\": {\"color\": \"#D9D9D9\"}, \"zerolinecolor\": \"#666570\"}, \"yaxis\": {\"gridcolor\": \"#434343\", \"showgrid\": true, \"tickfont\": {\"color\": \"#C2C2C2\"}, \"title\": \"Share of Global Energy that is Renewable (%)\", \"titlefont\": {\"color\": \"#D9D9D9\"}, \"zerolinecolor\": \"#666570\"}}, {\"showLink\": true, \"linkText\": \"Export to plot.ly\", \"plotlyServerURL\": \"https://plot.ly\"})});</script><script type=\"text/javascript\">window.addEventListener(\"resize\", function(){window._Plotly.Plots.resize(document.getElementById(\"9d412e8b-7f02-42a9-a171-4332cc2da08a\"));});</script>"
      ]
     },
     "metadata": {},
     "output_type": "display_data"
    }
   ],
   "source": [
    "df2.loc[:,['Total Global Share Solar & Wind', 'Total Renewables minus Solar & Wind']]\\\n",
    ".iplot(kind='line', xTitle='Year', legend='top',\n",
    "                  yTitle='Share of Global Energy that is Renewable (%)', theme='space', \n",
    "       title='Share of Global Energy that is Renewable, Per Year', width=4)\n"
   ]
  },
  {
   "cell_type": "markdown",
   "metadata": {},
   "source": [
    "### Solar/Wind Share Forecast "
   ]
  },
  {
   "cell_type": "code",
   "execution_count": 36,
   "metadata": {},
   "outputs": [],
   "source": [
    "df3 = pd.DataFrame(columns=['ds','y'])\n",
    "df3['ds'] = df2.index\n",
    "df3['y'] = df2['Total Global Share Solar & Wind'].values"
   ]
  },
  {
   "cell_type": "code",
   "execution_count": 37,
   "metadata": {},
   "outputs": [],
   "source": [
    "df3['ds']  = df3['ds'].apply(lambda d: datetime.datetime.strptime(str(d), \"%Y\")) \n",
    "df3.dropna(inplace=True)"
   ]
  },
  {
   "cell_type": "code",
   "execution_count": 38,
   "metadata": {},
   "outputs": [
    {
     "name": "stderr",
     "output_type": "stream",
     "text": [
      "INFO:fbprophet:Disabling weekly seasonality. Run prophet with weekly_seasonality=True to override this.\n",
      "INFO:fbprophet:Disabling daily seasonality. Run prophet with daily_seasonality=True to override this.\n",
      "INFO:fbprophet:n_changepoints greater than number of observations.Using 20.0.\n"
     ]
    },
    {
     "data": {
      "text/plain": [
       "<fbprophet.forecaster.Prophet at 0x1a1d0bda90>"
      ]
     },
     "execution_count": 38,
     "metadata": {},
     "output_type": "execute_result"
    }
   ],
   "source": [
    "m_ws = fbprophet.Prophet(changepoint_prior_scale=0.15)\n",
    "m_ws.fit(df3)"
   ]
  },
  {
   "cell_type": "code",
   "execution_count": null,
   "metadata": {},
   "outputs": [],
   "source": []
  },
  {
   "cell_type": "code",
   "execution_count": 39,
   "metadata": {},
   "outputs": [],
   "source": [
    "future_ws = m_ws.make_future_dataframe(periods=30, freq='y')\n",
    "forecast_ws = m_ws.predict(future_ws)"
   ]
  },
  {
   "cell_type": "code",
   "execution_count": 40,
   "metadata": {},
   "outputs": [
    {
     "data": {
      "image/png": "[encoded data removed]",
      "text/plain": [
       "<Figure size 720x432 with 1 Axes>"
      ]
     },
     "metadata": {},
     "output_type": "display_data"
    }
   ],
   "source": [
    "m_ws.plot(forecast_ws);"
   ]
  },
  {
   "cell_type": "code",
   "execution_count": 41,
   "metadata": {},
   "outputs": [],
   "source": [
    "perc_inc_df = pd.DataFrame(columns=['ds', 'y', 'yhat', 'perc_on_prev'])\n",
    "perc_inc_df['ds'] = forecast_ws['ds']\n",
    "perc_inc_df['y'] = df3['y']\n",
    "perc_inc_df['yhat'] = forecast_ws['yhat']\n",
    "# forecast_ws.loc[:,['ds', 'yhat']]\n",
    "# perc_inc_df"
   ]
  },
  {
   "cell_type": "code",
   "execution_count": 42,
   "metadata": {},
   "outputs": [],
   "source": [
    "perc_inc_df['perc_on_prev'] = perc_inc_df['yhat'].pct_change()"
   ]
  },
  {
   "cell_type": "code",
   "execution_count": 43,
   "metadata": {},
   "outputs": [],
   "source": [
    "final_perc_inc_df = perc_inc_df.iloc[30:, :][['ds', 'perc_on_prev']]\n",
    "        "
   ]
  },
  {
   "cell_type": "code",
   "execution_count": 44,
   "metadata": {},
   "outputs": [
    {
     "data": {
      "text/html": [
       "<div>\n",
       "<style scoped>\n",
       "    .dataframe tbody tr th:only-of-type {\n",
       "        vertical-align: middle;\n",
       "    }\n",
       "\n",
       "    .dataframe tbody tr th {\n",
       "        vertical-align: top;\n",
       "    }\n",
       "\n",
       "    .dataframe thead th {\n",
       "        text-align: right;\n",
       "    }\n",
       "</style>\n",
       "<table border=\"1\" class=\"dataframe\">\n",
       "  <thead>\n",
       "    <tr style=\"text-align: right;\">\n",
       "      <th></th>\n",
       "      <th>ds</th>\n",
       "      <th>perc_on_prev</th>\n",
       "    </tr>\n",
       "  </thead>\n",
       "  <tbody>\n",
       "    <tr>\n",
       "      <th>30</th>\n",
       "      <td>2019-12-31</td>\n",
       "      <td>0.078670</td>\n",
       "    </tr>\n",
       "    <tr>\n",
       "      <th>31</th>\n",
       "      <td>2020-12-31</td>\n",
       "      <td>0.070431</td>\n",
       "    </tr>\n",
       "    <tr>\n",
       "      <th>32</th>\n",
       "      <td>2021-12-31</td>\n",
       "      <td>0.067818</td>\n",
       "    </tr>\n",
       "    <tr>\n",
       "      <th>33</th>\n",
       "      <td>2022-12-31</td>\n",
       "      <td>0.063659</td>\n",
       "    </tr>\n",
       "    <tr>\n",
       "      <th>34</th>\n",
       "      <td>2023-12-31</td>\n",
       "      <td>0.059988</td>\n",
       "    </tr>\n",
       "    <tr>\n",
       "      <th>35</th>\n",
       "      <td>2024-12-31</td>\n",
       "      <td>0.054652</td>\n",
       "    </tr>\n",
       "    <tr>\n",
       "      <th>36</th>\n",
       "      <td>2025-12-31</td>\n",
       "      <td>0.053411</td>\n",
       "    </tr>\n",
       "    <tr>\n",
       "      <th>37</th>\n",
       "      <td>2026-12-31</td>\n",
       "      <td>0.050822</td>\n",
       "    </tr>\n",
       "    <tr>\n",
       "      <th>38</th>\n",
       "      <td>2027-12-31</td>\n",
       "      <td>0.048476</td>\n",
       "    </tr>\n",
       "    <tr>\n",
       "      <th>39</th>\n",
       "      <td>2028-12-31</td>\n",
       "      <td>0.044649</td>\n",
       "    </tr>\n",
       "    <tr>\n",
       "      <th>40</th>\n",
       "      <td>2029-12-31</td>\n",
       "      <td>0.044053</td>\n",
       "    </tr>\n",
       "    <tr>\n",
       "      <th>41</th>\n",
       "      <td>2030-12-31</td>\n",
       "      <td>0.042293</td>\n",
       "    </tr>\n",
       "    <tr>\n",
       "      <th>42</th>\n",
       "      <td>2031-12-31</td>\n",
       "      <td>0.040671</td>\n",
       "    </tr>\n",
       "    <tr>\n",
       "      <th>43</th>\n",
       "      <td>2032-12-31</td>\n",
       "      <td>0.037741</td>\n",
       "    </tr>\n",
       "    <tr>\n",
       "      <th>44</th>\n",
       "      <td>2033-12-31</td>\n",
       "      <td>0.037485</td>\n",
       "    </tr>\n",
       "    <tr>\n",
       "      <th>45</th>\n",
       "      <td>2034-12-31</td>\n",
       "      <td>0.036216</td>\n",
       "    </tr>\n",
       "    <tr>\n",
       "      <th>46</th>\n",
       "      <td>2035-12-31</td>\n",
       "      <td>0.035031</td>\n",
       "    </tr>\n",
       "    <tr>\n",
       "      <th>47</th>\n",
       "      <td>2036-12-31</td>\n",
       "      <td>0.032684</td>\n",
       "    </tr>\n",
       "    <tr>\n",
       "      <th>48</th>\n",
       "      <td>2037-12-31</td>\n",
       "      <td>0.032622</td>\n",
       "    </tr>\n",
       "    <tr>\n",
       "      <th>49</th>\n",
       "      <td>2038-12-31</td>\n",
       "      <td>0.031665</td>\n",
       "    </tr>\n",
       "    <tr>\n",
       "      <th>50</th>\n",
       "      <td>2039-12-31</td>\n",
       "      <td>0.030764</td>\n",
       "    </tr>\n",
       "    <tr>\n",
       "      <th>51</th>\n",
       "      <td>2040-12-31</td>\n",
       "      <td>0.028823</td>\n",
       "    </tr>\n",
       "    <tr>\n",
       "      <th>52</th>\n",
       "      <td>2041-12-31</td>\n",
       "      <td>0.028876</td>\n",
       "    </tr>\n",
       "    <tr>\n",
       "      <th>53</th>\n",
       "      <td>2042-12-31</td>\n",
       "      <td>0.028131</td>\n",
       "    </tr>\n",
       "    <tr>\n",
       "      <th>54</th>\n",
       "      <td>2043-12-31</td>\n",
       "      <td>0.027424</td>\n",
       "    </tr>\n",
       "    <tr>\n",
       "      <th>55</th>\n",
       "      <td>2044-12-31</td>\n",
       "      <td>0.025777</td>\n",
       "    </tr>\n",
       "    <tr>\n",
       "      <th>56</th>\n",
       "      <td>2045-12-31</td>\n",
       "      <td>0.025901</td>\n",
       "    </tr>\n",
       "  </tbody>\n",
       "</table>\n",
       "</div>"
      ],
      "text/plain": [
       "           ds  perc_on_prev\n",
       "30 2019-12-31      0.078670\n",
       "31 2020-12-31      0.070431\n",
       "32 2021-12-31      0.067818\n",
       "33 2022-12-31      0.063659\n",
       "34 2023-12-31      0.059988\n",
       "35 2024-12-31      0.054652\n",
       "36 2025-12-31      0.053411\n",
       "37 2026-12-31      0.050822\n",
       "38 2027-12-31      0.048476\n",
       "39 2028-12-31      0.044649\n",
       "40 2029-12-31      0.044053\n",
       "41 2030-12-31      0.042293\n",
       "42 2031-12-31      0.040671\n",
       "43 2032-12-31      0.037741\n",
       "44 2033-12-31      0.037485\n",
       "45 2034-12-31      0.036216\n",
       "46 2035-12-31      0.035031\n",
       "47 2036-12-31      0.032684\n",
       "48 2037-12-31      0.032622\n",
       "49 2038-12-31      0.031665\n",
       "50 2039-12-31      0.030764\n",
       "51 2040-12-31      0.028823\n",
       "52 2041-12-31      0.028876\n",
       "53 2042-12-31      0.028131\n",
       "54 2043-12-31      0.027424\n",
       "55 2044-12-31      0.025777\n",
       "56 2045-12-31      0.025901"
      ]
     },
     "execution_count": 44,
     "metadata": {},
     "output_type": "execute_result"
    }
   ],
   "source": [
    "final_perc_inc_df"
   ]
  },
  {
   "cell_type": "code",
   "execution_count": 45,
   "metadata": {},
   "outputs": [],
   "source": [
    "modern_ene_cons = pd.read_csv('../data/modern-renewable-energy-consumption.csv')"
   ]
  },
  {
   "cell_type": "code",
   "execution_count": 46,
   "metadata": {},
   "outputs": [],
   "source": [
    "solar_con = modern_ene_cons[modern_ene_cons['Entity']=='World'][['Year', 'Solar (terawatt-hours)']]"
   ]
  },
  {
   "cell_type": "code",
   "execution_count": 65,
   "metadata": {},
   "outputs": [
    {
     "data": {
      "application/vnd.plotly.v1+json": {
       "config": {
        "linkText": "Export to plot.ly",
        "plotlyServerURL": "https://plot.ly",
        "showLink": true
       },
       "data": [
        {
         "line": {
          "color": "rgba(19, 154, 67, 1.0)",
          "dash": "solid",
          "shape": "linear",
          "width": 4
         },
         "mode": "lines",
         "name": "Solar (terawatt-hours)",
         "text": "",
         "type": "scatter",
         "uid": "84671fb8-5811-48c9-8503-1a71fcde98f3",
         "x": [
          1965,
          1966,
          1967,
          1968,
          1969,
          1970,
          1971,
          1972,
          1973,
          1974,
          1975,
          1976,
          1977,
          1978,
          1979,
          1980,
          1981,
          1982,
          1983,
          1984,
          1985,
          1986,
          1987,
          1988,
          1989,
          1990,
          1991,
          1992,
          1993,
          1994,
          1995,
          1996,
          1997,
          1998,
          1999,
          2000,
          2001,
          2002,
          2003,
          2004,
          2005,
          2006,
          2007,
          2008,
          2009,
          2010,
          2011,
          2012,
          2013,
          2014,
          2015,
          2016
         ],
         "y": [
          0,
          0,
          0,
          0,
          0,
          0,
          0,
          0,
          0,
          0,
          0,
          0,
          0,
          0,
          0,
          0,
          0,
          0,
          0.003,
          0.0063111111111111,
          0.011747474747474736,
          0.015183838383838372,
          0.010603030303030305,
          0.010195959595959585,
          0.26222323232323225,
          0.3865626262626262,
          0.5064604487250298,
          0.4688133923165039,
          0.5567955038279175,
          0.6009917031380585,
          0.6415996380744621,
          0.7049251433159909,
          0.7570716606165793,
          0.8797248549971616,
          0.9645570473657601,
          1.1508539363960637,
          1.4257084250852414,
          1.8072595549122916,
          2.294241983284608,
          3.009475065324433,
          4.229917053360664,
          5.782574850575513,
          7.702112601714518,
          12.591230496763256,
          20.91791860695777,
          33.816254314703194,
          64.69511238378944,
          100.03390736759329,
          137.56115379838994,
          196.33298751611736,
          256.1909288132038,
          333.0524925053244
         ]
        }
       ],
       "layout": {
        "legend": {
         "bgcolor": "#1A1A1C",
         "font": {
          "color": "#D9D9D9"
         }
        },
        "paper_bgcolor": "#1A1A1C",
        "plot_bgcolor": "#1A1A1C",
        "title": "Total World Solar Energy Consumption",
        "titlefont": {
         "color": "#D9D9D9"
        },
        "xaxis": {
         "gridcolor": "#434343",
         "showgrid": true,
         "tickfont": {
          "color": "#C2C2C2"
         },
         "title": "Year",
         "titlefont": {
          "color": "#D9D9D9"
         },
         "zerolinecolor": "#666570"
        },
        "yaxis": {
         "gridcolor": "#434343",
         "showgrid": true,
         "tickfont": {
          "color": "#C2C2C2"
         },
         "title": "Consumption (TWh)",
         "titlefont": {
          "color": "#D9D9D9"
         },
         "zerolinecolor": "#666570"
        }
       }
      },
      "text/html": [
       "<div id=\"7a3ac308-f8ba-4749-b0a1-c347358a98e6\" style=\"height: 525px; width: 100%;\" class=\"plotly-graph-div\"></div><script type=\"text/javascript\">require([\"plotly\"], function(Plotly) { window.PLOTLYENV=window.PLOTLYENV || {};window.PLOTLYENV.BASE_URL=\"https://plot.ly\";Plotly.newPlot(\"7a3ac308-f8ba-4749-b0a1-c347358a98e6\", [{\"line\": {\"color\": \"rgba(19, 154, 67, 1.0)\", \"dash\": \"solid\", \"shape\": \"linear\", \"width\": 4}, \"mode\": \"lines\", \"name\": \"Solar (terawatt-hours)\", \"text\": \"\", \"x\": [1965, 1966, 1967, 1968, 1969, 1970, 1971, 1972, 1973, 1974, 1975, 1976, 1977, 1978, 1979, 1980, 1981, 1982, 1983, 1984, 1985, 1986, 1987, 1988, 1989, 1990, 1991, 1992, 1993, 1994, 1995, 1996, 1997, 1998, 1999, 2000, 2001, 2002, 2003, 2004, 2005, 2006, 2007, 2008, 2009, 2010, 2011, 2012, 2013, 2014, 2015, 2016], \"y\": [0.0, 0.0, 0.0, 0.0, 0.0, 0.0, 0.0, 0.0, 0.0, 0.0, 0.0, 0.0, 0.0, 0.0, 0.0, 0.0, 0.0, 0.0, 0.003, 0.0063111111111111, 0.011747474747474736, 0.015183838383838372, 0.010603030303030305, 0.010195959595959585, 0.26222323232323225, 0.3865626262626262, 0.5064604487250298, 0.4688133923165039, 0.5567955038279175, 0.6009917031380585, 0.6415996380744621, 0.7049251433159909, 0.7570716606165793, 0.8797248549971616, 0.9645570473657601, 1.1508539363960637, 1.4257084250852414, 1.8072595549122916, 2.294241983284608, 3.009475065324433, 4.229917053360664, 5.782574850575513, 7.702112601714518, 12.591230496763256, 20.91791860695777, 33.816254314703194, 64.69511238378944, 100.03390736759329, 137.56115379838994, 196.33298751611736, 256.1909288132038, 333.0524925053244], \"type\": \"scatter\", \"uid\": \"a2e3536b-3895-4d90-9300-5eb0a5543fff\"}], {\"legend\": {\"bgcolor\": \"#1A1A1C\", \"font\": {\"color\": \"#D9D9D9\"}}, \"paper_bgcolor\": \"#1A1A1C\", \"plot_bgcolor\": \"#1A1A1C\", \"title\": \"Total World Solar Energy Consumption\", \"titlefont\": {\"color\": \"#D9D9D9\"}, \"xaxis\": {\"gridcolor\": \"#434343\", \"showgrid\": true, \"tickfont\": {\"color\": \"#C2C2C2\"}, \"title\": \"Year\", \"titlefont\": {\"color\": \"#D9D9D9\"}, \"zerolinecolor\": \"#666570\"}, \"yaxis\": {\"gridcolor\": \"#434343\", \"showgrid\": true, \"tickfont\": {\"color\": \"#C2C2C2\"}, \"title\": \"Consumption (TWh)\", \"titlefont\": {\"color\": \"#D9D9D9\"}, \"zerolinecolor\": \"#666570\"}}, {\"showLink\": true, \"linkText\": \"Export to plot.ly\", \"plotlyServerURL\": \"https://plot.ly\"})});</script><script type=\"text/javascript\">window.addEventListener(\"resize\", function(){window._Plotly.Plots.resize(document.getElementById(\"7a3ac308-f8ba-4749-b0a1-c347358a98e6\"));});</script>"
      ],
      "text/vnd.plotly.v1+html": [
       "<div id=\"7a3ac308-f8ba-4749-b0a1-c347358a98e6\" style=\"height: 525px; width: 100%;\" class=\"plotly-graph-div\"></div><script type=\"text/javascript\">require([\"plotly\"], function(Plotly) { window.PLOTLYENV=window.PLOTLYENV || {};window.PLOTLYENV.BASE_URL=\"https://plot.ly\";Plotly.newPlot(\"7a3ac308-f8ba-4749-b0a1-c347358a98e6\", [{\"line\": {\"color\": \"rgba(19, 154, 67, 1.0)\", \"dash\": \"solid\", \"shape\": \"linear\", \"width\": 4}, \"mode\": \"lines\", \"name\": \"Solar (terawatt-hours)\", \"text\": \"\", \"x\": [1965, 1966, 1967, 1968, 1969, 1970, 1971, 1972, 1973, 1974, 1975, 1976, 1977, 1978, 1979, 1980, 1981, 1982, 1983, 1984, 1985, 1986, 1987, 1988, 1989, 1990, 1991, 1992, 1993, 1994, 1995, 1996, 1997, 1998, 1999, 2000, 2001, 2002, 2003, 2004, 2005, 2006, 2007, 2008, 2009, 2010, 2011, 2012, 2013, 2014, 2015, 2016], \"y\": [0.0, 0.0, 0.0, 0.0, 0.0, 0.0, 0.0, 0.0, 0.0, 0.0, 0.0, 0.0, 0.0, 0.0, 0.0, 0.0, 0.0, 0.0, 0.003, 0.0063111111111111, 0.011747474747474736, 0.015183838383838372, 0.010603030303030305, 0.010195959595959585, 0.26222323232323225, 0.3865626262626262, 0.5064604487250298, 0.4688133923165039, 0.5567955038279175, 0.6009917031380585, 0.6415996380744621, 0.7049251433159909, 0.7570716606165793, 0.8797248549971616, 0.9645570473657601, 1.1508539363960637, 1.4257084250852414, 1.8072595549122916, 2.294241983284608, 3.009475065324433, 4.229917053360664, 5.782574850575513, 7.702112601714518, 12.591230496763256, 20.91791860695777, 33.816254314703194, 64.69511238378944, 100.03390736759329, 137.56115379838994, 196.33298751611736, 256.1909288132038, 333.0524925053244], \"type\": \"scatter\", \"uid\": \"a2e3536b-3895-4d90-9300-5eb0a5543fff\"}], {\"legend\": {\"bgcolor\": \"#1A1A1C\", \"font\": {\"color\": \"#D9D9D9\"}}, \"paper_bgcolor\": \"#1A1A1C\", \"plot_bgcolor\": \"#1A1A1C\", \"title\": \"Total World Solar Energy Consumption\", \"titlefont\": {\"color\": \"#D9D9D9\"}, \"xaxis\": {\"gridcolor\": \"#434343\", \"showgrid\": true, \"tickfont\": {\"color\": \"#C2C2C2\"}, \"title\": \"Year\", \"titlefont\": {\"color\": \"#D9D9D9\"}, \"zerolinecolor\": \"#666570\"}, \"yaxis\": {\"gridcolor\": \"#434343\", \"showgrid\": true, \"tickfont\": {\"color\": \"#C2C2C2\"}, \"title\": \"Consumption (TWh)\", \"titlefont\": {\"color\": \"#D9D9D9\"}, \"zerolinecolor\": \"#666570\"}}, {\"showLink\": true, \"linkText\": \"Export to plot.ly\", \"plotlyServerURL\": \"https://plot.ly\"})});</script><script type=\"text/javascript\">window.addEventListener(\"resize\", function(){window._Plotly.Plots.resize(document.getElementById(\"7a3ac308-f8ba-4749-b0a1-c347358a98e6\"));});</script>"
      ]
     },
     "metadata": {},
     "output_type": "display_data"
    }
   ],
   "source": [
    "solar_con.set_index('Year').loc[:,:]\\\n",
    ".iplot(kind='line', xTitle='Year',color='#139A43',\n",
    "                  yTitle='Consumption (TWh)', theme='space', \n",
    "       title='Total World Solar Energy Consumption', width=4)"
   ]
  },
  {
   "cell_type": "code",
   "execution_count": null,
   "metadata": {},
   "outputs": [],
   "source": []
  },
  {
   "cell_type": "code",
   "execution_count": 79,
   "metadata": {},
   "outputs": [],
   "source": [
    "solar_con_for_prophet = solar_con.copy().iloc[20:]"
   ]
  },
  {
   "cell_type": "code",
   "execution_count": 80,
   "metadata": {},
   "outputs": [],
   "source": [
    "solar_con_for_prophet.rename(columns={'Year':'ds',\n",
    "                          'Solar (terawatt-hours)':'y'}, inplace=True)"
   ]
  },
  {
   "cell_type": "code",
   "execution_count": 81,
   "metadata": {},
   "outputs": [],
   "source": [
    "solar_con_for_prophet['ds'] = solar_con_for_prophet['ds'].apply(lambda d: datetime.datetime.strptime(str(d), \"%Y\")) "
   ]
  },
  {
   "cell_type": "code",
   "execution_count": 82,
   "metadata": {},
   "outputs": [],
   "source": [
    "m_solar = fbprophet.Prophet(changepoint_prior_scale=80, \n",
    "                            growth='linear'\n",
    "                           )"
   ]
  },
  {
   "cell_type": "code",
   "execution_count": 83,
   "metadata": {},
   "outputs": [
    {
     "name": "stderr",
     "output_type": "stream",
     "text": [
      "INFO:fbprophet:Disabling weekly seasonality. Run prophet with weekly_seasonality=True to override this.\n",
      "INFO:fbprophet:Disabling daily seasonality. Run prophet with daily_seasonality=True to override this.\n",
      "INFO:fbprophet:n_changepoints greater than number of observations.Using 24.0.\n",
      "/Users/pst-home/anaconda3/envs/data_science/lib/python3.6/site-packages/pystan/misc.py:399: FutureWarning:\n",
      "\n",
      "Conversion of the second argument of issubdtype from `float` to `np.floating` is deprecated. In future, it will be treated as `np.float64 == np.dtype(float).type`.\n",
      "\n"
     ]
    },
    {
     "data": {
      "text/plain": [
       "<fbprophet.forecaster.Prophet at 0x1a1a240320>"
      ]
     },
     "execution_count": 83,
     "metadata": {},
     "output_type": "execute_result"
    }
   ],
   "source": [
    "m_solar.fit(solar_con_for_prophet)"
   ]
  },
  {
   "cell_type": "code",
   "execution_count": 84,
   "metadata": {},
   "outputs": [],
   "source": [
    "future_solar = m_solar.make_future_dataframe(periods=30, freq='y')"
   ]
  },
  {
   "cell_type": "code",
   "execution_count": 85,
   "metadata": {},
   "outputs": [],
   "source": [
    "forecast_solar = m_solar.predict(future_solar)"
   ]
  },
  {
   "cell_type": "code",
   "execution_count": 86,
   "metadata": {},
   "outputs": [
    {
     "data": {
      "image/png": "[encoded data removed]",
      "text/plain": [
       "<Figure size 720x432 with 1 Axes>"
      ]
     },
     "metadata": {},
     "output_type": "display_data"
    }
   ],
   "source": [
    "m_solar.plot(forecast_solar);"
   ]
  },
  {
   "cell_type": "code",
   "execution_count": 74,
   "metadata": {},
   "outputs": [],
   "source": [
    "# Total Solar Demand minus Thrifting "
   ]
  },
  {
   "cell_type": "code",
   "execution_count": 90,
   "metadata": {},
   "outputs": [
    {
     "data": {
      "text/html": [
       "<div>\n",
       "<style scoped>\n",
       "    .dataframe tbody tr th:only-of-type {\n",
       "        vertical-align: middle;\n",
       "    }\n",
       "\n",
       "    .dataframe tbody tr th {\n",
       "        vertical-align: top;\n",
       "    }\n",
       "\n",
       "    .dataframe thead th {\n",
       "        text-align: right;\n",
       "    }\n",
       "</style>\n",
       "<table border=\"1\" class=\"dataframe\">\n",
       "  <thead>\n",
       "    <tr style=\"text-align: right;\">\n",
       "      <th></th>\n",
       "      <th>Year</th>\n",
       "      <th>Solar (terawatt-hours)</th>\n",
       "    </tr>\n",
       "  </thead>\n",
       "  <tbody>\n",
       "    <tr>\n",
       "      <th>4168</th>\n",
       "      <td>2009</td>\n",
       "      <td>20.917919</td>\n",
       "    </tr>\n",
       "    <tr>\n",
       "      <th>4169</th>\n",
       "      <td>2010</td>\n",
       "      <td>33.816254</td>\n",
       "    </tr>\n",
       "    <tr>\n",
       "      <th>4170</th>\n",
       "      <td>2011</td>\n",
       "      <td>64.695112</td>\n",
       "    </tr>\n",
       "    <tr>\n",
       "      <th>4171</th>\n",
       "      <td>2012</td>\n",
       "      <td>100.033907</td>\n",
       "    </tr>\n",
       "    <tr>\n",
       "      <th>4172</th>\n",
       "      <td>2013</td>\n",
       "      <td>137.561154</td>\n",
       "    </tr>\n",
       "    <tr>\n",
       "      <th>4173</th>\n",
       "      <td>2014</td>\n",
       "      <td>196.332988</td>\n",
       "    </tr>\n",
       "    <tr>\n",
       "      <th>4174</th>\n",
       "      <td>2015</td>\n",
       "      <td>256.190929</td>\n",
       "    </tr>\n",
       "    <tr>\n",
       "      <th>4175</th>\n",
       "      <td>2016</td>\n",
       "      <td>333.052493</td>\n",
       "    </tr>\n",
       "  </tbody>\n",
       "</table>\n",
       "</div>"
      ],
      "text/plain": [
       "      Year  Solar (terawatt-hours)\n",
       "4168  2009               20.917919\n",
       "4169  2010               33.816254\n",
       "4170  2011               64.695112\n",
       "4171  2012              100.033907\n",
       "4172  2013              137.561154\n",
       "4173  2014              196.332988\n",
       "4174  2015              256.190929\n",
       "4175  2016              333.052493"
      ]
     },
     "execution_count": 90,
     "metadata": {},
     "output_type": "execute_result"
    }
   ],
   "source": [
    "solar_dem_min_thrift = solar_con.copy().iloc[44:]\n",
    "solar_dem_min_thrift"
   ]
  },
  {
   "cell_type": "markdown",
   "metadata": {},
   "source": [
    "### Top 5 Producers - Company Stock Analysis"
   ]
  },
  {
   "cell_type": "code",
   "execution_count": 56,
   "metadata": {},
   "outputs": [],
   "source": [
    "# Market Caps"
   ]
  },
  {
   "cell_type": "code",
   "execution_count": 57,
   "metadata": {},
   "outputs": [
    {
     "ename": "FileNotFoundError",
     "evalue": "[Errno 2] No such file or directory: '../data/company_data/market_cap/goldcorp_canada/TSX_G market-cap Data 2019-10-31 04_49_53.xlsx'",
     "output_type": "error",
     "traceback": [
      "\u001b[0;31m---------------------------------------------------------------------------\u001b[0m",
      "\u001b[0;31mFileNotFoundError\u001b[0m                         Traceback (most recent call last)",
      "\u001b[0;32m<ipython-input-57-1323d34da50b>\u001b[0m in \u001b[0;36m<module>\u001b[0;34m\u001b[0m\n\u001b[1;32m      6\u001b[0m                         skiprows=4)\n\u001b[1;32m      7\u001b[0m goldcorp = pd.read_excel('../data/company_data/market_cap/goldcorp_canada/TSX_G market-cap Data 2019-10-31 04_49_53.xlsx',\n\u001b[0;32m----> 8\u001b[0;31m                         skiprows=4)\n\u001b[0m\u001b[1;32m      9\u001b[0m polymetal = pd.read_excel('../data/company_data/market_cap/polymetal_canada/PLM market-cap Data 2019-10-31 04_52_20.xlsx',\n\u001b[1;32m     10\u001b[0m                         skiprows=4)\n",
      "\u001b[0;32m~/anaconda3/envs/data_science/lib/python3.6/site-packages/pandas/util/_decorators.py\u001b[0m in \u001b[0;36mwrapper\u001b[0;34m(*args, **kwargs)\u001b[0m\n\u001b[1;32m    176\u001b[0m                 \u001b[0;32melse\u001b[0m\u001b[0;34m:\u001b[0m\u001b[0;34m\u001b[0m\u001b[0;34m\u001b[0m\u001b[0m\n\u001b[1;32m    177\u001b[0m                     \u001b[0mkwargs\u001b[0m\u001b[0;34m[\u001b[0m\u001b[0mnew_arg_name\u001b[0m\u001b[0;34m]\u001b[0m \u001b[0;34m=\u001b[0m \u001b[0mnew_arg_value\u001b[0m\u001b[0;34m\u001b[0m\u001b[0;34m\u001b[0m\u001b[0m\n\u001b[0;32m--> 178\u001b[0;31m             \u001b[0;32mreturn\u001b[0m \u001b[0mfunc\u001b[0m\u001b[0;34m(\u001b[0m\u001b[0;34m*\u001b[0m\u001b[0margs\u001b[0m\u001b[0;34m,\u001b[0m \u001b[0;34m**\u001b[0m\u001b[0mkwargs\u001b[0m\u001b[0;34m)\u001b[0m\u001b[0;34m\u001b[0m\u001b[0;34m\u001b[0m\u001b[0m\n\u001b[0m\u001b[1;32m    179\u001b[0m         \u001b[0;32mreturn\u001b[0m \u001b[0mwrapper\u001b[0m\u001b[0;34m\u001b[0m\u001b[0;34m\u001b[0m\u001b[0m\n\u001b[1;32m    180\u001b[0m     \u001b[0;32mreturn\u001b[0m \u001b[0m_deprecate_kwarg\u001b[0m\u001b[0;34m\u001b[0m\u001b[0;34m\u001b[0m\u001b[0m\n",
      "\u001b[0;32m~/anaconda3/envs/data_science/lib/python3.6/site-packages/pandas/util/_decorators.py\u001b[0m in \u001b[0;36mwrapper\u001b[0;34m(*args, **kwargs)\u001b[0m\n\u001b[1;32m    176\u001b[0m                 \u001b[0;32melse\u001b[0m\u001b[0;34m:\u001b[0m\u001b[0;34m\u001b[0m\u001b[0;34m\u001b[0m\u001b[0m\n\u001b[1;32m    177\u001b[0m                     \u001b[0mkwargs\u001b[0m\u001b[0;34m[\u001b[0m\u001b[0mnew_arg_name\u001b[0m\u001b[0;34m]\u001b[0m \u001b[0;34m=\u001b[0m \u001b[0mnew_arg_value\u001b[0m\u001b[0;34m\u001b[0m\u001b[0;34m\u001b[0m\u001b[0m\n\u001b[0;32m--> 178\u001b[0;31m             \u001b[0;32mreturn\u001b[0m \u001b[0mfunc\u001b[0m\u001b[0;34m(\u001b[0m\u001b[0;34m*\u001b[0m\u001b[0margs\u001b[0m\u001b[0;34m,\u001b[0m \u001b[0;34m**\u001b[0m\u001b[0mkwargs\u001b[0m\u001b[0;34m)\u001b[0m\u001b[0;34m\u001b[0m\u001b[0;34m\u001b[0m\u001b[0m\n\u001b[0m\u001b[1;32m    179\u001b[0m         \u001b[0;32mreturn\u001b[0m \u001b[0mwrapper\u001b[0m\u001b[0;34m\u001b[0m\u001b[0;34m\u001b[0m\u001b[0m\n\u001b[1;32m    180\u001b[0m     \u001b[0;32mreturn\u001b[0m \u001b[0m_deprecate_kwarg\u001b[0m\u001b[0;34m\u001b[0m\u001b[0;34m\u001b[0m\u001b[0m\n",
      "\u001b[0;32m~/anaconda3/envs/data_science/lib/python3.6/site-packages/pandas/io/excel.py\u001b[0m in \u001b[0;36mread_excel\u001b[0;34m(io, sheet_name, header, names, index_col, usecols, squeeze, dtype, engine, converters, true_values, false_values, skiprows, nrows, na_values, parse_dates, date_parser, thousands, comment, skipfooter, convert_float, **kwds)\u001b[0m\n\u001b[1;32m    305\u001b[0m \u001b[0;34m\u001b[0m\u001b[0m\n\u001b[1;32m    306\u001b[0m     \u001b[0;32mif\u001b[0m \u001b[0;32mnot\u001b[0m \u001b[0misinstance\u001b[0m\u001b[0;34m(\u001b[0m\u001b[0mio\u001b[0m\u001b[0;34m,\u001b[0m \u001b[0mExcelFile\u001b[0m\u001b[0;34m)\u001b[0m\u001b[0;34m:\u001b[0m\u001b[0;34m\u001b[0m\u001b[0;34m\u001b[0m\u001b[0m\n\u001b[0;32m--> 307\u001b[0;31m         \u001b[0mio\u001b[0m \u001b[0;34m=\u001b[0m \u001b[0mExcelFile\u001b[0m\u001b[0;34m(\u001b[0m\u001b[0mio\u001b[0m\u001b[0;34m,\u001b[0m \u001b[0mengine\u001b[0m\u001b[0;34m=\u001b[0m\u001b[0mengine\u001b[0m\u001b[0;34m)\u001b[0m\u001b[0;34m\u001b[0m\u001b[0;34m\u001b[0m\u001b[0m\n\u001b[0m\u001b[1;32m    308\u001b[0m \u001b[0;34m\u001b[0m\u001b[0m\n\u001b[1;32m    309\u001b[0m     return io.parse(\n",
      "\u001b[0;32m~/anaconda3/envs/data_science/lib/python3.6/site-packages/pandas/io/excel.py\u001b[0m in \u001b[0;36m__init__\u001b[0;34m(self, io, **kwds)\u001b[0m\n\u001b[1;32m    392\u001b[0m             \u001b[0mself\u001b[0m\u001b[0;34m.\u001b[0m\u001b[0mbook\u001b[0m \u001b[0;34m=\u001b[0m \u001b[0mxlrd\u001b[0m\u001b[0;34m.\u001b[0m\u001b[0mopen_workbook\u001b[0m\u001b[0;34m(\u001b[0m\u001b[0mfile_contents\u001b[0m\u001b[0;34m=\u001b[0m\u001b[0mdata\u001b[0m\u001b[0;34m)\u001b[0m\u001b[0;34m\u001b[0m\u001b[0;34m\u001b[0m\u001b[0m\n\u001b[1;32m    393\u001b[0m         \u001b[0;32melif\u001b[0m \u001b[0misinstance\u001b[0m\u001b[0;34m(\u001b[0m\u001b[0mself\u001b[0m\u001b[0;34m.\u001b[0m\u001b[0m_io\u001b[0m\u001b[0;34m,\u001b[0m \u001b[0mcompat\u001b[0m\u001b[0;34m.\u001b[0m\u001b[0mstring_types\u001b[0m\u001b[0;34m)\u001b[0m\u001b[0;34m:\u001b[0m\u001b[0;34m\u001b[0m\u001b[0;34m\u001b[0m\u001b[0m\n\u001b[0;32m--> 394\u001b[0;31m             \u001b[0mself\u001b[0m\u001b[0;34m.\u001b[0m\u001b[0mbook\u001b[0m \u001b[0;34m=\u001b[0m \u001b[0mxlrd\u001b[0m\u001b[0;34m.\u001b[0m\u001b[0mopen_workbook\u001b[0m\u001b[0;34m(\u001b[0m\u001b[0mself\u001b[0m\u001b[0;34m.\u001b[0m\u001b[0m_io\u001b[0m\u001b[0;34m)\u001b[0m\u001b[0;34m\u001b[0m\u001b[0;34m\u001b[0m\u001b[0m\n\u001b[0m\u001b[1;32m    395\u001b[0m         \u001b[0;32melse\u001b[0m\u001b[0;34m:\u001b[0m\u001b[0;34m\u001b[0m\u001b[0;34m\u001b[0m\u001b[0m\n\u001b[1;32m    396\u001b[0m             raise ValueError('Must explicitly set engine if not passing in'\n",
      "\u001b[0;32m~/anaconda3/envs/data_science/lib/python3.6/site-packages/xlrd/__init__.py\u001b[0m in \u001b[0;36mopen_workbook\u001b[0;34m(filename, logfile, verbosity, use_mmap, file_contents, encoding_override, formatting_info, on_demand, ragged_rows)\u001b[0m\n\u001b[1;32m    393\u001b[0m         \u001b[0mpeek\u001b[0m \u001b[0;34m=\u001b[0m \u001b[0mfile_contents\u001b[0m\u001b[0;34m[\u001b[0m\u001b[0;34m:\u001b[0m\u001b[0mpeeksz\u001b[0m\u001b[0;34m]\u001b[0m\u001b[0;34m\u001b[0m\u001b[0;34m\u001b[0m\u001b[0m\n\u001b[1;32m    394\u001b[0m     \u001b[0;32melse\u001b[0m\u001b[0;34m:\u001b[0m\u001b[0;34m\u001b[0m\u001b[0;34m\u001b[0m\u001b[0m\n\u001b[0;32m--> 395\u001b[0;31m         \u001b[0;32mwith\u001b[0m \u001b[0mopen\u001b[0m\u001b[0;34m(\u001b[0m\u001b[0mfilename\u001b[0m\u001b[0;34m,\u001b[0m \u001b[0;34m\"rb\"\u001b[0m\u001b[0;34m)\u001b[0m \u001b[0;32mas\u001b[0m \u001b[0mf\u001b[0m\u001b[0;34m:\u001b[0m\u001b[0;34m\u001b[0m\u001b[0;34m\u001b[0m\u001b[0m\n\u001b[0m\u001b[1;32m    396\u001b[0m             \u001b[0mpeek\u001b[0m \u001b[0;34m=\u001b[0m \u001b[0mf\u001b[0m\u001b[0;34m.\u001b[0m\u001b[0mread\u001b[0m\u001b[0;34m(\u001b[0m\u001b[0mpeeksz\u001b[0m\u001b[0;34m)\u001b[0m\u001b[0;34m\u001b[0m\u001b[0;34m\u001b[0m\u001b[0m\n\u001b[1;32m    397\u001b[0m     \u001b[0;32mif\u001b[0m \u001b[0mpeek\u001b[0m \u001b[0;34m==\u001b[0m \u001b[0;34mb\"PK\\x03\\x04\"\u001b[0m\u001b[0;34m:\u001b[0m \u001b[0;31m# a ZIP file\u001b[0m\u001b[0;34m\u001b[0m\u001b[0;34m\u001b[0m\u001b[0m\n",
      "\u001b[0;31mFileNotFoundError\u001b[0m: [Errno 2] No such file or directory: '../data/company_data/market_cap/goldcorp_canada/TSX_G market-cap Data 2019-10-31 04_49_53.xlsx'"
     ]
    }
   ],
   "source": [
    "fres_mex = pd.read_excel('../data/company_data/market_cap/fresnillo/MEX_FRES market-cap Data 2019-10-30 16_21_41.xlsx',\n",
    "                        skiprows=4)\n",
    "kghm = pd.read_excel('../data/company_data/market_cap/kghm_polska/WAR_KGH market-cap Data 2019-10-31 04_41_48.xlsx',\n",
    "                        skiprows=4)\n",
    "glencore = pd.read_excel('../data/company_data/market_cap/glencore_switz/GLCNF market-cap Data 2019-10-31 04_47_44.xlsx',\n",
    "                        skiprows=4)\n",
    "goldcorp = pd.read_excel('../data/company_data/market_cap/goldcorp_canada/TSX_G market-cap Data 2019-10-31 04_49_53.xlsx',\n",
    "                        skiprows=4)\n",
    "polymetal = pd.read_excel('../data/company_data/market_cap/polymetal_canada/PLM market-cap Data 2019-10-31 04_52_20.xlsx',\n",
    "                        skiprows=4)\n",
    "panam = pd.read_excel('../data/company_data/market_cap/pan_american_silver_canada/PAAS market-cap Data 2019-10-31 04_54_16.xlsx',\n",
    "                        skiprows=4)\n",
    "jianxi = pd.read_excel('../data/company_data/market_cap/Jiangxi/SHSE_600362 market-cap Data 2019-10-31 04_58_58.xlsx',\n",
    "                        skiprows=4)\n"
   ]
  },
  {
   "cell_type": "code",
   "execution_count": null,
   "metadata": {},
   "outputs": [],
   "source": [
    "test = cufflinks.datagen.lines(4, mode='abc')"
   ]
  },
  {
   "cell_type": "code",
   "execution_count": null,
   "metadata": {},
   "outputs": [],
   "source": [
    "test.head()"
   ]
  },
  {
   "cell_type": "code",
   "execution_count": null,
   "metadata": {},
   "outputs": [],
   "source": []
  },
  {
   "cell_type": "code",
   "execution_count": null,
   "metadata": {},
   "outputs": [],
   "source": []
  },
  {
   "cell_type": "code",
   "execution_count": null,
   "metadata": {},
   "outputs": [],
   "source": [
    "fres_uk['Date'] = pd.to_datetime(fres_uk['Date'])\n",
    "fres_mex['Date'] = pd.to_datetime(fres_mex['Date'])"
   ]
  },
  {
   "cell_type": "code",
   "execution_count": null,
   "metadata": {},
   "outputs": [],
   "source": [
    "fres_uk.iplot(kind='line', xTitle='Year', x='Date', y='Data',\n",
    "                  yTitle='Share of Global Energy that is Renewable (%)', theme='space', \n",
    "       title='Share of Global Energy that is Renewable, Per Year', width=4)\n"
   ]
  },
  {
   "cell_type": "code",
   "execution_count": null,
   "metadata": {},
   "outputs": [],
   "source": [
    "fres_mex.iplot(kind='line', xTitle='Year', x='Date', y='Data',\n",
    "                  yTitle='Share of Global Energy that is Renewable (%)', theme='space', \n",
    "       title='Share of Global Energy that is Renewable, Per Year', width=4)\n"
   ]
  },
  {
   "cell_type": "code",
   "execution_count": null,
   "metadata": {},
   "outputs": [],
   "source": []
  },
  {
   "cell_type": "code",
   "execution_count": null,
   "metadata": {},
   "outputs": [],
   "source": []
  },
  {
   "cell_type": "code",
   "execution_count": null,
   "metadata": {},
   "outputs": [],
   "source": []
  },
  {
   "cell_type": "code",
   "execution_count": null,
   "metadata": {},
   "outputs": [],
   "source": []
  },
  {
   "cell_type": "code",
   "execution_count": null,
   "metadata": {},
   "outputs": [],
   "source": []
  },
  {
   "cell_type": "code",
   "execution_count": null,
   "metadata": {},
   "outputs": [],
   "source": []
  },
  {
   "cell_type": "code",
   "execution_count": null,
   "metadata": {},
   "outputs": [],
   "source": []
  },
  {
   "cell_type": "code",
   "execution_count": null,
   "metadata": {},
   "outputs": [],
   "source": []
  },
  {
   "cell_type": "code",
   "execution_count": null,
   "metadata": {},
   "outputs": [],
   "source": []
  },
  {
   "cell_type": "code",
   "execution_count": null,
   "metadata": {},
   "outputs": [],
   "source": []
  },
  {
   "cell_type": "code",
   "execution_count": null,
   "metadata": {},
   "outputs": [],
   "source": []
  }
 ],
 "metadata": {
  "kernelspec": {
   "display_name": "Python 3",
   "language": "python",
   "name": "python3"
  },
  "language_info": {
   "codemirror_mode": {
    "name": "ipython",
    "version": 3
   },
   "file_extension": ".py",
   "mimetype": "text/x-python",
   "name": "python",
   "nbconvert_exporter": "python",
   "pygments_lexer": "ipython3",
   "version": "3.6.8"
  }
 },
 "nbformat": 4,
 "nbformat_minor": 2
}
