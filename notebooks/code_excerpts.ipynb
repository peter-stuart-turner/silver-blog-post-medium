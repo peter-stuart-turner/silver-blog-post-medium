{
 "cells": [
  {
   "cell_type": "code",
   "execution_count": 4,
   "metadata": {},
   "outputs": [
    {
     "data": {
      "text/html": [
       "<script type=\"text/javascript\">window.PlotlyConfig = {MathJaxConfig: 'local'};</script><script type=\"text/javascript\">if (window.MathJax) {MathJax.Hub.Config({SVG: {font: \"STIX-Web\"}});}</script><script>requirejs.config({paths: { 'plotly': ['https://cdn.plot.ly/plotly-latest.min']},});if(!window._Plotly) {require(['plotly'],function(plotly) {window._Plotly=plotly;});}</script>"
      ],
      "text/vnd.plotly.v1+html": [
       "<script type=\"text/javascript\">window.PlotlyConfig = {MathJaxConfig: 'local'};</script><script type=\"text/javascript\">if (window.MathJax) {MathJax.Hub.Config({SVG: {font: \"STIX-Web\"}});}</script><script>requirejs.config({paths: { 'plotly': ['https://cdn.plot.ly/plotly-latest.min']},});if(!window._Plotly) {require(['plotly'],function(plotly) {window._Plotly=plotly;});}</script>"
      ]
     },
     "metadata": {},
     "output_type": "display_data"
    },
    {
     "data": {
      "text/html": [
       "<script type=\"text/javascript\">window.PlotlyConfig = {MathJaxConfig: 'local'};</script><script type=\"text/javascript\">if (window.MathJax) {MathJax.Hub.Config({SVG: {font: \"STIX-Web\"}});}</script><script>requirejs.config({paths: { 'plotly': ['https://cdn.plot.ly/plotly-latest.min']},});if(!window._Plotly) {require(['plotly'],function(plotly) {window._Plotly=plotly;});}</script>"
      ],
      "text/vnd.plotly.v1+html": [
       "<script type=\"text/javascript\">window.PlotlyConfig = {MathJaxConfig: 'local'};</script><script type=\"text/javascript\">if (window.MathJax) {MathJax.Hub.Config({SVG: {font: \"STIX-Web\"}});}</script><script>requirejs.config({paths: { 'plotly': ['https://cdn.plot.ly/plotly-latest.min']},});if(!window._Plotly) {require(['plotly'],function(plotly) {window._Plotly=plotly;});}</script>"
      ]
     },
     "metadata": {},
     "output_type": "display_data"
    },
    {
     "data": {
      "application/vnd.plotly.v1+json": {
       "config": {
        "linkText": "Export to plot.ly",
        "plotlyServerURL": "https://plot.ly",
        "showLink": true
       },
       "data": [
        {
         "marker": {
          "color": "rgba(19, 154, 67, 0.6)",
          "line": {
           "color": "rgba(19, 154, 67, 1.0)",
           "width": 1
          }
         },
         "name": "Total Physical Demand",
         "orientation": "v",
         "text": "",
         "type": "bar",
         "uid": "fcf27f79-5159-443b-a6d7-21141867017f",
         "x": [
          2009,
          2010,
          2011,
          2012,
          2013,
          2014,
          2015,
          2016,
          2017,
          2018
         ],
         "y": [
          837.9000000000001,
          1049.8,
          1103.7,
          991.8,
          1124.3,
          1118.4,
          1162.7000000000003,
          1030.1999999999998,
          998.3,
          1033.4
         ]
        }
       ],
       "layout": {
        "legend": {
         "bgcolor": "#FFFFFF",
         "font": {
          "color": "#4D5663"
         }
        },
        "paper_bgcolor": "#FFFFFF",
        "plot_bgcolor": "#FFFFFF",
        "title": "Total Demand for Silver, Per Year",
        "titlefont": {
         "color": "#4D5663"
        },
        "xaxis": {
         "gridcolor": "#E1E5ED",
         "showgrid": true,
         "tickfont": {
          "color": "#4D5663"
         },
         "title": "Year",
         "titlefont": {
          "color": "#4D5663"
         },
         "zerolinecolor": "#E1E5ED"
        },
        "yaxis": {
         "gridcolor": "#E1E5ED",
         "showgrid": true,
         "tickfont": {
          "color": "#4D5663"
         },
         "title": "Demand (million ounces)",
         "titlefont": {
          "color": "#4D5663"
         },
         "zerolinecolor": "#E1E5ED"
        }
       }
      },
      "text/html": [
       "<div id=\"064163d3-8962-48a6-9776-e5e1eed8b6fd\" style=\"height: 525px; width: 100%;\" class=\"plotly-graph-div\"></div><script type=\"text/javascript\">require([\"plotly\"], function(Plotly) { window.PLOTLYENV=window.PLOTLYENV || {};window.PLOTLYENV.BASE_URL=\"https://plot.ly\";Plotly.newPlot(\"064163d3-8962-48a6-9776-e5e1eed8b6fd\", [{\"marker\": {\"color\": \"rgba(19, 154, 67, 0.6)\", \"line\": {\"color\": \"rgba(19, 154, 67, 1.0)\", \"width\": 1}}, \"name\": \"Total Physical Demand\", \"orientation\": \"v\", \"text\": \"\", \"x\": [2009, 2010, 2011, 2012, 2013, 2014, 2015, 2016, 2017, 2018], \"y\": [837.9000000000001, 1049.8, 1103.7, 991.8, 1124.3, 1118.4, 1162.7000000000003, 1030.1999999999998, 998.3, 1033.4], \"type\": \"bar\", \"uid\": \"65f7ca68-ad43-4f85-9ad9-650f30c8535f\"}], {\"legend\": {\"bgcolor\": \"#FFFFFF\", \"font\": {\"color\": \"#4D5663\"}}, \"paper_bgcolor\": \"#FFFFFF\", \"plot_bgcolor\": \"#FFFFFF\", \"title\": \"Total Demand for Silver, Per Year\", \"titlefont\": {\"color\": \"#4D5663\"}, \"xaxis\": {\"gridcolor\": \"#E1E5ED\", \"showgrid\": true, \"tickfont\": {\"color\": \"#4D5663\"}, \"title\": \"Year\", \"titlefont\": {\"color\": \"#4D5663\"}, \"zerolinecolor\": \"#E1E5ED\"}, \"yaxis\": {\"gridcolor\": \"#E1E5ED\", \"showgrid\": true, \"tickfont\": {\"color\": \"#4D5663\"}, \"title\": \"Demand (million ounces)\", \"titlefont\": {\"color\": \"#4D5663\"}, \"zerolinecolor\": \"#E1E5ED\"}}, {\"showLink\": true, \"linkText\": \"Export to plot.ly\", \"plotlyServerURL\": \"https://plot.ly\"})});</script><script type=\"text/javascript\">window.addEventListener(\"resize\", function(){window._Plotly.Plots.resize(document.getElementById(\"064163d3-8962-48a6-9776-e5e1eed8b6fd\"));});</script>"
      ],
      "text/vnd.plotly.v1+html": [
       "<div id=\"064163d3-8962-48a6-9776-e5e1eed8b6fd\" style=\"height: 525px; width: 100%;\" class=\"plotly-graph-div\"></div><script type=\"text/javascript\">require([\"plotly\"], function(Plotly) { window.PLOTLYENV=window.PLOTLYENV || {};window.PLOTLYENV.BASE_URL=\"https://plot.ly\";Plotly.newPlot(\"064163d3-8962-48a6-9776-e5e1eed8b6fd\", [{\"marker\": {\"color\": \"rgba(19, 154, 67, 0.6)\", \"line\": {\"color\": \"rgba(19, 154, 67, 1.0)\", \"width\": 1}}, \"name\": \"Total Physical Demand\", \"orientation\": \"v\", \"text\": \"\", \"x\": [2009, 2010, 2011, 2012, 2013, 2014, 2015, 2016, 2017, 2018], \"y\": [837.9000000000001, 1049.8, 1103.7, 991.8, 1124.3, 1118.4, 1162.7000000000003, 1030.1999999999998, 998.3, 1033.4], \"type\": \"bar\", \"uid\": \"65f7ca68-ad43-4f85-9ad9-650f30c8535f\"}], {\"legend\": {\"bgcolor\": \"#FFFFFF\", \"font\": {\"color\": \"#4D5663\"}}, \"paper_bgcolor\": \"#FFFFFF\", \"plot_bgcolor\": \"#FFFFFF\", \"title\": \"Total Demand for Silver, Per Year\", \"titlefont\": {\"color\": \"#4D5663\"}, \"xaxis\": {\"gridcolor\": \"#E1E5ED\", \"showgrid\": true, \"tickfont\": {\"color\": \"#4D5663\"}, \"title\": \"Year\", \"titlefont\": {\"color\": \"#4D5663\"}, \"zerolinecolor\": \"#E1E5ED\"}, \"yaxis\": {\"gridcolor\": \"#E1E5ED\", \"showgrid\": true, \"tickfont\": {\"color\": \"#4D5663\"}, \"title\": \"Demand (million ounces)\", \"titlefont\": {\"color\": \"#4D5663\"}, \"zerolinecolor\": \"#E1E5ED\"}}, {\"showLink\": true, \"linkText\": \"Export to plot.ly\", \"plotlyServerURL\": \"https://plot.ly\"})});</script><script type=\"text/javascript\">window.addEventListener(\"resize\", function(){window._Plotly.Plots.resize(document.getElementById(\"064163d3-8962-48a6-9776-e5e1eed8b6fd\"));});</script>"
      ]
     },
     "metadata": {},
     "output_type": "display_data"
    },
    {
     "data": {
      "application/vnd.plotly.v1+json": {
       "config": {
        "linkText": "Export to plot.ly",
        "plotlyServerURL": "https://plot.ly",
        "showLink": true
       },
       "data": [
        {
         "marker": {
          "color": "rgba(255, 153, 51, 0.6)",
          "line": {
           "color": "rgba(255, 153, 51, 1.0)",
           "width": 1
          }
         },
         "name": "Jewelry",
         "orientation": "v",
         "text": "",
         "type": "bar",
         "uid": "43a8e1e7-2d29-404f-be3e-26b0cd1ab986",
         "x": [
          2009,
          2010,
          2011,
          2012,
          2013,
          2014,
          2015,
          2016,
          2017,
          2018
         ],
         "y": [
          176.9,
          190,
          191.5,
          186.7,
          219.7,
          227.3,
          223.3,
          202.7,
          204.5,
          212.5
         ]
        },
        {
         "marker": {
          "color": "rgba(55, 128, 191, 0.6)",
          "line": {
           "color": "rgba(55, 128, 191, 1.0)",
           "width": 1
          }
         },
         "name": "Coins & Bars",
         "orientation": "v",
         "text": "",
         "type": "bar",
         "uid": "d498b751-7618-4dba-a3ee-81df0e0747f2",
         "x": [
          2009,
          2010,
          2011,
          2012,
          2013,
          2014,
          2015,
          2016,
          2017,
          2018
         ],
         "y": [
          79.6,
          174.1,
          211.7,
          161.2,
          240.7,
          233.6,
          293.6,
          208.7,
          150.4,
          181.2
         ]
        },
        {
         "marker": {
          "color": "rgba(50, 171, 96, 0.6)",
          "line": {
           "color": "rgba(50, 171, 96, 1.0)",
           "width": 1
          }
         },
         "name": "Silverware",
         "orientation": "v",
         "text": "",
         "type": "bar",
         "uid": "3a4ad8b6-86be-43bb-b046-a70484ec384d",
         "x": [
          2009,
          2010,
          2011,
          2012,
          2013,
          2014,
          2015,
          2016,
          2017,
          2018
         ],
         "y": [
          53.2,
          51.9,
          47.5,
          43.8,
          59.3,
          61.2,
          63.2,
          52.4,
          57.6,
          61.1
         ]
        },
        {
         "marker": {
          "color": "rgba(128, 0, 128, 0.6)",
          "line": {
           "color": "rgba(128, 0, 128, 1.0)",
           "width": 1
          }
         },
         "name": "Industrial Fabrication",
         "orientation": "v",
         "text": "",
         "type": "bar",
         "uid": "d71d08d1-1108-4209-86d5-40c2c12e2cf2",
         "x": [
          2009,
          2010,
          2011,
          2012,
          2013,
          2014,
          2015,
          2016,
          2017,
          2018
         ],
         "y": [
          528.2,
          633.8,
          653,
          600.1,
          604.6,
          596.3,
          582.6,
          566.4,
          585.8,
          578.6
         ]
        }
       ],
       "layout": {
        "legend": {
         "bgcolor": "#FFFFFF",
         "font": {
          "color": "#4D5663"
         }
        },
        "paper_bgcolor": "#FFFFFF",
        "plot_bgcolor": "#FFFFFF",
        "title": "Total Demand for Silver, Per Year and By Sector",
        "titlefont": {
         "color": "#4D5663"
        },
        "xaxis": {
         "gridcolor": "#E1E5ED",
         "showgrid": true,
         "tickfont": {
          "color": "#4D5663"
         },
         "title": "Year",
         "titlefont": {
          "color": "#4D5663"
         },
         "zerolinecolor": "#E1E5ED"
        },
        "yaxis": {
         "gridcolor": "#E1E5ED",
         "showgrid": true,
         "tickfont": {
          "color": "#4D5663"
         },
         "title": "Demand (million ounces)",
         "titlefont": {
          "color": "#4D5663"
         },
         "zerolinecolor": "#E1E5ED"
        }
       }
      },
      "text/html": [
       "<div id=\"ed280af1-9a6d-48ee-8efb-428e90561c6a\" style=\"height: 525px; width: 100%;\" class=\"plotly-graph-div\"></div><script type=\"text/javascript\">require([\"plotly\"], function(Plotly) { window.PLOTLYENV=window.PLOTLYENV || {};window.PLOTLYENV.BASE_URL=\"https://plot.ly\";Plotly.newPlot(\"ed280af1-9a6d-48ee-8efb-428e90561c6a\", [{\"marker\": {\"color\": \"rgba(255, 153, 51, 0.6)\", \"line\": {\"color\": \"rgba(255, 153, 51, 1.0)\", \"width\": 1}}, \"name\": \"Jewelry\", \"orientation\": \"v\", \"text\": \"\", \"x\": [2009, 2010, 2011, 2012, 2013, 2014, 2015, 2016, 2017, 2018], \"y\": [176.9, 190.0, 191.5, 186.7, 219.7, 227.3, 223.3, 202.7, 204.5, 212.5], \"type\": \"bar\", \"uid\": \"51274e15-c430-4ca7-b3f7-60b9fd78845f\"}, {\"marker\": {\"color\": \"rgba(55, 128, 191, 0.6)\", \"line\": {\"color\": \"rgba(55, 128, 191, 1.0)\", \"width\": 1}}, \"name\": \"Coins & Bars\", \"orientation\": \"v\", \"text\": \"\", \"x\": [2009, 2010, 2011, 2012, 2013, 2014, 2015, 2016, 2017, 2018], \"y\": [79.6, 174.1, 211.7, 161.2, 240.7, 233.6, 293.6, 208.7, 150.4, 181.2], \"type\": \"bar\", \"uid\": \"6bedb38d-e625-485a-a557-bac3d312d302\"}, {\"marker\": {\"color\": \"rgba(50, 171, 96, 0.6)\", \"line\": {\"color\": \"rgba(50, 171, 96, 1.0)\", \"width\": 1}}, \"name\": \"Silverware\", \"orientation\": \"v\", \"text\": \"\", \"x\": [2009, 2010, 2011, 2012, 2013, 2014, 2015, 2016, 2017, 2018], \"y\": [53.2, 51.9, 47.5, 43.8, 59.3, 61.2, 63.2, 52.4, 57.6, 61.1], \"type\": \"bar\", \"uid\": \"37047c28-8999-4e8b-ba4f-a578face171c\"}, {\"marker\": {\"color\": \"rgba(128, 0, 128, 0.6)\", \"line\": {\"color\": \"rgba(128, 0, 128, 1.0)\", \"width\": 1}}, \"name\": \"Industrial Fabrication\", \"orientation\": \"v\", \"text\": \"\", \"x\": [2009, 2010, 2011, 2012, 2013, 2014, 2015, 2016, 2017, 2018], \"y\": [528.2, 633.8, 653.0, 600.1, 604.6, 596.3, 582.6, 566.4, 585.8, 578.6], \"type\": \"bar\", \"uid\": \"5077b1c9-e831-409f-9613-d30757c2c2ef\"}], {\"legend\": {\"bgcolor\": \"#FFFFFF\", \"font\": {\"color\": \"#4D5663\"}}, \"paper_bgcolor\": \"#FFFFFF\", \"plot_bgcolor\": \"#FFFFFF\", \"title\": \"Total Demand for Silver, Per Year and By Sector\", \"titlefont\": {\"color\": \"#4D5663\"}, \"xaxis\": {\"gridcolor\": \"#E1E5ED\", \"showgrid\": true, \"tickfont\": {\"color\": \"#4D5663\"}, \"title\": \"Year\", \"titlefont\": {\"color\": \"#4D5663\"}, \"zerolinecolor\": \"#E1E5ED\"}, \"yaxis\": {\"gridcolor\": \"#E1E5ED\", \"showgrid\": true, \"tickfont\": {\"color\": \"#4D5663\"}, \"title\": \"Demand (million ounces)\", \"titlefont\": {\"color\": \"#4D5663\"}, \"zerolinecolor\": \"#E1E5ED\"}}, {\"showLink\": true, \"linkText\": \"Export to plot.ly\", \"plotlyServerURL\": \"https://plot.ly\"})});</script><script type=\"text/javascript\">window.addEventListener(\"resize\", function(){window._Plotly.Plots.resize(document.getElementById(\"ed280af1-9a6d-48ee-8efb-428e90561c6a\"));});</script>"
      ],
      "text/vnd.plotly.v1+html": [
       "<div id=\"ed280af1-9a6d-48ee-8efb-428e90561c6a\" style=\"height: 525px; width: 100%;\" class=\"plotly-graph-div\"></div><script type=\"text/javascript\">require([\"plotly\"], function(Plotly) { window.PLOTLYENV=window.PLOTLYENV || {};window.PLOTLYENV.BASE_URL=\"https://plot.ly\";Plotly.newPlot(\"ed280af1-9a6d-48ee-8efb-428e90561c6a\", [{\"marker\": {\"color\": \"rgba(255, 153, 51, 0.6)\", \"line\": {\"color\": \"rgba(255, 153, 51, 1.0)\", \"width\": 1}}, \"name\": \"Jewelry\", \"orientation\": \"v\", \"text\": \"\", \"x\": [2009, 2010, 2011, 2012, 2013, 2014, 2015, 2016, 2017, 2018], \"y\": [176.9, 190.0, 191.5, 186.7, 219.7, 227.3, 223.3, 202.7, 204.5, 212.5], \"type\": \"bar\", \"uid\": \"51274e15-c430-4ca7-b3f7-60b9fd78845f\"}, {\"marker\": {\"color\": \"rgba(55, 128, 191, 0.6)\", \"line\": {\"color\": \"rgba(55, 128, 191, 1.0)\", \"width\": 1}}, \"name\": \"Coins & Bars\", \"orientation\": \"v\", \"text\": \"\", \"x\": [2009, 2010, 2011, 2012, 2013, 2014, 2015, 2016, 2017, 2018], \"y\": [79.6, 174.1, 211.7, 161.2, 240.7, 233.6, 293.6, 208.7, 150.4, 181.2], \"type\": \"bar\", \"uid\": \"6bedb38d-e625-485a-a557-bac3d312d302\"}, {\"marker\": {\"color\": \"rgba(50, 171, 96, 0.6)\", \"line\": {\"color\": \"rgba(50, 171, 96, 1.0)\", \"width\": 1}}, \"name\": \"Silverware\", \"orientation\": \"v\", \"text\": \"\", \"x\": [2009, 2010, 2011, 2012, 2013, 2014, 2015, 2016, 2017, 2018], \"y\": [53.2, 51.9, 47.5, 43.8, 59.3, 61.2, 63.2, 52.4, 57.6, 61.1], \"type\": \"bar\", \"uid\": \"37047c28-8999-4e8b-ba4f-a578face171c\"}, {\"marker\": {\"color\": \"rgba(128, 0, 128, 0.6)\", \"line\": {\"color\": \"rgba(128, 0, 128, 1.0)\", \"width\": 1}}, \"name\": \"Industrial Fabrication\", \"orientation\": \"v\", \"text\": \"\", \"x\": [2009, 2010, 2011, 2012, 2013, 2014, 2015, 2016, 2017, 2018], \"y\": [528.2, 633.8, 653.0, 600.1, 604.6, 596.3, 582.6, 566.4, 585.8, 578.6], \"type\": \"bar\", \"uid\": \"5077b1c9-e831-409f-9613-d30757c2c2ef\"}], {\"legend\": {\"bgcolor\": \"#FFFFFF\", \"font\": {\"color\": \"#4D5663\"}}, \"paper_bgcolor\": \"#FFFFFF\", \"plot_bgcolor\": \"#FFFFFF\", \"title\": \"Total Demand for Silver, Per Year and By Sector\", \"titlefont\": {\"color\": \"#4D5663\"}, \"xaxis\": {\"gridcolor\": \"#E1E5ED\", \"showgrid\": true, \"tickfont\": {\"color\": \"#4D5663\"}, \"title\": \"Year\", \"titlefont\": {\"color\": \"#4D5663\"}, \"zerolinecolor\": \"#E1E5ED\"}, \"yaxis\": {\"gridcolor\": \"#E1E5ED\", \"showgrid\": true, \"tickfont\": {\"color\": \"#4D5663\"}, \"title\": \"Demand (million ounces)\", \"titlefont\": {\"color\": \"#4D5663\"}, \"zerolinecolor\": \"#E1E5ED\"}}, {\"showLink\": true, \"linkText\": \"Export to plot.ly\", \"plotlyServerURL\": \"https://plot.ly\"})});</script><script type=\"text/javascript\">window.addEventListener(\"resize\", function(){window._Plotly.Plots.resize(document.getElementById(\"ed280af1-9a6d-48ee-8efb-428e90561c6a\"));});</script>"
      ]
     },
     "metadata": {},
     "output_type": "display_data"
    },
    {
     "data": {
      "application/vnd.plotly.v1+json": {
       "config": {
        "linkText": "Export to plot.ly",
        "plotlyServerURL": "https://plot.ly",
        "showLink": true
       },
       "data": [
        {
         "marker": {
          "color": "rgba(255, 153, 51, 0.6)",
          "line": {
           "color": "rgba(255, 153, 51, 1.0)",
           "width": 1
          }
         },
         "name": "…of which Electrical & Electronics",
         "orientation": "v",
         "text": "",
         "type": "bar",
         "uid": "fbd8db0f-692f-495f-8d5e-eb0286e95332",
         "x": [
          2009,
          2010,
          2011,
          2012,
          2013,
          2014,
          2015,
          2016,
          2017,
          2018
         ],
         "y": [
          227.4,
          301.2,
          290.8,
          266.7,
          266,
          263.9,
          246,
          233.9,
          243.1,
          248.5
         ]
        },
        {
         "marker": {
          "color": "rgba(55, 128, 191, 0.6)",
          "line": {
           "color": "rgba(55, 128, 191, 1.0)",
           "width": 1
          }
         },
         "name": "…of which Brazing Alloys & Solders",
         "orientation": "v",
         "text": "",
         "type": "bar",
         "uid": "cf4d56ce-792f-4978-99dd-778bca7c1050",
         "x": [
          2009,
          2010,
          2011,
          2012,
          2013,
          2014,
          2015,
          2016,
          2017,
          2018
         ],
         "y": [
          53.8,
          61.2,
          63.2,
          61.1,
          63.7,
          66.7,
          61.5,
          55.3,
          57.5,
          58
         ]
        },
        {
         "marker": {
          "color": "rgba(50, 171, 96, 0.6)",
          "line": {
           "color": "rgba(50, 171, 96, 1.0)",
           "width": 1
          }
         },
         "name": "…of which Photography",
         "orientation": "v",
         "text": "",
         "type": "bar",
         "uid": "90d90faf-1512-4ee5-bdf1-e4adb215f565",
         "x": [
          2009,
          2010,
          2011,
          2012,
          2013,
          2014,
          2015,
          2016,
          2017,
          2018
         ],
         "y": [
          76.4,
          67.5,
          61.2,
          54.2,
          50.5,
          48.5,
          46.1,
          44.7,
          40.9,
          39.3
         ]
        },
        {
         "marker": {
          "color": "rgba(128, 0, 128, 0.6)",
          "line": {
           "color": "rgba(128, 0, 128, 1.0)",
           "width": 1
          }
         },
         "name": "…of which Photovoltaic*",
         "orientation": "v",
         "text": "",
         "type": "bar",
         "uid": "7eb695ef-6194-442f-9ba1-1a2c12214f52",
         "x": [
          2009,
          2010,
          2011,
          2012,
          2013,
          2014,
          2015,
          2016,
          2017,
          2018
         ],
         "y": [
          0,
          0,
          67.4,
          64.4,
          54.8,
          53.9,
          64.5,
          74.9,
          88.9,
          80.5
         ]
        },
        {
         "marker": {
          "color": "rgba(219, 64, 82, 0.6)",
          "line": {
           "color": "rgba(219, 64, 82, 1.0)",
           "width": 1
          }
         },
         "name": "…of which Ethylene Oxide",
         "orientation": "v",
         "text": "",
         "type": "bar",
         "uid": "e13f494c-0d7b-41a0-88f8-c4b500631f59",
         "x": [
          2009,
          2010,
          2011,
          2012,
          2013,
          2014,
          2015,
          2016,
          2017,
          2018
         ],
         "y": [
          4.8,
          8.7,
          6.2,
          4.7,
          7.7,
          5,
          10.2,
          10.2,
          6.9,
          5.4
         ]
        },
        {
         "marker": {
          "color": "rgba(0, 128, 128, 0.6)",
          "line": {
           "color": "rgba(0, 128, 128, 1.0)",
           "width": 1
          }
         },
         "name": "…of which Other Industrial*",
         "orientation": "v",
         "text": "",
         "type": "bar",
         "uid": "dd1ddf12-5e46-4875-bddb-495fc442f7d1",
         "x": [
          2009,
          2010,
          2011,
          2012,
          2013,
          2014,
          2015,
          2016,
          2017,
          2018
         ],
         "y": [
          165.8,
          195.2,
          164.2,
          148.9,
          162,
          158.5,
          154.4,
          147.3,
          148.4,
          146.9
         ]
        }
       ],
       "layout": {
        "legend": {
         "bgcolor": "#FFFFFF",
         "font": {
          "color": "#4D5663"
         }
        },
        "paper_bgcolor": "#FFFFFF",
        "plot_bgcolor": "#FFFFFF",
        "title": "Total Industrial Demand for Silver, Per Year and By Industry",
        "titlefont": {
         "color": "#4D5663"
        },
        "xaxis": {
         "gridcolor": "#E1E5ED",
         "showgrid": true,
         "tickfont": {
          "color": "#4D5663"
         },
         "title": "Year",
         "titlefont": {
          "color": "#4D5663"
         },
         "zerolinecolor": "#E1E5ED"
        },
        "yaxis": {
         "gridcolor": "#E1E5ED",
         "showgrid": true,
         "tickfont": {
          "color": "#4D5663"
         },
         "title": "Demand (million ounces)",
         "titlefont": {
          "color": "#4D5663"
         },
         "zerolinecolor": "#E1E5ED"
        }
       }
      },
      "text/html": [
       "<div id=\"a382f2e1-9ba5-414a-9bf9-a19cfb79abf7\" style=\"height: 525px; width: 100%;\" class=\"plotly-graph-div\"></div><script type=\"text/javascript\">require([\"plotly\"], function(Plotly) { window.PLOTLYENV=window.PLOTLYENV || {};window.PLOTLYENV.BASE_URL=\"https://plot.ly\";Plotly.newPlot(\"a382f2e1-9ba5-414a-9bf9-a19cfb79abf7\", [{\"marker\": {\"color\": \"rgba(255, 153, 51, 0.6)\", \"line\": {\"color\": \"rgba(255, 153, 51, 1.0)\", \"width\": 1}}, \"name\": \"\\u2026of which Electrical & Electronics\", \"orientation\": \"v\", \"text\": \"\", \"x\": [2009, 2010, 2011, 2012, 2013, 2014, 2015, 2016, 2017, 2018], \"y\": [227.4, 301.2, 290.8, 266.7, 266.0, 263.9, 246.0, 233.9, 243.1, 248.5], \"type\": \"bar\", \"uid\": \"b19c1b50-ba04-4a51-a989-e43b7e788f16\"}, {\"marker\": {\"color\": \"rgba(55, 128, 191, 0.6)\", \"line\": {\"color\": \"rgba(55, 128, 191, 1.0)\", \"width\": 1}}, \"name\": \"\\u2026of which Brazing Alloys & Solders\", \"orientation\": \"v\", \"text\": \"\", \"x\": [2009, 2010, 2011, 2012, 2013, 2014, 2015, 2016, 2017, 2018], \"y\": [53.8, 61.2, 63.2, 61.1, 63.7, 66.7, 61.5, 55.3, 57.5, 58.0], \"type\": \"bar\", \"uid\": \"47a9dc05-c887-439e-b623-8039a323cdb1\"}, {\"marker\": {\"color\": \"rgba(50, 171, 96, 0.6)\", \"line\": {\"color\": \"rgba(50, 171, 96, 1.0)\", \"width\": 1}}, \"name\": \"\\u2026of which Photography\", \"orientation\": \"v\", \"text\": \"\", \"x\": [2009, 2010, 2011, 2012, 2013, 2014, 2015, 2016, 2017, 2018], \"y\": [76.4, 67.5, 61.2, 54.2, 50.5, 48.5, 46.1, 44.7, 40.9, 39.3], \"type\": \"bar\", \"uid\": \"59916f82-a79d-487f-bee5-f3b5e7463997\"}, {\"marker\": {\"color\": \"rgba(128, 0, 128, 0.6)\", \"line\": {\"color\": \"rgba(128, 0, 128, 1.0)\", \"width\": 1}}, \"name\": \"\\u2026of which Photovoltaic*\", \"orientation\": \"v\", \"text\": \"\", \"x\": [2009, 2010, 2011, 2012, 2013, 2014, 2015, 2016, 2017, 2018], \"y\": [0.0, 0.0, 67.4, 64.4, 54.8, 53.9, 64.5, 74.9, 88.9, 80.5], \"type\": \"bar\", \"uid\": \"8f41111e-1439-41a5-b3e6-b45f9b50544c\"}, {\"marker\": {\"color\": \"rgba(219, 64, 82, 0.6)\", \"line\": {\"color\": \"rgba(219, 64, 82, 1.0)\", \"width\": 1}}, \"name\": \"\\u2026of which Ethylene Oxide\", \"orientation\": \"v\", \"text\": \"\", \"x\": [2009, 2010, 2011, 2012, 2013, 2014, 2015, 2016, 2017, 2018], \"y\": [4.8, 8.7, 6.2, 4.7, 7.7, 5.0, 10.2, 10.2, 6.9, 5.4], \"type\": \"bar\", \"uid\": \"8ad1de6f-c317-4cb0-8f87-c18c330ea9bf\"}, {\"marker\": {\"color\": \"rgba(0, 128, 128, 0.6)\", \"line\": {\"color\": \"rgba(0, 128, 128, 1.0)\", \"width\": 1}}, \"name\": \"\\u2026of which Other Industrial*\", \"orientation\": \"v\", \"text\": \"\", \"x\": [2009, 2010, 2011, 2012, 2013, 2014, 2015, 2016, 2017, 2018], \"y\": [165.8, 195.2, 164.2, 148.9, 162.0, 158.5, 154.4, 147.3, 148.4, 146.9], \"type\": \"bar\", \"uid\": \"2f4805c0-8cbe-408c-83d2-fb279d34a941\"}], {\"legend\": {\"bgcolor\": \"#FFFFFF\", \"font\": {\"color\": \"#4D5663\"}}, \"paper_bgcolor\": \"#FFFFFF\", \"plot_bgcolor\": \"#FFFFFF\", \"title\": \"Total Industrial Demand for Silver, Per Year and By Industry\", \"titlefont\": {\"color\": \"#4D5663\"}, \"xaxis\": {\"gridcolor\": \"#E1E5ED\", \"showgrid\": true, \"tickfont\": {\"color\": \"#4D5663\"}, \"title\": \"Year\", \"titlefont\": {\"color\": \"#4D5663\"}, \"zerolinecolor\": \"#E1E5ED\"}, \"yaxis\": {\"gridcolor\": \"#E1E5ED\", \"showgrid\": true, \"tickfont\": {\"color\": \"#4D5663\"}, \"title\": \"Demand (million ounces)\", \"titlefont\": {\"color\": \"#4D5663\"}, \"zerolinecolor\": \"#E1E5ED\"}}, {\"showLink\": true, \"linkText\": \"Export to plot.ly\", \"plotlyServerURL\": \"https://plot.ly\"})});</script><script type=\"text/javascript\">window.addEventListener(\"resize\", function(){window._Plotly.Plots.resize(document.getElementById(\"a382f2e1-9ba5-414a-9bf9-a19cfb79abf7\"));});</script>"
      ],
      "text/vnd.plotly.v1+html": [
       "<div id=\"a382f2e1-9ba5-414a-9bf9-a19cfb79abf7\" style=\"height: 525px; width: 100%;\" class=\"plotly-graph-div\"></div><script type=\"text/javascript\">require([\"plotly\"], function(Plotly) { window.PLOTLYENV=window.PLOTLYENV || {};window.PLOTLYENV.BASE_URL=\"https://plot.ly\";Plotly.newPlot(\"a382f2e1-9ba5-414a-9bf9-a19cfb79abf7\", [{\"marker\": {\"color\": \"rgba(255, 153, 51, 0.6)\", \"line\": {\"color\": \"rgba(255, 153, 51, 1.0)\", \"width\": 1}}, \"name\": \"\\u2026of which Electrical & Electronics\", \"orientation\": \"v\", \"text\": \"\", \"x\": [2009, 2010, 2011, 2012, 2013, 2014, 2015, 2016, 2017, 2018], \"y\": [227.4, 301.2, 290.8, 266.7, 266.0, 263.9, 246.0, 233.9, 243.1, 248.5], \"type\": \"bar\", \"uid\": \"b19c1b50-ba04-4a51-a989-e43b7e788f16\"}, {\"marker\": {\"color\": \"rgba(55, 128, 191, 0.6)\", \"line\": {\"color\": \"rgba(55, 128, 191, 1.0)\", \"width\": 1}}, \"name\": \"\\u2026of which Brazing Alloys & Solders\", \"orientation\": \"v\", \"text\": \"\", \"x\": [2009, 2010, 2011, 2012, 2013, 2014, 2015, 2016, 2017, 2018], \"y\": [53.8, 61.2, 63.2, 61.1, 63.7, 66.7, 61.5, 55.3, 57.5, 58.0], \"type\": \"bar\", \"uid\": \"47a9dc05-c887-439e-b623-8039a323cdb1\"}, {\"marker\": {\"color\": \"rgba(50, 171, 96, 0.6)\", \"line\": {\"color\": \"rgba(50, 171, 96, 1.0)\", \"width\": 1}}, \"name\": \"\\u2026of which Photography\", \"orientation\": \"v\", \"text\": \"\", \"x\": [2009, 2010, 2011, 2012, 2013, 2014, 2015, 2016, 2017, 2018], \"y\": [76.4, 67.5, 61.2, 54.2, 50.5, 48.5, 46.1, 44.7, 40.9, 39.3], \"type\": \"bar\", \"uid\": \"59916f82-a79d-487f-bee5-f3b5e7463997\"}, {\"marker\": {\"color\": \"rgba(128, 0, 128, 0.6)\", \"line\": {\"color\": \"rgba(128, 0, 128, 1.0)\", \"width\": 1}}, \"name\": \"\\u2026of which Photovoltaic*\", \"orientation\": \"v\", \"text\": \"\", \"x\": [2009, 2010, 2011, 2012, 2013, 2014, 2015, 2016, 2017, 2018], \"y\": [0.0, 0.0, 67.4, 64.4, 54.8, 53.9, 64.5, 74.9, 88.9, 80.5], \"type\": \"bar\", \"uid\": \"8f41111e-1439-41a5-b3e6-b45f9b50544c\"}, {\"marker\": {\"color\": \"rgba(219, 64, 82, 0.6)\", \"line\": {\"color\": \"rgba(219, 64, 82, 1.0)\", \"width\": 1}}, \"name\": \"\\u2026of which Ethylene Oxide\", \"orientation\": \"v\", \"text\": \"\", \"x\": [2009, 2010, 2011, 2012, 2013, 2014, 2015, 2016, 2017, 2018], \"y\": [4.8, 8.7, 6.2, 4.7, 7.7, 5.0, 10.2, 10.2, 6.9, 5.4], \"type\": \"bar\", \"uid\": \"8ad1de6f-c317-4cb0-8f87-c18c330ea9bf\"}, {\"marker\": {\"color\": \"rgba(0, 128, 128, 0.6)\", \"line\": {\"color\": \"rgba(0, 128, 128, 1.0)\", \"width\": 1}}, \"name\": \"\\u2026of which Other Industrial*\", \"orientation\": \"v\", \"text\": \"\", \"x\": [2009, 2010, 2011, 2012, 2013, 2014, 2015, 2016, 2017, 2018], \"y\": [165.8, 195.2, 164.2, 148.9, 162.0, 158.5, 154.4, 147.3, 148.4, 146.9], \"type\": \"bar\", \"uid\": \"2f4805c0-8cbe-408c-83d2-fb279d34a941\"}], {\"legend\": {\"bgcolor\": \"#FFFFFF\", \"font\": {\"color\": \"#4D5663\"}}, \"paper_bgcolor\": \"#FFFFFF\", \"plot_bgcolor\": \"#FFFFFF\", \"title\": \"Total Industrial Demand for Silver, Per Year and By Industry\", \"titlefont\": {\"color\": \"#4D5663\"}, \"xaxis\": {\"gridcolor\": \"#E1E5ED\", \"showgrid\": true, \"tickfont\": {\"color\": \"#4D5663\"}, \"title\": \"Year\", \"titlefont\": {\"color\": \"#4D5663\"}, \"zerolinecolor\": \"#E1E5ED\"}, \"yaxis\": {\"gridcolor\": \"#E1E5ED\", \"showgrid\": true, \"tickfont\": {\"color\": \"#4D5663\"}, \"title\": \"Demand (million ounces)\", \"titlefont\": {\"color\": \"#4D5663\"}, \"zerolinecolor\": \"#E1E5ED\"}}, {\"showLink\": true, \"linkText\": \"Export to plot.ly\", \"plotlyServerURL\": \"https://plot.ly\"})});</script><script type=\"text/javascript\">window.addEventListener(\"resize\", function(){window._Plotly.Plots.resize(document.getElementById(\"a382f2e1-9ba5-414a-9bf9-a19cfb79abf7\"));});</script>"
      ]
     },
     "metadata": {},
     "output_type": "display_data"
    }
   ],
   "source": [
    "import pandas as pd\n",
    "# Standard plotly imports\n",
    "import plotly.plotly as py\n",
    "import plotly.graph_objs as go\n",
    "from plotly.offline import iplot, init_notebook_mode\n",
    "# Using plotly + cufflinks in offline mode\n",
    "import cufflinks\n",
    "cufflinks.go_offline(connected=True)\n",
    "init_notebook_mode(connected=True)\n",
    "\n",
    "# Reading in data\n",
    "demand = pd.read_excel('../data/silver_institute_supply_and_demand.xlsx', 'Demand')\n",
    "demand.set_index('Year', inplace=True)\n",
    "demand.fillna(0, inplace=True)\n",
    "\n",
    "# Plotting - Total Supply per Year\n",
    "demand[['Total Physical Demand']]\\\n",
    ".iplot(kind='bar', xTitle='Year',  color='#139A43',\n",
    "                  yTitle='Demand (million ounces)', \n",
    "       title='Total Demand for Silver, Per Year', width=4)\n",
    "\n",
    "# Plotting - Total Demand per Year & by Sector\n",
    "demand.loc[:,'Jewelry':'Industrial Fabrication'].iplot(kind='bar', xTitle='Year', \n",
    "                  yTitle='Demand (million ounces)', \n",
    "       title='Total Demand for Silver, Per Year and By Sector', width=4)\n",
    "\n",
    "# Plotting - Total Industrial Demand per Year & by Industry\n",
    "demand.loc[:,'…of which Electrical & Electronics':'…of which Other Industrial*']\\\n",
    ".iplot(kind='bar', xTitle='Year', \n",
    "                  yTitle='Demand (million ounces)', \n",
    "       title='Total Industrial Demand for Silver, Per Year and By Industry', width=4)\n"
   ]
  },
  {
   "cell_type": "code",
   "execution_count": 5,
   "metadata": {},
   "outputs": [
    {
     "data": {
      "text/plain": [
       "…of which Electrical & Electronics    2587.5\n",
       "…of which Brazing Alloys & Solders     602.0\n",
       "…of which Photography                  529.3\n",
       "…of which Photovoltaic*                549.3\n",
       "…of which Ethylene Oxide                69.8\n",
       "…of which Other Industrial*           1591.6\n",
       "dtype: float64"
      ]
     },
     "execution_count": 5,
     "metadata": {},
     "output_type": "execute_result"
    }
   ],
   "source": [
    "demand.loc[:,'…of which Electrical & Electronics':'…of which Other Industrial*'].sum()"
   ]
  },
  {
   "cell_type": "code",
   "execution_count": 11,
   "metadata": {},
   "outputs": [],
   "source": [
    "total = 2587.5 + 602.0 + 529.3 + 549.3 + 69.8 + 1591.6"
   ]
  },
  {
   "cell_type": "code",
   "execution_count": 13,
   "metadata": {},
   "outputs": [
    {
     "data": {
      "text/plain": [
       "9.263850240323803"
      ]
     },
     "execution_count": 13,
     "metadata": {},
     "output_type": "execute_result"
    }
   ],
   "source": [
    "(549.3/total) * 100"
   ]
  },
  {
   "cell_type": "code",
   "execution_count": 16,
   "metadata": {},
   "outputs": [
    {
     "data": {
      "text/plain": [
       "43.63774348596003"
      ]
     },
     "execution_count": 16,
     "metadata": {},
     "output_type": "execute_result"
    }
   ],
   "source": [
    "(2587.5/total) * 100"
   ]
  },
  {
   "cell_type": "code",
   "execution_count": 17,
   "metadata": {},
   "outputs": [
    {
     "data": {
      "application/vnd.plotly.v1+json": {
       "config": {
        "linkText": "Export to plot.ly",
        "plotlyServerURL": "https://plot.ly",
        "showLink": true
       },
       "data": [
        {
         "line": {
          "color": "rgba(255, 153, 51, 1.0)",
          "dash": "solid",
          "shape": "linear",
          "width": 4
         },
         "mode": "lines",
         "name": "…of which Electrical & Electronics",
         "text": "",
         "type": "scatter",
         "uid": "1b78a8f4-9ecb-49de-8b4d-b031485b0b78",
         "x": [
          2009,
          2010,
          2011,
          2012,
          2013,
          2014,
          2015,
          2016,
          2017,
          2018
         ],
         "y": [
          227.4,
          301.2,
          290.8,
          266.7,
          266,
          263.9,
          246,
          233.9,
          243.1,
          248.5
         ]
        },
        {
         "line": {
          "color": "rgba(55, 128, 191, 1.0)",
          "dash": "solid",
          "shape": "linear",
          "width": 4
         },
         "mode": "lines",
         "name": "…of which Brazing Alloys & Solders",
         "text": "",
         "type": "scatter",
         "uid": "88504eec-368f-4164-8969-5a95cc1791ee",
         "x": [
          2009,
          2010,
          2011,
          2012,
          2013,
          2014,
          2015,
          2016,
          2017,
          2018
         ],
         "y": [
          53.8,
          61.2,
          63.2,
          61.1,
          63.7,
          66.7,
          61.5,
          55.3,
          57.5,
          58
         ]
        },
        {
         "line": {
          "color": "rgba(50, 171, 96, 1.0)",
          "dash": "solid",
          "shape": "linear",
          "width": 4
         },
         "mode": "lines",
         "name": "…of which Photography",
         "text": "",
         "type": "scatter",
         "uid": "ddba0d62-90c7-4b06-be83-53fea23c3609",
         "x": [
          2009,
          2010,
          2011,
          2012,
          2013,
          2014,
          2015,
          2016,
          2017,
          2018
         ],
         "y": [
          76.4,
          67.5,
          61.2,
          54.2,
          50.5,
          48.5,
          46.1,
          44.7,
          40.9,
          39.3
         ]
        },
        {
         "line": {
          "color": "rgba(128, 0, 128, 1.0)",
          "dash": "solid",
          "shape": "linear",
          "width": 4
         },
         "mode": "lines",
         "name": "…of which Photovoltaic*",
         "text": "",
         "type": "scatter",
         "uid": "110cf834-101f-4951-9676-0db388841299",
         "x": [
          2009,
          2010,
          2011,
          2012,
          2013,
          2014,
          2015,
          2016,
          2017,
          2018
         ],
         "y": [
          0,
          0,
          67.4,
          64.4,
          54.8,
          53.9,
          64.5,
          74.9,
          88.9,
          80.5
         ]
        },
        {
         "line": {
          "color": "rgba(219, 64, 82, 1.0)",
          "dash": "solid",
          "shape": "linear",
          "width": 4
         },
         "mode": "lines",
         "name": "…of which Ethylene Oxide",
         "text": "",
         "type": "scatter",
         "uid": "4d256753-fbad-4da3-af43-63988a9d6b4e",
         "x": [
          2009,
          2010,
          2011,
          2012,
          2013,
          2014,
          2015,
          2016,
          2017,
          2018
         ],
         "y": [
          4.8,
          8.7,
          6.2,
          4.7,
          7.7,
          5,
          10.2,
          10.2,
          6.9,
          5.4
         ]
        },
        {
         "line": {
          "color": "rgba(0, 128, 128, 1.0)",
          "dash": "solid",
          "shape": "linear",
          "width": 4
         },
         "mode": "lines",
         "name": "…of which Other Industrial*",
         "text": "",
         "type": "scatter",
         "uid": "b02f98e0-482c-4155-9021-93a0a418c0eb",
         "x": [
          2009,
          2010,
          2011,
          2012,
          2013,
          2014,
          2015,
          2016,
          2017,
          2018
         ],
         "y": [
          165.8,
          195.2,
          164.2,
          148.9,
          162,
          158.5,
          154.4,
          147.3,
          148.4,
          146.9
         ]
        }
       ],
       "layout": {
        "legend": {
         "bgcolor": "#FFFFFF",
         "font": {
          "color": "#4D5663"
         }
        },
        "paper_bgcolor": "#FFFFFF",
        "plot_bgcolor": "#FFFFFF",
        "title": "Total Industrial Demand for Silver, Per Year and By Industry",
        "titlefont": {
         "color": "#4D5663"
        },
        "xaxis": {
         "gridcolor": "#E1E5ED",
         "showgrid": true,
         "tickfont": {
          "color": "#4D5663"
         },
         "title": "Year",
         "titlefont": {
          "color": "#4D5663"
         },
         "zerolinecolor": "#E1E5ED"
        },
        "yaxis": {
         "gridcolor": "#E1E5ED",
         "showgrid": true,
         "tickfont": {
          "color": "#4D5663"
         },
         "title": "Demand (million ounces)",
         "titlefont": {
          "color": "#4D5663"
         },
         "zerolinecolor": "#E1E5ED"
        }
       }
      },
      "text/html": [
       "<div id=\"d1efc9af-8bb6-46da-8c18-8b4c5352ca51\" style=\"height: 525px; width: 100%;\" class=\"plotly-graph-div\"></div><script type=\"text/javascript\">require([\"plotly\"], function(Plotly) { window.PLOTLYENV=window.PLOTLYENV || {};window.PLOTLYENV.BASE_URL=\"https://plot.ly\";Plotly.newPlot(\"d1efc9af-8bb6-46da-8c18-8b4c5352ca51\", [{\"line\": {\"color\": \"rgba(255, 153, 51, 1.0)\", \"dash\": \"solid\", \"shape\": \"linear\", \"width\": 4}, \"mode\": \"lines\", \"name\": \"\\u2026of which Electrical & Electronics\", \"text\": \"\", \"x\": [2009, 2010, 2011, 2012, 2013, 2014, 2015, 2016, 2017, 2018], \"y\": [227.4, 301.2, 290.8, 266.7, 266.0, 263.9, 246.0, 233.9, 243.1, 248.5], \"type\": \"scatter\", \"uid\": \"22d7f7a9-2c68-40bc-9cf4-32ef75abc607\"}, {\"line\": {\"color\": \"rgba(55, 128, 191, 1.0)\", \"dash\": \"solid\", \"shape\": \"linear\", \"width\": 4}, \"mode\": \"lines\", \"name\": \"\\u2026of which Brazing Alloys & Solders\", \"text\": \"\", \"x\": [2009, 2010, 2011, 2012, 2013, 2014, 2015, 2016, 2017, 2018], \"y\": [53.8, 61.2, 63.2, 61.1, 63.7, 66.7, 61.5, 55.3, 57.5, 58.0], \"type\": \"scatter\", \"uid\": \"fad5a7de-d748-4b55-b5af-c25ac0c220f4\"}, {\"line\": {\"color\": \"rgba(50, 171, 96, 1.0)\", \"dash\": \"solid\", \"shape\": \"linear\", \"width\": 4}, \"mode\": \"lines\", \"name\": \"\\u2026of which Photography\", \"text\": \"\", \"x\": [2009, 2010, 2011, 2012, 2013, 2014, 2015, 2016, 2017, 2018], \"y\": [76.4, 67.5, 61.2, 54.2, 50.5, 48.5, 46.1, 44.7, 40.9, 39.3], \"type\": \"scatter\", \"uid\": \"c69bfdf3-2272-4a8e-a900-4db473075aeb\"}, {\"line\": {\"color\": \"rgba(128, 0, 128, 1.0)\", \"dash\": \"solid\", \"shape\": \"linear\", \"width\": 4}, \"mode\": \"lines\", \"name\": \"\\u2026of which Photovoltaic*\", \"text\": \"\", \"x\": [2009, 2010, 2011, 2012, 2013, 2014, 2015, 2016, 2017, 2018], \"y\": [0.0, 0.0, 67.4, 64.4, 54.8, 53.9, 64.5, 74.9, 88.9, 80.5], \"type\": \"scatter\", \"uid\": \"56857319-55f8-4ac2-9802-47e2d580c092\"}, {\"line\": {\"color\": \"rgba(219, 64, 82, 1.0)\", \"dash\": \"solid\", \"shape\": \"linear\", \"width\": 4}, \"mode\": \"lines\", \"name\": \"\\u2026of which Ethylene Oxide\", \"text\": \"\", \"x\": [2009, 2010, 2011, 2012, 2013, 2014, 2015, 2016, 2017, 2018], \"y\": [4.8, 8.7, 6.2, 4.7, 7.7, 5.0, 10.2, 10.2, 6.9, 5.4], \"type\": \"scatter\", \"uid\": \"57db34c1-f724-412e-9ef5-6b01c724bc9a\"}, {\"line\": {\"color\": \"rgba(0, 128, 128, 1.0)\", \"dash\": \"solid\", \"shape\": \"linear\", \"width\": 4}, \"mode\": \"lines\", \"name\": \"\\u2026of which Other Industrial*\", \"text\": \"\", \"x\": [2009, 2010, 2011, 2012, 2013, 2014, 2015, 2016, 2017, 2018], \"y\": [165.8, 195.2, 164.2, 148.9, 162.0, 158.5, 154.4, 147.3, 148.4, 146.9], \"type\": \"scatter\", \"uid\": \"620b5597-9fd1-4b4c-88ff-030fea69e1bf\"}], {\"legend\": {\"bgcolor\": \"#FFFFFF\", \"font\": {\"color\": \"#4D5663\"}}, \"paper_bgcolor\": \"#FFFFFF\", \"plot_bgcolor\": \"#FFFFFF\", \"title\": \"Total Industrial Demand for Silver, Per Year and By Industry\", \"titlefont\": {\"color\": \"#4D5663\"}, \"xaxis\": {\"gridcolor\": \"#E1E5ED\", \"showgrid\": true, \"tickfont\": {\"color\": \"#4D5663\"}, \"title\": \"Year\", \"titlefont\": {\"color\": \"#4D5663\"}, \"zerolinecolor\": \"#E1E5ED\"}, \"yaxis\": {\"gridcolor\": \"#E1E5ED\", \"showgrid\": true, \"tickfont\": {\"color\": \"#4D5663\"}, \"title\": \"Demand (million ounces)\", \"titlefont\": {\"color\": \"#4D5663\"}, \"zerolinecolor\": \"#E1E5ED\"}}, {\"showLink\": true, \"linkText\": \"Export to plot.ly\", \"plotlyServerURL\": \"https://plot.ly\"})});</script><script type=\"text/javascript\">window.addEventListener(\"resize\", function(){window._Plotly.Plots.resize(document.getElementById(\"d1efc9af-8bb6-46da-8c18-8b4c5352ca51\"));});</script>"
      ],
      "text/vnd.plotly.v1+html": [
       "<div id=\"d1efc9af-8bb6-46da-8c18-8b4c5352ca51\" style=\"height: 525px; width: 100%;\" class=\"plotly-graph-div\"></div><script type=\"text/javascript\">require([\"plotly\"], function(Plotly) { window.PLOTLYENV=window.PLOTLYENV || {};window.PLOTLYENV.BASE_URL=\"https://plot.ly\";Plotly.newPlot(\"d1efc9af-8bb6-46da-8c18-8b4c5352ca51\", [{\"line\": {\"color\": \"rgba(255, 153, 51, 1.0)\", \"dash\": \"solid\", \"shape\": \"linear\", \"width\": 4}, \"mode\": \"lines\", \"name\": \"\\u2026of which Electrical & Electronics\", \"text\": \"\", \"x\": [2009, 2010, 2011, 2012, 2013, 2014, 2015, 2016, 2017, 2018], \"y\": [227.4, 301.2, 290.8, 266.7, 266.0, 263.9, 246.0, 233.9, 243.1, 248.5], \"type\": \"scatter\", \"uid\": \"22d7f7a9-2c68-40bc-9cf4-32ef75abc607\"}, {\"line\": {\"color\": \"rgba(55, 128, 191, 1.0)\", \"dash\": \"solid\", \"shape\": \"linear\", \"width\": 4}, \"mode\": \"lines\", \"name\": \"\\u2026of which Brazing Alloys & Solders\", \"text\": \"\", \"x\": [2009, 2010, 2011, 2012, 2013, 2014, 2015, 2016, 2017, 2018], \"y\": [53.8, 61.2, 63.2, 61.1, 63.7, 66.7, 61.5, 55.3, 57.5, 58.0], \"type\": \"scatter\", \"uid\": \"fad5a7de-d748-4b55-b5af-c25ac0c220f4\"}, {\"line\": {\"color\": \"rgba(50, 171, 96, 1.0)\", \"dash\": \"solid\", \"shape\": \"linear\", \"width\": 4}, \"mode\": \"lines\", \"name\": \"\\u2026of which Photography\", \"text\": \"\", \"x\": [2009, 2010, 2011, 2012, 2013, 2014, 2015, 2016, 2017, 2018], \"y\": [76.4, 67.5, 61.2, 54.2, 50.5, 48.5, 46.1, 44.7, 40.9, 39.3], \"type\": \"scatter\", \"uid\": \"c69bfdf3-2272-4a8e-a900-4db473075aeb\"}, {\"line\": {\"color\": \"rgba(128, 0, 128, 1.0)\", \"dash\": \"solid\", \"shape\": \"linear\", \"width\": 4}, \"mode\": \"lines\", \"name\": \"\\u2026of which Photovoltaic*\", \"text\": \"\", \"x\": [2009, 2010, 2011, 2012, 2013, 2014, 2015, 2016, 2017, 2018], \"y\": [0.0, 0.0, 67.4, 64.4, 54.8, 53.9, 64.5, 74.9, 88.9, 80.5], \"type\": \"scatter\", \"uid\": \"56857319-55f8-4ac2-9802-47e2d580c092\"}, {\"line\": {\"color\": \"rgba(219, 64, 82, 1.0)\", \"dash\": \"solid\", \"shape\": \"linear\", \"width\": 4}, \"mode\": \"lines\", \"name\": \"\\u2026of which Ethylene Oxide\", \"text\": \"\", \"x\": [2009, 2010, 2011, 2012, 2013, 2014, 2015, 2016, 2017, 2018], \"y\": [4.8, 8.7, 6.2, 4.7, 7.7, 5.0, 10.2, 10.2, 6.9, 5.4], \"type\": \"scatter\", \"uid\": \"57db34c1-f724-412e-9ef5-6b01c724bc9a\"}, {\"line\": {\"color\": \"rgba(0, 128, 128, 1.0)\", \"dash\": \"solid\", \"shape\": \"linear\", \"width\": 4}, \"mode\": \"lines\", \"name\": \"\\u2026of which Other Industrial*\", \"text\": \"\", \"x\": [2009, 2010, 2011, 2012, 2013, 2014, 2015, 2016, 2017, 2018], \"y\": [165.8, 195.2, 164.2, 148.9, 162.0, 158.5, 154.4, 147.3, 148.4, 146.9], \"type\": \"scatter\", \"uid\": \"620b5597-9fd1-4b4c-88ff-030fea69e1bf\"}], {\"legend\": {\"bgcolor\": \"#FFFFFF\", \"font\": {\"color\": \"#4D5663\"}}, \"paper_bgcolor\": \"#FFFFFF\", \"plot_bgcolor\": \"#FFFFFF\", \"title\": \"Total Industrial Demand for Silver, Per Year and By Industry\", \"titlefont\": {\"color\": \"#4D5663\"}, \"xaxis\": {\"gridcolor\": \"#E1E5ED\", \"showgrid\": true, \"tickfont\": {\"color\": \"#4D5663\"}, \"title\": \"Year\", \"titlefont\": {\"color\": \"#4D5663\"}, \"zerolinecolor\": \"#E1E5ED\"}, \"yaxis\": {\"gridcolor\": \"#E1E5ED\", \"showgrid\": true, \"tickfont\": {\"color\": \"#4D5663\"}, \"title\": \"Demand (million ounces)\", \"titlefont\": {\"color\": \"#4D5663\"}, \"zerolinecolor\": \"#E1E5ED\"}}, {\"showLink\": true, \"linkText\": \"Export to plot.ly\", \"plotlyServerURL\": \"https://plot.ly\"})});</script><script type=\"text/javascript\">window.addEventListener(\"resize\", function(){window._Plotly.Plots.resize(document.getElementById(\"d1efc9af-8bb6-46da-8c18-8b4c5352ca51\"));});</script>"
      ]
     },
     "metadata": {},
     "output_type": "display_data"
    }
   ],
   "source": [
    "# Plotting - Total Industrial Demand per Year & by Industry\n",
    "demand.loc[:,'…of which Electrical & Electronics':'…of which Other Industrial*']\\\n",
    ".iplot(kind='line', xTitle='Year', \n",
    "                  yTitle='Demand (million ounces)', \n",
    "       title='Total Industrial Demand for Silver, Per Year and By Industry', width=4)"
   ]
  },
  {
   "cell_type": "code",
   "execution_count": 1,
   "metadata": {},
   "outputs": [],
   "source": [
    "# Solar Silver Fabrication Forecast (Taking Thrifting into Account)"
   ]
  },
  {
   "cell_type": "code",
   "execution_count": 52,
   "metadata": {},
   "outputs": [
    {
     "data": {
      "text/html": [
       "<div>\n",
       "<style scoped>\n",
       "    .dataframe tbody tr th:only-of-type {\n",
       "        vertical-align: middle;\n",
       "    }\n",
       "\n",
       "    .dataframe tbody tr th {\n",
       "        vertical-align: top;\n",
       "    }\n",
       "\n",
       "    .dataframe thead th {\n",
       "        text-align: right;\n",
       "    }\n",
       "</style>\n",
       "<table border=\"1\" class=\"dataframe\">\n",
       "  <thead>\n",
       "    <tr style=\"text-align: right;\">\n",
       "      <th></th>\n",
       "      <th>Year</th>\n",
       "      <th>Solar (terawatt-hours)</th>\n",
       "    </tr>\n",
       "  </thead>\n",
       "  <tbody>\n",
       "    <tr>\n",
       "      <th>4168</th>\n",
       "      <td>2009</td>\n",
       "      <td>20.917919</td>\n",
       "    </tr>\n",
       "    <tr>\n",
       "      <th>4169</th>\n",
       "      <td>2010</td>\n",
       "      <td>33.816254</td>\n",
       "    </tr>\n",
       "    <tr>\n",
       "      <th>4170</th>\n",
       "      <td>2011</td>\n",
       "      <td>64.695112</td>\n",
       "    </tr>\n",
       "    <tr>\n",
       "      <th>4171</th>\n",
       "      <td>2012</td>\n",
       "      <td>100.033907</td>\n",
       "    </tr>\n",
       "    <tr>\n",
       "      <th>4172</th>\n",
       "      <td>2013</td>\n",
       "      <td>137.561154</td>\n",
       "    </tr>\n",
       "    <tr>\n",
       "      <th>4173</th>\n",
       "      <td>2014</td>\n",
       "      <td>196.332988</td>\n",
       "    </tr>\n",
       "    <tr>\n",
       "      <th>4174</th>\n",
       "      <td>2015</td>\n",
       "      <td>256.190929</td>\n",
       "    </tr>\n",
       "    <tr>\n",
       "      <th>4175</th>\n",
       "      <td>2016</td>\n",
       "      <td>333.052493</td>\n",
       "    </tr>\n",
       "  </tbody>\n",
       "</table>\n",
       "</div>"
      ],
      "text/plain": [
       "      Year  Solar (terawatt-hours)\n",
       "4168  2009               20.917919\n",
       "4169  2010               33.816254\n",
       "4170  2011               64.695112\n",
       "4171  2012              100.033907\n",
       "4172  2013              137.561154\n",
       "4173  2014              196.332988\n",
       "4174  2015              256.190929\n",
       "4175  2016              333.052493"
      ]
     },
     "execution_count": 52,
     "metadata": {},
     "output_type": "execute_result"
    }
   ],
   "source": [
    "modern_ene_cons = pd.read_csv('../data/modern-renewable-energy-consumption.csv')\n",
    "solar_con = modern_ene_cons[modern_ene_cons['Entity']=='World'][['Year', 'Solar (terawatt-hours)']]\n",
    "solar_dem_min_thrift = solar_con.copy().iloc[44:]\n",
    "solar_dem_min_thrift"
   ]
  },
  {
   "cell_type": "code",
   "execution_count": 65,
   "metadata": {},
   "outputs": [
    {
     "data": {
      "text/html": [
       "<div>\n",
       "<style scoped>\n",
       "    .dataframe tbody tr th:only-of-type {\n",
       "        vertical-align: middle;\n",
       "    }\n",
       "\n",
       "    .dataframe tbody tr th {\n",
       "        vertical-align: top;\n",
       "    }\n",
       "\n",
       "    .dataframe thead th {\n",
       "        text-align: right;\n",
       "    }\n",
       "</style>\n",
       "<table border=\"1\" class=\"dataframe\">\n",
       "  <thead>\n",
       "    <tr style=\"text-align: right;\">\n",
       "      <th></th>\n",
       "      <th>Year</th>\n",
       "      <th>Market Average Silver Loadings (g/cell)</th>\n",
       "    </tr>\n",
       "  </thead>\n",
       "  <tbody>\n",
       "    <tr>\n",
       "      <th>0</th>\n",
       "      <td>2009</td>\n",
       "      <td>0.398</td>\n",
       "    </tr>\n",
       "    <tr>\n",
       "      <th>1</th>\n",
       "      <td>2010</td>\n",
       "      <td>0.300</td>\n",
       "    </tr>\n",
       "    <tr>\n",
       "      <th>2</th>\n",
       "      <td>2011</td>\n",
       "      <td>0.260</td>\n",
       "    </tr>\n",
       "    <tr>\n",
       "      <th>3</th>\n",
       "      <td>2012</td>\n",
       "      <td>0.220</td>\n",
       "    </tr>\n",
       "    <tr>\n",
       "      <th>4</th>\n",
       "      <td>2013</td>\n",
       "      <td>0.176</td>\n",
       "    </tr>\n",
       "    <tr>\n",
       "      <th>5</th>\n",
       "      <td>2014</td>\n",
       "      <td>0.155</td>\n",
       "    </tr>\n",
       "    <tr>\n",
       "      <th>6</th>\n",
       "      <td>2015</td>\n",
       "      <td>0.142</td>\n",
       "    </tr>\n",
       "    <tr>\n",
       "      <th>7</th>\n",
       "      <td>2016</td>\n",
       "      <td>0.135</td>\n",
       "    </tr>\n",
       "    <tr>\n",
       "      <th>8</th>\n",
       "      <td>2017</td>\n",
       "      <td>0.126</td>\n",
       "    </tr>\n",
       "    <tr>\n",
       "      <th>9</th>\n",
       "      <td>2018</td>\n",
       "      <td>0.100</td>\n",
       "    </tr>\n",
       "    <tr>\n",
       "      <th>10</th>\n",
       "      <td>2028</td>\n",
       "      <td>0.065</td>\n",
       "    </tr>\n",
       "  </tbody>\n",
       "</table>\n",
       "</div>"
      ],
      "text/plain": [
       "    Year  Market Average Silver Loadings (g/cell)\n",
       "0   2009                                    0.398\n",
       "1   2010                                    0.300\n",
       "2   2011                                    0.260\n",
       "3   2012                                    0.220\n",
       "4   2013                                    0.176\n",
       "5   2014                                    0.155\n",
       "6   2015                                    0.142\n",
       "7   2016                                    0.135\n",
       "8   2017                                    0.126\n",
       "9   2018                                    0.100\n",
       "10  2028                                    0.065"
      ]
     },
     "execution_count": 65,
     "metadata": {},
     "output_type": "execute_result"
    }
   ],
   "source": [
    "est_thrifting = pd.read_excel('../data/silver_solar_thrifting_estimates.xlsx')\n",
    "est_thrifting"
   ]
  },
  {
   "cell_type": "code",
   "execution_count": 62,
   "metadata": {},
   "outputs": [
    {
     "name": "stderr",
     "output_type": "stream",
     "text": [
      "INFO:fbprophet:Disabling weekly seasonality. Run prophet with weekly_seasonality=True to override this.\n",
      "INFO:fbprophet:Disabling daily seasonality. Run prophet with daily_seasonality=True to override this.\n",
      "INFO:fbprophet:n_changepoints greater than number of observations.Using 20.0.\n"
     ]
    },
    {
     "data": {
      "image/png": "[encoded data removed]",
      "text/plain": [
       "<Figure size 720x432 with 1 Axes>"
      ]
     },
     "metadata": {},
     "output_type": "display_data"
    }
   ],
   "source": [
    "### Consumption forecast ###\n",
    "# Read in data\n",
    "solar_con = pd.read_csv('../data/modern-renewable-energy-consumption.csv')\n",
    "solar_con = solar_con[modern_ene_cons['Entity']=='World'][['Year', 'Solar (terawatt-hours)']].iloc[25:]\n",
    "\n",
    "# Create dataframe (Prophet needs columns 'ds' and 'y')\n",
    "fc_consumption = pd.DataFrame(columns=['ds','y'])\n",
    "fc_consumption['ds'] = solar_con['Year'].values\n",
    "fc_consumption['ds']  = fc_consumption['ds'].apply(lambda d: datetime.datetime.strptime(str(d), \"%Y\")) \n",
    "fc_consumption['y'] = solar_con['Solar (terawatt-hours)'].values\n",
    "\n",
    "# Create Prophet model\n",
    "model_consumption = fbprophet.Prophet(changepoint_prior_scale=0.15)\n",
    "model_consumption.fit(fc_consumption)\n",
    "\n",
    "# Create dataframe to hold forecasted vzlues\n",
    "future_df_consumption = model_consumption.make_future_dataframe(periods=30, freq='y')\n",
    "\n",
    "# Forecast using Prophet model, and plot\n",
    "forecast_consumption = model_consumption.predict(future_df_consumption)\n",
    "model_consumption.plot(forecast_consumption);"
   ]
  },
  {
   "cell_type": "code",
   "execution_count": 60,
   "metadata": {},
   "outputs": [
    {
     "data": {
      "text/html": [
       "<div>\n",
       "<style scoped>\n",
       "    .dataframe tbody tr th:only-of-type {\n",
       "        vertical-align: middle;\n",
       "    }\n",
       "\n",
       "    .dataframe tbody tr th {\n",
       "        vertical-align: top;\n",
       "    }\n",
       "\n",
       "    .dataframe thead th {\n",
       "        text-align: right;\n",
       "    }\n",
       "</style>\n",
       "<table border=\"1\" class=\"dataframe\">\n",
       "  <thead>\n",
       "    <tr style=\"text-align: right;\">\n",
       "      <th></th>\n",
       "      <th>Year</th>\n",
       "      <th>Solar (terawatt-hours)</th>\n",
       "    </tr>\n",
       "  </thead>\n",
       "  <tbody>\n",
       "    <tr>\n",
       "      <th>4142</th>\n",
       "      <td>1983</td>\n",
       "      <td>0.003000</td>\n",
       "    </tr>\n",
       "    <tr>\n",
       "      <th>4143</th>\n",
       "      <td>1984</td>\n",
       "      <td>0.006311</td>\n",
       "    </tr>\n",
       "    <tr>\n",
       "      <th>4144</th>\n",
       "      <td>1985</td>\n",
       "      <td>0.011747</td>\n",
       "    </tr>\n",
       "    <tr>\n",
       "      <th>4145</th>\n",
       "      <td>1986</td>\n",
       "      <td>0.015184</td>\n",
       "    </tr>\n",
       "    <tr>\n",
       "      <th>4146</th>\n",
       "      <td>1987</td>\n",
       "      <td>0.010603</td>\n",
       "    </tr>\n",
       "    <tr>\n",
       "      <th>4147</th>\n",
       "      <td>1988</td>\n",
       "      <td>0.010196</td>\n",
       "    </tr>\n",
       "    <tr>\n",
       "      <th>4148</th>\n",
       "      <td>1989</td>\n",
       "      <td>0.262223</td>\n",
       "    </tr>\n",
       "    <tr>\n",
       "      <th>4149</th>\n",
       "      <td>1990</td>\n",
       "      <td>0.386563</td>\n",
       "    </tr>\n",
       "    <tr>\n",
       "      <th>4150</th>\n",
       "      <td>1991</td>\n",
       "      <td>0.506460</td>\n",
       "    </tr>\n",
       "    <tr>\n",
       "      <th>4151</th>\n",
       "      <td>1992</td>\n",
       "      <td>0.468813</td>\n",
       "    </tr>\n",
       "    <tr>\n",
       "      <th>4152</th>\n",
       "      <td>1993</td>\n",
       "      <td>0.556796</td>\n",
       "    </tr>\n",
       "    <tr>\n",
       "      <th>4153</th>\n",
       "      <td>1994</td>\n",
       "      <td>0.600992</td>\n",
       "    </tr>\n",
       "    <tr>\n",
       "      <th>4154</th>\n",
       "      <td>1995</td>\n",
       "      <td>0.641600</td>\n",
       "    </tr>\n",
       "    <tr>\n",
       "      <th>4155</th>\n",
       "      <td>1996</td>\n",
       "      <td>0.704925</td>\n",
       "    </tr>\n",
       "    <tr>\n",
       "      <th>4156</th>\n",
       "      <td>1997</td>\n",
       "      <td>0.757072</td>\n",
       "    </tr>\n",
       "    <tr>\n",
       "      <th>4157</th>\n",
       "      <td>1998</td>\n",
       "      <td>0.879725</td>\n",
       "    </tr>\n",
       "    <tr>\n",
       "      <th>4158</th>\n",
       "      <td>1999</td>\n",
       "      <td>0.964557</td>\n",
       "    </tr>\n",
       "    <tr>\n",
       "      <th>4159</th>\n",
       "      <td>2000</td>\n",
       "      <td>1.150854</td>\n",
       "    </tr>\n",
       "    <tr>\n",
       "      <th>4160</th>\n",
       "      <td>2001</td>\n",
       "      <td>1.425708</td>\n",
       "    </tr>\n",
       "    <tr>\n",
       "      <th>4161</th>\n",
       "      <td>2002</td>\n",
       "      <td>1.807260</td>\n",
       "    </tr>\n",
       "    <tr>\n",
       "      <th>4162</th>\n",
       "      <td>2003</td>\n",
       "      <td>2.294242</td>\n",
       "    </tr>\n",
       "    <tr>\n",
       "      <th>4163</th>\n",
       "      <td>2004</td>\n",
       "      <td>3.009475</td>\n",
       "    </tr>\n",
       "    <tr>\n",
       "      <th>4164</th>\n",
       "      <td>2005</td>\n",
       "      <td>4.229917</td>\n",
       "    </tr>\n",
       "    <tr>\n",
       "      <th>4165</th>\n",
       "      <td>2006</td>\n",
       "      <td>5.782575</td>\n",
       "    </tr>\n",
       "    <tr>\n",
       "      <th>4166</th>\n",
       "      <td>2007</td>\n",
       "      <td>7.702113</td>\n",
       "    </tr>\n",
       "    <tr>\n",
       "      <th>4167</th>\n",
       "      <td>2008</td>\n",
       "      <td>12.591230</td>\n",
       "    </tr>\n",
       "    <tr>\n",
       "      <th>4168</th>\n",
       "      <td>2009</td>\n",
       "      <td>20.917919</td>\n",
       "    </tr>\n",
       "    <tr>\n",
       "      <th>4169</th>\n",
       "      <td>2010</td>\n",
       "      <td>33.816254</td>\n",
       "    </tr>\n",
       "    <tr>\n",
       "      <th>4170</th>\n",
       "      <td>2011</td>\n",
       "      <td>64.695112</td>\n",
       "    </tr>\n",
       "    <tr>\n",
       "      <th>4171</th>\n",
       "      <td>2012</td>\n",
       "      <td>100.033907</td>\n",
       "    </tr>\n",
       "    <tr>\n",
       "      <th>4172</th>\n",
       "      <td>2013</td>\n",
       "      <td>137.561154</td>\n",
       "    </tr>\n",
       "    <tr>\n",
       "      <th>4173</th>\n",
       "      <td>2014</td>\n",
       "      <td>196.332988</td>\n",
       "    </tr>\n",
       "    <tr>\n",
       "      <th>4174</th>\n",
       "      <td>2015</td>\n",
       "      <td>256.190929</td>\n",
       "    </tr>\n",
       "    <tr>\n",
       "      <th>4175</th>\n",
       "      <td>2016</td>\n",
       "      <td>333.052493</td>\n",
       "    </tr>\n",
       "  </tbody>\n",
       "</table>\n",
       "</div>"
      ],
      "text/plain": [
       "      Year  Solar (terawatt-hours)\n",
       "4142  1983                0.003000\n",
       "4143  1984                0.006311\n",
       "4144  1985                0.011747\n",
       "4145  1986                0.015184\n",
       "4146  1987                0.010603\n",
       "4147  1988                0.010196\n",
       "4148  1989                0.262223\n",
       "4149  1990                0.386563\n",
       "4150  1991                0.506460\n",
       "4151  1992                0.468813\n",
       "4152  1993                0.556796\n",
       "4153  1994                0.600992\n",
       "4154  1995                0.641600\n",
       "4155  1996                0.704925\n",
       "4156  1997                0.757072\n",
       "4157  1998                0.879725\n",
       "4158  1999                0.964557\n",
       "4159  2000                1.150854\n",
       "4160  2001                1.425708\n",
       "4161  2002                1.807260\n",
       "4162  2003                2.294242\n",
       "4163  2004                3.009475\n",
       "4164  2005                4.229917\n",
       "4165  2006                5.782575\n",
       "4166  2007                7.702113\n",
       "4167  2008               12.591230\n",
       "4168  2009               20.917919\n",
       "4169  2010               33.816254\n",
       "4170  2011               64.695112\n",
       "4171  2012              100.033907\n",
       "4172  2013              137.561154\n",
       "4173  2014              196.332988\n",
       "4174  2015              256.190929\n",
       "4175  2016              333.052493"
      ]
     },
     "execution_count": 60,
     "metadata": {},
     "output_type": "execute_result"
    }
   ],
   "source": [
    "solar_con = pd.read_csv('../data/modern-renewable-energy-consumption.csv')\n",
    "solar_con = solar_con[modern_ene_cons['Entity']=='World'][['Year', 'Solar (terawatt-hours)']]\n",
    "solar_con.iloc[18:]"
   ]
  },
  {
   "cell_type": "code",
   "execution_count": 45,
   "metadata": {},
   "outputs": [
    {
     "name": "stderr",
     "output_type": "stream",
     "text": [
      "INFO:fbprophet:Disabling weekly seasonality. Run prophet with weekly_seasonality=True to override this.\n",
      "INFO:fbprophet:Disabling daily seasonality. Run prophet with daily_seasonality=True to override this.\n",
      "INFO:fbprophet:n_changepoints greater than number of observations.Using 5.0.\n",
      "/Users/pst-home/anaconda3/envs/data_science/lib/python3.6/site-packages/pystan/misc.py:399: FutureWarning:\n",
      "\n",
      "Conversion of the second argument of issubdtype from `float` to `np.floating` is deprecated. In future, it will be treated as `np.float64 == np.dtype(float).type`.\n",
      "\n"
     ]
    },
    {
     "data": {
      "image/png": "[encoded data removed]",
      "text/plain": [
       "<Figure size 720x432 with 1 Axes>"
      ]
     },
     "metadata": {},
     "output_type": "display_data"
    }
   ],
   "source": [
    "import datetime\n",
    "import pandas as pd\n",
    "from sklearn import preprocessing\n",
    "import fbprophet\n",
    "\n",
    "solar_consumption = pd.read_csv('../data/modern-renewable-energy-consumption.csv')\n",
    "solar_consumption = solar_consumption[solar_consumption['Entity']=='World'][['Year', 'Solar (terawatt-hours)']]\n",
    "solar_consumption = solar_consumption.copy().iloc[44:]\n",
    "\n",
    "est_thrifting = pd.read_excel('../data/silver_solar_thrifting_estimates.xlsx')\n",
    "est_thrifting\n",
    "\n",
    "# Normalize both Estimated Silver loadings and Solar Consumption\n",
    "min_max_scaler = preprocessing.MinMaxScaler()\n",
    "consumption_scaled = min_max_scaler.fit_transform(solar_dem_min_thrift['Solar (terawatt-hours)'].values.reshape(-1, 1))\n",
    "thrifting_scaled = min_max_scaler.fit_transform(est_thrifting['Market Average Silver Loadings (g/cell)'].values.reshape(-1, 1))\n",
    "\n",
    "scaled_consumption_df = pd.DataFrame(columns=['Year', 'Solar Consumption (Scaled)'])\n",
    "scaled_thrifting_df = pd.DataFrame(columns=['Year', 'Silver Loadings (Scaled)'])\n",
    "\n",
    "scaled_consumption_df['Year'] = solar_consumption['Year']\n",
    "scaled_thrifting_df['Year'] = est_thrifting['Year']\n",
    "scaled_consumption_df['Solar Consumption (Scaled)'] = consumption_scaled\n",
    "scaled_thrifting_df['Silver Loadings (Scaled)'] = thrifting_scaled\n",
    "\n",
    "# Create forecast for both datasets using Facebook Prophet\n",
    "## Consumption forecast\n",
    "fc_consumption = pd.DataFrame(columns=['ds','y'])\n",
    "fc_consumption['ds'] = scaled_consumption_df['Year'].values\n",
    "fc_consumption['ds']  = fc_consumption['ds'].apply(lambda d: datetime.datetime.strptime(str(d), \"%Y\")) \n",
    "fc_consumption['y'] = scaled_consumption_df['Solar Consumption (Scaled)'].values\n",
    "model_consumption = fbprophet.Prophet(changepoint_prior_scale=0.15)\n",
    "model_consumption.fit(fc_consumption)\n",
    "future_df_consumption = model_consumption.make_future_dataframe(periods=30, freq='y')\n",
    "forecast_consumption = model_consumption.predict(future_df_consumption)\n",
    "model_consumption.plot(forecast_consumption);\n"
   ]
  },
  {
   "cell_type": "code",
   "execution_count": 49,
   "metadata": {},
   "outputs": [
    {
     "name": "stderr",
     "output_type": "stream",
     "text": [
      "INFO:fbprophet:Disabling weekly seasonality. Run prophet with weekly_seasonality=True to override this.\n",
      "INFO:fbprophet:Disabling daily seasonality. Run prophet with daily_seasonality=True to override this.\n",
      "INFO:fbprophet:n_changepoints greater than number of observations.Using 7.0.\n"
     ]
    },
    {
     "data": {
      "image/png": "[encoded data removed]",
      "text/plain": [
       "<Figure size 720x432 with 1 Axes>"
      ]
     },
     "metadata": {},
     "output_type": "display_data"
    }
   ],
   "source": [
    "## Thrifting (Silver Loadings) forecast\n",
    "fc_loadings = pd.DataFrame(columns=['ds','y'])\n",
    "fc_loadings['ds'] = scaled_thrifting_df['Year'].values\n",
    "fc_loadings['ds']  = fc_loadings['ds'].apply(lambda d: datetime.datetime.strptime(str(d), \"%Y\")) \n",
    "fc_loadings['y'] = scaled_thrifting_df['Silver Loadings (Scaled)'].values\n",
    "model_loadings = fbprophet.Prophet(changepoint_prior_scale=0.2)\n",
    "model_loadings.fit(fc_loadings)\n",
    "future_df_loadings = model_loadings.make_future_dataframe(periods=30, freq='y')\n",
    "forecast_loadings = model_loadings.predict(future_df_loadings)\n",
    "model_loadings.plot(forecast_loadings);"
   ]
  },
  {
   "cell_type": "code",
   "execution_count": 63,
   "metadata": {},
   "outputs": [
    {
     "data": {
      "text/html": [
       "<div>\n",
       "<style scoped>\n",
       "    .dataframe tbody tr th:only-of-type {\n",
       "        vertical-align: middle;\n",
       "    }\n",
       "\n",
       "    .dataframe tbody tr th {\n",
       "        vertical-align: top;\n",
       "    }\n",
       "\n",
       "    .dataframe thead th {\n",
       "        text-align: right;\n",
       "    }\n",
       "</style>\n",
       "<table border=\"1\" class=\"dataframe\">\n",
       "  <thead>\n",
       "    <tr style=\"text-align: right;\">\n",
       "      <th></th>\n",
       "      <th>Year</th>\n",
       "      <th>Market Average Silver Loadings (g/cell)</th>\n",
       "    </tr>\n",
       "  </thead>\n",
       "  <tbody>\n",
       "    <tr>\n",
       "      <th>0</th>\n",
       "      <td>2009</td>\n",
       "      <td>0.398</td>\n",
       "    </tr>\n",
       "    <tr>\n",
       "      <th>1</th>\n",
       "      <td>2010</td>\n",
       "      <td>0.300</td>\n",
       "    </tr>\n",
       "    <tr>\n",
       "      <th>2</th>\n",
       "      <td>2011</td>\n",
       "      <td>0.260</td>\n",
       "    </tr>\n",
       "    <tr>\n",
       "      <th>3</th>\n",
       "      <td>2012</td>\n",
       "      <td>0.220</td>\n",
       "    </tr>\n",
       "    <tr>\n",
       "      <th>4</th>\n",
       "      <td>2013</td>\n",
       "      <td>0.176</td>\n",
       "    </tr>\n",
       "    <tr>\n",
       "      <th>5</th>\n",
       "      <td>2014</td>\n",
       "      <td>0.155</td>\n",
       "    </tr>\n",
       "    <tr>\n",
       "      <th>6</th>\n",
       "      <td>2015</td>\n",
       "      <td>0.142</td>\n",
       "    </tr>\n",
       "    <tr>\n",
       "      <th>7</th>\n",
       "      <td>2016</td>\n",
       "      <td>0.135</td>\n",
       "    </tr>\n",
       "    <tr>\n",
       "      <th>8</th>\n",
       "      <td>2017</td>\n",
       "      <td>0.126</td>\n",
       "    </tr>\n",
       "    <tr>\n",
       "      <th>9</th>\n",
       "      <td>2018</td>\n",
       "      <td>0.100</td>\n",
       "    </tr>\n",
       "  </tbody>\n",
       "</table>\n",
       "</div>"
      ],
      "text/plain": [
       "   Year  Market Average Silver Loadings (g/cell)\n",
       "0  2009                                    0.398\n",
       "1  2010                                    0.300\n",
       "2  2011                                    0.260\n",
       "3  2012                                    0.220\n",
       "4  2013                                    0.176\n",
       "5  2014                                    0.155\n",
       "6  2015                                    0.142\n",
       "7  2016                                    0.135\n",
       "8  2017                                    0.126\n",
       "9  2018                                    0.100"
      ]
     },
     "execution_count": 63,
     "metadata": {},
     "output_type": "execute_result"
    }
   ],
   "source": [
    "est_thrifting"
   ]
  },
  {
   "cell_type": "code",
   "execution_count": 86,
   "metadata": {},
   "outputs": [
    {
     "name": "stderr",
     "output_type": "stream",
     "text": [
      "INFO:fbprophet:Disabling weekly seasonality. Run prophet with weekly_seasonality=True to override this.\n",
      "INFO:fbprophet:Disabling daily seasonality. Run prophet with daily_seasonality=True to override this.\n",
      "INFO:fbprophet:n_changepoints greater than number of observations.Using 7.0.\n"
     ]
    },
    {
     "data": {
      "image/png": "[encoded data removed]",
      "text/plain": [
       "<Figure size 720x432 with 1 Axes>"
      ]
     },
     "metadata": {},
     "output_type": "display_data"
    }
   ],
   "source": [
    "## Read in data (skip 2028 Silver Institute 'predicted' entry)\n",
    "est_thrifting = pd.read_excel('../data/silver_solar_thrifting_estimates.xlsx')\n",
    "fc_loadings = pd.DataFrame(columns=['ds','y'])\n",
    "fc_loadings['ds'] = est_thrifting['Year'].values\n",
    "fc_loadings['ds']  = fc_loadings['ds'].apply(lambda d: datetime.datetime.strptime(str(d), \"%Y\")) \n",
    "fc_loadings['y'] = est_thrifting['Market Average Silver Loadings (g/cell)'].values\n",
    "model_loadings = fbprophet.Prophet(changepoint_prior_scale=5)\n",
    "model_loadings.fit(fc_loadings)\n",
    "future_df_loadings = model_loadings.make_future_dataframe(periods=30, freq='y')\n",
    "forecast_loadings = model_loadings.predict(future_df_loadings)\n",
    "model_loadings.plot(forecast_loadings);"
   ]
  },
  {
   "cell_type": "code",
   "execution_count": 84,
   "metadata": {},
   "outputs": [
    {
     "data": {
      "text/html": [
       "<div>\n",
       "<style scoped>\n",
       "    .dataframe tbody tr th:only-of-type {\n",
       "        vertical-align: middle;\n",
       "    }\n",
       "\n",
       "    .dataframe tbody tr th {\n",
       "        vertical-align: top;\n",
       "    }\n",
       "\n",
       "    .dataframe thead th {\n",
       "        text-align: right;\n",
       "    }\n",
       "</style>\n",
       "<table border=\"1\" class=\"dataframe\">\n",
       "  <thead>\n",
       "    <tr style=\"text-align: right;\">\n",
       "      <th></th>\n",
       "      <th>Year</th>\n",
       "      <th>Market Average Silver Loadings (g/cell)</th>\n",
       "    </tr>\n",
       "  </thead>\n",
       "  <tbody>\n",
       "    <tr>\n",
       "      <th>0</th>\n",
       "      <td>2009</td>\n",
       "      <td>0.398</td>\n",
       "    </tr>\n",
       "    <tr>\n",
       "      <th>1</th>\n",
       "      <td>2010</td>\n",
       "      <td>0.300</td>\n",
       "    </tr>\n",
       "    <tr>\n",
       "      <th>2</th>\n",
       "      <td>2011</td>\n",
       "      <td>0.260</td>\n",
       "    </tr>\n",
       "    <tr>\n",
       "      <th>3</th>\n",
       "      <td>2012</td>\n",
       "      <td>0.220</td>\n",
       "    </tr>\n",
       "    <tr>\n",
       "      <th>4</th>\n",
       "      <td>2013</td>\n",
       "      <td>0.176</td>\n",
       "    </tr>\n",
       "    <tr>\n",
       "      <th>5</th>\n",
       "      <td>2014</td>\n",
       "      <td>0.155</td>\n",
       "    </tr>\n",
       "    <tr>\n",
       "      <th>6</th>\n",
       "      <td>2015</td>\n",
       "      <td>0.142</td>\n",
       "    </tr>\n",
       "    <tr>\n",
       "      <th>7</th>\n",
       "      <td>2016</td>\n",
       "      <td>0.135</td>\n",
       "    </tr>\n",
       "    <tr>\n",
       "      <th>8</th>\n",
       "      <td>2017</td>\n",
       "      <td>0.126</td>\n",
       "    </tr>\n",
       "    <tr>\n",
       "      <th>9</th>\n",
       "      <td>2018</td>\n",
       "      <td>0.100</td>\n",
       "    </tr>\n",
       "  </tbody>\n",
       "</table>\n",
       "</div>"
      ],
      "text/plain": [
       "   Year  Market Average Silver Loadings (g/cell)\n",
       "0  2009                                    0.398\n",
       "1  2010                                    0.300\n",
       "2  2011                                    0.260\n",
       "3  2012                                    0.220\n",
       "4  2013                                    0.176\n",
       "5  2014                                    0.155\n",
       "6  2015                                    0.142\n",
       "7  2016                                    0.135\n",
       "8  2017                                    0.126\n",
       "9  2018                                    0.100"
      ]
     },
     "execution_count": 84,
     "metadata": {},
     "output_type": "execute_result"
    }
   ],
   "source": [
    "est_thrifting.iloc[0:10]"
   ]
  },
  {
   "cell_type": "code",
   "execution_count": 88,
   "metadata": {},
   "outputs": [],
   "source": [
    "loadings_df = forecast_loadings[['ds', 'yhat']].iloc[0:11]"
   ]
  },
  {
   "cell_type": "code",
   "execution_count": 450,
   "metadata": {},
   "outputs": [
    {
     "name": "stderr",
     "output_type": "stream",
     "text": [
      "/Users/pst-home/anaconda3/envs/data_science/lib/python3.6/site-packages/sklearn/preprocessing/data.py:323: DataConversionWarning:\n",
      "\n",
      "Data with input dtype int64, float64 were all converted to float64 by MinMaxScaler.\n",
      "\n"
     ]
    }
   ],
   "source": [
    "import datetime\n",
    "import pandas as pd\n",
    "from sklearn import preprocessing\n",
    "import numpy as np\n",
    "import scipy.optimize as optimize\n",
    "import matplotlib.pyplot as plt\n",
    "\n",
    "\n",
    "est_thrifting = pd.read_excel('../data/silver_solar_thrifting_estimates.xlsx')\n",
    "est_thrifting\n",
    "\n",
    "# Normalize both Estimated Silver loadings and Solar Consumption\n",
    "min_max_scaler = preprocessing.MinMaxScaler()\n",
    "thrifting_scaled = min_max_scaler.fit_transform(est_thrifting)\n",
    "\n",
    "scaled_thrifting_df = pd.DataFrame(columns=['Year', 'Silver Loadings (Scaled)'], data=thrifting_scaled)\n",
    "\n",
    "# scaled_thrifting_df = pd.DataFrame(columns=scaled_thrifting_df.columns,data=thrifting_scaled)"
   ]
  },
  {
   "cell_type": "code",
   "execution_count": 451,
   "metadata": {},
   "outputs": [
    {
     "data": {
      "image/png": "[encoded data removed]",
      "text/plain": [
       "<Figure size 864x576 with 1 Axes>"
      ]
     },
     "metadata": {
      "needs_background": "light"
     },
     "output_type": "display_data"
    }
   ],
   "source": [
    "xdata = scaled_thrifting_df['Year'].values\n",
    "ydata = scaled_thrifting_df['Silver Loadings (Scaled)'].values\n",
    "x = np.array(xdata)\n",
    "y = np.array(ydata)\n",
    "\n",
    "def f(x, a, b, c):\n",
    "    return a * np.exp(-b * x) + c\n",
    "\n",
    "popt, pcov = optimize.curve_fit(f,x,y, bounds=([0,0,-0.15], [10,10, -0.06]))\n",
    "# popt, pcov = optimize.curve_fit(f,x,y)\n",
    "x1 = np.linspace(0,2.5,num =50)\n",
    "\n",
    "fig_size = plt.rcParams[\"figure.figsize\"]\n",
    "fig_size[0] = 12\n",
    "fig_size[1] = 8\n",
    "plt.rcParams[\"figure.figsize\"] = fig_size\n",
    "plt.plot(x1, f(x1, *popt), 'g',)\n",
    "plt.plot(x,y,'ro')\n",
    "plt.show()"
   ]
  },
  {
   "cell_type": "code",
   "execution_count": 445,
   "metadata": {},
   "outputs": [
    {
     "data": {
      "text/plain": [
       "array([ 1.00341038,  3.97532537, -0.06      ])"
      ]
     },
     "execution_count": 445,
     "metadata": {},
     "output_type": "execute_result"
    }
   ],
   "source": [
    "popt"
   ]
  },
  {
   "cell_type": "code",
   "execution_count": 446,
   "metadata": {},
   "outputs": [
    {
     "data": {
      "text/html": [
       "<div>\n",
       "<style scoped>\n",
       "    .dataframe tbody tr th:only-of-type {\n",
       "        vertical-align: middle;\n",
       "    }\n",
       "\n",
       "    .dataframe tbody tr th {\n",
       "        vertical-align: top;\n",
       "    }\n",
       "\n",
       "    .dataframe thead th {\n",
       "        text-align: right;\n",
       "    }\n",
       "</style>\n",
       "<table border=\"1\" class=\"dataframe\">\n",
       "  <thead>\n",
       "    <tr style=\"text-align: right;\">\n",
       "      <th></th>\n",
       "      <th>0</th>\n",
       "      <th>1</th>\n",
       "    </tr>\n",
       "  </thead>\n",
       "  <tbody>\n",
       "    <tr>\n",
       "      <th>0</th>\n",
       "      <td>2009.000000</td>\n",
       "      <td>0.379156</td>\n",
       "    </tr>\n",
       "    <tr>\n",
       "      <th>1</th>\n",
       "      <td>2009.969388</td>\n",
       "      <td>0.317816</td>\n",
       "    </tr>\n",
       "    <tr>\n",
       "      <th>2</th>\n",
       "      <td>2010.938776</td>\n",
       "      <td>0.267737</td>\n",
       "    </tr>\n",
       "    <tr>\n",
       "      <th>3</th>\n",
       "      <td>2011.908163</td>\n",
       "      <td>0.226851</td>\n",
       "    </tr>\n",
       "    <tr>\n",
       "      <th>4</th>\n",
       "      <td>2012.877551</td>\n",
       "      <td>0.193471</td>\n",
       "    </tr>\n",
       "    <tr>\n",
       "      <th>5</th>\n",
       "      <td>2013.846939</td>\n",
       "      <td>0.166219</td>\n",
       "    </tr>\n",
       "    <tr>\n",
       "      <th>6</th>\n",
       "      <td>2014.816327</td>\n",
       "      <td>0.143970</td>\n",
       "    </tr>\n",
       "    <tr>\n",
       "      <th>7</th>\n",
       "      <td>2015.785714</td>\n",
       "      <td>0.125805</td>\n",
       "    </tr>\n",
       "    <tr>\n",
       "      <th>8</th>\n",
       "      <td>2016.755102</td>\n",
       "      <td>0.110975</td>\n",
       "    </tr>\n",
       "    <tr>\n",
       "      <th>9</th>\n",
       "      <td>2017.724490</td>\n",
       "      <td>0.098867</td>\n",
       "    </tr>\n",
       "    <tr>\n",
       "      <th>10</th>\n",
       "      <td>2018.693878</td>\n",
       "      <td>0.088982</td>\n",
       "    </tr>\n",
       "    <tr>\n",
       "      <th>11</th>\n",
       "      <td>2019.663265</td>\n",
       "      <td>0.080911</td>\n",
       "    </tr>\n",
       "    <tr>\n",
       "      <th>12</th>\n",
       "      <td>2020.632653</td>\n",
       "      <td>0.074323</td>\n",
       "    </tr>\n",
       "    <tr>\n",
       "      <th>13</th>\n",
       "      <td>2021.602041</td>\n",
       "      <td>0.068943</td>\n",
       "    </tr>\n",
       "    <tr>\n",
       "      <th>14</th>\n",
       "      <td>2022.571429</td>\n",
       "      <td>0.064552</td>\n",
       "    </tr>\n",
       "    <tr>\n",
       "      <th>15</th>\n",
       "      <td>2023.540816</td>\n",
       "      <td>0.060966</td>\n",
       "    </tr>\n",
       "    <tr>\n",
       "      <th>16</th>\n",
       "      <td>2024.510204</td>\n",
       "      <td>0.058039</td>\n",
       "    </tr>\n",
       "    <tr>\n",
       "      <th>17</th>\n",
       "      <td>2025.479592</td>\n",
       "      <td>0.055649</td>\n",
       "    </tr>\n",
       "    <tr>\n",
       "      <th>18</th>\n",
       "      <td>2026.448980</td>\n",
       "      <td>0.053698</td>\n",
       "    </tr>\n",
       "    <tr>\n",
       "      <th>19</th>\n",
       "      <td>2027.418367</td>\n",
       "      <td>0.052105</td>\n",
       "    </tr>\n",
       "    <tr>\n",
       "      <th>20</th>\n",
       "      <td>2028.387755</td>\n",
       "      <td>0.050804</td>\n",
       "    </tr>\n",
       "    <tr>\n",
       "      <th>21</th>\n",
       "      <td>2029.357143</td>\n",
       "      <td>0.049742</td>\n",
       "    </tr>\n",
       "    <tr>\n",
       "      <th>22</th>\n",
       "      <td>2030.326531</td>\n",
       "      <td>0.048875</td>\n",
       "    </tr>\n",
       "    <tr>\n",
       "      <th>23</th>\n",
       "      <td>2031.295918</td>\n",
       "      <td>0.048168</td>\n",
       "    </tr>\n",
       "    <tr>\n",
       "      <th>24</th>\n",
       "      <td>2032.265306</td>\n",
       "      <td>0.047590</td>\n",
       "    </tr>\n",
       "    <tr>\n",
       "      <th>25</th>\n",
       "      <td>2033.234694</td>\n",
       "      <td>0.047118</td>\n",
       "    </tr>\n",
       "    <tr>\n",
       "      <th>26</th>\n",
       "      <td>2034.204082</td>\n",
       "      <td>0.046733</td>\n",
       "    </tr>\n",
       "    <tr>\n",
       "      <th>27</th>\n",
       "      <td>2035.173469</td>\n",
       "      <td>0.046418</td>\n",
       "    </tr>\n",
       "    <tr>\n",
       "      <th>28</th>\n",
       "      <td>2036.142857</td>\n",
       "      <td>0.046162</td>\n",
       "    </tr>\n",
       "    <tr>\n",
       "      <th>29</th>\n",
       "      <td>2037.112245</td>\n",
       "      <td>0.045952</td>\n",
       "    </tr>\n",
       "    <tr>\n",
       "      <th>30</th>\n",
       "      <td>2038.081633</td>\n",
       "      <td>0.045781</td>\n",
       "    </tr>\n",
       "    <tr>\n",
       "      <th>31</th>\n",
       "      <td>2039.051020</td>\n",
       "      <td>0.045641</td>\n",
       "    </tr>\n",
       "    <tr>\n",
       "      <th>32</th>\n",
       "      <td>2040.020408</td>\n",
       "      <td>0.045527</td>\n",
       "    </tr>\n",
       "    <tr>\n",
       "      <th>33</th>\n",
       "      <td>2040.989796</td>\n",
       "      <td>0.045434</td>\n",
       "    </tr>\n",
       "    <tr>\n",
       "      <th>34</th>\n",
       "      <td>2041.959184</td>\n",
       "      <td>0.045358</td>\n",
       "    </tr>\n",
       "    <tr>\n",
       "      <th>35</th>\n",
       "      <td>2042.928571</td>\n",
       "      <td>0.045296</td>\n",
       "    </tr>\n",
       "    <tr>\n",
       "      <th>36</th>\n",
       "      <td>2043.897959</td>\n",
       "      <td>0.045245</td>\n",
       "    </tr>\n",
       "    <tr>\n",
       "      <th>37</th>\n",
       "      <td>2044.867347</td>\n",
       "      <td>0.045204</td>\n",
       "    </tr>\n",
       "    <tr>\n",
       "      <th>38</th>\n",
       "      <td>2045.836735</td>\n",
       "      <td>0.045170</td>\n",
       "    </tr>\n",
       "    <tr>\n",
       "      <th>39</th>\n",
       "      <td>2046.806122</td>\n",
       "      <td>0.045143</td>\n",
       "    </tr>\n",
       "    <tr>\n",
       "      <th>40</th>\n",
       "      <td>2047.775510</td>\n",
       "      <td>0.045120</td>\n",
       "    </tr>\n",
       "    <tr>\n",
       "      <th>41</th>\n",
       "      <td>2048.744898</td>\n",
       "      <td>0.045102</td>\n",
       "    </tr>\n",
       "    <tr>\n",
       "      <th>42</th>\n",
       "      <td>2049.714286</td>\n",
       "      <td>0.045087</td>\n",
       "    </tr>\n",
       "    <tr>\n",
       "      <th>43</th>\n",
       "      <td>2050.683673</td>\n",
       "      <td>0.045074</td>\n",
       "    </tr>\n",
       "    <tr>\n",
       "      <th>44</th>\n",
       "      <td>2051.653061</td>\n",
       "      <td>0.045064</td>\n",
       "    </tr>\n",
       "    <tr>\n",
       "      <th>45</th>\n",
       "      <td>2052.622449</td>\n",
       "      <td>0.045056</td>\n",
       "    </tr>\n",
       "    <tr>\n",
       "      <th>46</th>\n",
       "      <td>2053.591837</td>\n",
       "      <td>0.045050</td>\n",
       "    </tr>\n",
       "    <tr>\n",
       "      <th>47</th>\n",
       "      <td>2054.561224</td>\n",
       "      <td>0.045044</td>\n",
       "    </tr>\n",
       "    <tr>\n",
       "      <th>48</th>\n",
       "      <td>2055.530612</td>\n",
       "      <td>0.045040</td>\n",
       "    </tr>\n",
       "    <tr>\n",
       "      <th>49</th>\n",
       "      <td>2056.500000</td>\n",
       "      <td>0.045036</td>\n",
       "    </tr>\n",
       "  </tbody>\n",
       "</table>\n",
       "</div>"
      ],
      "text/plain": [
       "              0         1\n",
       "0   2009.000000  0.379156\n",
       "1   2009.969388  0.317816\n",
       "2   2010.938776  0.267737\n",
       "3   2011.908163  0.226851\n",
       "4   2012.877551  0.193471\n",
       "5   2013.846939  0.166219\n",
       "6   2014.816327  0.143970\n",
       "7   2015.785714  0.125805\n",
       "8   2016.755102  0.110975\n",
       "9   2017.724490  0.098867\n",
       "10  2018.693878  0.088982\n",
       "11  2019.663265  0.080911\n",
       "12  2020.632653  0.074323\n",
       "13  2021.602041  0.068943\n",
       "14  2022.571429  0.064552\n",
       "15  2023.540816  0.060966\n",
       "16  2024.510204  0.058039\n",
       "17  2025.479592  0.055649\n",
       "18  2026.448980  0.053698\n",
       "19  2027.418367  0.052105\n",
       "20  2028.387755  0.050804\n",
       "21  2029.357143  0.049742\n",
       "22  2030.326531  0.048875\n",
       "23  2031.295918  0.048168\n",
       "24  2032.265306  0.047590\n",
       "25  2033.234694  0.047118\n",
       "26  2034.204082  0.046733\n",
       "27  2035.173469  0.046418\n",
       "28  2036.142857  0.046162\n",
       "29  2037.112245  0.045952\n",
       "30  2038.081633  0.045781\n",
       "31  2039.051020  0.045641\n",
       "32  2040.020408  0.045527\n",
       "33  2040.989796  0.045434\n",
       "34  2041.959184  0.045358\n",
       "35  2042.928571  0.045296\n",
       "36  2043.897959  0.045245\n",
       "37  2044.867347  0.045204\n",
       "38  2045.836735  0.045170\n",
       "39  2046.806122  0.045143\n",
       "40  2047.775510  0.045120\n",
       "41  2048.744898  0.045102\n",
       "42  2049.714286  0.045087\n",
       "43  2050.683673  0.045074\n",
       "44  2051.653061  0.045064\n",
       "45  2052.622449  0.045056\n",
       "46  2053.591837  0.045050\n",
       "47  2054.561224  0.045044\n",
       "48  2055.530612  0.045040\n",
       "49  2056.500000  0.045036"
      ]
     },
     "execution_count": 446,
     "metadata": {},
     "output_type": "execute_result"
    }
   ],
   "source": [
    "fitted = pd.DataFrame([x1, f(x1, *popt)]).T\n",
    "pd.DataFrame(min_max_scaler.inverse_transform(fitted)).sort_values(by=0)"
   ]
  },
  {
   "cell_type": "code",
   "execution_count": 460,
   "metadata": {},
   "outputs": [
    {
     "data": {
      "text/html": [
       "<div>\n",
       "<style scoped>\n",
       "    .dataframe tbody tr th:only-of-type {\n",
       "        vertical-align: middle;\n",
       "    }\n",
       "\n",
       "    .dataframe tbody tr th {\n",
       "        vertical-align: top;\n",
       "    }\n",
       "\n",
       "    .dataframe thead th {\n",
       "        text-align: right;\n",
       "    }\n",
       "</style>\n",
       "<table border=\"1\" class=\"dataframe\">\n",
       "  <thead>\n",
       "    <tr style=\"text-align: right;\">\n",
       "      <th></th>\n",
       "      <th>0</th>\n",
       "      <th>1</th>\n",
       "    </tr>\n",
       "  </thead>\n",
       "  <tbody>\n",
       "    <tr>\n",
       "      <th>0</th>\n",
       "      <td>0.000000</td>\n",
       "      <td>0.943410</td>\n",
       "    </tr>\n",
       "    <tr>\n",
       "      <th>1</th>\n",
       "      <td>0.051020</td>\n",
       "      <td>0.759207</td>\n",
       "    </tr>\n",
       "    <tr>\n",
       "      <th>2</th>\n",
       "      <td>0.102041</td>\n",
       "      <td>0.608820</td>\n",
       "    </tr>\n",
       "    <tr>\n",
       "      <th>3</th>\n",
       "      <td>0.153061</td>\n",
       "      <td>0.486040</td>\n",
       "    </tr>\n",
       "    <tr>\n",
       "      <th>4</th>\n",
       "      <td>0.204082</td>\n",
       "      <td>0.385799</td>\n",
       "    </tr>\n",
       "    <tr>\n",
       "      <th>5</th>\n",
       "      <td>0.255102</td>\n",
       "      <td>0.303961</td>\n",
       "    </tr>\n",
       "    <tr>\n",
       "      <th>6</th>\n",
       "      <td>0.306122</td>\n",
       "      <td>0.237146</td>\n",
       "    </tr>\n",
       "    <tr>\n",
       "      <th>7</th>\n",
       "      <td>0.357143</td>\n",
       "      <td>0.182597</td>\n",
       "    </tr>\n",
       "    <tr>\n",
       "      <th>8</th>\n",
       "      <td>0.408163</td>\n",
       "      <td>0.138062</td>\n",
       "    </tr>\n",
       "    <tr>\n",
       "      <th>9</th>\n",
       "      <td>0.459184</td>\n",
       "      <td>0.101702</td>\n",
       "    </tr>\n",
       "    <tr>\n",
       "      <th>10</th>\n",
       "      <td>0.510204</td>\n",
       "      <td>0.072017</td>\n",
       "    </tr>\n",
       "    <tr>\n",
       "      <th>11</th>\n",
       "      <td>0.561224</td>\n",
       "      <td>0.047782</td>\n",
       "    </tr>\n",
       "    <tr>\n",
       "      <th>12</th>\n",
       "      <td>0.612245</td>\n",
       "      <td>0.027996</td>\n",
       "    </tr>\n",
       "    <tr>\n",
       "      <th>13</th>\n",
       "      <td>0.663265</td>\n",
       "      <td>0.011842</td>\n",
       "    </tr>\n",
       "    <tr>\n",
       "      <th>14</th>\n",
       "      <td>0.714286</td>\n",
       "      <td>-0.001347</td>\n",
       "    </tr>\n",
       "    <tr>\n",
       "      <th>15</th>\n",
       "      <td>0.765306</td>\n",
       "      <td>-0.012114</td>\n",
       "    </tr>\n",
       "    <tr>\n",
       "      <th>16</th>\n",
       "      <td>0.816327</td>\n",
       "      <td>-0.020905</td>\n",
       "    </tr>\n",
       "    <tr>\n",
       "      <th>17</th>\n",
       "      <td>0.867347</td>\n",
       "      <td>-0.028082</td>\n",
       "    </tr>\n",
       "    <tr>\n",
       "      <th>18</th>\n",
       "      <td>0.918367</td>\n",
       "      <td>-0.033941</td>\n",
       "    </tr>\n",
       "    <tr>\n",
       "      <th>19</th>\n",
       "      <td>0.969388</td>\n",
       "      <td>-0.038725</td>\n",
       "    </tr>\n",
       "    <tr>\n",
       "      <th>20</th>\n",
       "      <td>1.020408</td>\n",
       "      <td>-0.042631</td>\n",
       "    </tr>\n",
       "    <tr>\n",
       "      <th>21</th>\n",
       "      <td>1.071429</td>\n",
       "      <td>-0.045819</td>\n",
       "    </tr>\n",
       "    <tr>\n",
       "      <th>22</th>\n",
       "      <td>1.122449</td>\n",
       "      <td>-0.048423</td>\n",
       "    </tr>\n",
       "    <tr>\n",
       "      <th>23</th>\n",
       "      <td>1.173469</td>\n",
       "      <td>-0.050548</td>\n",
       "    </tr>\n",
       "    <tr>\n",
       "      <th>24</th>\n",
       "      <td>1.224490</td>\n",
       "      <td>-0.052283</td>\n",
       "    </tr>\n",
       "    <tr>\n",
       "      <th>25</th>\n",
       "      <td>1.275510</td>\n",
       "      <td>-0.053700</td>\n",
       "    </tr>\n",
       "    <tr>\n",
       "      <th>26</th>\n",
       "      <td>1.326531</td>\n",
       "      <td>-0.054856</td>\n",
       "    </tr>\n",
       "    <tr>\n",
       "      <th>27</th>\n",
       "      <td>1.377551</td>\n",
       "      <td>-0.055801</td>\n",
       "    </tr>\n",
       "    <tr>\n",
       "      <th>28</th>\n",
       "      <td>1.428571</td>\n",
       "      <td>-0.056571</td>\n",
       "    </tr>\n",
       "    <tr>\n",
       "      <th>29</th>\n",
       "      <td>1.479592</td>\n",
       "      <td>-0.057201</td>\n",
       "    </tr>\n",
       "    <tr>\n",
       "      <th>30</th>\n",
       "      <td>1.530612</td>\n",
       "      <td>-0.057715</td>\n",
       "    </tr>\n",
       "    <tr>\n",
       "      <th>31</th>\n",
       "      <td>1.581633</td>\n",
       "      <td>-0.058134</td>\n",
       "    </tr>\n",
       "    <tr>\n",
       "      <th>32</th>\n",
       "      <td>1.632653</td>\n",
       "      <td>-0.058477</td>\n",
       "    </tr>\n",
       "    <tr>\n",
       "      <th>33</th>\n",
       "      <td>1.683673</td>\n",
       "      <td>-0.058756</td>\n",
       "    </tr>\n",
       "    <tr>\n",
       "      <th>34</th>\n",
       "      <td>1.734694</td>\n",
       "      <td>-0.058985</td>\n",
       "    </tr>\n",
       "    <tr>\n",
       "      <th>35</th>\n",
       "      <td>1.785714</td>\n",
       "      <td>-0.059171</td>\n",
       "    </tr>\n",
       "    <tr>\n",
       "      <th>36</th>\n",
       "      <td>1.836735</td>\n",
       "      <td>-0.059323</td>\n",
       "    </tr>\n",
       "    <tr>\n",
       "      <th>37</th>\n",
       "      <td>1.887755</td>\n",
       "      <td>-0.059447</td>\n",
       "    </tr>\n",
       "    <tr>\n",
       "      <th>38</th>\n",
       "      <td>1.938776</td>\n",
       "      <td>-0.059549</td>\n",
       "    </tr>\n",
       "    <tr>\n",
       "      <th>39</th>\n",
       "      <td>1.989796</td>\n",
       "      <td>-0.059632</td>\n",
       "    </tr>\n",
       "    <tr>\n",
       "      <th>40</th>\n",
       "      <td>2.040816</td>\n",
       "      <td>-0.059699</td>\n",
       "    </tr>\n",
       "    <tr>\n",
       "      <th>41</th>\n",
       "      <td>2.091837</td>\n",
       "      <td>-0.059755</td>\n",
       "    </tr>\n",
       "    <tr>\n",
       "      <th>42</th>\n",
       "      <td>2.142857</td>\n",
       "      <td>-0.059800</td>\n",
       "    </tr>\n",
       "    <tr>\n",
       "      <th>43</th>\n",
       "      <td>2.193878</td>\n",
       "      <td>-0.059836</td>\n",
       "    </tr>\n",
       "    <tr>\n",
       "      <th>44</th>\n",
       "      <td>2.244898</td>\n",
       "      <td>-0.059866</td>\n",
       "    </tr>\n",
       "    <tr>\n",
       "      <th>45</th>\n",
       "      <td>2.295918</td>\n",
       "      <td>-0.059891</td>\n",
       "    </tr>\n",
       "    <tr>\n",
       "      <th>46</th>\n",
       "      <td>2.346939</td>\n",
       "      <td>-0.059911</td>\n",
       "    </tr>\n",
       "    <tr>\n",
       "      <th>47</th>\n",
       "      <td>2.397959</td>\n",
       "      <td>-0.059927</td>\n",
       "    </tr>\n",
       "    <tr>\n",
       "      <th>48</th>\n",
       "      <td>2.448980</td>\n",
       "      <td>-0.059941</td>\n",
       "    </tr>\n",
       "    <tr>\n",
       "      <th>49</th>\n",
       "      <td>2.500000</td>\n",
       "      <td>-0.059952</td>\n",
       "    </tr>\n",
       "  </tbody>\n",
       "</table>\n",
       "</div>"
      ],
      "text/plain": [
       "           0         1\n",
       "0   0.000000  0.943410\n",
       "1   0.051020  0.759207\n",
       "2   0.102041  0.608820\n",
       "3   0.153061  0.486040\n",
       "4   0.204082  0.385799\n",
       "5   0.255102  0.303961\n",
       "6   0.306122  0.237146\n",
       "7   0.357143  0.182597\n",
       "8   0.408163  0.138062\n",
       "9   0.459184  0.101702\n",
       "10  0.510204  0.072017\n",
       "11  0.561224  0.047782\n",
       "12  0.612245  0.027996\n",
       "13  0.663265  0.011842\n",
       "14  0.714286 -0.001347\n",
       "15  0.765306 -0.012114\n",
       "16  0.816327 -0.020905\n",
       "17  0.867347 -0.028082\n",
       "18  0.918367 -0.033941\n",
       "19  0.969388 -0.038725\n",
       "20  1.020408 -0.042631\n",
       "21  1.071429 -0.045819\n",
       "22  1.122449 -0.048423\n",
       "23  1.173469 -0.050548\n",
       "24  1.224490 -0.052283\n",
       "25  1.275510 -0.053700\n",
       "26  1.326531 -0.054856\n",
       "27  1.377551 -0.055801\n",
       "28  1.428571 -0.056571\n",
       "29  1.479592 -0.057201\n",
       "30  1.530612 -0.057715\n",
       "31  1.581633 -0.058134\n",
       "32  1.632653 -0.058477\n",
       "33  1.683673 -0.058756\n",
       "34  1.734694 -0.058985\n",
       "35  1.785714 -0.059171\n",
       "36  1.836735 -0.059323\n",
       "37  1.887755 -0.059447\n",
       "38  1.938776 -0.059549\n",
       "39  1.989796 -0.059632\n",
       "40  2.040816 -0.059699\n",
       "41  2.091837 -0.059755\n",
       "42  2.142857 -0.059800\n",
       "43  2.193878 -0.059836\n",
       "44  2.244898 -0.059866\n",
       "45  2.295918 -0.059891\n",
       "46  2.346939 -0.059911\n",
       "47  2.397959 -0.059927\n",
       "48  2.448980 -0.059941\n",
       "49  2.500000 -0.059952"
      ]
     },
     "execution_count": 460,
     "metadata": {},
     "output_type": "execute_result"
    }
   ],
   "source": [
    "pd.DataFrame(fitted).sort_values(by=0)"
   ]
  },
  {
   "cell_type": "code",
   "execution_count": 459,
   "metadata": {},
   "outputs": [
    {
     "data": {
      "text/plain": [
       "<matplotlib.axes._subplots.AxesSubplot at 0x1a30d5e748>"
      ]
     },
     "execution_count": 459,
     "metadata": {},
     "output_type": "execute_result"
    },
    {
     "data": {
      "image/png": "[encoded data removed]",
      "text/plain": [
       "<Figure size 864x576 with 1 Axes>"
      ]
     },
     "metadata": {
      "needs_background": "light"
     },
     "output_type": "display_data"
    }
   ],
   "source": [
    "scaled_thrifting_df.plot.scatter(x='Year', y='Silver Loadings (Scaled)', c='green')"
   ]
  },
  {
   "cell_type": "code",
   "execution_count": 458,
   "metadata": {},
   "outputs": [
    {
     "data": {
      "text/html": [
       "<div>\n",
       "<style scoped>\n",
       "    .dataframe tbody tr th:only-of-type {\n",
       "        vertical-align: middle;\n",
       "    }\n",
       "\n",
       "    .dataframe tbody tr th {\n",
       "        vertical-align: top;\n",
       "    }\n",
       "\n",
       "    .dataframe thead th {\n",
       "        text-align: right;\n",
       "    }\n",
       "</style>\n",
       "<table border=\"1\" class=\"dataframe\">\n",
       "  <thead>\n",
       "    <tr style=\"text-align: right;\">\n",
       "      <th></th>\n",
       "      <th>Year</th>\n",
       "      <th>Silver Loadings (Scaled)</th>\n",
       "    </tr>\n",
       "  </thead>\n",
       "  <tbody>\n",
       "    <tr>\n",
       "      <th>0</th>\n",
       "      <td>0.000000</td>\n",
       "      <td>1.000000</td>\n",
       "    </tr>\n",
       "    <tr>\n",
       "      <th>1</th>\n",
       "      <td>0.052632</td>\n",
       "      <td>0.705706</td>\n",
       "    </tr>\n",
       "    <tr>\n",
       "      <th>2</th>\n",
       "      <td>0.105263</td>\n",
       "      <td>0.585586</td>\n",
       "    </tr>\n",
       "    <tr>\n",
       "      <th>3</th>\n",
       "      <td>0.157895</td>\n",
       "      <td>0.465465</td>\n",
       "    </tr>\n",
       "    <tr>\n",
       "      <th>4</th>\n",
       "      <td>0.210526</td>\n",
       "      <td>0.333333</td>\n",
       "    </tr>\n",
       "    <tr>\n",
       "      <th>5</th>\n",
       "      <td>0.263158</td>\n",
       "      <td>0.270270</td>\n",
       "    </tr>\n",
       "    <tr>\n",
       "      <th>6</th>\n",
       "      <td>0.315789</td>\n",
       "      <td>0.231231</td>\n",
       "    </tr>\n",
       "    <tr>\n",
       "      <th>7</th>\n",
       "      <td>0.368421</td>\n",
       "      <td>0.210210</td>\n",
       "    </tr>\n",
       "    <tr>\n",
       "      <th>8</th>\n",
       "      <td>0.421053</td>\n",
       "      <td>0.183183</td>\n",
       "    </tr>\n",
       "    <tr>\n",
       "      <th>9</th>\n",
       "      <td>0.473684</td>\n",
       "      <td>0.105105</td>\n",
       "    </tr>\n",
       "    <tr>\n",
       "      <th>10</th>\n",
       "      <td>1.000000</td>\n",
       "      <td>0.000000</td>\n",
       "    </tr>\n",
       "  </tbody>\n",
       "</table>\n",
       "</div>"
      ],
      "text/plain": [
       "        Year  Silver Loadings (Scaled)\n",
       "0   0.000000                  1.000000\n",
       "1   0.052632                  0.705706\n",
       "2   0.105263                  0.585586\n",
       "3   0.157895                  0.465465\n",
       "4   0.210526                  0.333333\n",
       "5   0.263158                  0.270270\n",
       "6   0.315789                  0.231231\n",
       "7   0.368421                  0.210210\n",
       "8   0.421053                  0.183183\n",
       "9   0.473684                  0.105105\n",
       "10  1.000000                  0.000000"
      ]
     },
     "execution_count": 458,
     "metadata": {},
     "output_type": "execute_result"
    }
   ],
   "source": [
    "scaled_thrifting_df"
   ]
  },
  {
   "cell_type": "code",
   "execution_count": 462,
   "metadata": {},
   "outputs": [
    {
     "data": {
      "text/html": [
       "<div>\n",
       "<style scoped>\n",
       "    .dataframe tbody tr th:only-of-type {\n",
       "        vertical-align: middle;\n",
       "    }\n",
       "\n",
       "    .dataframe tbody tr th {\n",
       "        vertical-align: top;\n",
       "    }\n",
       "\n",
       "    .dataframe thead th {\n",
       "        text-align: right;\n",
       "    }\n",
       "</style>\n",
       "<table border=\"1\" class=\"dataframe\">\n",
       "  <thead>\n",
       "    <tr style=\"text-align: right;\">\n",
       "      <th></th>\n",
       "      <th>ds</th>\n",
       "      <th>yhat</th>\n",
       "    </tr>\n",
       "  </thead>\n",
       "  <tbody>\n",
       "    <tr>\n",
       "      <th>0</th>\n",
       "      <td>1990-01-01</td>\n",
       "      <td>-2.371808</td>\n",
       "    </tr>\n",
       "    <tr>\n",
       "      <th>1</th>\n",
       "      <td>1991-01-01</td>\n",
       "      <td>-0.212546</td>\n",
       "    </tr>\n",
       "    <tr>\n",
       "      <th>2</th>\n",
       "      <td>1992-01-01</td>\n",
       "      <td>1.964603</td>\n",
       "    </tr>\n",
       "    <tr>\n",
       "      <th>3</th>\n",
       "      <td>1993-01-01</td>\n",
       "      <td>-3.036854</td>\n",
       "    </tr>\n",
       "    <tr>\n",
       "      <th>4</th>\n",
       "      <td>1994-01-01</td>\n",
       "      <td>-0.897657</td>\n",
       "    </tr>\n",
       "    <tr>\n",
       "      <th>5</th>\n",
       "      <td>1995-01-01</td>\n",
       "      <td>1.261605</td>\n",
       "    </tr>\n",
       "    <tr>\n",
       "      <th>6</th>\n",
       "      <td>1996-01-01</td>\n",
       "      <td>3.438754</td>\n",
       "    </tr>\n",
       "    <tr>\n",
       "      <th>7</th>\n",
       "      <td>1997-01-01</td>\n",
       "      <td>-1.562701</td>\n",
       "    </tr>\n",
       "    <tr>\n",
       "      <th>8</th>\n",
       "      <td>1998-01-01</td>\n",
       "      <td>0.576498</td>\n",
       "    </tr>\n",
       "    <tr>\n",
       "      <th>9</th>\n",
       "      <td>1999-01-01</td>\n",
       "      <td>2.735813</td>\n",
       "    </tr>\n",
       "    <tr>\n",
       "      <th>10</th>\n",
       "      <td>2000-01-01</td>\n",
       "      <td>4.913521</td>\n",
       "    </tr>\n",
       "    <tr>\n",
       "      <th>11</th>\n",
       "      <td>2001-01-01</td>\n",
       "      <td>-0.086296</td>\n",
       "    </tr>\n",
       "    <tr>\n",
       "      <th>12</th>\n",
       "      <td>2002-01-01</td>\n",
       "      <td>2.057352</td>\n",
       "    </tr>\n",
       "    <tr>\n",
       "      <th>13</th>\n",
       "      <td>2003-01-01</td>\n",
       "      <td>4.221743</td>\n",
       "    </tr>\n",
       "    <tr>\n",
       "      <th>14</th>\n",
       "      <td>2004-01-01</td>\n",
       "      <td>6.485929</td>\n",
       "    </tr>\n",
       "    <tr>\n",
       "      <th>15</th>\n",
       "      <td>2005-01-01</td>\n",
       "      <td>2.025887</td>\n",
       "    </tr>\n",
       "    <tr>\n",
       "      <th>16</th>\n",
       "      <td>2006-01-01</td>\n",
       "      <td>4.736390</td>\n",
       "    </tr>\n",
       "    <tr>\n",
       "      <th>17</th>\n",
       "      <td>2007-01-01</td>\n",
       "      <td>7.736644</td>\n",
       "    </tr>\n",
       "    <tr>\n",
       "      <th>18</th>\n",
       "      <td>2008-01-01</td>\n",
       "      <td>11.470274</td>\n",
       "    </tr>\n",
       "    <tr>\n",
       "      <th>19</th>\n",
       "      <td>2009-01-01</td>\n",
       "      <td>8.314756</td>\n",
       "    </tr>\n",
       "    <tr>\n",
       "      <th>20</th>\n",
       "      <td>2010-01-01</td>\n",
       "      <td>24.877584</td>\n",
       "    </tr>\n",
       "    <tr>\n",
       "      <th>21</th>\n",
       "      <td>2011-01-01</td>\n",
       "      <td>71.985047</td>\n",
       "    </tr>\n",
       "    <tr>\n",
       "      <th>22</th>\n",
       "      <td>2012-01-01</td>\n",
       "      <td>119.110397</td>\n",
       "    </tr>\n",
       "    <tr>\n",
       "      <th>23</th>\n",
       "      <td>2013-01-01</td>\n",
       "      <td>159.180286</td>\n",
       "    </tr>\n",
       "    <tr>\n",
       "      <th>24</th>\n",
       "      <td>2014-01-01</td>\n",
       "      <td>206.267683</td>\n",
       "    </tr>\n",
       "    <tr>\n",
       "      <th>25</th>\n",
       "      <td>2015-01-01</td>\n",
       "      <td>253.375146</td>\n",
       "    </tr>\n",
       "    <tr>\n",
       "      <th>26</th>\n",
       "      <td>2016-01-01</td>\n",
       "      <td>300.500495</td>\n",
       "    </tr>\n",
       "    <tr>\n",
       "      <th>27</th>\n",
       "      <td>2016-12-31</td>\n",
       "      <td>347.641524</td>\n",
       "    </tr>\n",
       "    <tr>\n",
       "      <th>28</th>\n",
       "      <td>2017-12-31</td>\n",
       "      <td>394.795997</td>\n",
       "    </tr>\n",
       "    <tr>\n",
       "      <th>29</th>\n",
       "      <td>2018-12-31</td>\n",
       "      <td>441.961656</td>\n",
       "    </tr>\n",
       "    <tr>\n",
       "      <th>30</th>\n",
       "      <td>2019-12-31</td>\n",
       "      <td>489.136221</td>\n",
       "    </tr>\n",
       "    <tr>\n",
       "      <th>31</th>\n",
       "      <td>2020-12-31</td>\n",
       "      <td>529.031623</td>\n",
       "    </tr>\n",
       "    <tr>\n",
       "      <th>32</th>\n",
       "      <td>2021-12-31</td>\n",
       "      <td>576.186096</td>\n",
       "    </tr>\n",
       "    <tr>\n",
       "      <th>33</th>\n",
       "      <td>2022-12-31</td>\n",
       "      <td>623.351754</td>\n",
       "    </tr>\n",
       "    <tr>\n",
       "      <th>34</th>\n",
       "      <td>2023-12-31</td>\n",
       "      <td>670.526320</td>\n",
       "    </tr>\n",
       "    <tr>\n",
       "      <th>35</th>\n",
       "      <td>2024-12-31</td>\n",
       "      <td>710.421722</td>\n",
       "    </tr>\n",
       "    <tr>\n",
       "      <th>36</th>\n",
       "      <td>2025-12-31</td>\n",
       "      <td>757.576195</td>\n",
       "    </tr>\n",
       "    <tr>\n",
       "      <th>37</th>\n",
       "      <td>2026-12-31</td>\n",
       "      <td>804.741853</td>\n",
       "    </tr>\n",
       "    <tr>\n",
       "      <th>38</th>\n",
       "      <td>2027-12-31</td>\n",
       "      <td>851.916418</td>\n",
       "    </tr>\n",
       "    <tr>\n",
       "      <th>39</th>\n",
       "      <td>2028-12-31</td>\n",
       "      <td>891.811821</td>\n",
       "    </tr>\n",
       "    <tr>\n",
       "      <th>40</th>\n",
       "      <td>2029-12-31</td>\n",
       "      <td>938.966294</td>\n",
       "    </tr>\n",
       "    <tr>\n",
       "      <th>41</th>\n",
       "      <td>2030-12-31</td>\n",
       "      <td>986.131952</td>\n",
       "    </tr>\n",
       "    <tr>\n",
       "      <th>42</th>\n",
       "      <td>2031-12-31</td>\n",
       "      <td>1033.306517</td>\n",
       "    </tr>\n",
       "    <tr>\n",
       "      <th>43</th>\n",
       "      <td>2032-12-31</td>\n",
       "      <td>1073.201920</td>\n",
       "    </tr>\n",
       "    <tr>\n",
       "      <th>44</th>\n",
       "      <td>2033-12-31</td>\n",
       "      <td>1120.356393</td>\n",
       "    </tr>\n",
       "    <tr>\n",
       "      <th>45</th>\n",
       "      <td>2034-12-31</td>\n",
       "      <td>1167.522051</td>\n",
       "    </tr>\n",
       "    <tr>\n",
       "      <th>46</th>\n",
       "      <td>2035-12-31</td>\n",
       "      <td>1214.696616</td>\n",
       "    </tr>\n",
       "    <tr>\n",
       "      <th>47</th>\n",
       "      <td>2036-12-31</td>\n",
       "      <td>1254.592018</td>\n",
       "    </tr>\n",
       "    <tr>\n",
       "      <th>48</th>\n",
       "      <td>2037-12-31</td>\n",
       "      <td>1301.746491</td>\n",
       "    </tr>\n",
       "    <tr>\n",
       "      <th>49</th>\n",
       "      <td>2038-12-31</td>\n",
       "      <td>1348.912150</td>\n",
       "    </tr>\n",
       "    <tr>\n",
       "      <th>50</th>\n",
       "      <td>2039-12-31</td>\n",
       "      <td>1396.086715</td>\n",
       "    </tr>\n",
       "    <tr>\n",
       "      <th>51</th>\n",
       "      <td>2040-12-31</td>\n",
       "      <td>1435.982117</td>\n",
       "    </tr>\n",
       "    <tr>\n",
       "      <th>52</th>\n",
       "      <td>2041-12-31</td>\n",
       "      <td>1483.136590</td>\n",
       "    </tr>\n",
       "    <tr>\n",
       "      <th>53</th>\n",
       "      <td>2042-12-31</td>\n",
       "      <td>1530.302249</td>\n",
       "    </tr>\n",
       "    <tr>\n",
       "      <th>54</th>\n",
       "      <td>2043-12-31</td>\n",
       "      <td>1577.476814</td>\n",
       "    </tr>\n",
       "    <tr>\n",
       "      <th>55</th>\n",
       "      <td>2044-12-31</td>\n",
       "      <td>1617.372216</td>\n",
       "    </tr>\n",
       "    <tr>\n",
       "      <th>56</th>\n",
       "      <td>2045-12-31</td>\n",
       "      <td>1664.526689</td>\n",
       "    </tr>\n",
       "  </tbody>\n",
       "</table>\n",
       "</div>"
      ],
      "text/plain": [
       "           ds         yhat\n",
       "0  1990-01-01    -2.371808\n",
       "1  1991-01-01    -0.212546\n",
       "2  1992-01-01     1.964603\n",
       "3  1993-01-01    -3.036854\n",
       "4  1994-01-01    -0.897657\n",
       "5  1995-01-01     1.261605\n",
       "6  1996-01-01     3.438754\n",
       "7  1997-01-01    -1.562701\n",
       "8  1998-01-01     0.576498\n",
       "9  1999-01-01     2.735813\n",
       "10 2000-01-01     4.913521\n",
       "11 2001-01-01    -0.086296\n",
       "12 2002-01-01     2.057352\n",
       "13 2003-01-01     4.221743\n",
       "14 2004-01-01     6.485929\n",
       "15 2005-01-01     2.025887\n",
       "16 2006-01-01     4.736390\n",
       "17 2007-01-01     7.736644\n",
       "18 2008-01-01    11.470274\n",
       "19 2009-01-01     8.314756\n",
       "20 2010-01-01    24.877584\n",
       "21 2011-01-01    71.985047\n",
       "22 2012-01-01   119.110397\n",
       "23 2013-01-01   159.180286\n",
       "24 2014-01-01   206.267683\n",
       "25 2015-01-01   253.375146\n",
       "26 2016-01-01   300.500495\n",
       "27 2016-12-31   347.641524\n",
       "28 2017-12-31   394.795997\n",
       "29 2018-12-31   441.961656\n",
       "30 2019-12-31   489.136221\n",
       "31 2020-12-31   529.031623\n",
       "32 2021-12-31   576.186096\n",
       "33 2022-12-31   623.351754\n",
       "34 2023-12-31   670.526320\n",
       "35 2024-12-31   710.421722\n",
       "36 2025-12-31   757.576195\n",
       "37 2026-12-31   804.741853\n",
       "38 2027-12-31   851.916418\n",
       "39 2028-12-31   891.811821\n",
       "40 2029-12-31   938.966294\n",
       "41 2030-12-31   986.131952\n",
       "42 2031-12-31  1033.306517\n",
       "43 2032-12-31  1073.201920\n",
       "44 2033-12-31  1120.356393\n",
       "45 2034-12-31  1167.522051\n",
       "46 2035-12-31  1214.696616\n",
       "47 2036-12-31  1254.592018\n",
       "48 2037-12-31  1301.746491\n",
       "49 2038-12-31  1348.912150\n",
       "50 2039-12-31  1396.086715\n",
       "51 2040-12-31  1435.982117\n",
       "52 2041-12-31  1483.136590\n",
       "53 2042-12-31  1530.302249\n",
       "54 2043-12-31  1577.476814\n",
       "55 2044-12-31  1617.372216\n",
       "56 2045-12-31  1664.526689"
      ]
     },
     "execution_count": 462,
     "metadata": {},
     "output_type": "execute_result"
    }
   ],
   "source": [
    "forecast_consumption[['ds', 'yhat']]"
   ]
  },
  {
   "cell_type": "code",
   "execution_count": 471,
   "metadata": {},
   "outputs": [
    {
     "name": "stderr",
     "output_type": "stream",
     "text": [
      "INFO:fbprophet:Disabling weekly seasonality. Run prophet with weekly_seasonality=True to override this.\n",
      "INFO:fbprophet:Disabling daily seasonality. Run prophet with daily_seasonality=True to override this.\n",
      "INFO:fbprophet:n_changepoints greater than number of observations.Using 5.0.\n"
     ]
    },
    {
     "data": {
      "image/png": "[encoded data removed]",
      "text/plain": [
       "<Figure size 720x432 with 1 Axes>"
      ]
     },
     "metadata": {},
     "output_type": "display_data"
    }
   ],
   "source": [
    "import datetime\n",
    "import pandas as pd\n",
    "from sklearn import preprocessing\n",
    "import fbprophet\n",
    "\n",
    "solar_consumption = pd.read_csv('../data/modern-renewable-energy-consumption.csv')\n",
    "solar_consumption = solar_consumption[solar_consumption['Entity']=='World'][['Year', 'Solar (terawatt-hours)']]\n",
    "solar_consumption = solar_consumption.copy().iloc[44:]\n",
    "\n",
    "\n",
    "# Create forecast for both datasets using Facebook Prophet\n",
    "## Consumption forecast\n",
    "fc_consumption = pd.DataFrame(columns=['ds','y'])\n",
    "fc_consumption['ds'] = solar_consumption['Year'].values\n",
    "fc_consumption['ds']  = fc_consumption['ds'].apply(lambda d: datetime.datetime.strptime(str(d), \"%Y\")) \n",
    "fc_consumption['y'] = solar_consumption['Solar (terawatt-hours)'].values\n",
    "model_consumption = fbprophet.Prophet(changepoint_prior_scale=0.15)\n",
    "model_consumption.fit(fc_consumption)\n",
    "future_df_consumption = model_consumption.make_future_dataframe(periods=30, freq='y')\n",
    "forecast_consumption = model_consumption.predict(future_df_consumption)\n",
    "\n",
    "model_consumption.plot(forecast_consumption);"
   ]
  },
  {
   "cell_type": "code",
   "execution_count": 495,
   "metadata": {},
   "outputs": [
    {
     "name": "stderr",
     "output_type": "stream",
     "text": [
      "/Users/pst-home/anaconda3/envs/data_science/lib/python3.6/site-packages/sklearn/preprocessing/data.py:323: DataConversionWarning:\n",
      "\n",
      "Data with input dtype int64, float64 were all converted to float64 by MinMaxScaler.\n",
      "\n"
     ]
    },
    {
     "data": {
      "text/plain": [
       "<matplotlib.axes._subplots.AxesSubplot at 0x118651f98>"
      ]
     },
     "execution_count": 495,
     "metadata": {},
     "output_type": "execute_result"
    },
    {
     "data": {
      "image/png": "[encoded data removed]",
      "text/plain": [
       "<Figure size 864x576 with 1 Axes>"
      ]
     },
     "metadata": {
      "needs_background": "light"
     },
     "output_type": "display_data"
    }
   ],
   "source": [
    "temp = forecast_consumption[['ds', 'yhat']]\n",
    "temp['ds'] = temp['ds'].apply(lambda d: d.year)\n",
    "norm_fc_cons = min_max_scaler.fit_transform(temp)\n",
    "scaled_consumption_df = pd.DataFrame(columns=['Year', 'Solar Consumption (Scaled)'], data=norm_fc_cons)\n",
    "scaled_consumption_df.plot(x='Year', y='Solar Consumption (Scaled)')"
   ]
  },
  {
   "cell_type": "code",
   "execution_count": 492,
   "metadata": {},
   "outputs": [
    {
     "data": {
      "text/plain": [
       "<matplotlib.axes._subplots.AxesSubplot at 0x1a30d560b8>"
      ]
     },
     "execution_count": 492,
     "metadata": {},
     "output_type": "execute_result"
    },
    {
     "data": {
      "image/png": "[encoded data removed]",
      "text/plain": [
       "<Figure size 864x576 with 1 Axes>"
      ]
     },
     "metadata": {
      "needs_background": "light"
     },
     "output_type": "display_data"
    }
   ],
   "source": [
    "forecast_consumption[['ds', 'yhat']].plot(x='ds', y='yhat')"
   ]
  },
  {
   "cell_type": "code",
   "execution_count": 466,
   "metadata": {},
   "outputs": [
    {
     "data": {
      "text/html": [
       "<div>\n",
       "<style scoped>\n",
       "    .dataframe tbody tr th:only-of-type {\n",
       "        vertical-align: middle;\n",
       "    }\n",
       "\n",
       "    .dataframe tbody tr th {\n",
       "        vertical-align: top;\n",
       "    }\n",
       "\n",
       "    .dataframe thead th {\n",
       "        text-align: right;\n",
       "    }\n",
       "</style>\n",
       "<table border=\"1\" class=\"dataframe\">\n",
       "  <thead>\n",
       "    <tr style=\"text-align: right;\">\n",
       "      <th></th>\n",
       "      <th>Year</th>\n",
       "      <th>Solar (terawatt-hours)</th>\n",
       "    </tr>\n",
       "  </thead>\n",
       "  <tbody>\n",
       "    <tr>\n",
       "      <th>4168</th>\n",
       "      <td>2009</td>\n",
       "      <td>20.917919</td>\n",
       "    </tr>\n",
       "    <tr>\n",
       "      <th>4169</th>\n",
       "      <td>2010</td>\n",
       "      <td>33.816254</td>\n",
       "    </tr>\n",
       "    <tr>\n",
       "      <th>4170</th>\n",
       "      <td>2011</td>\n",
       "      <td>64.695112</td>\n",
       "    </tr>\n",
       "    <tr>\n",
       "      <th>4171</th>\n",
       "      <td>2012</td>\n",
       "      <td>100.033907</td>\n",
       "    </tr>\n",
       "    <tr>\n",
       "      <th>4172</th>\n",
       "      <td>2013</td>\n",
       "      <td>137.561154</td>\n",
       "    </tr>\n",
       "    <tr>\n",
       "      <th>4173</th>\n",
       "      <td>2014</td>\n",
       "      <td>196.332988</td>\n",
       "    </tr>\n",
       "    <tr>\n",
       "      <th>4174</th>\n",
       "      <td>2015</td>\n",
       "      <td>256.190929</td>\n",
       "    </tr>\n",
       "    <tr>\n",
       "      <th>4175</th>\n",
       "      <td>2016</td>\n",
       "      <td>333.052493</td>\n",
       "    </tr>\n",
       "  </tbody>\n",
       "</table>\n",
       "</div>"
      ],
      "text/plain": [
       "      Year  Solar (terawatt-hours)\n",
       "4168  2009               20.917919\n",
       "4169  2010               33.816254\n",
       "4170  2011               64.695112\n",
       "4171  2012              100.033907\n",
       "4172  2013              137.561154\n",
       "4173  2014              196.332988\n",
       "4174  2015              256.190929\n",
       "4175  2016              333.052493"
      ]
     },
     "execution_count": 466,
     "metadata": {},
     "output_type": "execute_result"
    }
   ],
   "source": [
    "solar_consumption"
   ]
  },
  {
   "cell_type": "code",
   "execution_count": 497,
   "metadata": {},
   "outputs": [
    {
     "name": "stderr",
     "output_type": "stream",
     "text": [
      "/Users/pst-home/anaconda3/envs/data_science/lib/python3.6/site-packages/sklearn/utils/validation.py:595: DataConversionWarning:\n",
      "\n",
      "Data with input dtype int64 was converted to float64 by MinMaxScaler.\n",
      "\n"
     ]
    },
    {
     "data": {
      "text/plain": [
       "array([[0. ],\n",
       "       [0.5],\n",
       "       [1. ]])"
      ]
     },
     "execution_count": 497,
     "metadata": {},
     "output_type": "execute_result"
    }
   ],
   "source": [
    "test = np.array([2009,2010,2011]).reshape(-1, 1)\n",
    "min_max_scaler.fit_transform(test)"
   ]
  },
  {
   "cell_type": "code",
   "execution_count": 16,
   "metadata": {},
   "outputs": [
    {
     "data": {
      "application/vnd.plotly.v1+json": {
       "config": {
        "linkText": "Export to plot.ly",
        "plotlyServerURL": "https://plot.ly",
        "showLink": true
       },
       "data": [
        {
         "line": {
          "color": "rgba(192, 192, 192, 1.0)",
          "dash": "solid",
          "shape": "linear",
          "width": 4
         },
         "mode": "lines",
         "name": "Average Closing, Silver",
         "text": "",
         "type": "scatter",
         "uid": "9638b9be-29fc-490a-852a-71323b4c9774",
         "x": [
          2019,
          2018,
          2017,
          2016,
          2015,
          2014,
          2013,
          2012,
          2011,
          2010,
          2009,
          2008,
          2007,
          2006,
          2005,
          2004,
          2003,
          2002,
          2001,
          2000,
          1999,
          1998,
          1997,
          1996,
          1995,
          1994,
          1993,
          1992,
          1991,
          1990,
          1989,
          1988,
          1987,
          1986,
          1985,
          1984,
          1983,
          1982,
          1981,
          1980,
          1979,
          1978,
          1977,
          1976,
          1975,
          1974,
          1973,
          1972,
          1971,
          1970,
          1969
         ],
         "y": [
          16.11,
          15.71,
          17.07,
          17.17,
          15.66,
          19.07,
          23.79,
          31.15,
          35.12,
          20.19,
          14.67,
          14.99,
          13.38,
          11.55,
          7.31,
          6.66,
          4.88,
          4.6,
          4.37,
          4.95,
          5.22,
          5.54,
          4.9,
          5.2,
          5.2,
          5.29,
          4.31,
          3.95,
          4.06,
          4.83,
          5.5,
          6.53,
          7.02,
          5.47,
          6.13,
          8.15,
          11.42,
          7.92,
          10.49,
          20.98,
          11.07,
          5.42,
          4.64,
          4.35,
          4.43,
          4.67,
          2.55,
          1.68,
          1.54,
          1.77,
          1.8
         ]
        }
       ],
       "layout": {
        "legend": {
         "bgcolor": "#FFFFFF",
         "font": {
          "color": "#4D5663"
         }
        },
        "paper_bgcolor": "#FFFFFF",
        "plot_bgcolor": "#FFFFFF",
        "title": "Average Closing Prices for Silver",
        "titlefont": {
         "color": "#4D5663"
        },
        "xaxis": {
         "gridcolor": "#E1E5ED",
         "showgrid": true,
         "tickfont": {
          "color": "#4D5663"
         },
         "title": "Year",
         "titlefont": {
          "color": "#4D5663"
         },
         "zerolinecolor": "#E1E5ED"
        },
        "yaxis": {
         "gridcolor": "#E1E5ED",
         "showgrid": true,
         "tickfont": {
          "color": "#4D5663"
         },
         "title": "Average Closing Price in Dollars ($)",
         "titlefont": {
          "color": "#4D5663"
         },
         "zerolinecolor": "#E1E5ED"
        }
       }
      },
      "text/html": [
       "<div id=\"6ea702e1-c777-4652-9f49-1e1118e96986\" style=\"height: 525px; width: 100%;\" class=\"plotly-graph-div\"></div><script type=\"text/javascript\">require([\"plotly\"], function(Plotly) { window.PLOTLYENV=window.PLOTLYENV || {};window.PLOTLYENV.BASE_URL=\"https://plot.ly\";Plotly.newPlot(\"6ea702e1-c777-4652-9f49-1e1118e96986\", [{\"line\": {\"color\": \"rgba(192, 192, 192, 1.0)\", \"dash\": \"solid\", \"shape\": \"linear\", \"width\": 4}, \"mode\": \"lines\", \"name\": \"Average Closing, Silver\", \"text\": \"\", \"x\": [2019, 2018, 2017, 2016, 2015, 2014, 2013, 2012, 2011, 2010, 2009, 2008, 2007, 2006, 2005, 2004, 2003, 2002, 2001, 2000, 1999, 1998, 1997, 1996, 1995, 1994, 1993, 1992, 1991, 1990, 1989, 1988, 1987, 1986, 1985, 1984, 1983, 1982, 1981, 1980, 1979, 1978, 1977, 1976, 1975, 1974, 1973, 1972, 1971, 1970, 1969], \"y\": [16.11, 15.71, 17.07, 17.17, 15.66, 19.07, 23.79, 31.15, 35.12, 20.19, 14.67, 14.99, 13.38, 11.55, 7.31, 6.66, 4.88, 4.6, 4.37, 4.95, 5.22, 5.54, 4.9, 5.2, 5.2, 5.29, 4.31, 3.95, 4.06, 4.83, 5.5, 6.53, 7.02, 5.47, 6.13, 8.15, 11.42, 7.92, 10.49, 20.98, 11.07, 5.42, 4.64, 4.35, 4.43, 4.67, 2.55, 1.68, 1.54, 1.77, 1.8], \"type\": \"scatter\", \"uid\": \"efbf1d26-09e9-473a-ac7b-4749e3601028\"}], {\"legend\": {\"bgcolor\": \"#FFFFFF\", \"font\": {\"color\": \"#4D5663\"}}, \"paper_bgcolor\": \"#FFFFFF\", \"plot_bgcolor\": \"#FFFFFF\", \"title\": \"Average Closing Prices for Silver\", \"titlefont\": {\"color\": \"#4D5663\"}, \"xaxis\": {\"gridcolor\": \"#E1E5ED\", \"showgrid\": true, \"tickfont\": {\"color\": \"#4D5663\"}, \"title\": \"Year\", \"titlefont\": {\"color\": \"#4D5663\"}, \"zerolinecolor\": \"#E1E5ED\"}, \"yaxis\": {\"gridcolor\": \"#E1E5ED\", \"showgrid\": true, \"tickfont\": {\"color\": \"#4D5663\"}, \"title\": \"Average Closing Price in Dollars ($)\", \"titlefont\": {\"color\": \"#4D5663\"}, \"zerolinecolor\": \"#E1E5ED\"}}, {\"showLink\": true, \"linkText\": \"Export to plot.ly\", \"plotlyServerURL\": \"https://plot.ly\"})});</script><script type=\"text/javascript\">window.addEventListener(\"resize\", function(){window._Plotly.Plots.resize(document.getElementById(\"6ea702e1-c777-4652-9f49-1e1118e96986\"));});</script>"
      ],
      "text/vnd.plotly.v1+html": [
       "<div id=\"6ea702e1-c777-4652-9f49-1e1118e96986\" style=\"height: 525px; width: 100%;\" class=\"plotly-graph-div\"></div><script type=\"text/javascript\">require([\"plotly\"], function(Plotly) { window.PLOTLYENV=window.PLOTLYENV || {};window.PLOTLYENV.BASE_URL=\"https://plot.ly\";Plotly.newPlot(\"6ea702e1-c777-4652-9f49-1e1118e96986\", [{\"line\": {\"color\": \"rgba(192, 192, 192, 1.0)\", \"dash\": \"solid\", \"shape\": \"linear\", \"width\": 4}, \"mode\": \"lines\", \"name\": \"Average Closing, Silver\", \"text\": \"\", \"x\": [2019, 2018, 2017, 2016, 2015, 2014, 2013, 2012, 2011, 2010, 2009, 2008, 2007, 2006, 2005, 2004, 2003, 2002, 2001, 2000, 1999, 1998, 1997, 1996, 1995, 1994, 1993, 1992, 1991, 1990, 1989, 1988, 1987, 1986, 1985, 1984, 1983, 1982, 1981, 1980, 1979, 1978, 1977, 1976, 1975, 1974, 1973, 1972, 1971, 1970, 1969], \"y\": [16.11, 15.71, 17.07, 17.17, 15.66, 19.07, 23.79, 31.15, 35.12, 20.19, 14.67, 14.99, 13.38, 11.55, 7.31, 6.66, 4.88, 4.6, 4.37, 4.95, 5.22, 5.54, 4.9, 5.2, 5.2, 5.29, 4.31, 3.95, 4.06, 4.83, 5.5, 6.53, 7.02, 5.47, 6.13, 8.15, 11.42, 7.92, 10.49, 20.98, 11.07, 5.42, 4.64, 4.35, 4.43, 4.67, 2.55, 1.68, 1.54, 1.77, 1.8], \"type\": \"scatter\", \"uid\": \"efbf1d26-09e9-473a-ac7b-4749e3601028\"}], {\"legend\": {\"bgcolor\": \"#FFFFFF\", \"font\": {\"color\": \"#4D5663\"}}, \"paper_bgcolor\": \"#FFFFFF\", \"plot_bgcolor\": \"#FFFFFF\", \"title\": \"Average Closing Prices for Silver\", \"titlefont\": {\"color\": \"#4D5663\"}, \"xaxis\": {\"gridcolor\": \"#E1E5ED\", \"showgrid\": true, \"tickfont\": {\"color\": \"#4D5663\"}, \"title\": \"Year\", \"titlefont\": {\"color\": \"#4D5663\"}, \"zerolinecolor\": \"#E1E5ED\"}, \"yaxis\": {\"gridcolor\": \"#E1E5ED\", \"showgrid\": true, \"tickfont\": {\"color\": \"#4D5663\"}, \"title\": \"Average Closing Price in Dollars ($)\", \"titlefont\": {\"color\": \"#4D5663\"}, \"zerolinecolor\": \"#E1E5ED\"}}, {\"showLink\": true, \"linkText\": \"Export to plot.ly\", \"plotlyServerURL\": \"https://plot.ly\"})});</script><script type=\"text/javascript\">window.addEventListener(\"resize\", function(){window._Plotly.Plots.resize(document.getElementById(\"6ea702e1-c777-4652-9f49-1e1118e96986\"));});</script>"
      ]
     },
     "metadata": {},
     "output_type": "display_data"
    }
   ],
   "source": [
    "import requests\n",
    "from bs4 import BeautifulSoup\n",
    "\n",
    "## Silver \n",
    "res = requests.get(\"https://www.macrotrends.net/1470/historical-silver-prices-100-year-chart\")\n",
    "soup = BeautifulSoup(res.content, 'lxml')\n",
    "tables = soup.find_all('table')\n",
    "headers = ['Year', 'Average Closing', 'Year Open', 'Year High', 'Year Low', 'Year Close', 'Annual % Change']\n",
    "df_silver = pd.DataFrame(pd.read_html(str(tables[0]))[0])\n",
    "df_silver.columns = headers\n",
    "\n",
    "\n",
    "def convert_to_float_if_applicable(cell):\n",
    "    if isinstance(cell, str) and '$' in cell:\n",
    "        try:\n",
    "            cell = float(cell.replace('$', '').replace(',',''))\n",
    "            return cell\n",
    "        except:\n",
    "            return cell\n",
    "    elif isinstance(cell, str) and '%' in cell:\n",
    "        try:\n",
    "            cell = float(cell.replace('%', ''))\n",
    "            return cell\n",
    "        except:\n",
    "            return cell\n",
    "    else:\n",
    "        return cell\n",
    "\n",
    "    \n",
    "    \n",
    "df_silver = df_silver.applymap(lambda cell: convert_to_float_if_applicable(cell))\n",
    "df_silver.rename(columns={'Average Closing': 'Average Closing, Silver'}, inplace=True)\n",
    "\n",
    "df_silver.set_index('Year')[['Average Closing, Silver']]\\\n",
    ".iplot(kind='line', xTitle='Year', color='#C0C0C0',\n",
    "                  yTitle='Average Closing Price in Dollars ($)', \n",
    "       title='Average Closing Prices for Silver', width=4)"
   ]
  },
  {
   "cell_type": "code",
   "execution_count": 15,
   "metadata": {},
   "outputs": [
    {
     "data": {
      "text/plain": [
       "0     2019\n",
       "1     2018\n",
       "2     2017\n",
       "3     2016\n",
       "4     2015\n",
       "5     2014\n",
       "6     2013\n",
       "7     2012\n",
       "8     2011\n",
       "9     2010\n",
       "10    2009\n",
       "11    2008\n",
       "12    2007\n",
       "13    2006\n",
       "14    2005\n",
       "15    2004\n",
       "16    2003\n",
       "17    2002\n",
       "18    2001\n",
       "19    2000\n",
       "20    1999\n",
       "21    1998\n",
       "22    1997\n",
       "23    1996\n",
       "24    1995\n",
       "25    1994\n",
       "26    1993\n",
       "27    1992\n",
       "28    1991\n",
       "29    1990\n",
       "30    1989\n",
       "31    1988\n",
       "32    1987\n",
       "33    1986\n",
       "34    1985\n",
       "35    1984\n",
       "36    1983\n",
       "37    1982\n",
       "38    1981\n",
       "39    1980\n",
       "40    1979\n",
       "41    1978\n",
       "42    1977\n",
       "43    1976\n",
       "44    1975\n",
       "45    1974\n",
       "46    1973\n",
       "47    1972\n",
       "48    1971\n",
       "49    1970\n",
       "50    1969\n",
       "Name: Year, dtype: int64"
      ]
     },
     "execution_count": 15,
     "metadata": {},
     "output_type": "execute_result"
    }
   ],
   "source": [
    "df_silver['Year']"
   ]
  },
  {
   "cell_type": "code",
   "execution_count": null,
   "metadata": {},
   "outputs": [],
   "source": []
  }
 ],
 "metadata": {
  "kernelspec": {
   "display_name": "Python 3",
   "language": "python",
   "name": "python3"
  },
  "language_info": {
   "codemirror_mode": {
    "name": "ipython",
    "version": 3
   },
   "file_extension": ".py",
   "mimetype": "text/x-python",
   "name": "python",
   "nbconvert_exporter": "python",
   "pygments_lexer": "ipython3",
   "version": "3.6.8"
  }
 },
 "nbformat": 4,
 "nbformat_minor": 2
}
